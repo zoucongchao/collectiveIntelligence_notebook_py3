{
 "cells": [
  {
   "cell_type": "markdown",
   "metadata": {},
   "source": [
    "本章将研究如何在数据集并未明确标识结果的前提下，从中提取出重要的潜在特征来。\n",
    "\n",
    "　　和聚类一样，这些方法的目的不是为了预测，而是要尝试最数据进行特征识别，并且告诉我们值得关注的重要信息。\n",
    "\n",
    "　　“ 鸡尾酒会问题”（cocktail party problem）是在计算机语音识别领域的一个问题，当前语音识别技术已经可以以较高精度识别一个人所讲的话，但是当说话的人数为两人或者多人时，语音识别率就会极大的降低，这一难题被称为鸡尾酒会问题。这个问题可以说明寻找独立特征的重要性。\n",
    "\n",
    "一.搜集一组新闻\n",
    "\n",
    "(一)选择新闻来源\n",
    "\n",
    "　　新建一个名为newsfeatures.py的文件，加入下列代码。"
   ]
  },
  {
   "cell_type": "code",
   "execution_count": 68,
   "metadata": {},
   "outputs": [
    {
     "name": "stdout",
     "output_type": "stream",
     "text": [
      "b'U.S. Special Forces and airstrikes helped push the extremists from their onetime stronghold of Sirte. But the task of resurrecting the deeply scarred city has been painful and costly for the residents who remained and for those who are returning to a landscape of obliterated houses and streets covered in garbage.'\n",
      "b'The clamor demonstrated that the party lacks a front-runner or someone who could easily unite the key coalitions of women, minorities and working-class voters.'\n"
     ]
    },
    {
     "ename": "AttributeError",
     "evalue": "object has no attribute 'description'",
     "output_type": "error",
     "traceback": [
      "\u001b[1;31m---------------------------------------------------------------------------\u001b[0m",
      "\u001b[1;31mKeyError\u001b[0m                                  Traceback (most recent call last)",
      "\u001b[1;32mD:\\anaconda\\envs\\lib\\site-packages\\feedparser.py\u001b[0m in \u001b[0;36m__getattr__\u001b[1;34m(self, key)\u001b[0m\n\u001b[0;32m    397\u001b[0m         \u001b[1;32mtry\u001b[0m\u001b[1;33m:\u001b[0m\u001b[1;33m\u001b[0m\u001b[0m\n\u001b[1;32m--> 398\u001b[1;33m             \u001b[1;32mreturn\u001b[0m \u001b[0mself\u001b[0m\u001b[1;33m.\u001b[0m\u001b[0m__getitem__\u001b[0m\u001b[1;33m(\u001b[0m\u001b[0mkey\u001b[0m\u001b[1;33m)\u001b[0m\u001b[1;33m\u001b[0m\u001b[0m\n\u001b[0m\u001b[0;32m    399\u001b[0m         \u001b[1;32mexcept\u001b[0m \u001b[0mKeyError\u001b[0m\u001b[1;33m:\u001b[0m\u001b[1;33m\u001b[0m\u001b[0m\n",
      "\u001b[1;32mD:\\anaconda\\envs\\lib\\site-packages\\feedparser.py\u001b[0m in \u001b[0;36m__getitem__\u001b[1;34m(self, key)\u001b[0m\n\u001b[0;32m    355\u001b[0m                 \u001b[1;32mreturn\u001b[0m \u001b[0mdict\u001b[0m\u001b[1;33m.\u001b[0m\u001b[0m__getitem__\u001b[0m\u001b[1;33m(\u001b[0m\u001b[0mself\u001b[0m\u001b[1;33m,\u001b[0m \u001b[0mrealkey\u001b[0m\u001b[1;33m)\u001b[0m\u001b[1;33m\u001b[0m\u001b[0m\n\u001b[1;32m--> 356\u001b[1;33m         \u001b[1;32mreturn\u001b[0m \u001b[0mdict\u001b[0m\u001b[1;33m.\u001b[0m\u001b[0m__getitem__\u001b[0m\u001b[1;33m(\u001b[0m\u001b[0mself\u001b[0m\u001b[1;33m,\u001b[0m \u001b[0mkey\u001b[0m\u001b[1;33m)\u001b[0m\u001b[1;33m\u001b[0m\u001b[0m\n\u001b[0m\u001b[0;32m    357\u001b[0m \u001b[1;33m\u001b[0m\u001b[0m\n",
      "\u001b[1;31mKeyError\u001b[0m: 'description'",
      "\nDuring handling of the above exception, another exception occurred:\n",
      "\u001b[1;31mAttributeError\u001b[0m                            Traceback (most recent call last)",
      "\u001b[1;32m<ipython-input-68-50c333ffc76c>\u001b[0m in \u001b[0;36m<module>\u001b[1;34m()\u001b[0m\n\u001b[0;32m      2\u001b[0m \u001b[0mf\u001b[0m \u001b[1;33m=\u001b[0m \u001b[0mfeedparser\u001b[0m\u001b[1;33m.\u001b[0m\u001b[0mparse\u001b[0m\u001b[1;33m(\u001b[0m \u001b[1;34m'http://feeds.washingtonpost.com/rss/homepage'\u001b[0m\u001b[1;33m)\u001b[0m\u001b[1;33m\u001b[0m\u001b[0m\n\u001b[0;32m      3\u001b[0m \u001b[1;32mfor\u001b[0m \u001b[0me\u001b[0m \u001b[1;32min\u001b[0m \u001b[0mf\u001b[0m\u001b[1;33m.\u001b[0m\u001b[0mentries\u001b[0m\u001b[1;33m:\u001b[0m\u001b[1;33m\u001b[0m\u001b[0m\n\u001b[1;32m----> 4\u001b[1;33m     \u001b[0mprint\u001b[0m\u001b[1;33m(\u001b[0m\u001b[0me\u001b[0m\u001b[1;33m.\u001b[0m\u001b[0mdescription\u001b[0m\u001b[1;33m.\u001b[0m\u001b[0mencode\u001b[0m\u001b[1;33m(\u001b[0m\u001b[1;34m'utf8'\u001b[0m\u001b[1;33m)\u001b[0m\u001b[1;33m)\u001b[0m\u001b[1;33m\u001b[0m\u001b[0m\n\u001b[0m",
      "\u001b[1;32mD:\\anaconda\\envs\\lib\\site-packages\\feedparser.py\u001b[0m in \u001b[0;36m__getattr__\u001b[1;34m(self, key)\u001b[0m\n\u001b[0;32m    398\u001b[0m             \u001b[1;32mreturn\u001b[0m \u001b[0mself\u001b[0m\u001b[1;33m.\u001b[0m\u001b[0m__getitem__\u001b[0m\u001b[1;33m(\u001b[0m\u001b[0mkey\u001b[0m\u001b[1;33m)\u001b[0m\u001b[1;33m\u001b[0m\u001b[0m\n\u001b[0;32m    399\u001b[0m         \u001b[1;32mexcept\u001b[0m \u001b[0mKeyError\u001b[0m\u001b[1;33m:\u001b[0m\u001b[1;33m\u001b[0m\u001b[0m\n\u001b[1;32m--> 400\u001b[1;33m             \u001b[1;32mraise\u001b[0m \u001b[0mAttributeError\u001b[0m\u001b[1;33m(\u001b[0m\u001b[1;34m\"object has no attribute '%s'\"\u001b[0m \u001b[1;33m%\u001b[0m \u001b[0mkey\u001b[0m\u001b[1;33m)\u001b[0m\u001b[1;33m\u001b[0m\u001b[0m\n\u001b[0m\u001b[0;32m    401\u001b[0m \u001b[1;33m\u001b[0m\u001b[0m\n\u001b[0;32m    402\u001b[0m     \u001b[1;32mdef\u001b[0m \u001b[0m__hash__\u001b[0m\u001b[1;33m(\u001b[0m\u001b[0mself\u001b[0m\u001b[1;33m)\u001b[0m\u001b[1;33m:\u001b[0m\u001b[1;33m\u001b[0m\u001b[0m\n",
      "\u001b[1;31mAttributeError\u001b[0m: object has no attribute 'description'"
     ]
    }
   ],
   "source": [
    "import feedparser\n",
    "f = feedparser.parse( 'http://feeds.washingtonpost.com/rss/homepage')\n",
    "for e in f.entries:\n",
    "    print(e.description.encode('utf8'))"
   ]
  },
  {
   "cell_type": "code",
   "execution_count": 76,
   "metadata": {
    "collapsed": true
   },
   "outputs": [],
   "source": [
    "import feedparser\n",
    "import re\n",
    "\n",
    "#最开始先用一个列表存储所有要分析的RSS列表\n",
    "feedlist=['http://syndication.dp.discovery.com/rss/Discovery+News',\n",
    "         'http://www.chinadaily.com.cn/rss/china_rss.xml']\n",
    "\n",
    "def stripHTML(h):\n",
    "    p = ''#首先将p定义为一个空的字符串\n",
    "    s = 0#赋初值令s=0\n",
    "    for c in h:#这里会遍历出h中的每一个字母\n",
    "        if c=='<':s=1\n",
    "        elif c=='>':\n",
    "            s=0\n",
    "            p+=' '\n",
    "        elif s==0:p+=c\n",
    "    return p \n",
    "\n",
    "def separatewords(text):\n",
    "    splitter = re.compile('\\\\W*')\n",
    "    return [s.lower() for s in splitter.split(text) if len(s)>3]\n",
    "    #这儿同时加一个操作就是把所有字母变成小写字母，并且过滤掉小于3个字母的单词\n",
    "\n",
    "def getarticlewords():\n",
    "    allwords = {}#字典，最终用于记录单词在所有文章中被使用的次数\n",
    "    articlewords = [] #列表，最终用于记录单词在每篇文章中出现的次数\n",
    "    articletitles = []#最终会成为一个文章标题的列表\n",
    "    ec=0\n",
    "    # 函数第一步：遍历每个订阅源，得到RSS的全部内容\n",
    "    for feed in feedlist:\n",
    "        try:\n",
    "            f = feedparser.parse(feed)\n",
    "        except IOError:\n",
    "            continue\n",
    "\n",
    "        # 函数第二步：遍历所有RSS中的每篇文章\n",
    "        for e in f.entries:#f.entries就是每一篇新闻的文章，这里对它们进行遍历\n",
    "\n",
    "            #跳过已提取过的文章\n",
    "            if e.title in articletitles:continue\n",
    "\n",
    "            #提取单词            \n",
    "            #第一步：获得文章内容，提取title和description，合并为txt\n",
    "            txt = e.title.encode('utf8') + stripHTML(e.description.encode('utf8'))\n",
    "            #第二步：分词，得到分词列表\n",
    "            words = separatewords(txt)\n",
    "            articlewords.append({})#此时articlewords=[{}]\n",
    "            #articletitles=[标题1,标题2,...]\n",
    "            articletitles.append(e.title)\n",
    "\n",
    "            #第三步：对单词进行计数\n",
    "            #在allwords和articlewords中增加针对当前单词的计数\n",
    "            for word in words:\n",
    "                allwords.setdefault(word,0)\n",
    "                allwords[word] += 1\n",
    "                articlewords[ec].setdefault(word,0)\n",
    "                articlewords[ec][word] += 1\n",
    "            ec += 1\n",
    "        return allwords,articlewords,articletitles  \n",
    "\n",
    "def makematrix(allw,articlew):\n",
    "    wordvec = []\n",
    "\n",
    "    #只考虑那些普通的但又不至于非常普通的单词\n",
    "    for w,c in allw.items():\n",
    "        #筛选出在超过三篇文章中出现过，但在所有文章中出现的比例小于60%的单词\n",
    "        if c>3 and c<len(articlew)*0.6:\n",
    "            wordvec.append(w)\n",
    "\n",
    "        #构造单词矩阵\n",
    "    L1 = [[(word in f and f[word] or 0) for word in wordvec]\n",
    "                 for f in articlew]\n",
    "    return L1,wordvec\n"
   ]
  },
  {
   "cell_type": "markdown",
   "metadata": {},
   "source": [
    "书本上的RSS源很多都打不开，也许是网页过期的原因，也有可能被墙了，下面给出一些可以打开的RSS源，大家可以根据需要修改：\n",
    "\n",
    "http://feeds.washingtonpost.com/rss/homepage\n",
    "\n",
    "http://syndication.dp.discovery.com/rss/Discovery+News\n",
    "\n",
    "http://www.chinadaily.com.cn/rss/china_rss.xml"
   ]
  },
  {
   "cell_type": "markdown",
   "metadata": {
    "collapsed": true
   },
   "source": [
    "(二)下载新闻来源\n",
    "　　有了RSS订阅源以后，我们要构造一个类似第三章的矩阵，大致为下面这样"
   ]
  },
  {
   "cell_type": "markdown",
   "metadata": {},
   "source": [
    "在本例中，行对应于各类文章，列对应于文章中的单词，矩阵中的每一个数字则代表了某个单词在一篇给定文章中出现的次数。\n",
    "\n",
    "　　下面开始利用Python代码实现这个矩阵。\n",
    "\n",
    "1.去除html标记\n",
    "\n",
    "　　书本利用stripHTML函数去除HTML标记，大体思路如下：\n",
    "\n",
    "　　这儿的参数h，是每篇文章的entries经过遍历后得到的e的description，说得有点拗口，直接上例子，我们在这儿先分别解释代码中的f,f.entries,e以及最后要去除HTML标记的e.description分别是什么。"
   ]
  },
  {
   "cell_type": "code",
   "execution_count": 77,
   "metadata": {
    "collapsed": true
   },
   "outputs": [],
   "source": [
    "import feedparser\n",
    "f = feedparser.parse('http://syndication.dp.discovery.com/rss/Discovery+News')\n",
    "#feedparser.parse:Parse a feed from a URL, file, stream, or string.return: A :class:`FeedParserDict`.\n",
    "#从一个URL, file, stream, or string中解析代码，返回一个FeedParser字典"
   ]
  },
  {
   "cell_type": "code",
   "execution_count": 78,
   "metadata": {},
   "outputs": [
    {
     "data": {
      "text/plain": [
       "{'bozo': 0,\n",
       " 'encoding': 'utf-8',\n",
       " 'entries': [{'author': 'Rossella_Lorenzi@discovery.com (Rossella Lorenzi)',\n",
       "   'author_detail': {'email': 'Rossella_Lorenzi@discovery.com',\n",
       "    'name': 'Rossella Lorenzi'},\n",
       "   'authors': [{'email': 'Rossella_Lorenzi@discovery.com',\n",
       "     'name': 'Rossella Lorenzi'}],\n",
       "   'guidislink': False,\n",
       "   'id': 'f63ece25-fdb0-6110-df8b-487e387bea83',\n",
       "   'link': 'http://news.discovery.com/history/archaeology/dna-obtained-from-2500-year-old-phoenician-160525.htm#mkcpgn=rssnws1',\n",
       "   'links': [{'href': 'http://news.discovery.com/history/archaeology/dna-obtained-from-2500-year-old-phoenician-160525.htm#mkcpgn=rssnws1',\n",
       "     'rel': 'alternate',\n",
       "     'type': 'text/html'}],\n",
       "   'published': 'Wed, 25 May 2016 14:00:00 -0400',\n",
       "   'published_parsed': time.struct_time(tm_year=2016, tm_mon=5, tm_mday=25, tm_hour=18, tm_min=0, tm_sec=0, tm_wday=2, tm_yday=146, tm_isdst=0),\n",
       "   'summary': 'Analysis of the ancient man&#039;s DNA reveal he had European ancestry.',\n",
       "   'summary_detail': {'base': 'http://syndication.dp.discovery.com/rss/Discovery+News',\n",
       "    'language': None,\n",
       "    'type': 'text/html',\n",
       "    'value': 'Analysis of the ancient man&#039;s DNA reveal he had European ancestry.'},\n",
       "   'tags': [{'label': None, 'scheme': None, 'term': 'mitochondria'},\n",
       "    {'label': None, 'scheme': None, 'term': 'Human Migration'},\n",
       "    {'label': None, 'scheme': None, 'term': 'Human Ancestors'},\n",
       "    {'label': None, 'scheme': None, 'term': 'Genetics'},\n",
       "    {'label': None, 'scheme': None, 'term': 'genetic'},\n",
       "    {'label': None, 'scheme': None, 'term': 'gene'},\n",
       "    {'label': None, 'scheme': None, 'term': 'evolution'},\n",
       "    {'label': None, 'scheme': None, 'term': 'European History'},\n",
       "    {'label': None, 'scheme': None, 'term': 'DNA'},\n",
       "    {'label': None, 'scheme': None, 'term': 'Current Events'},\n",
       "    {'label': None, 'scheme': None, 'term': 'Ancient Rome'},\n",
       "    {'label': None, 'scheme': None, 'term': 'history'}],\n",
       "   'title': 'DNA Captured From 2,500-Year-Old Phoenician',\n",
       "   'title_detail': {'base': 'http://syndication.dp.discovery.com/rss/Discovery+News',\n",
       "    'language': None,\n",
       "    'type': 'text/plain',\n",
       "    'value': 'DNA Captured From 2,500-Year-Old Phoenician'}},\n",
       "  {'author': 'Patrick_J._Kiger@discovery.com (Patrick J. Kiger)',\n",
       "   'author_detail': {'email': 'Patrick_J._Kiger@discovery.com',\n",
       "    'name': 'Patrick J. Kiger'},\n",
       "   'authors': [{'email': 'Patrick_J._Kiger@discovery.com',\n",
       "     'name': 'Patrick J. Kiger'}],\n",
       "   'guidislink': False,\n",
       "   'id': '1092533b-8f93-6a58-89a6-0ba6fa618332',\n",
       "   'link': 'http://news.discovery.com/earth/could-clay-help-attack-superbugs-160525.htm#mkcpgn=rssnws1',\n",
       "   'links': [{'href': 'http://news.discovery.com/earth/could-clay-help-attack-superbugs-160525.htm#mkcpgn=rssnws1',\n",
       "     'rel': 'alternate',\n",
       "     'type': 'text/html'}],\n",
       "   'published': 'Wed, 25 May 2016 13:08:00 -0400',\n",
       "   'published_parsed': time.struct_time(tm_year=2016, tm_mon=5, tm_mday=25, tm_hour=17, tm_min=8, tm_sec=0, tm_wday=2, tm_yday=146, tm_isdst=0),\n",
       "   'summary': 'The ancient remedy could provide a new weapon against microbes Continue reading →',\n",
       "   'summary_detail': {'base': 'http://syndication.dp.discovery.com/rss/Discovery+News',\n",
       "    'language': None,\n",
       "    'type': 'text/html',\n",
       "    'value': 'The ancient remedy could provide a new weapon against microbes Continue reading →'},\n",
       "   'tags': [{'label': None, 'scheme': None, 'term': 'Pathogens'},\n",
       "    {'label': None, 'scheme': None, 'term': 'Medicine'},\n",
       "    {'label': None, 'scheme': None, 'term': 'Health'},\n",
       "    {'label': None, 'scheme': None, 'term': 'Bugs'},\n",
       "    {'label': None, 'scheme': None, 'term': 'bacteria'},\n",
       "    {'label': None, 'scheme': None, 'term': 'Earth'}],\n",
       "   'title': 'Could Clay Help Attack Superbugs?',\n",
       "   'title_detail': {'base': 'http://syndication.dp.discovery.com/rss/Discovery+News',\n",
       "    'language': None,\n",
       "    'type': 'text/plain',\n",
       "    'value': 'Could Clay Help Attack Superbugs?'}},\n",
       "  {'author': 'AFP@discovery.com (AFP)',\n",
       "   'author_detail': {'email': 'AFP@discovery.com', 'name': 'AFP'},\n",
       "   'authors': [{'email': 'AFP@discovery.com', 'name': 'AFP'}],\n",
       "   'guidislink': False,\n",
       "   'id': '034c23c7-c6a8-3062-4b33-ace8432285b2',\n",
       "   'link': 'http://news.discovery.com/animals/penguin-chicks-hatched-using-artificial-insemination-160525.htm#mkcpgn=rssnws1',\n",
       "   'links': [{'href': 'http://news.discovery.com/animals/penguin-chicks-hatched-using-artificial-insemination-160525.htm#mkcpgn=rssnws1',\n",
       "     'rel': 'alternate',\n",
       "     'type': 'text/html'}],\n",
       "   'published': 'Wed, 25 May 2016 13:05:00 -0400',\n",
       "   'published_parsed': time.struct_time(tm_year=2016, tm_mon=5, tm_mday=25, tm_hour=17, tm_min=5, tm_sec=0, tm_wday=2, tm_yday=146, tm_isdst=0),\n",
       "   'summary': 'A Japanese aquarium said it had hatched two Humboldt penguin chicks, the first time the technique has been successfully deployed for the species.',\n",
       "   'summary_detail': {'base': 'http://syndication.dp.discovery.com/rss/Discovery+News',\n",
       "    'language': None,\n",
       "    'type': 'text/html',\n",
       "    'value': 'A Japanese aquarium said it had hatched two Humboldt penguin chicks, the first time the technique has been successfully deployed for the species.'},\n",
       "   'tags': [{'label': None, 'scheme': None, 'term': 'penguins'},\n",
       "    {'label': None, 'scheme': None, 'term': 'Japan'},\n",
       "    {'label': None, 'scheme': None, 'term': 'Humboldt penguins'},\n",
       "    {'label': None, 'scheme': None, 'term': 'breeding'},\n",
       "    {'label': None, 'scheme': None, 'term': 'artificial insemination'},\n",
       "    {'label': None, 'scheme': None, 'term': 'Animal Breeding'}],\n",
       "   'title': 'Penguin Chicks Hatched Using Artificial Insemination',\n",
       "   'title_detail': {'base': 'http://syndication.dp.discovery.com/rss/Discovery+News',\n",
       "    'language': None,\n",
       "    'type': 'text/plain',\n",
       "    'value': 'Penguin Chicks Hatched Using Artificial Insemination'}},\n",
       "  {'author': 'Jennifer_Viegas@discovery.com (Jennifer Viegas)',\n",
       "   'author_detail': {'email': 'Jennifer_Viegas@discovery.com',\n",
       "    'name': 'Jennifer Viegas'},\n",
       "   'authors': [{'email': 'Jennifer_Viegas@discovery.com',\n",
       "     'name': 'Jennifer Viegas'}],\n",
       "   'guidislink': False,\n",
       "   'id': '5bf85d96-1695-81ed-0fd2-5aa0c9a500bc',\n",
       "   'link': 'http://news.discovery.com/human/evolution/elaborate-neanderthal-structure-found-160525.htm#mkcpgn=rssnws1',\n",
       "   'links': [{'href': 'http://news.discovery.com/human/evolution/elaborate-neanderthal-structure-found-160525.htm#mkcpgn=rssnws1',\n",
       "     'rel': 'alternate',\n",
       "     'type': 'text/html'}],\n",
       "   'published': 'Wed, 25 May 2016 13:00:00 -0400',\n",
       "   'published_parsed': time.struct_time(tm_year=2016, tm_mon=5, tm_mday=25, tm_hour=17, tm_min=0, tm_sec=0, tm_wday=2, tm_yday=146, tm_isdst=0),\n",
       "   'summary': 'Neanderthals built some of the world&#039;s earliest constructions, which were just found deep in a French cave.',\n",
       "   'summary_detail': {'base': 'http://syndication.dp.discovery.com/rss/Discovery+News',\n",
       "    'language': None,\n",
       "    'type': 'text/html',\n",
       "    'value': 'Neanderthals built some of the world&#039;s earliest constructions, which were just found deep in a French cave.'},\n",
       "   'tags': [{'label': None, 'scheme': None, 'term': 'Current Events'},\n",
       "    {'label': None, 'scheme': None, 'term': 'evolution'},\n",
       "    {'label': None, 'scheme': None, 'term': 'Anthropology'},\n",
       "    {'label': None, 'scheme': None, 'term': 'early man'},\n",
       "    {'label': None, 'scheme': None, 'term': 'Early Humans'},\n",
       "    {'label': None, 'scheme': None, 'term': 'Human Migration'},\n",
       "    {'label': None, 'scheme': None, 'term': 'human evolution'},\n",
       "    {'label': None, 'scheme': None, 'term': 'Human Ancestors'},\n",
       "    {'label': None, 'scheme': None, 'term': 'neanderthal'}],\n",
       "   'title': 'Elaborate Neanderthal Structure Found',\n",
       "   'title_detail': {'base': 'http://syndication.dp.discovery.com/rss/Discovery+News',\n",
       "    'language': None,\n",
       "    'type': 'text/plain',\n",
       "    'value': 'Elaborate Neanderthal Structure Found'}},\n",
       "  {'author': 'Tracy_Staedter@discovery.com (Tracy Staedter)',\n",
       "   'author_detail': {'email': 'Tracy_Staedter@discovery.com',\n",
       "    'name': 'Tracy Staedter'},\n",
       "   'authors': [{'email': 'Tracy_Staedter@discovery.com',\n",
       "     'name': 'Tracy Staedter'}],\n",
       "   'guidislink': False,\n",
       "   'id': '5037b19f-41c8-6b80-30ca-a95d94f02c4f',\n",
       "   'link': 'http://news.discovery.com/tech/gear-and-gadgets/could-macbooks-come-with-cellular-service-160525.htm#mkcpgn=rssnws1',\n",
       "   'links': [{'href': 'http://news.discovery.com/tech/gear-and-gadgets/could-macbooks-come-with-cellular-service-160525.htm#mkcpgn=rssnws1',\n",
       "     'rel': 'alternate',\n",
       "     'type': 'text/html'}],\n",
       "   'published': 'Wed, 25 May 2016 12:50:00 -0400',\n",
       "   'published_parsed': time.struct_time(tm_year=2016, tm_mon=5, tm_mday=25, tm_hour=16, tm_min=50, tm_sec=0, tm_wday=2, tm_yday=146, tm_isdst=0),\n",
       "   'summary': 'Adding 4G service to the laptop would making getting online easier, especially when Wi-Fi connection was spotty.',\n",
       "   'summary_detail': {'base': 'http://syndication.dp.discovery.com/rss/Discovery+News',\n",
       "    'language': None,\n",
       "    'type': 'text/html',\n",
       "    'value': 'Adding 4G service to the laptop would making getting online easier, especially when Wi-Fi connection was spotty.'},\n",
       "   'tags': [{'label': None, 'scheme': None, 'term': 'WiFI'},\n",
       "    {'label': None, 'scheme': None, 'term': 'macbooks'},\n",
       "    {'label': None, 'scheme': None, 'term': 'laptops'},\n",
       "    {'label': None, 'scheme': None, 'term': 'Apple'},\n",
       "    {'label': None, 'scheme': None, 'term': '4G'},\n",
       "    {'label': None, 'scheme': None, 'term': 'Tech'}],\n",
       "   'title': 'Could MacBooks Come with Cellular Service?',\n",
       "   'title_detail': {'base': 'http://syndication.dp.discovery.com/rss/Discovery+News',\n",
       "    'language': None,\n",
       "    'type': 'text/plain',\n",
       "    'value': 'Could MacBooks Come with Cellular Service?'}},\n",
       "  {'author': 'Elizabeth_Howell@discovery.com (Elizabeth Howell)',\n",
       "   'author_detail': {'email': 'Elizabeth_Howell@discovery.com',\n",
       "    'name': 'Elizabeth Howell'},\n",
       "   'authors': [{'email': 'Elizabeth_Howell@discovery.com',\n",
       "     'name': 'Elizabeth Howell'}],\n",
       "   'guidislink': False,\n",
       "   'id': 'd4ccc1c6-0fe0-6b77-14f7-7e35e6c8b906',\n",
       "   'link': 'http://news.discovery.com/space/huge-tsunamis-may-have-ravaged-ancient-mars-160525.htm#mkcpgn=rssnws1',\n",
       "   'links': [{'href': 'http://news.discovery.com/space/huge-tsunamis-may-have-ravaged-ancient-mars-160525.htm#mkcpgn=rssnws1',\n",
       "     'rel': 'alternate',\n",
       "     'type': 'text/html'}],\n",
       "   'published': 'Wed, 25 May 2016 11:51:00 -0400',\n",
       "   'published_parsed': time.struct_time(tm_year=2016, tm_mon=5, tm_mday=25, tm_hour=15, tm_min=51, tm_sec=0, tm_wday=2, tm_yday=146, tm_isdst=0),\n",
       "   'summary': 'When Mars was a wet world, did its oceans experience powerful tsunamis spawned by meteorite impacts?',\n",
       "   'summary_detail': {'base': 'http://syndication.dp.discovery.com/rss/Discovery+News',\n",
       "    'language': None,\n",
       "    'type': 'text/html',\n",
       "    'value': 'When Mars was a wet world, did its oceans experience powerful tsunamis spawned by meteorite impacts?'},\n",
       "   'tags': [{'label': None, 'scheme': None, 'term': 'water'},\n",
       "    {'label': None, 'scheme': None, 'term': 'Tsunamis'},\n",
       "    {'label': None, 'scheme': None, 'term': 'Tsunami'},\n",
       "    {'label': None, 'scheme': None, 'term': 'Satellites'},\n",
       "    {'label': None, 'scheme': None, 'term': 'red planet'},\n",
       "    {'label': None, 'scheme': None, 'term': 'Mars Water'},\n",
       "    {'label': None, 'scheme': None, 'term': 'Mars'},\n",
       "    {'label': None, 'scheme': None, 'term': 'Current Events'},\n",
       "    {'label': None, 'scheme': None, 'term': 'ancient mars'},\n",
       "    {'label': None, 'scheme': None, 'term': 'Space'}],\n",
       "   'title': 'Huge Tsunamis May Have Ravaged Ancient Mars',\n",
       "   'title_detail': {'base': 'http://syndication.dp.discovery.com/rss/Discovery+News',\n",
       "    'language': None,\n",
       "    'type': 'text/plain',\n",
       "    'value': 'Huge Tsunamis May Have Ravaged Ancient Mars'}},\n",
       "  {'author': 'Anna_Salleh__ABC_Science_Online@discovery.com (Anna Salleh, ABC Science Online)',\n",
       "   'author_detail': {'email': 'Anna_Salleh__ABC_Science_Online@discovery.com',\n",
       "    'name': 'Anna Salleh, ABC Science Online'},\n",
       "   'authors': [{'email': 'Anna_Salleh__ABC_Science_Online@discovery.com',\n",
       "     'name': 'Anna Salleh, ABC Science Online'}],\n",
       "   'guidislink': False,\n",
       "   'id': 'b8fd2f0e-1460-cf70-a1a0-4b422bc36b7c',\n",
       "   'link': 'http://news.discovery.com/animals/pets/snub-nosed-dogs-more-affectionate-better-guard-dogs-160525.htm#mkcpgn=rssnws1',\n",
       "   'links': [{'href': 'http://news.discovery.com/animals/pets/snub-nosed-dogs-more-affectionate-better-guard-dogs-160525.htm#mkcpgn=rssnws1',\n",
       "     'rel': 'alternate',\n",
       "     'type': 'text/html'}],\n",
       "   'published': 'Wed, 25 May 2016 09:40:00 -0400',\n",
       "   'published_parsed': time.struct_time(tm_year=2016, tm_mon=5, tm_mday=25, tm_hour=13, tm_min=40, tm_sec=0, tm_wday=2, tm_yday=146, tm_isdst=0),\n",
       "   'summary': 'New research may help explain the growing obsession in some countries with short-nosed dogs.',\n",
       "   'summary_detail': {'base': 'http://syndication.dp.discovery.com/rss/Discovery+News',\n",
       "    'language': None,\n",
       "    'type': 'text/html',\n",
       "    'value': 'New research may help explain the growing obsession in some countries with short-nosed dogs.'},\n",
       "   'tags': [{'label': None, 'scheme': None, 'term': 'pets'},\n",
       "    {'label': None, 'scheme': None, 'term': 'guard dogs'},\n",
       "    {'label': None, 'scheme': None, 'term': 'Dogs'},\n",
       "    {'label': None, 'scheme': None, 'term': 'Dog Breeds'},\n",
       "    {'label': None, 'scheme': None, 'term': 'breeds'}],\n",
       "   'title': 'Snub-Nosed Dogs More Affectionate, Better Guard Dogs',\n",
       "   'title_detail': {'base': 'http://syndication.dp.discovery.com/rss/Discovery+News',\n",
       "    'language': None,\n",
       "    'type': 'text/plain',\n",
       "    'value': 'Snub-Nosed Dogs More Affectionate, Better Guard Dogs'}},\n",
       "  {'guidislink': False,\n",
       "   'id': 'b0aad309-1fab-dae5-42da-c1c44bfd10ed',\n",
       "   'link': 'http://news.discovery.com/earth/videos/the-dreaded-turbulence-what-makes-flights-bumpy-video-160525.htm#mkcpgn=rssnws1',\n",
       "   'links': [{'href': 'http://news.discovery.com/earth/videos/the-dreaded-turbulence-what-makes-flights-bumpy-video-160525.htm#mkcpgn=rssnws1',\n",
       "     'rel': 'alternate',\n",
       "     'type': 'text/html'}],\n",
       "   'published': 'Wed, 25 May 2016 04:37:49 -0400',\n",
       "   'published_parsed': time.struct_time(tm_year=2016, tm_mon=5, tm_mday=25, tm_hour=8, tm_min=37, tm_sec=49, tm_wday=2, tm_yday=146, tm_isdst=0),\n",
       "   'summary': 'Most of us probably breathe a sigh of relief when the captain promises &quot;a smooth ride&quot; to wherever we&#039;re flying. But, as DNews explains, turbulence is really no big deal.',\n",
       "   'summary_detail': {'base': 'http://syndication.dp.discovery.com/rss/Discovery+News',\n",
       "    'language': None,\n",
       "    'type': 'text/html',\n",
       "    'value': 'Most of us probably breathe a sigh of relief when the captain promises &quot;a smooth ride&quot; to wherever we&#039;re flying. But, as DNews explains, turbulence is really no big deal.'},\n",
       "   'tags': [{'label': None, 'scheme': None, 'term': 'airplanes'},\n",
       "    {'label': None, 'scheme': None, 'term': 'airlines'},\n",
       "    {'label': None, 'scheme': None, 'term': 'turbulence'},\n",
       "    {'label': None, 'scheme': None, 'term': 'currents'},\n",
       "    {'label': None, 'scheme': None, 'term': 'Jet Streams'},\n",
       "    {'label': None, 'scheme': None, 'term': 'air'},\n",
       "    {'label': None, 'scheme': None, 'term': 'Travel'},\n",
       "    {'label': None, 'scheme': None, 'term': 'fears'},\n",
       "    {'label': None, 'scheme': None, 'term': 'emotions'}],\n",
       "   'title': 'DNews: The Dreaded Turbulence: What Makes Flights Bumpy',\n",
       "   'title_detail': {'base': 'http://syndication.dp.discovery.com/rss/Discovery+News',\n",
       "    'language': None,\n",
       "    'type': 'text/plain',\n",
       "    'value': 'DNews: The Dreaded Turbulence: What Makes Flights Bumpy'}},\n",
       "  {'author': 'Jennifer_Viegas@discovery.com (Jennifer Viegas)',\n",
       "   'author_detail': {'email': 'Jennifer_Viegas@discovery.com',\n",
       "    'name': 'Jennifer Viegas'},\n",
       "   'authors': [{'email': 'Jennifer_Viegas@discovery.com',\n",
       "     'name': 'Jennifer Viegas'}],\n",
       "   'guidislink': False,\n",
       "   'id': '24b7142e-a0a9-8e41-402e-0eaf7ef73aba',\n",
       "   'link': 'http://news.discovery.com/animals/stress-and-depression-seen-in-farmed-salmon-160824.htm#mkcpgn=rssnws1',\n",
       "   'links': [{'href': 'http://news.discovery.com/animals/stress-and-depression-seen-in-farmed-salmon-160824.htm#mkcpgn=rssnws1',\n",
       "     'rel': 'alternate',\n",
       "     'type': 'text/html'}],\n",
       "   'published': 'Tue, 24 May 2016 19:01:00 -0400',\n",
       "   'published_parsed': time.struct_time(tm_year=2016, tm_mon=5, tm_mday=24, tm_hour=23, tm_min=1, tm_sec=0, tm_wday=1, tm_yday=145, tm_isdst=0),\n",
       "   'summary': 'Farmed Atlantic salmon often suffer from such high levels of stress and depression that many become lethargic and essentially give up on life, finds new research.',\n",
       "   'summary_detail': {'base': 'http://syndication.dp.discovery.com/rss/Discovery+News',\n",
       "    'language': None,\n",
       "    'type': 'text/html',\n",
       "    'value': 'Farmed Atlantic salmon often suffer from such high levels of stress and depression that many become lethargic and essentially give up on life, finds new research.'},\n",
       "   'tags': [{'label': None, 'scheme': None, 'term': 'Depression'},\n",
       "    {'label': None, 'scheme': None, 'term': 'Marine Life'},\n",
       "    {'label': None, 'scheme': None, 'term': 'sea life'},\n",
       "    {'label': None, 'scheme': None, 'term': 'Fishing'},\n",
       "    {'label': None, 'scheme': None, 'term': 'Fish'}],\n",
       "   'title': 'Stress and Depression Seen in Farmed Salmon',\n",
       "   'title_detail': {'base': 'http://syndication.dp.discovery.com/rss/Discovery+News',\n",
       "    'language': None,\n",
       "    'type': 'text/plain',\n",
       "    'value': 'Stress and Depression Seen in Farmed Salmon'}},\n",
       "  {'author': 'Irene_Klotz@discovery.com (Irene Klotz)',\n",
       "   'author_detail': {'email': 'Irene_Klotz@discovery.com',\n",
       "    'name': 'Irene Klotz'},\n",
       "   'authors': [{'email': 'Irene_Klotz@discovery.com', 'name': 'Irene Klotz'}],\n",
       "   'guidislink': False,\n",
       "   'id': '15b84126-2c82-ef5c-38bd-bd33813cb07d',\n",
       "   'link': 'http://news.discovery.com/space/astronomy/collapsing-cosmic-clouds-seed-black-hole-monsters-160524.htm#mkcpgn=rssnws1',\n",
       "   'links': [{'href': 'http://news.discovery.com/space/astronomy/collapsing-cosmic-clouds-seed-black-hole-monsters-160524.htm#mkcpgn=rssnws1',\n",
       "     'rel': 'alternate',\n",
       "     'type': 'text/html'}],\n",
       "   'published': 'Tue, 24 May 2016 18:57:00 -0400',\n",
       "   'published_parsed': time.struct_time(tm_year=2016, tm_mon=5, tm_mday=24, tm_hour=22, tm_min=57, tm_sec=0, tm_wday=1, tm_yday=145, tm_isdst=0),\n",
       "   'summary': 'Supermassive black holes occupy all known galaxies, but astronomers have little idea how they formed. Now space telescopes have found a clue.',\n",
       "   'summary_detail': {'base': 'http://syndication.dp.discovery.com/rss/Discovery+News',\n",
       "    'language': None,\n",
       "    'type': 'text/html',\n",
       "    'value': 'Supermassive black holes occupy all known galaxies, but astronomers have little idea how they formed. Now space telescopes have found a clue.'},\n",
       "   'tags': [{'label': None,\n",
       "     'scheme': None,\n",
       "     'term': 'supermassive black holes'},\n",
       "    {'label': None, 'scheme': None, 'term': 'Spitzer Space Telescope'},\n",
       "    {'label': None, 'scheme': None, 'term': 'Hubble Space Telescope'},\n",
       "    {'label': None, 'scheme': None, 'term': 'hubble'},\n",
       "    {'label': None, 'scheme': None, 'term': 'galaxies'},\n",
       "    {'label': None, 'scheme': None, 'term': 'Current Events'},\n",
       "    {'label': None, 'scheme': None, 'term': 'Chandra X-Ray Observatory'},\n",
       "    {'label': None, 'scheme': None, 'term': 'Black Hole'},\n",
       "    {'label': None, 'scheme': None, 'term': 'Space'}],\n",
       "   'title': 'Collapsing Cosmic Clouds Birth Black Hole Monsters',\n",
       "   'title_detail': {'base': 'http://syndication.dp.discovery.com/rss/Discovery+News',\n",
       "    'language': None,\n",
       "    'type': 'text/plain',\n",
       "    'value': 'Collapsing Cosmic Clouds Birth Black Hole Monsters'}},\n",
       "  {'author': 'Kieran_Mulvaney@discovery.com (Kieran Mulvaney)',\n",
       "   'author_detail': {'email': 'Kieran_Mulvaney@discovery.com',\n",
       "    'name': 'Kieran Mulvaney'},\n",
       "   'authors': [{'email': 'Kieran_Mulvaney@discovery.com',\n",
       "     'name': 'Kieran Mulvaney'}],\n",
       "   'guidislink': False,\n",
       "   'id': '53c818a6-8ac3-02b9-06d4-fff0bfcb06f7',\n",
       "   'link': 'http://news.discovery.com/earth/global-warming/why-antarctic-sea-ice-isnt-shrinking-160524.htm#mkcpgn=rssnws1',\n",
       "   'links': [{'href': 'http://news.discovery.com/earth/global-warming/why-antarctic-sea-ice-isnt-shrinking-160524.htm#mkcpgn=rssnws1',\n",
       "     'rel': 'alternate',\n",
       "     'type': 'text/html'}],\n",
       "   'published': 'Tue, 24 May 2016 16:53:00 -0400',\n",
       "   'published_parsed': time.struct_time(tm_year=2016, tm_mon=5, tm_mday=24, tm_hour=20, tm_min=53, tm_sec=0, tm_wday=1, tm_yday=145, tm_isdst=0),\n",
       "   'summary': 'Winds, currents and seafloor features may be responsible for keeping Antarctica&#039;s sea ice intact.',\n",
       "   'summary_detail': {'base': 'http://syndication.dp.discovery.com/rss/Discovery+News',\n",
       "    'language': None,\n",
       "    'type': 'text/html',\n",
       "    'value': 'Winds, currents and seafloor features may be responsible for keeping Antarctica&#039;s sea ice intact.'},\n",
       "   'tags': [{'label': None, 'scheme': None, 'term': 'sea ice'},\n",
       "    {'label': None, 'scheme': None, 'term': 'IPCC'},\n",
       "    {'label': None, 'scheme': None, 'term': 'greenhouse gasses'},\n",
       "    {'label': None, 'scheme': None, 'term': 'environment'},\n",
       "    {'label': None, 'scheme': None, 'term': 'Earth'},\n",
       "    {'label': None, 'scheme': None, 'term': 'Current Events'},\n",
       "    {'label': None, 'scheme': None, 'term': 'Current Affairs'},\n",
       "    {'label': None, 'scheme': None, 'term': 'Climate Change'},\n",
       "    {'label': None, 'scheme': None, 'term': 'Antarctica'},\n",
       "    {'label': None, 'scheme': None, 'term': 'antarctic'},\n",
       "    {'label': None, 'scheme': None, 'term': 'Polar Regions'}],\n",
       "   'title': \"Why Antarctic Sea Ice Isn't Shrinking\",\n",
       "   'title_detail': {'base': 'http://syndication.dp.discovery.com/rss/Discovery+News',\n",
       "    'language': None,\n",
       "    'type': 'text/plain',\n",
       "    'value': \"Why Antarctic Sea Ice Isn't Shrinking\"}},\n",
       "  {'author': 'Glenn_McDonald@discovery.com (Glenn McDonald)',\n",
       "   'author_detail': {'email': 'Glenn_McDonald@discovery.com',\n",
       "    'name': 'Glenn McDonald'},\n",
       "   'authors': [{'email': 'Glenn_McDonald@discovery.com',\n",
       "     'name': 'Glenn McDonald'}],\n",
       "   'guidislink': False,\n",
       "   'id': 'da04a7f7-a110-d943-04f4-7a441c5053fd',\n",
       "   'link': 'http://news.discovery.com/tech/robotics/google-cars-to-be-coated-with-human-flypaper-160524.htm#mkcpgn=rssnws1',\n",
       "   'links': [{'href': 'http://news.discovery.com/tech/robotics/google-cars-to-be-coated-with-human-flypaper-160524.htm#mkcpgn=rssnws1',\n",
       "     'rel': 'alternate',\n",
       "     'type': 'text/html'}],\n",
       "   'published': 'Tue, 24 May 2016 16:00:00 -0400',\n",
       "   'published_parsed': time.struct_time(tm_year=2016, tm_mon=5, tm_mday=24, tm_hour=20, tm_min=0, tm_sec=0, tm_wday=1, tm_yday=145, tm_isdst=0),\n",
       "   'summary': 'A patent application describes adhesive coating for reducing injuries in pedestrian accidents.',\n",
       "   'summary_detail': {'base': 'http://syndication.dp.discovery.com/rss/Discovery+News',\n",
       "    'language': None,\n",
       "    'type': 'text/html',\n",
       "    'value': 'A patent application describes adhesive coating for reducing injuries in pedestrian accidents.'},\n",
       "   'tags': [{'label': None, 'scheme': None, 'term': 'Current Events'},\n",
       "    {'label': None, 'scheme': None, 'term': 'patents'},\n",
       "    {'label': None, 'scheme': None, 'term': 'self-driving'},\n",
       "    {'label': None, 'scheme': None, 'term': 'self driving car'},\n",
       "    {'label': None, 'scheme': None, 'term': 'Google Car'},\n",
       "    {'label': None, 'scheme': None, 'term': 'Google'},\n",
       "    {'label': None, 'scheme': None, 'term': 'Driving and Safety'},\n",
       "    {'label': None, 'scheme': None, 'term': 'Autos'},\n",
       "    {'label': None, 'scheme': None, 'term': 'autonomous vehicles'},\n",
       "    {'label': None, 'scheme': None, 'term': 'Tech'}],\n",
       "   'title': 'Google Cars to Be Coated with Human Flypaper?',\n",
       "   'title_detail': {'base': 'http://syndication.dp.discovery.com/rss/Discovery+News',\n",
       "    'language': None,\n",
       "    'type': 'text/plain',\n",
       "    'value': 'Google Cars to Be Coated with Human Flypaper?'}},\n",
       "  {'author': 'Alyssa_Danigelis@discovery.com (Alyssa Danigelis)',\n",
       "   'author_detail': {'email': 'Alyssa_Danigelis@discovery.com',\n",
       "    'name': 'Alyssa Danigelis'},\n",
       "   'authors': [{'email': 'Alyssa_Danigelis@discovery.com',\n",
       "     'name': 'Alyssa Danigelis'}],\n",
       "   'guidislink': False,\n",
       "   'id': '400cfd62-a215-8354-0d35-4fd793e6970c',\n",
       "   'link': 'http://news.discovery.com/tech/robotics/wearable-computer-teaches-dogs-new-tricks-160524.htm#mkcpgn=rssnws1',\n",
       "   'links': [{'href': 'http://news.discovery.com/tech/robotics/wearable-computer-teaches-dogs-new-tricks-160524.htm#mkcpgn=rssnws1',\n",
       "     'rel': 'alternate',\n",
       "     'type': 'text/html'}],\n",
       "   'published': 'Tue, 24 May 2016 15:00:00 -0400',\n",
       "   'published_parsed': time.struct_time(tm_year=2016, tm_mon=5, tm_mday=24, tm_hour=19, tm_min=0, tm_sec=0, tm_wday=1, tm_yday=145, tm_isdst=0),\n",
       "   'summary': 'Good boy! This custom dog harness consistently reinforces good behavior using sensors and a special algorithm.',\n",
       "   'summary_detail': {'base': 'http://syndication.dp.discovery.com/rss/Discovery+News',\n",
       "    'language': None,\n",
       "    'type': 'text/html',\n",
       "    'value': 'Good boy! This custom dog harness consistently reinforces good behavior using sensors and a special algorithm.'},\n",
       "   'tags': [{'label': None, 'scheme': None, 'term': 'wearable electronics'},\n",
       "    {'label': None, 'scheme': None, 'term': 'Wearable Computers'},\n",
       "    {'label': None, 'scheme': None, 'term': 'wearable computer'},\n",
       "    {'label': None, 'scheme': None, 'term': 'wearable'},\n",
       "    {'label': None, 'scheme': None, 'term': 'Dogs'},\n",
       "    {'label': None, 'scheme': None, 'term': 'dog'},\n",
       "    {'label': None, 'scheme': None, 'term': 'canine'},\n",
       "    {'label': None, 'scheme': None, 'term': 'Tech'}],\n",
       "   'title': 'Wearable Computer Teaches Dogs New Tricks',\n",
       "   'title_detail': {'base': 'http://syndication.dp.discovery.com/rss/Discovery+News',\n",
       "    'language': None,\n",
       "    'type': 'text/plain',\n",
       "    'value': 'Wearable Computer Teaches Dogs New Tricks'}},\n",
       "  {'author': \"Ian_O'Neill@discovery.com (Ian O'Neill)\",\n",
       "   'author_detail': {'email': 'Neill@discovery.com',\n",
       "    'name': \"Ian_O' (Ian O'Neill\"},\n",
       "   'authors': [{'email': 'Neill@discovery.com',\n",
       "     'name': \"Ian_O' (Ian O'Neill\"}],\n",
       "   'guidislink': False,\n",
       "   'id': 'ae909ae1-0753-3d16-f595-cf0aa21b8f76',\n",
       "   'link': 'http://news.discovery.com/space/mystery-plumes-did-the-sun-bruise-mars-160524.htm#mkcpgn=rssnws1',\n",
       "   'links': [{'href': 'http://news.discovery.com/space/mystery-plumes-did-the-sun-bruise-mars-160524.htm#mkcpgn=rssnws1',\n",
       "     'rel': 'alternate',\n",
       "     'type': 'text/html'}],\n",
       "   'published': 'Tue, 24 May 2016 13:45:00 -0400',\n",
       "   'published_parsed': time.struct_time(tm_year=2016, tm_mon=5, tm_mday=24, tm_hour=17, tm_min=45, tm_sec=0, tm_wday=1, tm_yday=145, tm_isdst=0),\n",
       "   'summary': 'Strange plumes have been spotted high in the Martian atmosphere that have, so far, defied explanation. Now scientists think space weather is to blame.',\n",
       "   'summary_detail': {'base': 'http://syndication.dp.discovery.com/rss/Discovery+News',\n",
       "    'language': None,\n",
       "    'type': 'text/html',\n",
       "    'value': 'Strange plumes have been spotted high in the Martian atmosphere that have, so far, defied explanation. Now scientists think space weather is to blame.'},\n",
       "   'tags': [{'label': None, 'scheme': None, 'term': 'Mystery'},\n",
       "    {'label': None, 'scheme': None, 'term': 'Mars Mission'},\n",
       "    {'label': None, 'scheme': None, 'term': 'Mars Express'},\n",
       "    {'label': None, 'scheme': None, 'term': 'Mars'},\n",
       "    {'label': None, 'scheme': None, 'term': 'hubble'},\n",
       "    {'label': None, 'scheme': None, 'term': 'Current Events'},\n",
       "    {'label': None, 'scheme': None, 'term': 'coronal mass ejections'},\n",
       "    {'label': None, 'scheme': None, 'term': 'cme'},\n",
       "    {'label': None, 'scheme': None, 'term': 'atmospheres'},\n",
       "    {'label': None, 'scheme': None, 'term': 'Atmosphere'},\n",
       "    {'label': None, 'scheme': None, 'term': 'Amateur Astronomy'},\n",
       "    {'label': None, 'scheme': None, 'term': 'Space'}],\n",
       "   'title': 'Mystery Plumes: Did the Sun Bruise Mars?',\n",
       "   'title_detail': {'base': 'http://syndication.dp.discovery.com/rss/Discovery+News',\n",
       "    'language': None,\n",
       "    'type': 'text/plain',\n",
       "    'value': 'Mystery Plumes: Did the Sun Bruise Mars?'}},\n",
       "  {'author': 'Rossella_Lorenzi@discovery.com (Rossella Lorenzi)',\n",
       "   'author_detail': {'email': 'Rossella_Lorenzi@discovery.com',\n",
       "    'name': 'Rossella Lorenzi'},\n",
       "   'authors': [{'email': 'Rossella_Lorenzi@discovery.com',\n",
       "     'name': 'Rossella Lorenzi'}],\n",
       "   'guidislink': False,\n",
       "   'id': '2962b065-5f5e-2d19-c4b3-73961de3be86',\n",
       "   'link': 'http://news.discovery.com/history/archaeology/mummy-of-egyptian-noblewoman-found-160524.htm#mkcpgn=rssnws1',\n",
       "   'links': [{'href': 'http://news.discovery.com/history/archaeology/mummy-of-egyptian-noblewoman-found-160524.htm#mkcpgn=rssnws1',\n",
       "     'rel': 'alternate',\n",
       "     'type': 'text/html'}],\n",
       "   'published': 'Tue, 24 May 2016 10:43:00 -0400',\n",
       "   'published_parsed': time.struct_time(tm_year=2016, tm_mon=5, tm_mday=24, tm_hour=14, tm_min=43, tm_sec=0, tm_wday=1, tm_yday=145, tm_isdst=0),\n",
       "   'summary': 'The 3,800-year-old mummy belonged to Lady Sattjeni, a leading figure from the Middle Kingdom.',\n",
       "   'summary_detail': {'base': 'http://syndication.dp.discovery.com/rss/Discovery+News',\n",
       "    'language': None,\n",
       "    'type': 'text/html',\n",
       "    'value': 'The 3,800-year-old mummy belonged to Lady Sattjeni, a leading figure from the Middle Kingdom.'},\n",
       "   'tags': [{'label': None, 'scheme': None, 'term': 'royals'},\n",
       "    {'label': None, 'scheme': None, 'term': 'mummy'},\n",
       "    {'label': None, 'scheme': None, 'term': 'mummies'},\n",
       "    {'label': None, 'scheme': None, 'term': 'kings and rulers'},\n",
       "    {'label': None, 'scheme': None, 'term': 'Current Events'},\n",
       "    {'label': None, 'scheme': None, 'term': 'history'},\n",
       "    {'label': None, 'scheme': None, 'term': 'Ancient Egypt'}],\n",
       "   'title': 'Mummy of Egyptian Noblewoman Found',\n",
       "   'title_detail': {'base': 'http://syndication.dp.discovery.com/rss/Discovery+News',\n",
       "    'language': None,\n",
       "    'type': 'text/plain',\n",
       "    'value': 'Mummy of Egyptian Noblewoman Found'}},\n",
       "  {'author': 'Mark_Spoonauer__Toms_Guide@discovery.com (Mark Spoonauer, Toms Guide)',\n",
       "   'author_detail': {'email': 'Mark_Spoonauer__Toms_Guide@discovery.com',\n",
       "    'name': 'Mark Spoonauer, Toms Guide'},\n",
       "   'authors': [{'email': 'Mark_Spoonauer__Toms_Guide@discovery.com',\n",
       "     'name': 'Mark Spoonauer, Toms Guide'}],\n",
       "   'guidislink': False,\n",
       "   'id': 'a3af8f43-9839-7fde-819a-0119e2727a2b',\n",
       "   'link': 'http://news.discovery.com/tech/gear-and-gadgets/iphone-2017-will-have-the-screen-you-want-160524.htm#mkcpgn=rssnws1',\n",
       "   'links': [{'href': 'http://news.discovery.com/tech/gear-and-gadgets/iphone-2017-will-have-the-screen-you-want-160524.htm#mkcpgn=rssnws1',\n",
       "     'rel': 'alternate',\n",
       "     'type': 'text/html'}],\n",
       "   'published': 'Tue, 24 May 2016 10:30:00 -0400',\n",
       "   'published_parsed': time.struct_time(tm_year=2016, tm_mon=5, tm_mday=24, tm_hour=14, tm_min=30, tm_sec=0, tm_wday=1, tm_yday=145, tm_isdst=0),\n",
       "   'summary': 'According to a new report, Apple is jumping on the bandwagon with an OLED screen.',\n",
       "   'summary_detail': {'base': 'http://syndication.dp.discovery.com/rss/Discovery+News',\n",
       "    'language': None,\n",
       "    'type': 'text/html',\n",
       "    'value': 'According to a new report, Apple is jumping on the bandwagon with an OLED screen.'},\n",
       "   'tags': [{'label': None, 'scheme': None, 'term': 'Current Events'},\n",
       "    {'label': None, 'scheme': None, 'term': 'smartphones'},\n",
       "    {'label': None, 'scheme': None, 'term': 'Apple'},\n",
       "    {'label': None, 'scheme': None, 'term': 'iphone 7'},\n",
       "    {'label': None, 'scheme': None, 'term': 'iPhone'}],\n",
       "   'title': 'iPhone 2017 Will Have the Screen You Want',\n",
       "   'title_detail': {'base': 'http://syndication.dp.discovery.com/rss/Discovery+News',\n",
       "    'language': None,\n",
       "    'type': 'text/plain',\n",
       "    'value': 'iPhone 2017 Will Have the Screen You Want'}},\n",
       "  {'author': 'AFP@discovery.com (AFP)',\n",
       "   'author_detail': {'email': 'AFP@discovery.com', 'name': 'AFP'},\n",
       "   'authors': [{'email': 'AFP@discovery.com', 'name': 'AFP'}],\n",
       "   'guidislink': False,\n",
       "   'id': '5acf69e8-39bf-8b8c-7ea4-cc3d5e28b460',\n",
       "   'link': 'http://news.discovery.com/human/health/loss-of-y-chromosome-linked-to-alzheimers-160524.htm#mkcpgn=rssnws1',\n",
       "   'links': [{'href': 'http://news.discovery.com/human/health/loss-of-y-chromosome-linked-to-alzheimers-160524.htm#mkcpgn=rssnws1',\n",
       "     'rel': 'alternate',\n",
       "     'type': 'text/html'}],\n",
       "   'published': 'Tue, 24 May 2016 10:29:00 -0400',\n",
       "   'published_parsed': time.struct_time(tm_year=2016, tm_mon=5, tm_mday=24, tm_hour=14, tm_min=29, tm_sec=0, tm_wday=1, tm_yday=145, tm_isdst=0),\n",
       "   'summary': 'About one in five men over age 80 lose the Y chromosome, and the condition has now been linked to an increased risk of Alzheimer’s.',\n",
       "   'summary_detail': {'base': 'http://syndication.dp.discovery.com/rss/Discovery+News',\n",
       "    'language': None,\n",
       "    'type': 'text/html',\n",
       "    'value': 'About one in five men over age 80 lose the Y chromosome, and the condition has now been linked to an increased risk of Alzheimer’s.'},\n",
       "   'tags': [{'label': None, 'scheme': None, 'term': 'Y Chromosome'},\n",
       "    {'label': None, 'scheme': None, 'term': 'sickness'},\n",
       "    {'label': None, 'scheme': None, 'term': 'genes'},\n",
       "    {'label': None, 'scheme': None, 'term': 'Disease'},\n",
       "    {'label': None, 'scheme': None, 'term': 'chromosomes'},\n",
       "    {'label': None, 'scheme': None, 'term': \"Alzheimer's Disease\"},\n",
       "    {'label': None, 'scheme': None, 'term': \"Alzheimer's\"},\n",
       "    {'label': None, 'scheme': None, 'term': 'Health'}],\n",
       "   'title': \"Loss of Y Chromosome Linked to Alzheimer's\",\n",
       "   'title_detail': {'base': 'http://syndication.dp.discovery.com/rss/Discovery+News',\n",
       "    'language': None,\n",
       "    'type': 'text/plain',\n",
       "    'value': \"Loss of Y Chromosome Linked to Alzheimer's\"}},\n",
       "  {'author': 'Tom_Metcalfe__Live_Science@discovery.com (Tom Metcalfe, Live Science)',\n",
       "   'author_detail': {'email': 'Tom_Metcalfe__Live_Science@discovery.com',\n",
       "    'name': 'Tom Metcalfe, Live Science'},\n",
       "   'authors': [{'email': 'Tom_Metcalfe__Live_Science@discovery.com',\n",
       "     'name': 'Tom Metcalfe, Live Science'}],\n",
       "   'guidislink': False,\n",
       "   'id': '37ac26d2-760b-edb8-9ff1-82fcb4a0d5be',\n",
       "   'link': 'http://news.discovery.com/history/5000-year-old-beer-recipe-had-secret-ingredient-160524.htm#mkcpgn=rssnws1',\n",
       "   'links': [{'href': 'http://news.discovery.com/history/5000-year-old-beer-recipe-had-secret-ingredient-160524.htm#mkcpgn=rssnws1',\n",
       "     'rel': 'alternate',\n",
       "     'type': 'text/html'}],\n",
       "   'published': 'Tue, 24 May 2016 09:42:00 -0400',\n",
       "   'published_parsed': time.struct_time(tm_year=2016, tm_mon=5, tm_mday=24, tm_hour=13, tm_min=42, tm_sec=0, tm_wday=1, tm_yday=145, tm_isdst=0),\n",
       "   'summary': 'Analysis of ancient pottery jars and funnels found at a site in China&#039;s Shaanxi province reveal barley was a key ingredient.',\n",
       "   'summary_detail': {'base': 'http://syndication.dp.discovery.com/rss/Discovery+News',\n",
       "    'language': None,\n",
       "    'type': 'text/html',\n",
       "    'value': 'Analysis of ancient pottery jars and funnels found at a site in China&#039;s Shaanxi province reveal barley was a key ingredient.'},\n",
       "   'tags': [{'label': None, 'scheme': None, 'term': 'Food'},\n",
       "    {'label': None, 'scheme': None, 'term': 'China'},\n",
       "    {'label': None, 'scheme': None, 'term': 'beer'},\n",
       "    {'label': None, 'scheme': None, 'term': 'Ancient Civilizations'},\n",
       "    {'label': None, 'scheme': None, 'term': 'ancient china'},\n",
       "    {'label': None, 'scheme': None, 'term': 'alcohol'},\n",
       "    {'label': None, 'scheme': None, 'term': 'history'}],\n",
       "   'title': '5,000-Year-Old Beer Recipe Had Secret Ingredient',\n",
       "   'title_detail': {'base': 'http://syndication.dp.discovery.com/rss/Discovery+News',\n",
       "    'language': None,\n",
       "    'type': 'text/plain',\n",
       "    'value': '5,000-Year-Old Beer Recipe Had Secret Ingredient'}},\n",
       "  {'author': 'Glenn_McDonald@discovery.com (Glenn McDonald)',\n",
       "   'author_detail': {'email': 'Glenn_McDonald@discovery.com',\n",
       "    'name': 'Glenn McDonald'},\n",
       "   'authors': [{'email': 'Glenn_McDonald@discovery.com',\n",
       "     'name': 'Glenn McDonald'}],\n",
       "   'guidislink': False,\n",
       "   'id': 'dabe8ac0-bdc7-94cf-fcbc-d2544ae5afe3',\n",
       "   'link': 'http://news.discovery.com/tech/gear-and-gadgets/custom-earphones-double-as-brainwave-monitors-160524.htm#mkcpgn=rssnws1',\n",
       "   'links': [{'href': 'http://news.discovery.com/tech/gear-and-gadgets/custom-earphones-double-as-brainwave-monitors-160524.htm#mkcpgn=rssnws1',\n",
       "     'rel': 'alternate',\n",
       "     'type': 'text/html'}],\n",
       "   'published': 'Tue, 24 May 2016 08:20:00 -0400',\n",
       "   'published_parsed': time.struct_time(tm_year=2016, tm_mon=5, tm_mday=24, tm_hour=12, tm_min=20, tm_sec=0, tm_wday=1, tm_yday=145, tm_isdst=0),\n",
       "   'summary': 'Bluetooth device will combine multiple functions into 3D-printed casing designed to fit your particular skull.',\n",
       "   'summary_detail': {'base': 'http://syndication.dp.discovery.com/rss/Discovery+News',\n",
       "    'language': None,\n",
       "    'type': 'text/html',\n",
       "    'value': 'Bluetooth device will combine multiple functions into 3D-printed casing designed to fit your particular skull.'},\n",
       "   'tags': [{'label': None, 'scheme': None, 'term': 'wearable electronics'},\n",
       "    {'label': None, 'scheme': None, 'term': 'Wearable Computers'},\n",
       "    {'label': None, 'scheme': None, 'term': 'wearable computer'},\n",
       "    {'label': None, 'scheme': None, 'term': 'wearable'},\n",
       "    {'label': None, 'scheme': None, 'term': 'brainwaves'},\n",
       "    {'label': None, 'scheme': None, 'term': 'brains'},\n",
       "    {'label': None, 'scheme': None, 'term': 'Brain-Computer Interface'},\n",
       "    {'label': None, 'scheme': None, 'term': 'Brain Scan'},\n",
       "    {'label': None, 'scheme': None, 'term': 'brain machine interfaces'},\n",
       "    {'label': None, 'scheme': None, 'term': 'brain activity'},\n",
       "    {'label': None, 'scheme': None, 'term': 'Brain'},\n",
       "    {'label': None, 'scheme': None, 'term': 'Tech'}],\n",
       "   'title': 'Custom Earphones Double as Brainwave Monitors',\n",
       "   'title_detail': {'base': 'http://syndication.dp.discovery.com/rss/Discovery+News',\n",
       "    'language': None,\n",
       "    'type': 'text/plain',\n",
       "    'value': 'Custom Earphones Double as Brainwave Monitors'}},\n",
       "  {'author': 'Talal_Al-Khatib@discovery.com (Talal Al-Khatib)',\n",
       "   'author_detail': {'email': 'Talal_Al-Khatib@discovery.com',\n",
       "    'name': 'Talal Al-Khatib'},\n",
       "   'authors': [{'email': 'Talal_Al-Khatib@discovery.com',\n",
       "     'name': 'Talal Al-Khatib'}],\n",
       "   'guidislink': False,\n",
       "   'id': '6bff56b4-5ac9-00b2-5b85-85e8b92f1463',\n",
       "   'link': 'http://news.discovery.com/history/stonehenge-easier-done-than-said-160524.htm#mkcpgn=rssnws1',\n",
       "   'links': [{'href': 'http://news.discovery.com/history/stonehenge-easier-done-than-said-160524.htm#mkcpgn=rssnws1',\n",
       "     'rel': 'alternate',\n",
       "     'type': 'text/html'}],\n",
       "   'published': 'Tue, 24 May 2016 07:52:00 -0400',\n",
       "   'published_parsed': time.struct_time(tm_year=2016, tm_mon=5, tm_mday=24, tm_hour=11, tm_min=52, tm_sec=0, tm_wday=1, tm_yday=145, tm_isdst=0),\n",
       "   'summary': 'How hard could it have been for prehistoric Britons to move stones the size of dump trucks?',\n",
       "   'summary_detail': {'base': 'http://syndication.dp.discovery.com/rss/Discovery+News',\n",
       "    'language': None,\n",
       "    'type': 'text/html',\n",
       "    'value': 'How hard could it have been for prehistoric Britons to move stones the size of dump trucks?'},\n",
       "   'tags': [{'label': None, 'scheme': None, 'term': 'united kingdom'},\n",
       "    {'label': None, 'scheme': None, 'term': 'UK'},\n",
       "    {'label': None, 'scheme': None, 'term': 'Stonehenge'},\n",
       "    {'label': None, 'scheme': None, 'term': 'ancient humans'},\n",
       "    {'label': None, 'scheme': None, 'term': 'Ancient History'},\n",
       "    {'label': None, 'scheme': None, 'term': 'Ancient Civilizations'},\n",
       "    {'label': None, 'scheme': None, 'term': 'ancient'},\n",
       "    {'label': None, 'scheme': None, 'term': 'history'}],\n",
       "   'title': 'Stonehenge: Easier Done Than Said',\n",
       "   'title_detail': {'base': 'http://syndication.dp.discovery.com/rss/Discovery+News',\n",
       "    'language': None,\n",
       "    'type': 'text/plain',\n",
       "    'value': 'Stonehenge: Easier Done Than Said'}}],\n",
       " 'feed': {'image': {'href': 'http://static.ddmcdn.com/gif/discovery-news-logo.png',\n",
       "   'link': 'http://news.discovery.com/',\n",
       "   'links': [{'href': 'http://news.discovery.com/',\n",
       "     'rel': 'alternate',\n",
       "     'type': 'text/html'}],\n",
       "   'title': 'Discovery News',\n",
       "   'title_detail': {'base': 'http://syndication.dp.discovery.com/rss/Discovery+News',\n",
       "    'language': None,\n",
       "    'type': 'text/plain',\n",
       "    'value': 'Discovery News'}},\n",
       "  'link': 'http://news.discovery.com/',\n",
       "  'links': [{'href': 'http://syndication.dp.discovery.com/rss/Discovery+News',\n",
       "    'rel': 'self',\n",
       "    'type': 'application/rss+xml'},\n",
       "   {'href': 'http://news.discovery.com/',\n",
       "    'rel': 'alternate',\n",
       "    'type': 'text/html'}],\n",
       "  'published': 'Tue, 09 Jan 2018 04:08:24 -0500',\n",
       "  'published_parsed': time.struct_time(tm_year=2018, tm_mon=1, tm_mday=9, tm_hour=9, tm_min=8, tm_sec=24, tm_wday=1, tm_yday=9, tm_isdst=0),\n",
       "  'rights': 'Copyright 2018, Discovery Communications Inc.',\n",
       "  'rights_detail': {'base': 'http://syndication.dp.discovery.com/rss/Discovery+News',\n",
       "   'language': None,\n",
       "   'type': 'text/plain',\n",
       "   'value': 'Copyright 2018, Discovery Communications Inc.'},\n",
       "  'subtitle': \"Discovery News digs deep into our world's mysteries. Join us to explore current events and uncover the science behind the headlines. We Dig. You Discover.\",\n",
       "  'subtitle_detail': {'base': 'http://syndication.dp.discovery.com/rss/Discovery+News',\n",
       "   'language': None,\n",
       "   'type': 'text/html',\n",
       "   'value': \"Discovery News digs deep into our world's mysteries. Join us to explore current events and uncover the science behind the headlines. We Dig. You Discover.\"},\n",
       "  'title': 'Discovery News',\n",
       "  'title_detail': {'base': 'http://syndication.dp.discovery.com/rss/Discovery+News',\n",
       "   'language': None,\n",
       "   'type': 'text/plain',\n",
       "   'value': 'Discovery News'},\n",
       "  'ttl': '1440',\n",
       "  'updated': 'Tue, 09 Jan 2018 04:08:24 -0500',\n",
       "  'updated_parsed': time.struct_time(tm_year=2018, tm_mon=1, tm_mday=9, tm_hour=9, tm_min=8, tm_sec=24, tm_wday=1, tm_yday=9, tm_isdst=0)},\n",
       " 'headers': {'Age': '0',\n",
       "  'Connection': 'close',\n",
       "  'Content-Encoding': 'gzip',\n",
       "  'Content-Type': 'application/xml',\n",
       "  'Date': 'Tue, 09 Jan 2018 09:08:24 GMT',\n",
       "  'Server': 'ATS',\n",
       "  'Set-Cookie': 'AWSALB=LGJXrVMfOOq3iRSgKZFYR+FgVvAYsOMD3hMgUpGP9sFnWuOfjmrLOIr8Uen8rF9DXg+DWVJDBLI9uWksQCqufTj2i6YkevoVOv6NWxZBL+KllVy0XIrQ5l5mYDLg; Expires=Tue, 16 Jan 2018 09:08:24 GMT; Path=/',\n",
       "  'Transfer-Encoding': 'chunked',\n",
       "  'Vary': 'Accept-Encoding'},\n",
       " 'href': 'http://syndication.dp.discovery.com/rss/Discovery+News',\n",
       " 'namespaces': {'': 'http://www.w3.org/2005/Atom'},\n",
       " 'status': 200,\n",
       " 'version': 'rss20'}"
      ]
     },
     "execution_count": 78,
     "metadata": {},
     "output_type": "execute_result"
    }
   ],
   "source": [
    "f"
   ]
  },
  {
   "cell_type": "markdown",
   "metadata": {
    "collapsed": true
   },
   "source": [
    "经过解析后的xml代码和之前有什么区别呢？我在这里贴一些节选\n",
    "\n",
    "　　解析前的RSS源是这样的："
   ]
  },
  {
   "attachments": {
    "%E5%9B%BE%E7%89%87.png": {
     "image/png": "[encoded data removed]"
    }
   },
   "cell_type": "markdown",
   "metadata": {},
   "source": [
    "![%E5%9B%BE%E7%89%87.png](attachment:%E5%9B%BE%E7%89%87.png)"
   ]
  },
  {
   "cell_type": "markdown",
   "metadata": {},
   "source": [
    "解释之后就是一个FeedParser字典，f.entries为一个列表，包含数据的每一块。输出如下"
   ]
  },
  {
   "cell_type": "code",
   "execution_count": 79,
   "metadata": {},
   "outputs": [
    {
     "name": "stdout",
     "output_type": "stream",
     "text": [
      "[{'title': 'DNA Captured From 2,500-Year-Old Phoenician', 'title_detail': {'type': 'text/plain', 'language': None, 'base': 'http://syndication.dp.discovery.com/rss/Discovery+News', 'value': 'DNA Captured From 2,500-Year-Old Phoenician'}, 'summary': 'Analysis of the ancient man&#039;s DNA reveal he had European ancestry.', 'summary_detail': {'type': 'text/html', 'language': None, 'base': 'http://syndication.dp.discovery.com/rss/Discovery+News', 'value': 'Analysis of the ancient man&#039;s DNA reveal he had European ancestry.'}, 'links': [{'rel': 'alternate', 'type': 'text/html', 'href': 'http://news.discovery.com/history/archaeology/dna-obtained-from-2500-year-old-phoenician-160525.htm#mkcpgn=rssnws1'}], 'link': 'http://news.discovery.com/history/archaeology/dna-obtained-from-2500-year-old-phoenician-160525.htm#mkcpgn=rssnws1', 'id': 'f63ece25-fdb0-6110-df8b-487e387bea83', 'guidislink': False, 'authors': [{'name': 'Rossella Lorenzi', 'email': 'Rossella_Lorenzi@discovery.com'}], 'author': 'Rossella_Lorenzi@discovery.com (Rossella Lorenzi)', 'author_detail': {'name': 'Rossella Lorenzi', 'email': 'Rossella_Lorenzi@discovery.com'}, 'tags': [{'term': 'mitochondria', 'scheme': None, 'label': None}, {'term': 'Human Migration', 'scheme': None, 'label': None}, {'term': 'Human Ancestors', 'scheme': None, 'label': None}, {'term': 'Genetics', 'scheme': None, 'label': None}, {'term': 'genetic', 'scheme': None, 'label': None}, {'term': 'gene', 'scheme': None, 'label': None}, {'term': 'evolution', 'scheme': None, 'label': None}, {'term': 'European History', 'scheme': None, 'label': None}, {'term': 'DNA', 'scheme': None, 'label': None}, {'term': 'Current Events', 'scheme': None, 'label': None}, {'term': 'Ancient Rome', 'scheme': None, 'label': None}, {'term': 'history', 'scheme': None, 'label': None}], 'published': 'Wed, 25 May 2016 14:00:00 -0400', 'published_parsed': time.struct_time(tm_year=2016, tm_mon=5, tm_mday=25, tm_hour=18, tm_min=0, tm_sec=0, tm_wday=2, tm_yday=146, tm_isdst=0)}, {'title': 'Could Clay Help Attack Superbugs?', 'title_detail': {'type': 'text/plain', 'language': None, 'base': 'http://syndication.dp.discovery.com/rss/Discovery+News', 'value': 'Could Clay Help Attack Superbugs?'}, 'summary': 'The ancient remedy could provide a new weapon against microbes Continue reading →', 'summary_detail': {'type': 'text/html', 'language': None, 'base': 'http://syndication.dp.discovery.com/rss/Discovery+News', 'value': 'The ancient remedy could provide a new weapon against microbes Continue reading →'}, 'links': [{'rel': 'alternate', 'type': 'text/html', 'href': 'http://news.discovery.com/earth/could-clay-help-attack-superbugs-160525.htm#mkcpgn=rssnws1'}], 'link': 'http://news.discovery.com/earth/could-clay-help-attack-superbugs-160525.htm#mkcpgn=rssnws1', 'id': '1092533b-8f93-6a58-89a6-0ba6fa618332', 'guidislink': False, 'authors': [{'name': 'Patrick J. Kiger', 'email': 'Patrick_J._Kiger@discovery.com'}], 'author': 'Patrick_J._Kiger@discovery.com (Patrick J. Kiger)', 'author_detail': {'name': 'Patrick J. Kiger', 'email': 'Patrick_J._Kiger@discovery.com'}, 'tags': [{'term': 'Pathogens', 'scheme': None, 'label': None}, {'term': 'Medicine', 'scheme': None, 'label': None}, {'term': 'Health', 'scheme': None, 'label': None}, {'term': 'Bugs', 'scheme': None, 'label': None}, {'term': 'bacteria', 'scheme': None, 'label': None}, {'term': 'Earth', 'scheme': None, 'label': None}], 'published': 'Wed, 25 May 2016 13:08:00 -0400', 'published_parsed': time.struct_time(tm_year=2016, tm_mon=5, tm_mday=25, tm_hour=17, tm_min=8, tm_sec=0, tm_wday=2, tm_yday=146, tm_isdst=0)}, {'title': 'Penguin Chicks Hatched Using Artificial Insemination', 'title_detail': {'type': 'text/plain', 'language': None, 'base': 'http://syndication.dp.discovery.com/rss/Discovery+News', 'value': 'Penguin Chicks Hatched Using Artificial Insemination'}, 'summary': 'A Japanese aquarium said it had hatched two Humboldt penguin chicks, the first time the technique has been successfully deployed for the species.', 'summary_detail': {'type': 'text/html', 'language': None, 'base': 'http://syndication.dp.discovery.com/rss/Discovery+News', 'value': 'A Japanese aquarium said it had hatched two Humboldt penguin chicks, the first time the technique has been successfully deployed for the species.'}, 'links': [{'rel': 'alternate', 'type': 'text/html', 'href': 'http://news.discovery.com/animals/penguin-chicks-hatched-using-artificial-insemination-160525.htm#mkcpgn=rssnws1'}], 'link': 'http://news.discovery.com/animals/penguin-chicks-hatched-using-artificial-insemination-160525.htm#mkcpgn=rssnws1', 'id': '034c23c7-c6a8-3062-4b33-ace8432285b2', 'guidislink': False, 'authors': [{'name': 'AFP', 'email': 'AFP@discovery.com'}], 'author': 'AFP@discovery.com (AFP)', 'author_detail': {'name': 'AFP', 'email': 'AFP@discovery.com'}, 'tags': [{'term': 'penguins', 'scheme': None, 'label': None}, {'term': 'Japan', 'scheme': None, 'label': None}, {'term': 'Humboldt penguins', 'scheme': None, 'label': None}, {'term': 'breeding', 'scheme': None, 'label': None}, {'term': 'artificial insemination', 'scheme': None, 'label': None}, {'term': 'Animal Breeding', 'scheme': None, 'label': None}], 'published': 'Wed, 25 May 2016 13:05:00 -0400', 'published_parsed': time.struct_time(tm_year=2016, tm_mon=5, tm_mday=25, tm_hour=17, tm_min=5, tm_sec=0, tm_wday=2, tm_yday=146, tm_isdst=0)}, {'title': 'Elaborate Neanderthal Structure Found', 'title_detail': {'type': 'text/plain', 'language': None, 'base': 'http://syndication.dp.discovery.com/rss/Discovery+News', 'value': 'Elaborate Neanderthal Structure Found'}, 'summary': 'Neanderthals built some of the world&#039;s earliest constructions, which were just found deep in a French cave.', 'summary_detail': {'type': 'text/html', 'language': None, 'base': 'http://syndication.dp.discovery.com/rss/Discovery+News', 'value': 'Neanderthals built some of the world&#039;s earliest constructions, which were just found deep in a French cave.'}, 'links': [{'rel': 'alternate', 'type': 'text/html', 'href': 'http://news.discovery.com/human/evolution/elaborate-neanderthal-structure-found-160525.htm#mkcpgn=rssnws1'}], 'link': 'http://news.discovery.com/human/evolution/elaborate-neanderthal-structure-found-160525.htm#mkcpgn=rssnws1', 'id': '5bf85d96-1695-81ed-0fd2-5aa0c9a500bc', 'guidislink': False, 'authors': [{'name': 'Jennifer Viegas', 'email': 'Jennifer_Viegas@discovery.com'}], 'author': 'Jennifer_Viegas@discovery.com (Jennifer Viegas)', 'author_detail': {'name': 'Jennifer Viegas', 'email': 'Jennifer_Viegas@discovery.com'}, 'tags': [{'term': 'Current Events', 'scheme': None, 'label': None}, {'term': 'evolution', 'scheme': None, 'label': None}, {'term': 'Anthropology', 'scheme': None, 'label': None}, {'term': 'early man', 'scheme': None, 'label': None}, {'term': 'Early Humans', 'scheme': None, 'label': None}, {'term': 'Human Migration', 'scheme': None, 'label': None}, {'term': 'human evolution', 'scheme': None, 'label': None}, {'term': 'Human Ancestors', 'scheme': None, 'label': None}, {'term': 'neanderthal', 'scheme': None, 'label': None}], 'published': 'Wed, 25 May 2016 13:00:00 -0400', 'published_parsed': time.struct_time(tm_year=2016, tm_mon=5, tm_mday=25, tm_hour=17, tm_min=0, tm_sec=0, tm_wday=2, tm_yday=146, tm_isdst=0)}, {'title': 'Could MacBooks Come with Cellular Service?', 'title_detail': {'type': 'text/plain', 'language': None, 'base': 'http://syndication.dp.discovery.com/rss/Discovery+News', 'value': 'Could MacBooks Come with Cellular Service?'}, 'summary': 'Adding 4G service to the laptop would making getting online easier, especially when Wi-Fi connection was spotty.', 'summary_detail': {'type': 'text/html', 'language': None, 'base': 'http://syndication.dp.discovery.com/rss/Discovery+News', 'value': 'Adding 4G service to the laptop would making getting online easier, especially when Wi-Fi connection was spotty.'}, 'links': [{'rel': 'alternate', 'type': 'text/html', 'href': 'http://news.discovery.com/tech/gear-and-gadgets/could-macbooks-come-with-cellular-service-160525.htm#mkcpgn=rssnws1'}], 'link': 'http://news.discovery.com/tech/gear-and-gadgets/could-macbooks-come-with-cellular-service-160525.htm#mkcpgn=rssnws1', 'id': '5037b19f-41c8-6b80-30ca-a95d94f02c4f', 'guidislink': False, 'authors': [{'name': 'Tracy Staedter', 'email': 'Tracy_Staedter@discovery.com'}], 'author': 'Tracy_Staedter@discovery.com (Tracy Staedter)', 'author_detail': {'name': 'Tracy Staedter', 'email': 'Tracy_Staedter@discovery.com'}, 'tags': [{'term': 'WiFI', 'scheme': None, 'label': None}, {'term': 'macbooks', 'scheme': None, 'label': None}, {'term': 'laptops', 'scheme': None, 'label': None}, {'term': 'Apple', 'scheme': None, 'label': None}, {'term': '4G', 'scheme': None, 'label': None}, {'term': 'Tech', 'scheme': None, 'label': None}], 'published': 'Wed, 25 May 2016 12:50:00 -0400', 'published_parsed': time.struct_time(tm_year=2016, tm_mon=5, tm_mday=25, tm_hour=16, tm_min=50, tm_sec=0, tm_wday=2, tm_yday=146, tm_isdst=0)}, {'title': 'Huge Tsunamis May Have Ravaged Ancient Mars', 'title_detail': {'type': 'text/plain', 'language': None, 'base': 'http://syndication.dp.discovery.com/rss/Discovery+News', 'value': 'Huge Tsunamis May Have Ravaged Ancient Mars'}, 'summary': 'When Mars was a wet world, did its oceans experience powerful tsunamis spawned by meteorite impacts?', 'summary_detail': {'type': 'text/html', 'language': None, 'base': 'http://syndication.dp.discovery.com/rss/Discovery+News', 'value': 'When Mars was a wet world, did its oceans experience powerful tsunamis spawned by meteorite impacts?'}, 'links': [{'rel': 'alternate', 'type': 'text/html', 'href': 'http://news.discovery.com/space/huge-tsunamis-may-have-ravaged-ancient-mars-160525.htm#mkcpgn=rssnws1'}], 'link': 'http://news.discovery.com/space/huge-tsunamis-may-have-ravaged-ancient-mars-160525.htm#mkcpgn=rssnws1', 'id': 'd4ccc1c6-0fe0-6b77-14f7-7e35e6c8b906', 'guidislink': False, 'authors': [{'name': 'Elizabeth Howell', 'email': 'Elizabeth_Howell@discovery.com'}], 'author': 'Elizabeth_Howell@discovery.com (Elizabeth Howell)', 'author_detail': {'name': 'Elizabeth Howell', 'email': 'Elizabeth_Howell@discovery.com'}, 'tags': [{'term': 'water', 'scheme': None, 'label': None}, {'term': 'Tsunamis', 'scheme': None, 'label': None}, {'term': 'Tsunami', 'scheme': None, 'label': None}, {'term': 'Satellites', 'scheme': None, 'label': None}, {'term': 'red planet', 'scheme': None, 'label': None}, {'term': 'Mars Water', 'scheme': None, 'label': None}, {'term': 'Mars', 'scheme': None, 'label': None}, {'term': 'Current Events', 'scheme': None, 'label': None}, {'term': 'ancient mars', 'scheme': None, 'label': None}, {'term': 'Space', 'scheme': None, 'label': None}], 'published': 'Wed, 25 May 2016 11:51:00 -0400', 'published_parsed': time.struct_time(tm_year=2016, tm_mon=5, tm_mday=25, tm_hour=15, tm_min=51, tm_sec=0, tm_wday=2, tm_yday=146, tm_isdst=0)}, {'title': 'Snub-Nosed Dogs More Affectionate, Better Guard Dogs', 'title_detail': {'type': 'text/plain', 'language': None, 'base': 'http://syndication.dp.discovery.com/rss/Discovery+News', 'value': 'Snub-Nosed Dogs More Affectionate, Better Guard Dogs'}, 'summary': 'New research may help explain the growing obsession in some countries with short-nosed dogs.', 'summary_detail': {'type': 'text/html', 'language': None, 'base': 'http://syndication.dp.discovery.com/rss/Discovery+News', 'value': 'New research may help explain the growing obsession in some countries with short-nosed dogs.'}, 'links': [{'rel': 'alternate', 'type': 'text/html', 'href': 'http://news.discovery.com/animals/pets/snub-nosed-dogs-more-affectionate-better-guard-dogs-160525.htm#mkcpgn=rssnws1'}], 'link': 'http://news.discovery.com/animals/pets/snub-nosed-dogs-more-affectionate-better-guard-dogs-160525.htm#mkcpgn=rssnws1', 'id': 'b8fd2f0e-1460-cf70-a1a0-4b422bc36b7c', 'guidislink': False, 'authors': [{'name': 'Anna Salleh, ABC Science Online', 'email': 'Anna_Salleh__ABC_Science_Online@discovery.com'}], 'author': 'Anna_Salleh__ABC_Science_Online@discovery.com (Anna Salleh, ABC Science Online)', 'author_detail': {'name': 'Anna Salleh, ABC Science Online', 'email': 'Anna_Salleh__ABC_Science_Online@discovery.com'}, 'tags': [{'term': 'pets', 'scheme': None, 'label': None}, {'term': 'guard dogs', 'scheme': None, 'label': None}, {'term': 'Dogs', 'scheme': None, 'label': None}, {'term': 'Dog Breeds', 'scheme': None, 'label': None}, {'term': 'breeds', 'scheme': None, 'label': None}], 'published': 'Wed, 25 May 2016 09:40:00 -0400', 'published_parsed': time.struct_time(tm_year=2016, tm_mon=5, tm_mday=25, tm_hour=13, tm_min=40, tm_sec=0, tm_wday=2, tm_yday=146, tm_isdst=0)}, {'title': 'DNews: The Dreaded Turbulence: What Makes Flights Bumpy', 'title_detail': {'type': 'text/plain', 'language': None, 'base': 'http://syndication.dp.discovery.com/rss/Discovery+News', 'value': 'DNews: The Dreaded Turbulence: What Makes Flights Bumpy'}, 'summary': 'Most of us probably breathe a sigh of relief when the captain promises &quot;a smooth ride&quot; to wherever we&#039;re flying. But, as DNews explains, turbulence is really no big deal.', 'summary_detail': {'type': 'text/html', 'language': None, 'base': 'http://syndication.dp.discovery.com/rss/Discovery+News', 'value': 'Most of us probably breathe a sigh of relief when the captain promises &quot;a smooth ride&quot; to wherever we&#039;re flying. But, as DNews explains, turbulence is really no big deal.'}, 'links': [{'rel': 'alternate', 'type': 'text/html', 'href': 'http://news.discovery.com/earth/videos/the-dreaded-turbulence-what-makes-flights-bumpy-video-160525.htm#mkcpgn=rssnws1'}], 'link': 'http://news.discovery.com/earth/videos/the-dreaded-turbulence-what-makes-flights-bumpy-video-160525.htm#mkcpgn=rssnws1', 'id': 'b0aad309-1fab-dae5-42da-c1c44bfd10ed', 'guidislink': False, 'tags': [{'term': 'airplanes', 'scheme': None, 'label': None}, {'term': 'airlines', 'scheme': None, 'label': None}, {'term': 'turbulence', 'scheme': None, 'label': None}, {'term': 'currents', 'scheme': None, 'label': None}, {'term': 'Jet Streams', 'scheme': None, 'label': None}, {'term': 'air', 'scheme': None, 'label': None}, {'term': 'Travel', 'scheme': None, 'label': None}, {'term': 'fears', 'scheme': None, 'label': None}, {'term': 'emotions', 'scheme': None, 'label': None}], 'published': 'Wed, 25 May 2016 04:37:49 -0400', 'published_parsed': time.struct_time(tm_year=2016, tm_mon=5, tm_mday=25, tm_hour=8, tm_min=37, tm_sec=49, tm_wday=2, tm_yday=146, tm_isdst=0)}, {'title': 'Stress and Depression Seen in Farmed Salmon', 'title_detail': {'type': 'text/plain', 'language': None, 'base': 'http://syndication.dp.discovery.com/rss/Discovery+News', 'value': 'Stress and Depression Seen in Farmed Salmon'}, 'summary': 'Farmed Atlantic salmon often suffer from such high levels of stress and depression that many become lethargic and essentially give up on life, finds new research.', 'summary_detail': {'type': 'text/html', 'language': None, 'base': 'http://syndication.dp.discovery.com/rss/Discovery+News', 'value': 'Farmed Atlantic salmon often suffer from such high levels of stress and depression that many become lethargic and essentially give up on life, finds new research.'}, 'links': [{'rel': 'alternate', 'type': 'text/html', 'href': 'http://news.discovery.com/animals/stress-and-depression-seen-in-farmed-salmon-160824.htm#mkcpgn=rssnws1'}], 'link': 'http://news.discovery.com/animals/stress-and-depression-seen-in-farmed-salmon-160824.htm#mkcpgn=rssnws1', 'id': '24b7142e-a0a9-8e41-402e-0eaf7ef73aba', 'guidislink': False, 'authors': [{'name': 'Jennifer Viegas', 'email': 'Jennifer_Viegas@discovery.com'}], 'author': 'Jennifer_Viegas@discovery.com (Jennifer Viegas)', 'author_detail': {'name': 'Jennifer Viegas', 'email': 'Jennifer_Viegas@discovery.com'}, 'tags': [{'term': 'Depression', 'scheme': None, 'label': None}, {'term': 'Marine Life', 'scheme': None, 'label': None}, {'term': 'sea life', 'scheme': None, 'label': None}, {'term': 'Fishing', 'scheme': None, 'label': None}, {'term': 'Fish', 'scheme': None, 'label': None}], 'published': 'Tue, 24 May 2016 19:01:00 -0400', 'published_parsed': time.struct_time(tm_year=2016, tm_mon=5, tm_mday=24, tm_hour=23, tm_min=1, tm_sec=0, tm_wday=1, tm_yday=145, tm_isdst=0)}, {'title': 'Collapsing Cosmic Clouds Birth Black Hole Monsters', 'title_detail': {'type': 'text/plain', 'language': None, 'base': 'http://syndication.dp.discovery.com/rss/Discovery+News', 'value': 'Collapsing Cosmic Clouds Birth Black Hole Monsters'}, 'summary': 'Supermassive black holes occupy all known galaxies, but astronomers have little idea how they formed. Now space telescopes have found a clue.', 'summary_detail': {'type': 'text/html', 'language': None, 'base': 'http://syndication.dp.discovery.com/rss/Discovery+News', 'value': 'Supermassive black holes occupy all known galaxies, but astronomers have little idea how they formed. Now space telescopes have found a clue.'}, 'links': [{'rel': 'alternate', 'type': 'text/html', 'href': 'http://news.discovery.com/space/astronomy/collapsing-cosmic-clouds-seed-black-hole-monsters-160524.htm#mkcpgn=rssnws1'}], 'link': 'http://news.discovery.com/space/astronomy/collapsing-cosmic-clouds-seed-black-hole-monsters-160524.htm#mkcpgn=rssnws1', 'id': '15b84126-2c82-ef5c-38bd-bd33813cb07d', 'guidislink': False, 'authors': [{'name': 'Irene Klotz', 'email': 'Irene_Klotz@discovery.com'}], 'author': 'Irene_Klotz@discovery.com (Irene Klotz)', 'author_detail': {'name': 'Irene Klotz', 'email': 'Irene_Klotz@discovery.com'}, 'tags': [{'term': 'supermassive black holes', 'scheme': None, 'label': None}, {'term': 'Spitzer Space Telescope', 'scheme': None, 'label': None}, {'term': 'Hubble Space Telescope', 'scheme': None, 'label': None}, {'term': 'hubble', 'scheme': None, 'label': None}, {'term': 'galaxies', 'scheme': None, 'label': None}, {'term': 'Current Events', 'scheme': None, 'label': None}, {'term': 'Chandra X-Ray Observatory', 'scheme': None, 'label': None}, {'term': 'Black Hole', 'scheme': None, 'label': None}, {'term': 'Space', 'scheme': None, 'label': None}], 'published': 'Tue, 24 May 2016 18:57:00 -0400', 'published_parsed': time.struct_time(tm_year=2016, tm_mon=5, tm_mday=24, tm_hour=22, tm_min=57, tm_sec=0, tm_wday=1, tm_yday=145, tm_isdst=0)}, {'title': \"Why Antarctic Sea Ice Isn't Shrinking\", 'title_detail': {'type': 'text/plain', 'language': None, 'base': 'http://syndication.dp.discovery.com/rss/Discovery+News', 'value': \"Why Antarctic Sea Ice Isn't Shrinking\"}, 'summary': 'Winds, currents and seafloor features may be responsible for keeping Antarctica&#039;s sea ice intact.', 'summary_detail': {'type': 'text/html', 'language': None, 'base': 'http://syndication.dp.discovery.com/rss/Discovery+News', 'value': 'Winds, currents and seafloor features may be responsible for keeping Antarctica&#039;s sea ice intact.'}, 'links': [{'rel': 'alternate', 'type': 'text/html', 'href': 'http://news.discovery.com/earth/global-warming/why-antarctic-sea-ice-isnt-shrinking-160524.htm#mkcpgn=rssnws1'}], 'link': 'http://news.discovery.com/earth/global-warming/why-antarctic-sea-ice-isnt-shrinking-160524.htm#mkcpgn=rssnws1', 'id': '53c818a6-8ac3-02b9-06d4-fff0bfcb06f7', 'guidislink': False, 'authors': [{'name': 'Kieran Mulvaney', 'email': 'Kieran_Mulvaney@discovery.com'}], 'author': 'Kieran_Mulvaney@discovery.com (Kieran Mulvaney)', 'author_detail': {'name': 'Kieran Mulvaney', 'email': 'Kieran_Mulvaney@discovery.com'}, 'tags': [{'term': 'sea ice', 'scheme': None, 'label': None}, {'term': 'IPCC', 'scheme': None, 'label': None}, {'term': 'greenhouse gasses', 'scheme': None, 'label': None}, {'term': 'environment', 'scheme': None, 'label': None}, {'term': 'Earth', 'scheme': None, 'label': None}, {'term': 'Current Events', 'scheme': None, 'label': None}, {'term': 'Current Affairs', 'scheme': None, 'label': None}, {'term': 'Climate Change', 'scheme': None, 'label': None}, {'term': 'Antarctica', 'scheme': None, 'label': None}, {'term': 'antarctic', 'scheme': None, 'label': None}, {'term': 'Polar Regions', 'scheme': None, 'label': None}], 'published': 'Tue, 24 May 2016 16:53:00 -0400', 'published_parsed': time.struct_time(tm_year=2016, tm_mon=5, tm_mday=24, tm_hour=20, tm_min=53, tm_sec=0, tm_wday=1, tm_yday=145, tm_isdst=0)}, {'title': 'Google Cars to Be Coated with Human Flypaper?', 'title_detail': {'type': 'text/plain', 'language': None, 'base': 'http://syndication.dp.discovery.com/rss/Discovery+News', 'value': 'Google Cars to Be Coated with Human Flypaper?'}, 'summary': 'A patent application describes adhesive coating for reducing injuries in pedestrian accidents.', 'summary_detail': {'type': 'text/html', 'language': None, 'base': 'http://syndication.dp.discovery.com/rss/Discovery+News', 'value': 'A patent application describes adhesive coating for reducing injuries in pedestrian accidents.'}, 'links': [{'rel': 'alternate', 'type': 'text/html', 'href': 'http://news.discovery.com/tech/robotics/google-cars-to-be-coated-with-human-flypaper-160524.htm#mkcpgn=rssnws1'}], 'link': 'http://news.discovery.com/tech/robotics/google-cars-to-be-coated-with-human-flypaper-160524.htm#mkcpgn=rssnws1', 'id': 'da04a7f7-a110-d943-04f4-7a441c5053fd', 'guidislink': False, 'authors': [{'name': 'Glenn McDonald', 'email': 'Glenn_McDonald@discovery.com'}], 'author': 'Glenn_McDonald@discovery.com (Glenn McDonald)', 'author_detail': {'name': 'Glenn McDonald', 'email': 'Glenn_McDonald@discovery.com'}, 'tags': [{'term': 'Current Events', 'scheme': None, 'label': None}, {'term': 'patents', 'scheme': None, 'label': None}, {'term': 'self-driving', 'scheme': None, 'label': None}, {'term': 'self driving car', 'scheme': None, 'label': None}, {'term': 'Google Car', 'scheme': None, 'label': None}, {'term': 'Google', 'scheme': None, 'label': None}, {'term': 'Driving and Safety', 'scheme': None, 'label': None}, {'term': 'Autos', 'scheme': None, 'label': None}, {'term': 'autonomous vehicles', 'scheme': None, 'label': None}, {'term': 'Tech', 'scheme': None, 'label': None}], 'published': 'Tue, 24 May 2016 16:00:00 -0400', 'published_parsed': time.struct_time(tm_year=2016, tm_mon=5, tm_mday=24, tm_hour=20, tm_min=0, tm_sec=0, tm_wday=1, tm_yday=145, tm_isdst=0)}, {'title': 'Wearable Computer Teaches Dogs New Tricks', 'title_detail': {'type': 'text/plain', 'language': None, 'base': 'http://syndication.dp.discovery.com/rss/Discovery+News', 'value': 'Wearable Computer Teaches Dogs New Tricks'}, 'summary': 'Good boy! This custom dog harness consistently reinforces good behavior using sensors and a special algorithm.', 'summary_detail': {'type': 'text/html', 'language': None, 'base': 'http://syndication.dp.discovery.com/rss/Discovery+News', 'value': 'Good boy! This custom dog harness consistently reinforces good behavior using sensors and a special algorithm.'}, 'links': [{'rel': 'alternate', 'type': 'text/html', 'href': 'http://news.discovery.com/tech/robotics/wearable-computer-teaches-dogs-new-tricks-160524.htm#mkcpgn=rssnws1'}], 'link': 'http://news.discovery.com/tech/robotics/wearable-computer-teaches-dogs-new-tricks-160524.htm#mkcpgn=rssnws1', 'id': '400cfd62-a215-8354-0d35-4fd793e6970c', 'guidislink': False, 'authors': [{'name': 'Alyssa Danigelis', 'email': 'Alyssa_Danigelis@discovery.com'}], 'author': 'Alyssa_Danigelis@discovery.com (Alyssa Danigelis)', 'author_detail': {'name': 'Alyssa Danigelis', 'email': 'Alyssa_Danigelis@discovery.com'}, 'tags': [{'term': 'wearable electronics', 'scheme': None, 'label': None}, {'term': 'Wearable Computers', 'scheme': None, 'label': None}, {'term': 'wearable computer', 'scheme': None, 'label': None}, {'term': 'wearable', 'scheme': None, 'label': None}, {'term': 'Dogs', 'scheme': None, 'label': None}, {'term': 'dog', 'scheme': None, 'label': None}, {'term': 'canine', 'scheme': None, 'label': None}, {'term': 'Tech', 'scheme': None, 'label': None}], 'published': 'Tue, 24 May 2016 15:00:00 -0400', 'published_parsed': time.struct_time(tm_year=2016, tm_mon=5, tm_mday=24, tm_hour=19, tm_min=0, tm_sec=0, tm_wday=1, tm_yday=145, tm_isdst=0)}, {'title': 'Mystery Plumes: Did the Sun Bruise Mars?', 'title_detail': {'type': 'text/plain', 'language': None, 'base': 'http://syndication.dp.discovery.com/rss/Discovery+News', 'value': 'Mystery Plumes: Did the Sun Bruise Mars?'}, 'summary': 'Strange plumes have been spotted high in the Martian atmosphere that have, so far, defied explanation. Now scientists think space weather is to blame.', 'summary_detail': {'type': 'text/html', 'language': None, 'base': 'http://syndication.dp.discovery.com/rss/Discovery+News', 'value': 'Strange plumes have been spotted high in the Martian atmosphere that have, so far, defied explanation. Now scientists think space weather is to blame.'}, 'links': [{'rel': 'alternate', 'type': 'text/html', 'href': 'http://news.discovery.com/space/mystery-plumes-did-the-sun-bruise-mars-160524.htm#mkcpgn=rssnws1'}], 'link': 'http://news.discovery.com/space/mystery-plumes-did-the-sun-bruise-mars-160524.htm#mkcpgn=rssnws1', 'id': 'ae909ae1-0753-3d16-f595-cf0aa21b8f76', 'guidislink': False, 'authors': [{'name': \"Ian_O' (Ian O'Neill\", 'email': 'Neill@discovery.com'}], 'author': \"Ian_O'Neill@discovery.com (Ian O'Neill)\", 'author_detail': {'name': \"Ian_O' (Ian O'Neill\", 'email': 'Neill@discovery.com'}, 'tags': [{'term': 'Mystery', 'scheme': None, 'label': None}, {'term': 'Mars Mission', 'scheme': None, 'label': None}, {'term': 'Mars Express', 'scheme': None, 'label': None}, {'term': 'Mars', 'scheme': None, 'label': None}, {'term': 'hubble', 'scheme': None, 'label': None}, {'term': 'Current Events', 'scheme': None, 'label': None}, {'term': 'coronal mass ejections', 'scheme': None, 'label': None}, {'term': 'cme', 'scheme': None, 'label': None}, {'term': 'atmospheres', 'scheme': None, 'label': None}, {'term': 'Atmosphere', 'scheme': None, 'label': None}, {'term': 'Amateur Astronomy', 'scheme': None, 'label': None}, {'term': 'Space', 'scheme': None, 'label': None}], 'published': 'Tue, 24 May 2016 13:45:00 -0400', 'published_parsed': time.struct_time(tm_year=2016, tm_mon=5, tm_mday=24, tm_hour=17, tm_min=45, tm_sec=0, tm_wday=1, tm_yday=145, tm_isdst=0)}, {'title': 'Mummy of Egyptian Noblewoman Found', 'title_detail': {'type': 'text/plain', 'language': None, 'base': 'http://syndication.dp.discovery.com/rss/Discovery+News', 'value': 'Mummy of Egyptian Noblewoman Found'}, 'summary': 'The 3,800-year-old mummy belonged to Lady Sattjeni, a leading figure from the Middle Kingdom.', 'summary_detail': {'type': 'text/html', 'language': None, 'base': 'http://syndication.dp.discovery.com/rss/Discovery+News', 'value': 'The 3,800-year-old mummy belonged to Lady Sattjeni, a leading figure from the Middle Kingdom.'}, 'links': [{'rel': 'alternate', 'type': 'text/html', 'href': 'http://news.discovery.com/history/archaeology/mummy-of-egyptian-noblewoman-found-160524.htm#mkcpgn=rssnws1'}], 'link': 'http://news.discovery.com/history/archaeology/mummy-of-egyptian-noblewoman-found-160524.htm#mkcpgn=rssnws1', 'id': '2962b065-5f5e-2d19-c4b3-73961de3be86', 'guidislink': False, 'authors': [{'name': 'Rossella Lorenzi', 'email': 'Rossella_Lorenzi@discovery.com'}], 'author': 'Rossella_Lorenzi@discovery.com (Rossella Lorenzi)', 'author_detail': {'name': 'Rossella Lorenzi', 'email': 'Rossella_Lorenzi@discovery.com'}, 'tags': [{'term': 'royals', 'scheme': None, 'label': None}, {'term': 'mummy', 'scheme': None, 'label': None}, {'term': 'mummies', 'scheme': None, 'label': None}, {'term': 'kings and rulers', 'scheme': None, 'label': None}, {'term': 'Current Events', 'scheme': None, 'label': None}, {'term': 'history', 'scheme': None, 'label': None}, {'term': 'Ancient Egypt', 'scheme': None, 'label': None}], 'published': 'Tue, 24 May 2016 10:43:00 -0400', 'published_parsed': time.struct_time(tm_year=2016, tm_mon=5, tm_mday=24, tm_hour=14, tm_min=43, tm_sec=0, tm_wday=1, tm_yday=145, tm_isdst=0)}, {'title': 'iPhone 2017 Will Have the Screen You Want', 'title_detail': {'type': 'text/plain', 'language': None, 'base': 'http://syndication.dp.discovery.com/rss/Discovery+News', 'value': 'iPhone 2017 Will Have the Screen You Want'}, 'summary': 'According to a new report, Apple is jumping on the bandwagon with an OLED screen.', 'summary_detail': {'type': 'text/html', 'language': None, 'base': 'http://syndication.dp.discovery.com/rss/Discovery+News', 'value': 'According to a new report, Apple is jumping on the bandwagon with an OLED screen.'}, 'links': [{'rel': 'alternate', 'type': 'text/html', 'href': 'http://news.discovery.com/tech/gear-and-gadgets/iphone-2017-will-have-the-screen-you-want-160524.htm#mkcpgn=rssnws1'}], 'link': 'http://news.discovery.com/tech/gear-and-gadgets/iphone-2017-will-have-the-screen-you-want-160524.htm#mkcpgn=rssnws1', 'id': 'a3af8f43-9839-7fde-819a-0119e2727a2b', 'guidislink': False, 'authors': [{'name': 'Mark Spoonauer, Toms Guide', 'email': 'Mark_Spoonauer__Toms_Guide@discovery.com'}], 'author': 'Mark_Spoonauer__Toms_Guide@discovery.com (Mark Spoonauer, Toms Guide)', 'author_detail': {'name': 'Mark Spoonauer, Toms Guide', 'email': 'Mark_Spoonauer__Toms_Guide@discovery.com'}, 'tags': [{'term': 'Current Events', 'scheme': None, 'label': None}, {'term': 'smartphones', 'scheme': None, 'label': None}, {'term': 'Apple', 'scheme': None, 'label': None}, {'term': 'iphone 7', 'scheme': None, 'label': None}, {'term': 'iPhone', 'scheme': None, 'label': None}], 'published': 'Tue, 24 May 2016 10:30:00 -0400', 'published_parsed': time.struct_time(tm_year=2016, tm_mon=5, tm_mday=24, tm_hour=14, tm_min=30, tm_sec=0, tm_wday=1, tm_yday=145, tm_isdst=0)}, {'title': \"Loss of Y Chromosome Linked to Alzheimer's\", 'title_detail': {'type': 'text/plain', 'language': None, 'base': 'http://syndication.dp.discovery.com/rss/Discovery+News', 'value': \"Loss of Y Chromosome Linked to Alzheimer's\"}, 'summary': 'About one in five men over age 80 lose the Y chromosome, and the condition has now been linked to an increased risk of Alzheimer’s.', 'summary_detail': {'type': 'text/html', 'language': None, 'base': 'http://syndication.dp.discovery.com/rss/Discovery+News', 'value': 'About one in five men over age 80 lose the Y chromosome, and the condition has now been linked to an increased risk of Alzheimer’s.'}, 'links': [{'rel': 'alternate', 'type': 'text/html', 'href': 'http://news.discovery.com/human/health/loss-of-y-chromosome-linked-to-alzheimers-160524.htm#mkcpgn=rssnws1'}], 'link': 'http://news.discovery.com/human/health/loss-of-y-chromosome-linked-to-alzheimers-160524.htm#mkcpgn=rssnws1', 'id': '5acf69e8-39bf-8b8c-7ea4-cc3d5e28b460', 'guidislink': False, 'authors': [{'name': 'AFP', 'email': 'AFP@discovery.com'}], 'author': 'AFP@discovery.com (AFP)', 'author_detail': {'name': 'AFP', 'email': 'AFP@discovery.com'}, 'tags': [{'term': 'Y Chromosome', 'scheme': None, 'label': None}, {'term': 'sickness', 'scheme': None, 'label': None}, {'term': 'genes', 'scheme': None, 'label': None}, {'term': 'Disease', 'scheme': None, 'label': None}, {'term': 'chromosomes', 'scheme': None, 'label': None}, {'term': \"Alzheimer's Disease\", 'scheme': None, 'label': None}, {'term': \"Alzheimer's\", 'scheme': None, 'label': None}, {'term': 'Health', 'scheme': None, 'label': None}], 'published': 'Tue, 24 May 2016 10:29:00 -0400', 'published_parsed': time.struct_time(tm_year=2016, tm_mon=5, tm_mday=24, tm_hour=14, tm_min=29, tm_sec=0, tm_wday=1, tm_yday=145, tm_isdst=0)}, {'title': '5,000-Year-Old Beer Recipe Had Secret Ingredient', 'title_detail': {'type': 'text/plain', 'language': None, 'base': 'http://syndication.dp.discovery.com/rss/Discovery+News', 'value': '5,000-Year-Old Beer Recipe Had Secret Ingredient'}, 'summary': 'Analysis of ancient pottery jars and funnels found at a site in China&#039;s Shaanxi province reveal barley was a key ingredient.', 'summary_detail': {'type': 'text/html', 'language': None, 'base': 'http://syndication.dp.discovery.com/rss/Discovery+News', 'value': 'Analysis of ancient pottery jars and funnels found at a site in China&#039;s Shaanxi province reveal barley was a key ingredient.'}, 'links': [{'rel': 'alternate', 'type': 'text/html', 'href': 'http://news.discovery.com/history/5000-year-old-beer-recipe-had-secret-ingredient-160524.htm#mkcpgn=rssnws1'}], 'link': 'http://news.discovery.com/history/5000-year-old-beer-recipe-had-secret-ingredient-160524.htm#mkcpgn=rssnws1', 'id': '37ac26d2-760b-edb8-9ff1-82fcb4a0d5be', 'guidislink': False, 'authors': [{'name': 'Tom Metcalfe, Live Science', 'email': 'Tom_Metcalfe__Live_Science@discovery.com'}], 'author': 'Tom_Metcalfe__Live_Science@discovery.com (Tom Metcalfe, Live Science)', 'author_detail': {'name': 'Tom Metcalfe, Live Science', 'email': 'Tom_Metcalfe__Live_Science@discovery.com'}, 'tags': [{'term': 'Food', 'scheme': None, 'label': None}, {'term': 'China', 'scheme': None, 'label': None}, {'term': 'beer', 'scheme': None, 'label': None}, {'term': 'Ancient Civilizations', 'scheme': None, 'label': None}, {'term': 'ancient china', 'scheme': None, 'label': None}, {'term': 'alcohol', 'scheme': None, 'label': None}, {'term': 'history', 'scheme': None, 'label': None}], 'published': 'Tue, 24 May 2016 09:42:00 -0400', 'published_parsed': time.struct_time(tm_year=2016, tm_mon=5, tm_mday=24, tm_hour=13, tm_min=42, tm_sec=0, tm_wday=1, tm_yday=145, tm_isdst=0)}, {'title': 'Custom Earphones Double as Brainwave Monitors', 'title_detail': {'type': 'text/plain', 'language': None, 'base': 'http://syndication.dp.discovery.com/rss/Discovery+News', 'value': 'Custom Earphones Double as Brainwave Monitors'}, 'summary': 'Bluetooth device will combine multiple functions into 3D-printed casing designed to fit your particular skull.', 'summary_detail': {'type': 'text/html', 'language': None, 'base': 'http://syndication.dp.discovery.com/rss/Discovery+News', 'value': 'Bluetooth device will combine multiple functions into 3D-printed casing designed to fit your particular skull.'}, 'links': [{'rel': 'alternate', 'type': 'text/html', 'href': 'http://news.discovery.com/tech/gear-and-gadgets/custom-earphones-double-as-brainwave-monitors-160524.htm#mkcpgn=rssnws1'}], 'link': 'http://news.discovery.com/tech/gear-and-gadgets/custom-earphones-double-as-brainwave-monitors-160524.htm#mkcpgn=rssnws1', 'id': 'dabe8ac0-bdc7-94cf-fcbc-d2544ae5afe3', 'guidislink': False, 'authors': [{'name': 'Glenn McDonald', 'email': 'Glenn_McDonald@discovery.com'}], 'author': 'Glenn_McDonald@discovery.com (Glenn McDonald)', 'author_detail': {'name': 'Glenn McDonald', 'email': 'Glenn_McDonald@discovery.com'}, 'tags': [{'term': 'wearable electronics', 'scheme': None, 'label': None}, {'term': 'Wearable Computers', 'scheme': None, 'label': None}, {'term': 'wearable computer', 'scheme': None, 'label': None}, {'term': 'wearable', 'scheme': None, 'label': None}, {'term': 'brainwaves', 'scheme': None, 'label': None}, {'term': 'brains', 'scheme': None, 'label': None}, {'term': 'Brain-Computer Interface', 'scheme': None, 'label': None}, {'term': 'Brain Scan', 'scheme': None, 'label': None}, {'term': 'brain machine interfaces', 'scheme': None, 'label': None}, {'term': 'brain activity', 'scheme': None, 'label': None}, {'term': 'Brain', 'scheme': None, 'label': None}, {'term': 'Tech', 'scheme': None, 'label': None}], 'published': 'Tue, 24 May 2016 08:20:00 -0400', 'published_parsed': time.struct_time(tm_year=2016, tm_mon=5, tm_mday=24, tm_hour=12, tm_min=20, tm_sec=0, tm_wday=1, tm_yday=145, tm_isdst=0)}, {'title': 'Stonehenge: Easier Done Than Said', 'title_detail': {'type': 'text/plain', 'language': None, 'base': 'http://syndication.dp.discovery.com/rss/Discovery+News', 'value': 'Stonehenge: Easier Done Than Said'}, 'summary': 'How hard could it have been for prehistoric Britons to move stones the size of dump trucks?', 'summary_detail': {'type': 'text/html', 'language': None, 'base': 'http://syndication.dp.discovery.com/rss/Discovery+News', 'value': 'How hard could it have been for prehistoric Britons to move stones the size of dump trucks?'}, 'links': [{'rel': 'alternate', 'type': 'text/html', 'href': 'http://news.discovery.com/history/stonehenge-easier-done-than-said-160524.htm#mkcpgn=rssnws1'}], 'link': 'http://news.discovery.com/history/stonehenge-easier-done-than-said-160524.htm#mkcpgn=rssnws1', 'id': '6bff56b4-5ac9-00b2-5b85-85e8b92f1463', 'guidislink': False, 'authors': [{'name': 'Talal Al-Khatib', 'email': 'Talal_Al-Khatib@discovery.com'}], 'author': 'Talal_Al-Khatib@discovery.com (Talal Al-Khatib)', 'author_detail': {'name': 'Talal Al-Khatib', 'email': 'Talal_Al-Khatib@discovery.com'}, 'tags': [{'term': 'united kingdom', 'scheme': None, 'label': None}, {'term': 'UK', 'scheme': None, 'label': None}, {'term': 'Stonehenge', 'scheme': None, 'label': None}, {'term': 'ancient humans', 'scheme': None, 'label': None}, {'term': 'Ancient History', 'scheme': None, 'label': None}, {'term': 'Ancient Civilizations', 'scheme': None, 'label': None}, {'term': 'ancient', 'scheme': None, 'label': None}, {'term': 'history', 'scheme': None, 'label': None}], 'published': 'Tue, 24 May 2016 07:52:00 -0400', 'published_parsed': time.struct_time(tm_year=2016, tm_mon=5, tm_mday=24, tm_hour=11, tm_min=52, tm_sec=0, tm_wday=1, tm_yday=145, tm_isdst=0)}]\n"
     ]
    }
   ],
   "source": [
    "print(f.entries)"
   ]
  },
  {
   "cell_type": "markdown",
   "metadata": {},
   "source": [
    "然后我们遍历f.entries列表的每一项，得到一系列字典"
   ]
  },
  {
   "cell_type": "code",
   "execution_count": 80,
   "metadata": {},
   "outputs": [
    {
     "name": "stdout",
     "output_type": "stream",
     "text": [
      "{'title': 'DNA Captured From 2,500-Year-Old Phoenician', 'title_detail': {'type': 'text/plain', 'language': None, 'base': 'http://syndication.dp.discovery.com/rss/Discovery+News', 'value': 'DNA Captured From 2,500-Year-Old Phoenician'}, 'summary': 'Analysis of the ancient man&#039;s DNA reveal he had European ancestry.', 'summary_detail': {'type': 'text/html', 'language': None, 'base': 'http://syndication.dp.discovery.com/rss/Discovery+News', 'value': 'Analysis of the ancient man&#039;s DNA reveal he had European ancestry.'}, 'links': [{'rel': 'alternate', 'type': 'text/html', 'href': 'http://news.discovery.com/history/archaeology/dna-obtained-from-2500-year-old-phoenician-160525.htm#mkcpgn=rssnws1'}], 'link': 'http://news.discovery.com/history/archaeology/dna-obtained-from-2500-year-old-phoenician-160525.htm#mkcpgn=rssnws1', 'id': 'f63ece25-fdb0-6110-df8b-487e387bea83', 'guidislink': False, 'authors': [{'name': 'Rossella Lorenzi', 'email': 'Rossella_Lorenzi@discovery.com'}], 'author': 'Rossella_Lorenzi@discovery.com (Rossella Lorenzi)', 'author_detail': {'name': 'Rossella Lorenzi', 'email': 'Rossella_Lorenzi@discovery.com'}, 'tags': [{'term': 'mitochondria', 'scheme': None, 'label': None}, {'term': 'Human Migration', 'scheme': None, 'label': None}, {'term': 'Human Ancestors', 'scheme': None, 'label': None}, {'term': 'Genetics', 'scheme': None, 'label': None}, {'term': 'genetic', 'scheme': None, 'label': None}, {'term': 'gene', 'scheme': None, 'label': None}, {'term': 'evolution', 'scheme': None, 'label': None}, {'term': 'European History', 'scheme': None, 'label': None}, {'term': 'DNA', 'scheme': None, 'label': None}, {'term': 'Current Events', 'scheme': None, 'label': None}, {'term': 'Ancient Rome', 'scheme': None, 'label': None}, {'term': 'history', 'scheme': None, 'label': None}], 'published': 'Wed, 25 May 2016 14:00:00 -0400', 'published_parsed': time.struct_time(tm_year=2016, tm_mon=5, tm_mday=25, tm_hour=18, tm_min=0, tm_sec=0, tm_wday=2, tm_yday=146, tm_isdst=0)}\n",
      "{'title': 'Could Clay Help Attack Superbugs?', 'title_detail': {'type': 'text/plain', 'language': None, 'base': 'http://syndication.dp.discovery.com/rss/Discovery+News', 'value': 'Could Clay Help Attack Superbugs?'}, 'summary': 'The ancient remedy could provide a new weapon against microbes Continue reading →', 'summary_detail': {'type': 'text/html', 'language': None, 'base': 'http://syndication.dp.discovery.com/rss/Discovery+News', 'value': 'The ancient remedy could provide a new weapon against microbes Continue reading →'}, 'links': [{'rel': 'alternate', 'type': 'text/html', 'href': 'http://news.discovery.com/earth/could-clay-help-attack-superbugs-160525.htm#mkcpgn=rssnws1'}], 'link': 'http://news.discovery.com/earth/could-clay-help-attack-superbugs-160525.htm#mkcpgn=rssnws1', 'id': '1092533b-8f93-6a58-89a6-0ba6fa618332', 'guidislink': False, 'authors': [{'name': 'Patrick J. Kiger', 'email': 'Patrick_J._Kiger@discovery.com'}], 'author': 'Patrick_J._Kiger@discovery.com (Patrick J. Kiger)', 'author_detail': {'name': 'Patrick J. Kiger', 'email': 'Patrick_J._Kiger@discovery.com'}, 'tags': [{'term': 'Pathogens', 'scheme': None, 'label': None}, {'term': 'Medicine', 'scheme': None, 'label': None}, {'term': 'Health', 'scheme': None, 'label': None}, {'term': 'Bugs', 'scheme': None, 'label': None}, {'term': 'bacteria', 'scheme': None, 'label': None}, {'term': 'Earth', 'scheme': None, 'label': None}], 'published': 'Wed, 25 May 2016 13:08:00 -0400', 'published_parsed': time.struct_time(tm_year=2016, tm_mon=5, tm_mday=25, tm_hour=17, tm_min=8, tm_sec=0, tm_wday=2, tm_yday=146, tm_isdst=0)}\n",
      "{'title': 'Penguin Chicks Hatched Using Artificial Insemination', 'title_detail': {'type': 'text/plain', 'language': None, 'base': 'http://syndication.dp.discovery.com/rss/Discovery+News', 'value': 'Penguin Chicks Hatched Using Artificial Insemination'}, 'summary': 'A Japanese aquarium said it had hatched two Humboldt penguin chicks, the first time the technique has been successfully deployed for the species.', 'summary_detail': {'type': 'text/html', 'language': None, 'base': 'http://syndication.dp.discovery.com/rss/Discovery+News', 'value': 'A Japanese aquarium said it had hatched two Humboldt penguin chicks, the first time the technique has been successfully deployed for the species.'}, 'links': [{'rel': 'alternate', 'type': 'text/html', 'href': 'http://news.discovery.com/animals/penguin-chicks-hatched-using-artificial-insemination-160525.htm#mkcpgn=rssnws1'}], 'link': 'http://news.discovery.com/animals/penguin-chicks-hatched-using-artificial-insemination-160525.htm#mkcpgn=rssnws1', 'id': '034c23c7-c6a8-3062-4b33-ace8432285b2', 'guidislink': False, 'authors': [{'name': 'AFP', 'email': 'AFP@discovery.com'}], 'author': 'AFP@discovery.com (AFP)', 'author_detail': {'name': 'AFP', 'email': 'AFP@discovery.com'}, 'tags': [{'term': 'penguins', 'scheme': None, 'label': None}, {'term': 'Japan', 'scheme': None, 'label': None}, {'term': 'Humboldt penguins', 'scheme': None, 'label': None}, {'term': 'breeding', 'scheme': None, 'label': None}, {'term': 'artificial insemination', 'scheme': None, 'label': None}, {'term': 'Animal Breeding', 'scheme': None, 'label': None}], 'published': 'Wed, 25 May 2016 13:05:00 -0400', 'published_parsed': time.struct_time(tm_year=2016, tm_mon=5, tm_mday=25, tm_hour=17, tm_min=5, tm_sec=0, tm_wday=2, tm_yday=146, tm_isdst=0)}\n",
      "{'title': 'Elaborate Neanderthal Structure Found', 'title_detail': {'type': 'text/plain', 'language': None, 'base': 'http://syndication.dp.discovery.com/rss/Discovery+News', 'value': 'Elaborate Neanderthal Structure Found'}, 'summary': 'Neanderthals built some of the world&#039;s earliest constructions, which were just found deep in a French cave.', 'summary_detail': {'type': 'text/html', 'language': None, 'base': 'http://syndication.dp.discovery.com/rss/Discovery+News', 'value': 'Neanderthals built some of the world&#039;s earliest constructions, which were just found deep in a French cave.'}, 'links': [{'rel': 'alternate', 'type': 'text/html', 'href': 'http://news.discovery.com/human/evolution/elaborate-neanderthal-structure-found-160525.htm#mkcpgn=rssnws1'}], 'link': 'http://news.discovery.com/human/evolution/elaborate-neanderthal-structure-found-160525.htm#mkcpgn=rssnws1', 'id': '5bf85d96-1695-81ed-0fd2-5aa0c9a500bc', 'guidislink': False, 'authors': [{'name': 'Jennifer Viegas', 'email': 'Jennifer_Viegas@discovery.com'}], 'author': 'Jennifer_Viegas@discovery.com (Jennifer Viegas)', 'author_detail': {'name': 'Jennifer Viegas', 'email': 'Jennifer_Viegas@discovery.com'}, 'tags': [{'term': 'Current Events', 'scheme': None, 'label': None}, {'term': 'evolution', 'scheme': None, 'label': None}, {'term': 'Anthropology', 'scheme': None, 'label': None}, {'term': 'early man', 'scheme': None, 'label': None}, {'term': 'Early Humans', 'scheme': None, 'label': None}, {'term': 'Human Migration', 'scheme': None, 'label': None}, {'term': 'human evolution', 'scheme': None, 'label': None}, {'term': 'Human Ancestors', 'scheme': None, 'label': None}, {'term': 'neanderthal', 'scheme': None, 'label': None}], 'published': 'Wed, 25 May 2016 13:00:00 -0400', 'published_parsed': time.struct_time(tm_year=2016, tm_mon=5, tm_mday=25, tm_hour=17, tm_min=0, tm_sec=0, tm_wday=2, tm_yday=146, tm_isdst=0)}\n",
      "{'title': 'Could MacBooks Come with Cellular Service?', 'title_detail': {'type': 'text/plain', 'language': None, 'base': 'http://syndication.dp.discovery.com/rss/Discovery+News', 'value': 'Could MacBooks Come with Cellular Service?'}, 'summary': 'Adding 4G service to the laptop would making getting online easier, especially when Wi-Fi connection was spotty.', 'summary_detail': {'type': 'text/html', 'language': None, 'base': 'http://syndication.dp.discovery.com/rss/Discovery+News', 'value': 'Adding 4G service to the laptop would making getting online easier, especially when Wi-Fi connection was spotty.'}, 'links': [{'rel': 'alternate', 'type': 'text/html', 'href': 'http://news.discovery.com/tech/gear-and-gadgets/could-macbooks-come-with-cellular-service-160525.htm#mkcpgn=rssnws1'}], 'link': 'http://news.discovery.com/tech/gear-and-gadgets/could-macbooks-come-with-cellular-service-160525.htm#mkcpgn=rssnws1', 'id': '5037b19f-41c8-6b80-30ca-a95d94f02c4f', 'guidislink': False, 'authors': [{'name': 'Tracy Staedter', 'email': 'Tracy_Staedter@discovery.com'}], 'author': 'Tracy_Staedter@discovery.com (Tracy Staedter)', 'author_detail': {'name': 'Tracy Staedter', 'email': 'Tracy_Staedter@discovery.com'}, 'tags': [{'term': 'WiFI', 'scheme': None, 'label': None}, {'term': 'macbooks', 'scheme': None, 'label': None}, {'term': 'laptops', 'scheme': None, 'label': None}, {'term': 'Apple', 'scheme': None, 'label': None}, {'term': '4G', 'scheme': None, 'label': None}, {'term': 'Tech', 'scheme': None, 'label': None}], 'published': 'Wed, 25 May 2016 12:50:00 -0400', 'published_parsed': time.struct_time(tm_year=2016, tm_mon=5, tm_mday=25, tm_hour=16, tm_min=50, tm_sec=0, tm_wday=2, tm_yday=146, tm_isdst=0)}\n",
      "{'title': 'Huge Tsunamis May Have Ravaged Ancient Mars', 'title_detail': {'type': 'text/plain', 'language': None, 'base': 'http://syndication.dp.discovery.com/rss/Discovery+News', 'value': 'Huge Tsunamis May Have Ravaged Ancient Mars'}, 'summary': 'When Mars was a wet world, did its oceans experience powerful tsunamis spawned by meteorite impacts?', 'summary_detail': {'type': 'text/html', 'language': None, 'base': 'http://syndication.dp.discovery.com/rss/Discovery+News', 'value': 'When Mars was a wet world, did its oceans experience powerful tsunamis spawned by meteorite impacts?'}, 'links': [{'rel': 'alternate', 'type': 'text/html', 'href': 'http://news.discovery.com/space/huge-tsunamis-may-have-ravaged-ancient-mars-160525.htm#mkcpgn=rssnws1'}], 'link': 'http://news.discovery.com/space/huge-tsunamis-may-have-ravaged-ancient-mars-160525.htm#mkcpgn=rssnws1', 'id': 'd4ccc1c6-0fe0-6b77-14f7-7e35e6c8b906', 'guidislink': False, 'authors': [{'name': 'Elizabeth Howell', 'email': 'Elizabeth_Howell@discovery.com'}], 'author': 'Elizabeth_Howell@discovery.com (Elizabeth Howell)', 'author_detail': {'name': 'Elizabeth Howell', 'email': 'Elizabeth_Howell@discovery.com'}, 'tags': [{'term': 'water', 'scheme': None, 'label': None}, {'term': 'Tsunamis', 'scheme': None, 'label': None}, {'term': 'Tsunami', 'scheme': None, 'label': None}, {'term': 'Satellites', 'scheme': None, 'label': None}, {'term': 'red planet', 'scheme': None, 'label': None}, {'term': 'Mars Water', 'scheme': None, 'label': None}, {'term': 'Mars', 'scheme': None, 'label': None}, {'term': 'Current Events', 'scheme': None, 'label': None}, {'term': 'ancient mars', 'scheme': None, 'label': None}, {'term': 'Space', 'scheme': None, 'label': None}], 'published': 'Wed, 25 May 2016 11:51:00 -0400', 'published_parsed': time.struct_time(tm_year=2016, tm_mon=5, tm_mday=25, tm_hour=15, tm_min=51, tm_sec=0, tm_wday=2, tm_yday=146, tm_isdst=0)}\n",
      "{'title': 'Snub-Nosed Dogs More Affectionate, Better Guard Dogs', 'title_detail': {'type': 'text/plain', 'language': None, 'base': 'http://syndication.dp.discovery.com/rss/Discovery+News', 'value': 'Snub-Nosed Dogs More Affectionate, Better Guard Dogs'}, 'summary': 'New research may help explain the growing obsession in some countries with short-nosed dogs.', 'summary_detail': {'type': 'text/html', 'language': None, 'base': 'http://syndication.dp.discovery.com/rss/Discovery+News', 'value': 'New research may help explain the growing obsession in some countries with short-nosed dogs.'}, 'links': [{'rel': 'alternate', 'type': 'text/html', 'href': 'http://news.discovery.com/animals/pets/snub-nosed-dogs-more-affectionate-better-guard-dogs-160525.htm#mkcpgn=rssnws1'}], 'link': 'http://news.discovery.com/animals/pets/snub-nosed-dogs-more-affectionate-better-guard-dogs-160525.htm#mkcpgn=rssnws1', 'id': 'b8fd2f0e-1460-cf70-a1a0-4b422bc36b7c', 'guidislink': False, 'authors': [{'name': 'Anna Salleh, ABC Science Online', 'email': 'Anna_Salleh__ABC_Science_Online@discovery.com'}], 'author': 'Anna_Salleh__ABC_Science_Online@discovery.com (Anna Salleh, ABC Science Online)', 'author_detail': {'name': 'Anna Salleh, ABC Science Online', 'email': 'Anna_Salleh__ABC_Science_Online@discovery.com'}, 'tags': [{'term': 'pets', 'scheme': None, 'label': None}, {'term': 'guard dogs', 'scheme': None, 'label': None}, {'term': 'Dogs', 'scheme': None, 'label': None}, {'term': 'Dog Breeds', 'scheme': None, 'label': None}, {'term': 'breeds', 'scheme': None, 'label': None}], 'published': 'Wed, 25 May 2016 09:40:00 -0400', 'published_parsed': time.struct_time(tm_year=2016, tm_mon=5, tm_mday=25, tm_hour=13, tm_min=40, tm_sec=0, tm_wday=2, tm_yday=146, tm_isdst=0)}\n",
      "{'title': 'DNews: The Dreaded Turbulence: What Makes Flights Bumpy', 'title_detail': {'type': 'text/plain', 'language': None, 'base': 'http://syndication.dp.discovery.com/rss/Discovery+News', 'value': 'DNews: The Dreaded Turbulence: What Makes Flights Bumpy'}, 'summary': 'Most of us probably breathe a sigh of relief when the captain promises &quot;a smooth ride&quot; to wherever we&#039;re flying. But, as DNews explains, turbulence is really no big deal.', 'summary_detail': {'type': 'text/html', 'language': None, 'base': 'http://syndication.dp.discovery.com/rss/Discovery+News', 'value': 'Most of us probably breathe a sigh of relief when the captain promises &quot;a smooth ride&quot; to wherever we&#039;re flying. But, as DNews explains, turbulence is really no big deal.'}, 'links': [{'rel': 'alternate', 'type': 'text/html', 'href': 'http://news.discovery.com/earth/videos/the-dreaded-turbulence-what-makes-flights-bumpy-video-160525.htm#mkcpgn=rssnws1'}], 'link': 'http://news.discovery.com/earth/videos/the-dreaded-turbulence-what-makes-flights-bumpy-video-160525.htm#mkcpgn=rssnws1', 'id': 'b0aad309-1fab-dae5-42da-c1c44bfd10ed', 'guidislink': False, 'tags': [{'term': 'airplanes', 'scheme': None, 'label': None}, {'term': 'airlines', 'scheme': None, 'label': None}, {'term': 'turbulence', 'scheme': None, 'label': None}, {'term': 'currents', 'scheme': None, 'label': None}, {'term': 'Jet Streams', 'scheme': None, 'label': None}, {'term': 'air', 'scheme': None, 'label': None}, {'term': 'Travel', 'scheme': None, 'label': None}, {'term': 'fears', 'scheme': None, 'label': None}, {'term': 'emotions', 'scheme': None, 'label': None}], 'published': 'Wed, 25 May 2016 04:37:49 -0400', 'published_parsed': time.struct_time(tm_year=2016, tm_mon=5, tm_mday=25, tm_hour=8, tm_min=37, tm_sec=49, tm_wday=2, tm_yday=146, tm_isdst=0)}\n",
      "{'title': 'Stress and Depression Seen in Farmed Salmon', 'title_detail': {'type': 'text/plain', 'language': None, 'base': 'http://syndication.dp.discovery.com/rss/Discovery+News', 'value': 'Stress and Depression Seen in Farmed Salmon'}, 'summary': 'Farmed Atlantic salmon often suffer from such high levels of stress and depression that many become lethargic and essentially give up on life, finds new research.', 'summary_detail': {'type': 'text/html', 'language': None, 'base': 'http://syndication.dp.discovery.com/rss/Discovery+News', 'value': 'Farmed Atlantic salmon often suffer from such high levels of stress and depression that many become lethargic and essentially give up on life, finds new research.'}, 'links': [{'rel': 'alternate', 'type': 'text/html', 'href': 'http://news.discovery.com/animals/stress-and-depression-seen-in-farmed-salmon-160824.htm#mkcpgn=rssnws1'}], 'link': 'http://news.discovery.com/animals/stress-and-depression-seen-in-farmed-salmon-160824.htm#mkcpgn=rssnws1', 'id': '24b7142e-a0a9-8e41-402e-0eaf7ef73aba', 'guidislink': False, 'authors': [{'name': 'Jennifer Viegas', 'email': 'Jennifer_Viegas@discovery.com'}], 'author': 'Jennifer_Viegas@discovery.com (Jennifer Viegas)', 'author_detail': {'name': 'Jennifer Viegas', 'email': 'Jennifer_Viegas@discovery.com'}, 'tags': [{'term': 'Depression', 'scheme': None, 'label': None}, {'term': 'Marine Life', 'scheme': None, 'label': None}, {'term': 'sea life', 'scheme': None, 'label': None}, {'term': 'Fishing', 'scheme': None, 'label': None}, {'term': 'Fish', 'scheme': None, 'label': None}], 'published': 'Tue, 24 May 2016 19:01:00 -0400', 'published_parsed': time.struct_time(tm_year=2016, tm_mon=5, tm_mday=24, tm_hour=23, tm_min=1, tm_sec=0, tm_wday=1, tm_yday=145, tm_isdst=0)}\n",
      "{'title': 'Collapsing Cosmic Clouds Birth Black Hole Monsters', 'title_detail': {'type': 'text/plain', 'language': None, 'base': 'http://syndication.dp.discovery.com/rss/Discovery+News', 'value': 'Collapsing Cosmic Clouds Birth Black Hole Monsters'}, 'summary': 'Supermassive black holes occupy all known galaxies, but astronomers have little idea how they formed. Now space telescopes have found a clue.', 'summary_detail': {'type': 'text/html', 'language': None, 'base': 'http://syndication.dp.discovery.com/rss/Discovery+News', 'value': 'Supermassive black holes occupy all known galaxies, but astronomers have little idea how they formed. Now space telescopes have found a clue.'}, 'links': [{'rel': 'alternate', 'type': 'text/html', 'href': 'http://news.discovery.com/space/astronomy/collapsing-cosmic-clouds-seed-black-hole-monsters-160524.htm#mkcpgn=rssnws1'}], 'link': 'http://news.discovery.com/space/astronomy/collapsing-cosmic-clouds-seed-black-hole-monsters-160524.htm#mkcpgn=rssnws1', 'id': '15b84126-2c82-ef5c-38bd-bd33813cb07d', 'guidislink': False, 'authors': [{'name': 'Irene Klotz', 'email': 'Irene_Klotz@discovery.com'}], 'author': 'Irene_Klotz@discovery.com (Irene Klotz)', 'author_detail': {'name': 'Irene Klotz', 'email': 'Irene_Klotz@discovery.com'}, 'tags': [{'term': 'supermassive black holes', 'scheme': None, 'label': None}, {'term': 'Spitzer Space Telescope', 'scheme': None, 'label': None}, {'term': 'Hubble Space Telescope', 'scheme': None, 'label': None}, {'term': 'hubble', 'scheme': None, 'label': None}, {'term': 'galaxies', 'scheme': None, 'label': None}, {'term': 'Current Events', 'scheme': None, 'label': None}, {'term': 'Chandra X-Ray Observatory', 'scheme': None, 'label': None}, {'term': 'Black Hole', 'scheme': None, 'label': None}, {'term': 'Space', 'scheme': None, 'label': None}], 'published': 'Tue, 24 May 2016 18:57:00 -0400', 'published_parsed': time.struct_time(tm_year=2016, tm_mon=5, tm_mday=24, tm_hour=22, tm_min=57, tm_sec=0, tm_wday=1, tm_yday=145, tm_isdst=0)}\n",
      "{'title': \"Why Antarctic Sea Ice Isn't Shrinking\", 'title_detail': {'type': 'text/plain', 'language': None, 'base': 'http://syndication.dp.discovery.com/rss/Discovery+News', 'value': \"Why Antarctic Sea Ice Isn't Shrinking\"}, 'summary': 'Winds, currents and seafloor features may be responsible for keeping Antarctica&#039;s sea ice intact.', 'summary_detail': {'type': 'text/html', 'language': None, 'base': 'http://syndication.dp.discovery.com/rss/Discovery+News', 'value': 'Winds, currents and seafloor features may be responsible for keeping Antarctica&#039;s sea ice intact.'}, 'links': [{'rel': 'alternate', 'type': 'text/html', 'href': 'http://news.discovery.com/earth/global-warming/why-antarctic-sea-ice-isnt-shrinking-160524.htm#mkcpgn=rssnws1'}], 'link': 'http://news.discovery.com/earth/global-warming/why-antarctic-sea-ice-isnt-shrinking-160524.htm#mkcpgn=rssnws1', 'id': '53c818a6-8ac3-02b9-06d4-fff0bfcb06f7', 'guidislink': False, 'authors': [{'name': 'Kieran Mulvaney', 'email': 'Kieran_Mulvaney@discovery.com'}], 'author': 'Kieran_Mulvaney@discovery.com (Kieran Mulvaney)', 'author_detail': {'name': 'Kieran Mulvaney', 'email': 'Kieran_Mulvaney@discovery.com'}, 'tags': [{'term': 'sea ice', 'scheme': None, 'label': None}, {'term': 'IPCC', 'scheme': None, 'label': None}, {'term': 'greenhouse gasses', 'scheme': None, 'label': None}, {'term': 'environment', 'scheme': None, 'label': None}, {'term': 'Earth', 'scheme': None, 'label': None}, {'term': 'Current Events', 'scheme': None, 'label': None}, {'term': 'Current Affairs', 'scheme': None, 'label': None}, {'term': 'Climate Change', 'scheme': None, 'label': None}, {'term': 'Antarctica', 'scheme': None, 'label': None}, {'term': 'antarctic', 'scheme': None, 'label': None}, {'term': 'Polar Regions', 'scheme': None, 'label': None}], 'published': 'Tue, 24 May 2016 16:53:00 -0400', 'published_parsed': time.struct_time(tm_year=2016, tm_mon=5, tm_mday=24, tm_hour=20, tm_min=53, tm_sec=0, tm_wday=1, tm_yday=145, tm_isdst=0)}\n",
      "{'title': 'Google Cars to Be Coated with Human Flypaper?', 'title_detail': {'type': 'text/plain', 'language': None, 'base': 'http://syndication.dp.discovery.com/rss/Discovery+News', 'value': 'Google Cars to Be Coated with Human Flypaper?'}, 'summary': 'A patent application describes adhesive coating for reducing injuries in pedestrian accidents.', 'summary_detail': {'type': 'text/html', 'language': None, 'base': 'http://syndication.dp.discovery.com/rss/Discovery+News', 'value': 'A patent application describes adhesive coating for reducing injuries in pedestrian accidents.'}, 'links': [{'rel': 'alternate', 'type': 'text/html', 'href': 'http://news.discovery.com/tech/robotics/google-cars-to-be-coated-with-human-flypaper-160524.htm#mkcpgn=rssnws1'}], 'link': 'http://news.discovery.com/tech/robotics/google-cars-to-be-coated-with-human-flypaper-160524.htm#mkcpgn=rssnws1', 'id': 'da04a7f7-a110-d943-04f4-7a441c5053fd', 'guidislink': False, 'authors': [{'name': 'Glenn McDonald', 'email': 'Glenn_McDonald@discovery.com'}], 'author': 'Glenn_McDonald@discovery.com (Glenn McDonald)', 'author_detail': {'name': 'Glenn McDonald', 'email': 'Glenn_McDonald@discovery.com'}, 'tags': [{'term': 'Current Events', 'scheme': None, 'label': None}, {'term': 'patents', 'scheme': None, 'label': None}, {'term': 'self-driving', 'scheme': None, 'label': None}, {'term': 'self driving car', 'scheme': None, 'label': None}, {'term': 'Google Car', 'scheme': None, 'label': None}, {'term': 'Google', 'scheme': None, 'label': None}, {'term': 'Driving and Safety', 'scheme': None, 'label': None}, {'term': 'Autos', 'scheme': None, 'label': None}, {'term': 'autonomous vehicles', 'scheme': None, 'label': None}, {'term': 'Tech', 'scheme': None, 'label': None}], 'published': 'Tue, 24 May 2016 16:00:00 -0400', 'published_parsed': time.struct_time(tm_year=2016, tm_mon=5, tm_mday=24, tm_hour=20, tm_min=0, tm_sec=0, tm_wday=1, tm_yday=145, tm_isdst=0)}\n",
      "{'title': 'Wearable Computer Teaches Dogs New Tricks', 'title_detail': {'type': 'text/plain', 'language': None, 'base': 'http://syndication.dp.discovery.com/rss/Discovery+News', 'value': 'Wearable Computer Teaches Dogs New Tricks'}, 'summary': 'Good boy! This custom dog harness consistently reinforces good behavior using sensors and a special algorithm.', 'summary_detail': {'type': 'text/html', 'language': None, 'base': 'http://syndication.dp.discovery.com/rss/Discovery+News', 'value': 'Good boy! This custom dog harness consistently reinforces good behavior using sensors and a special algorithm.'}, 'links': [{'rel': 'alternate', 'type': 'text/html', 'href': 'http://news.discovery.com/tech/robotics/wearable-computer-teaches-dogs-new-tricks-160524.htm#mkcpgn=rssnws1'}], 'link': 'http://news.discovery.com/tech/robotics/wearable-computer-teaches-dogs-new-tricks-160524.htm#mkcpgn=rssnws1', 'id': '400cfd62-a215-8354-0d35-4fd793e6970c', 'guidislink': False, 'authors': [{'name': 'Alyssa Danigelis', 'email': 'Alyssa_Danigelis@discovery.com'}], 'author': 'Alyssa_Danigelis@discovery.com (Alyssa Danigelis)', 'author_detail': {'name': 'Alyssa Danigelis', 'email': 'Alyssa_Danigelis@discovery.com'}, 'tags': [{'term': 'wearable electronics', 'scheme': None, 'label': None}, {'term': 'Wearable Computers', 'scheme': None, 'label': None}, {'term': 'wearable computer', 'scheme': None, 'label': None}, {'term': 'wearable', 'scheme': None, 'label': None}, {'term': 'Dogs', 'scheme': None, 'label': None}, {'term': 'dog', 'scheme': None, 'label': None}, {'term': 'canine', 'scheme': None, 'label': None}, {'term': 'Tech', 'scheme': None, 'label': None}], 'published': 'Tue, 24 May 2016 15:00:00 -0400', 'published_parsed': time.struct_time(tm_year=2016, tm_mon=5, tm_mday=24, tm_hour=19, tm_min=0, tm_sec=0, tm_wday=1, tm_yday=145, tm_isdst=0)}\n",
      "{'title': 'Mystery Plumes: Did the Sun Bruise Mars?', 'title_detail': {'type': 'text/plain', 'language': None, 'base': 'http://syndication.dp.discovery.com/rss/Discovery+News', 'value': 'Mystery Plumes: Did the Sun Bruise Mars?'}, 'summary': 'Strange plumes have been spotted high in the Martian atmosphere that have, so far, defied explanation. Now scientists think space weather is to blame.', 'summary_detail': {'type': 'text/html', 'language': None, 'base': 'http://syndication.dp.discovery.com/rss/Discovery+News', 'value': 'Strange plumes have been spotted high in the Martian atmosphere that have, so far, defied explanation. Now scientists think space weather is to blame.'}, 'links': [{'rel': 'alternate', 'type': 'text/html', 'href': 'http://news.discovery.com/space/mystery-plumes-did-the-sun-bruise-mars-160524.htm#mkcpgn=rssnws1'}], 'link': 'http://news.discovery.com/space/mystery-plumes-did-the-sun-bruise-mars-160524.htm#mkcpgn=rssnws1', 'id': 'ae909ae1-0753-3d16-f595-cf0aa21b8f76', 'guidislink': False, 'authors': [{'name': \"Ian_O' (Ian O'Neill\", 'email': 'Neill@discovery.com'}], 'author': \"Ian_O'Neill@discovery.com (Ian O'Neill)\", 'author_detail': {'name': \"Ian_O' (Ian O'Neill\", 'email': 'Neill@discovery.com'}, 'tags': [{'term': 'Mystery', 'scheme': None, 'label': None}, {'term': 'Mars Mission', 'scheme': None, 'label': None}, {'term': 'Mars Express', 'scheme': None, 'label': None}, {'term': 'Mars', 'scheme': None, 'label': None}, {'term': 'hubble', 'scheme': None, 'label': None}, {'term': 'Current Events', 'scheme': None, 'label': None}, {'term': 'coronal mass ejections', 'scheme': None, 'label': None}, {'term': 'cme', 'scheme': None, 'label': None}, {'term': 'atmospheres', 'scheme': None, 'label': None}, {'term': 'Atmosphere', 'scheme': None, 'label': None}, {'term': 'Amateur Astronomy', 'scheme': None, 'label': None}, {'term': 'Space', 'scheme': None, 'label': None}], 'published': 'Tue, 24 May 2016 13:45:00 -0400', 'published_parsed': time.struct_time(tm_year=2016, tm_mon=5, tm_mday=24, tm_hour=17, tm_min=45, tm_sec=0, tm_wday=1, tm_yday=145, tm_isdst=0)}\n",
      "{'title': 'Mummy of Egyptian Noblewoman Found', 'title_detail': {'type': 'text/plain', 'language': None, 'base': 'http://syndication.dp.discovery.com/rss/Discovery+News', 'value': 'Mummy of Egyptian Noblewoman Found'}, 'summary': 'The 3,800-year-old mummy belonged to Lady Sattjeni, a leading figure from the Middle Kingdom.', 'summary_detail': {'type': 'text/html', 'language': None, 'base': 'http://syndication.dp.discovery.com/rss/Discovery+News', 'value': 'The 3,800-year-old mummy belonged to Lady Sattjeni, a leading figure from the Middle Kingdom.'}, 'links': [{'rel': 'alternate', 'type': 'text/html', 'href': 'http://news.discovery.com/history/archaeology/mummy-of-egyptian-noblewoman-found-160524.htm#mkcpgn=rssnws1'}], 'link': 'http://news.discovery.com/history/archaeology/mummy-of-egyptian-noblewoman-found-160524.htm#mkcpgn=rssnws1', 'id': '2962b065-5f5e-2d19-c4b3-73961de3be86', 'guidislink': False, 'authors': [{'name': 'Rossella Lorenzi', 'email': 'Rossella_Lorenzi@discovery.com'}], 'author': 'Rossella_Lorenzi@discovery.com (Rossella Lorenzi)', 'author_detail': {'name': 'Rossella Lorenzi', 'email': 'Rossella_Lorenzi@discovery.com'}, 'tags': [{'term': 'royals', 'scheme': None, 'label': None}, {'term': 'mummy', 'scheme': None, 'label': None}, {'term': 'mummies', 'scheme': None, 'label': None}, {'term': 'kings and rulers', 'scheme': None, 'label': None}, {'term': 'Current Events', 'scheme': None, 'label': None}, {'term': 'history', 'scheme': None, 'label': None}, {'term': 'Ancient Egypt', 'scheme': None, 'label': None}], 'published': 'Tue, 24 May 2016 10:43:00 -0400', 'published_parsed': time.struct_time(tm_year=2016, tm_mon=5, tm_mday=24, tm_hour=14, tm_min=43, tm_sec=0, tm_wday=1, tm_yday=145, tm_isdst=0)}\n",
      "{'title': 'iPhone 2017 Will Have the Screen You Want', 'title_detail': {'type': 'text/plain', 'language': None, 'base': 'http://syndication.dp.discovery.com/rss/Discovery+News', 'value': 'iPhone 2017 Will Have the Screen You Want'}, 'summary': 'According to a new report, Apple is jumping on the bandwagon with an OLED screen.', 'summary_detail': {'type': 'text/html', 'language': None, 'base': 'http://syndication.dp.discovery.com/rss/Discovery+News', 'value': 'According to a new report, Apple is jumping on the bandwagon with an OLED screen.'}, 'links': [{'rel': 'alternate', 'type': 'text/html', 'href': 'http://news.discovery.com/tech/gear-and-gadgets/iphone-2017-will-have-the-screen-you-want-160524.htm#mkcpgn=rssnws1'}], 'link': 'http://news.discovery.com/tech/gear-and-gadgets/iphone-2017-will-have-the-screen-you-want-160524.htm#mkcpgn=rssnws1', 'id': 'a3af8f43-9839-7fde-819a-0119e2727a2b', 'guidislink': False, 'authors': [{'name': 'Mark Spoonauer, Toms Guide', 'email': 'Mark_Spoonauer__Toms_Guide@discovery.com'}], 'author': 'Mark_Spoonauer__Toms_Guide@discovery.com (Mark Spoonauer, Toms Guide)', 'author_detail': {'name': 'Mark Spoonauer, Toms Guide', 'email': 'Mark_Spoonauer__Toms_Guide@discovery.com'}, 'tags': [{'term': 'Current Events', 'scheme': None, 'label': None}, {'term': 'smartphones', 'scheme': None, 'label': None}, {'term': 'Apple', 'scheme': None, 'label': None}, {'term': 'iphone 7', 'scheme': None, 'label': None}, {'term': 'iPhone', 'scheme': None, 'label': None}], 'published': 'Tue, 24 May 2016 10:30:00 -0400', 'published_parsed': time.struct_time(tm_year=2016, tm_mon=5, tm_mday=24, tm_hour=14, tm_min=30, tm_sec=0, tm_wday=1, tm_yday=145, tm_isdst=0)}\n",
      "{'title': \"Loss of Y Chromosome Linked to Alzheimer's\", 'title_detail': {'type': 'text/plain', 'language': None, 'base': 'http://syndication.dp.discovery.com/rss/Discovery+News', 'value': \"Loss of Y Chromosome Linked to Alzheimer's\"}, 'summary': 'About one in five men over age 80 lose the Y chromosome, and the condition has now been linked to an increased risk of Alzheimer’s.', 'summary_detail': {'type': 'text/html', 'language': None, 'base': 'http://syndication.dp.discovery.com/rss/Discovery+News', 'value': 'About one in five men over age 80 lose the Y chromosome, and the condition has now been linked to an increased risk of Alzheimer’s.'}, 'links': [{'rel': 'alternate', 'type': 'text/html', 'href': 'http://news.discovery.com/human/health/loss-of-y-chromosome-linked-to-alzheimers-160524.htm#mkcpgn=rssnws1'}], 'link': 'http://news.discovery.com/human/health/loss-of-y-chromosome-linked-to-alzheimers-160524.htm#mkcpgn=rssnws1', 'id': '5acf69e8-39bf-8b8c-7ea4-cc3d5e28b460', 'guidislink': False, 'authors': [{'name': 'AFP', 'email': 'AFP@discovery.com'}], 'author': 'AFP@discovery.com (AFP)', 'author_detail': {'name': 'AFP', 'email': 'AFP@discovery.com'}, 'tags': [{'term': 'Y Chromosome', 'scheme': None, 'label': None}, {'term': 'sickness', 'scheme': None, 'label': None}, {'term': 'genes', 'scheme': None, 'label': None}, {'term': 'Disease', 'scheme': None, 'label': None}, {'term': 'chromosomes', 'scheme': None, 'label': None}, {'term': \"Alzheimer's Disease\", 'scheme': None, 'label': None}, {'term': \"Alzheimer's\", 'scheme': None, 'label': None}, {'term': 'Health', 'scheme': None, 'label': None}], 'published': 'Tue, 24 May 2016 10:29:00 -0400', 'published_parsed': time.struct_time(tm_year=2016, tm_mon=5, tm_mday=24, tm_hour=14, tm_min=29, tm_sec=0, tm_wday=1, tm_yday=145, tm_isdst=0)}\n",
      "{'title': '5,000-Year-Old Beer Recipe Had Secret Ingredient', 'title_detail': {'type': 'text/plain', 'language': None, 'base': 'http://syndication.dp.discovery.com/rss/Discovery+News', 'value': '5,000-Year-Old Beer Recipe Had Secret Ingredient'}, 'summary': 'Analysis of ancient pottery jars and funnels found at a site in China&#039;s Shaanxi province reveal barley was a key ingredient.', 'summary_detail': {'type': 'text/html', 'language': None, 'base': 'http://syndication.dp.discovery.com/rss/Discovery+News', 'value': 'Analysis of ancient pottery jars and funnels found at a site in China&#039;s Shaanxi province reveal barley was a key ingredient.'}, 'links': [{'rel': 'alternate', 'type': 'text/html', 'href': 'http://news.discovery.com/history/5000-year-old-beer-recipe-had-secret-ingredient-160524.htm#mkcpgn=rssnws1'}], 'link': 'http://news.discovery.com/history/5000-year-old-beer-recipe-had-secret-ingredient-160524.htm#mkcpgn=rssnws1', 'id': '37ac26d2-760b-edb8-9ff1-82fcb4a0d5be', 'guidislink': False, 'authors': [{'name': 'Tom Metcalfe, Live Science', 'email': 'Tom_Metcalfe__Live_Science@discovery.com'}], 'author': 'Tom_Metcalfe__Live_Science@discovery.com (Tom Metcalfe, Live Science)', 'author_detail': {'name': 'Tom Metcalfe, Live Science', 'email': 'Tom_Metcalfe__Live_Science@discovery.com'}, 'tags': [{'term': 'Food', 'scheme': None, 'label': None}, {'term': 'China', 'scheme': None, 'label': None}, {'term': 'beer', 'scheme': None, 'label': None}, {'term': 'Ancient Civilizations', 'scheme': None, 'label': None}, {'term': 'ancient china', 'scheme': None, 'label': None}, {'term': 'alcohol', 'scheme': None, 'label': None}, {'term': 'history', 'scheme': None, 'label': None}], 'published': 'Tue, 24 May 2016 09:42:00 -0400', 'published_parsed': time.struct_time(tm_year=2016, tm_mon=5, tm_mday=24, tm_hour=13, tm_min=42, tm_sec=0, tm_wday=1, tm_yday=145, tm_isdst=0)}\n",
      "{'title': 'Custom Earphones Double as Brainwave Monitors', 'title_detail': {'type': 'text/plain', 'language': None, 'base': 'http://syndication.dp.discovery.com/rss/Discovery+News', 'value': 'Custom Earphones Double as Brainwave Monitors'}, 'summary': 'Bluetooth device will combine multiple functions into 3D-printed casing designed to fit your particular skull.', 'summary_detail': {'type': 'text/html', 'language': None, 'base': 'http://syndication.dp.discovery.com/rss/Discovery+News', 'value': 'Bluetooth device will combine multiple functions into 3D-printed casing designed to fit your particular skull.'}, 'links': [{'rel': 'alternate', 'type': 'text/html', 'href': 'http://news.discovery.com/tech/gear-and-gadgets/custom-earphones-double-as-brainwave-monitors-160524.htm#mkcpgn=rssnws1'}], 'link': 'http://news.discovery.com/tech/gear-and-gadgets/custom-earphones-double-as-brainwave-monitors-160524.htm#mkcpgn=rssnws1', 'id': 'dabe8ac0-bdc7-94cf-fcbc-d2544ae5afe3', 'guidislink': False, 'authors': [{'name': 'Glenn McDonald', 'email': 'Glenn_McDonald@discovery.com'}], 'author': 'Glenn_McDonald@discovery.com (Glenn McDonald)', 'author_detail': {'name': 'Glenn McDonald', 'email': 'Glenn_McDonald@discovery.com'}, 'tags': [{'term': 'wearable electronics', 'scheme': None, 'label': None}, {'term': 'Wearable Computers', 'scheme': None, 'label': None}, {'term': 'wearable computer', 'scheme': None, 'label': None}, {'term': 'wearable', 'scheme': None, 'label': None}, {'term': 'brainwaves', 'scheme': None, 'label': None}, {'term': 'brains', 'scheme': None, 'label': None}, {'term': 'Brain-Computer Interface', 'scheme': None, 'label': None}, {'term': 'Brain Scan', 'scheme': None, 'label': None}, {'term': 'brain machine interfaces', 'scheme': None, 'label': None}, {'term': 'brain activity', 'scheme': None, 'label': None}, {'term': 'Brain', 'scheme': None, 'label': None}, {'term': 'Tech', 'scheme': None, 'label': None}], 'published': 'Tue, 24 May 2016 08:20:00 -0400', 'published_parsed': time.struct_time(tm_year=2016, tm_mon=5, tm_mday=24, tm_hour=12, tm_min=20, tm_sec=0, tm_wday=1, tm_yday=145, tm_isdst=0)}\n",
      "{'title': 'Stonehenge: Easier Done Than Said', 'title_detail': {'type': 'text/plain', 'language': None, 'base': 'http://syndication.dp.discovery.com/rss/Discovery+News', 'value': 'Stonehenge: Easier Done Than Said'}, 'summary': 'How hard could it have been for prehistoric Britons to move stones the size of dump trucks?', 'summary_detail': {'type': 'text/html', 'language': None, 'base': 'http://syndication.dp.discovery.com/rss/Discovery+News', 'value': 'How hard could it have been for prehistoric Britons to move stones the size of dump trucks?'}, 'links': [{'rel': 'alternate', 'type': 'text/html', 'href': 'http://news.discovery.com/history/stonehenge-easier-done-than-said-160524.htm#mkcpgn=rssnws1'}], 'link': 'http://news.discovery.com/history/stonehenge-easier-done-than-said-160524.htm#mkcpgn=rssnws1', 'id': '6bff56b4-5ac9-00b2-5b85-85e8b92f1463', 'guidislink': False, 'authors': [{'name': 'Talal Al-Khatib', 'email': 'Talal_Al-Khatib@discovery.com'}], 'author': 'Talal_Al-Khatib@discovery.com (Talal Al-Khatib)', 'author_detail': {'name': 'Talal Al-Khatib', 'email': 'Talal_Al-Khatib@discovery.com'}, 'tags': [{'term': 'united kingdom', 'scheme': None, 'label': None}, {'term': 'UK', 'scheme': None, 'label': None}, {'term': 'Stonehenge', 'scheme': None, 'label': None}, {'term': 'ancient humans', 'scheme': None, 'label': None}, {'term': 'Ancient History', 'scheme': None, 'label': None}, {'term': 'Ancient Civilizations', 'scheme': None, 'label': None}, {'term': 'ancient', 'scheme': None, 'label': None}, {'term': 'history', 'scheme': None, 'label': None}], 'published': 'Tue, 24 May 2016 07:52:00 -0400', 'published_parsed': time.struct_time(tm_year=2016, tm_mon=5, tm_mday=24, tm_hour=11, tm_min=52, tm_sec=0, tm_wday=1, tm_yday=145, tm_isdst=0)}\n"
     ]
    }
   ],
   "source": [
    "for e in f.entries:\n",
    "    print(e)\n"
   ]
  },
  {
   "cell_type": "code",
   "execution_count": 81,
   "metadata": {
    "scrolled": true
   },
   "outputs": [
    {
     "name": "stdout",
     "output_type": "stream",
     "text": [
      "b'Analysis of the ancient man&#039;s DNA reveal he had European ancestry.'\n",
      "b'The ancient remedy could provide a new weapon against microbes Continue reading \\xe2\\x86\\x92'\n",
      "b'A Japanese aquarium said it had hatched two Humboldt penguin chicks, the first time the technique has been successfully deployed for the species.'\n",
      "b'Neanderthals built some of the world&#039;s earliest constructions, which were just found deep in a French cave.'\n",
      "b'Adding 4G service to the laptop would making getting online easier, especially when Wi-Fi connection was spotty.'\n",
      "b'When Mars was a wet world, did its oceans experience powerful tsunamis spawned by meteorite impacts?'\n",
      "b'New research may help explain the growing obsession in some countries with short-nosed dogs.'\n",
      "b'Most of us probably breathe a sigh of relief when the captain promises &quot;a smooth ride&quot; to wherever we&#039;re flying. But, as DNews explains, turbulence is really no big deal.'\n",
      "b'Farmed Atlantic salmon often suffer from such high levels of stress and depression that many become lethargic and essentially give up on life, finds new research.'\n",
      "b'Supermassive black holes occupy all known galaxies, but astronomers have little idea how they formed. Now space telescopes have found a clue.'\n",
      "b'Winds, currents and seafloor features may be responsible for keeping Antarctica&#039;s sea ice intact.'\n",
      "b'A patent application describes adhesive coating for reducing injuries in pedestrian accidents.'\n",
      "b'Good boy! This custom dog harness consistently reinforces good behavior using sensors and a special algorithm.'\n",
      "b'Strange plumes have been spotted high in the Martian atmosphere that have, so far, defied explanation. Now scientists think space weather is to blame.'\n",
      "b'The 3,800-year-old mummy belonged to Lady Sattjeni, a leading figure from the Middle Kingdom.'\n",
      "b'According to a new report, Apple is jumping on the bandwagon with an OLED screen.'\n",
      "b'About one in five men over age 80 lose the Y chromosome, and the condition has now been linked to an increased risk of Alzheimer\\xe2\\x80\\x99s.'\n",
      "b'Analysis of ancient pottery jars and funnels found at a site in China&#039;s Shaanxi province reveal barley was a key ingredient.'\n",
      "b'Bluetooth device will combine multiple functions into 3D-printed casing designed to fit your particular skull.'\n",
      "b'How hard could it have been for prehistoric Britons to move stones the size of dump trucks?'\n"
     ]
    }
   ],
   "source": [
    "for e in f.entries:\n",
    "    print(e.description.encode('utf8'))"
   ]
  },
  {
   "cell_type": "markdown",
   "metadata": {},
   "source": [
    "e.description的输出如下,有时我们可以看到这里边有很多html标记，我们编写stripHTML的目的就是把这些HTML标记去除"
   ]
  },
  {
   "cell_type": "code",
   "execution_count": 23,
   "metadata": {
    "collapsed": true
   },
   "outputs": [],
   "source": [
    "def stripHTML(h):\n",
    "    p = ''#首先将p定义为一个空的字符串\n",
    "    s = 0#赋初值令s=0\n",
    "    for c in h:#这里会遍历出h中的每一个字母\n",
    "        if c=='<':s=1\n",
    "        elif c=='>':\n",
    "            s=0\n",
    "            p+=' '\n",
    "        elif s==0:p+=c\n",
    "    return p  "
   ]
  },
  {
   "cell_type": "markdown",
   "metadata": {},
   "source": [
    " 2.分词\n",
    "\n",
    "　　利用正则表达式对英文进行分词。"
   ]
  },
  {
   "cell_type": "code",
   "execution_count": 24,
   "metadata": {
    "collapsed": true
   },
   "outputs": [],
   "source": [
    "def separatewords(text):\n",
    "    splitter = re.compile('\\\\W*')\n",
    "    return [s.lower() for s in splitter.split(text) if len(s)>3]\n",
    "    #这儿同时加一个操作就是把所有字母变成小写字母，并且过滤掉小于3个字母的单词"
   ]
  },
  {
   "cell_type": "markdown",
   "metadata": {},
   "source": [
    "3.逐个提取单词并计数\n",
    "　　通过getarticlewords可以得到allwords,articlewords,和articletitles，分别对应于所有单词的计数，每篇文章单词的计数和每篇文章的标题。"
   ]
  },
  {
   "cell_type": "code",
   "execution_count": null,
   "metadata": {
    "collapsed": true
   },
   "outputs": [],
   "source": [
    "def getarticlewords():\n",
    "    allwords = {}#字典，最终用于记录单词在所有文章中被使用的次数\n",
    "    articlewords = [] #列表，最终用于记录单词在每篇文章中出现的次数\n",
    "    articletitles = []#最终会成为一个文章标题的列表\n",
    "    ec=0\n",
    "    # 函数第一步：遍历每个订阅源，得到RSS的全部内容\n",
    "    for feed in feedlist:\n",
    "        f = feedparser.parse(feed)\n",
    "        \n",
    "        # 函数第二步：遍历所有RSS中的每篇文章\n",
    "        for e in f.entries:#f.entries就是每一篇新闻的文章，这里对它们进行遍历\n",
    "            \n",
    "            #跳过已提取过的文章\n",
    "            if e.title in articletitles:continue\n",
    "                \n",
    "            #提取单词            \n",
    "            #第一步：获得文章内容，提取title和description，合并为txt\n",
    "            txt = e.title.encode('utf8') + stripHTML(e.description.encode('utf8'))\n",
    "            #第二步：分词，得到分词列表\n",
    "            words = separatewords(txt)\n",
    "            articlewords.append({})#此时articlewords=[{}]\n",
    "            #articletitles=[标题1,标题2,...]\n",
    "            articletitles.append(e.title)\n",
    "            \n",
    "            #第三步：对单词进行计数\n",
    "            #在allwords和articlewords中增加针对当前单词的计数\n",
    "            for word in words:\n",
    "                allwords.setdefault(word,0)\n",
    "                allwords[word] += 1\n",
    "                articlewords[ec].setdefault(word,0)\n",
    "                articlewords[ec][word] += 1\n",
    "            ec += 1\n",
    "        return allwords,articlewords,articletitles      "
   ]
  },
  {
   "cell_type": "markdown",
   "metadata": {},
   "source": [
    "4.转换成矩阵"
   ]
  },
  {
   "cell_type": "code",
   "execution_count": 48,
   "metadata": {
    "collapsed": true
   },
   "outputs": [],
   "source": [
    "def makematrix(allw,articlew):\n",
    "    wordvec = []\n",
    "    \n",
    "    #只考虑那些普通的但又不至于非常普通的单词\n",
    "    for w,c in allw.items():\n",
    "        #筛选出在超过三篇文章中出现过，但在所有文章中出现的比例小于60%的单词\n",
    "        #此处可能存在错误，按文意，c 应该是某个单词在所有文章中出现的次数（一篇文章最多一次），而不是重复总次数\n",
    "        if c>3 and c<len(articlew)*0.6:\n",
    "            wordvec.append(w)\n",
    "            \n",
    "        #构造单词矩阵\n",
    "    L1 = [[(word in f and f[word] or 0) for word in wordvec]\n",
    "                 for f in articlew]\n",
    "    return L1,wordvec\n",
    "            "
   ]
  },
  {
   "cell_type": "code",
   "execution_count": 40,
   "metadata": {},
   "outputs": [
    {
     "data": {
      "text/plain": [
       "dict_items([('hello', 1), ('world', 1)])"
      ]
     },
     "execution_count": 40,
     "metadata": {},
     "output_type": "execute_result"
    }
   ],
   "source": [
    "word = \"hello\"\n",
    "word1 = \"world\"\n",
    "alw = {}\n",
    "alw.setdefault(word,0)\n",
    "alw[word] += 1\n",
    "alw.setdefault(word1,0)\n",
    "alw[word1] += 1\n",
    "alw.items()"
   ]
  },
  {
   "cell_type": "code",
   "execution_count": 43,
   "metadata": {},
   "outputs": [
    {
     "data": {
      "text/plain": [
       "[{'hello': 1}, {'world': 1}]"
      ]
     },
     "execution_count": 43,
     "metadata": {},
     "output_type": "execute_result"
    }
   ],
   "source": [
    "word = \"hello\"\n",
    "word1 = \"world\"\n",
    "alw = []\n",
    "alw.append({})\n",
    "alw[0].setdefault(word,0)\n",
    "alw[0][word] += 1\n",
    "alw.append({})\n",
    "alw[1].setdefault(word1,0)\n",
    "alw[1][word1] += 1\n",
    "alw"
   ]
  },
  {
   "cell_type": "code",
   "execution_count": 45,
   "metadata": {},
   "outputs": [
    {
     "ename": "TypeError",
     "evalue": "must be str, not int",
     "output_type": "error",
     "traceback": [
      "\u001b[1;31m---------------------------------------------------------------------------\u001b[0m",
      "\u001b[1;31mTypeError\u001b[0m                                 Traceback (most recent call last)",
      "\u001b[1;32m<ipython-input-45-dc9748b69452>\u001b[0m in \u001b[0;36m<module>\u001b[1;34m()\u001b[0m\n\u001b[1;32m----> 1\u001b[1;33m \u001b[0mallw\u001b[0m\u001b[1;33m,\u001b[0m\u001b[0martw\u001b[0m\u001b[1;33m,\u001b[0m\u001b[0martt\u001b[0m \u001b[1;33m=\u001b[0m \u001b[0mgetarticlewords\u001b[0m\u001b[1;33m(\u001b[0m\u001b[1;33m)\u001b[0m\u001b[1;33m\u001b[0m\u001b[0m\n\u001b[0m",
      "\u001b[1;32m<ipython-input-44-815f3dfcb86b>\u001b[0m in \u001b[0;36mgetarticlewords\u001b[1;34m()\u001b[0m\n\u001b[0;32m     60\u001b[0m             \u001b[1;31m#提取单词\u001b[0m\u001b[1;33m\u001b[0m\u001b[1;33m\u001b[0m\u001b[0m\n\u001b[0;32m     61\u001b[0m             \u001b[1;31m#第一步：获得文章内容，提取title和description，合并为txt\u001b[0m\u001b[1;33m\u001b[0m\u001b[1;33m\u001b[0m\u001b[0m\n\u001b[1;32m---> 62\u001b[1;33m             \u001b[0mtxt\u001b[0m \u001b[1;33m=\u001b[0m \u001b[0me\u001b[0m\u001b[1;33m.\u001b[0m\u001b[0mtitle\u001b[0m\u001b[1;33m.\u001b[0m\u001b[0mencode\u001b[0m\u001b[1;33m(\u001b[0m\u001b[1;34m'utf8'\u001b[0m\u001b[1;33m)\u001b[0m \u001b[1;33m+\u001b[0m \u001b[0mstripHTML\u001b[0m\u001b[1;33m(\u001b[0m\u001b[0me\u001b[0m\u001b[1;33m.\u001b[0m\u001b[0mdescription\u001b[0m\u001b[1;33m.\u001b[0m\u001b[0mencode\u001b[0m\u001b[1;33m(\u001b[0m\u001b[1;34m'utf8'\u001b[0m\u001b[1;33m)\u001b[0m\u001b[1;33m)\u001b[0m\u001b[1;33m\u001b[0m\u001b[0m\n\u001b[0m\u001b[0;32m     63\u001b[0m             \u001b[1;31m#第二步：分词，得到分词列表\u001b[0m\u001b[1;33m\u001b[0m\u001b[1;33m\u001b[0m\u001b[0m\n\u001b[0;32m     64\u001b[0m             \u001b[0mwords\u001b[0m \u001b[1;33m=\u001b[0m \u001b[0mseparatewords\u001b[0m\u001b[1;33m(\u001b[0m\u001b[0mtxt\u001b[0m\u001b[1;33m)\u001b[0m\u001b[1;33m\u001b[0m\u001b[0m\n",
      "\u001b[1;32m<ipython-input-44-815f3dfcb86b>\u001b[0m in \u001b[0;36mstripHTML\u001b[1;34m(h)\u001b[0m\n\u001b[0;32m     32\u001b[0m             \u001b[0ms\u001b[0m\u001b[1;33m=\u001b[0m\u001b[1;36m0\u001b[0m\u001b[1;33m\u001b[0m\u001b[0m\n\u001b[0;32m     33\u001b[0m             \u001b[0mp\u001b[0m\u001b[1;33m+=\u001b[0m\u001b[1;34m' '\u001b[0m\u001b[1;33m\u001b[0m\u001b[0m\n\u001b[1;32m---> 34\u001b[1;33m         \u001b[1;32melif\u001b[0m \u001b[0ms\u001b[0m\u001b[1;33m==\u001b[0m\u001b[1;36m0\u001b[0m\u001b[1;33m:\u001b[0m\u001b[0mp\u001b[0m\u001b[1;33m+=\u001b[0m\u001b[0mc\u001b[0m\u001b[1;33m\u001b[0m\u001b[0m\n\u001b[0m\u001b[0;32m     35\u001b[0m     \u001b[1;32mreturn\u001b[0m \u001b[0mp\u001b[0m\u001b[1;33m\u001b[0m\u001b[0m\n\u001b[0;32m     36\u001b[0m \u001b[1;33m\u001b[0m\u001b[0m\n",
      "\u001b[1;31mTypeError\u001b[0m: must be str, not int"
     ]
    }
   ],
   "source": [
    "allw,artw,artt = getarticlewords()"
   ]
  },
  {
   "cell_type": "code",
   "execution_count": 47,
   "metadata": {},
   "outputs": [
    {
     "ename": "TypeError",
     "evalue": "must be str, not int",
     "output_type": "error",
     "traceback": [
      "\u001b[1;31m---------------------------------------------------------------------------\u001b[0m",
      "\u001b[1;31mTypeError\u001b[0m                                 Traceback (most recent call last)",
      "\u001b[1;32m<ipython-input-47-98d9f28468c6>\u001b[0m in \u001b[0;36m<module>\u001b[1;34m()\u001b[0m\n\u001b[0;32m      1\u001b[0m \u001b[1;32mfor\u001b[0m \u001b[0me\u001b[0m \u001b[1;32min\u001b[0m \u001b[0mf\u001b[0m\u001b[1;33m.\u001b[0m\u001b[0mentries\u001b[0m\u001b[1;33m:\u001b[0m\u001b[1;33m\u001b[0m\u001b[0m\n\u001b[1;32m----> 2\u001b[1;33m     \u001b[0mtxt\u001b[0m \u001b[1;33m=\u001b[0m \u001b[0mstripHTML\u001b[0m\u001b[1;33m(\u001b[0m\u001b[0me\u001b[0m\u001b[1;33m.\u001b[0m\u001b[0mdescription\u001b[0m\u001b[1;33m.\u001b[0m\u001b[0mencode\u001b[0m\u001b[1;33m(\u001b[0m\u001b[1;34m'utf8'\u001b[0m\u001b[1;33m)\u001b[0m\u001b[1;33m)\u001b[0m\u001b[1;33m\u001b[0m\u001b[0m\n\u001b[0m",
      "\u001b[1;32m<ipython-input-44-815f3dfcb86b>\u001b[0m in \u001b[0;36mstripHTML\u001b[1;34m(h)\u001b[0m\n\u001b[0;32m     32\u001b[0m             \u001b[0ms\u001b[0m\u001b[1;33m=\u001b[0m\u001b[1;36m0\u001b[0m\u001b[1;33m\u001b[0m\u001b[0m\n\u001b[0;32m     33\u001b[0m             \u001b[0mp\u001b[0m\u001b[1;33m+=\u001b[0m\u001b[1;34m' '\u001b[0m\u001b[1;33m\u001b[0m\u001b[0m\n\u001b[1;32m---> 34\u001b[1;33m         \u001b[1;32melif\u001b[0m \u001b[0ms\u001b[0m\u001b[1;33m==\u001b[0m\u001b[1;36m0\u001b[0m\u001b[1;33m:\u001b[0m\u001b[0mp\u001b[0m\u001b[1;33m+=\u001b[0m\u001b[0mc\u001b[0m\u001b[1;33m\u001b[0m\u001b[0m\n\u001b[0m\u001b[0;32m     35\u001b[0m     \u001b[1;32mreturn\u001b[0m \u001b[0mp\u001b[0m\u001b[1;33m\u001b[0m\u001b[0m\n\u001b[0;32m     36\u001b[0m \u001b[1;33m\u001b[0m\u001b[0m\n",
      "\u001b[1;31mTypeError\u001b[0m: must be str, not int"
     ]
    }
   ],
   "source": [
    "for e in f.entries:\n",
    "    txt = stripHTML(e.description.encode('utf8'))"
   ]
  },
  {
   "cell_type": "markdown",
   "metadata": {},
   "source": [
    "以上错误应该跟新闻订阅源的数据格式有关"
   ]
  },
  {
   "cell_type": "markdown",
   "metadata": {},
   "source": [
    "## 非负矩阵因式分解"
   ]
  },
  {
   "cell_type": "markdown",
   "metadata": {},
   "source": [
    "矩阵因式分解与整数影视分解形式上比较类似，就是将一个M(m*n)的矩阵分解成M1(m*i)*M2(i*n)的形式。M1的列是新的feature对原有行的贡献，M2的行是通过原有矩阵列组合成的feature。NNMF大致的算法框架如下：\n",
    "\n",
    "    定义一个函数计算用来两个矩阵的差异程度（每个对应元素相减后平方的和）\n",
    "    随机生成2个矩阵(m*r维和r*n维)记为A（权重矩阵）,B（特征矩阵）\n",
    "    计算A*B与输入的m*n的数据矩阵的差异，足够小则停止，否则继续\n",
    "    按一定规则调整A，B的值后转3\n",
    "\n",
    "NNMF无需训练，可以发现新的分类，对于文章而言发现文章的主题（一系列权重较大的词组）。"
   ]
  },
  {
   "cell_type": "code",
   "execution_count": 49,
   "metadata": {},
   "outputs": [
    {
     "data": {
      "text/plain": [
       "[[1, 2, 3], [4, 5, 6]]"
      ]
     },
     "execution_count": 49,
     "metadata": {},
     "output_type": "execute_result"
    }
   ],
   "source": [
    "from numpy import *\n",
    "L1 = [[1,2,3],[4,5,6]]\n",
    "L1"
   ]
  },
  {
   "cell_type": "code",
   "execution_count": 51,
   "metadata": {},
   "outputs": [
    {
     "data": {
      "text/plain": [
       "matrix([[1, 2, 3],\n",
       "        [4, 5, 6]])"
      ]
     },
     "execution_count": 51,
     "metadata": {},
     "output_type": "execute_result"
    }
   ],
   "source": [
    "m1 = matrix(L1)\n",
    "m1"
   ]
  },
  {
   "cell_type": "code",
   "execution_count": 52,
   "metadata": {},
   "outputs": [
    {
     "data": {
      "text/plain": [
       "matrix([[1, 2],\n",
       "        [3, 4],\n",
       "        [5, 6]])"
      ]
     },
     "execution_count": 52,
     "metadata": {},
     "output_type": "execute_result"
    }
   ],
   "source": [
    "m2 = matrix([[1,2],[3,4],[5,6]])\n",
    "m2"
   ]
  },
  {
   "cell_type": "code",
   "execution_count": 53,
   "metadata": {},
   "outputs": [
    {
     "data": {
      "text/plain": [
       "matrix([[22, 28],\n",
       "        [49, 64]])"
      ]
     },
     "execution_count": 53,
     "metadata": {},
     "output_type": "execute_result"
    }
   ],
   "source": [
    "m1*m2"
   ]
  },
  {
   "cell_type": "code",
   "execution_count": 54,
   "metadata": {},
   "outputs": [
    {
     "data": {
      "text/plain": [
       "(3, 2)"
      ]
     },
     "execution_count": 54,
     "metadata": {},
     "output_type": "execute_result"
    }
   ],
   "source": [
    "shape(m2)"
   ]
  },
  {
   "cell_type": "code",
   "execution_count": 55,
   "metadata": {},
   "outputs": [
    {
     "data": {
      "text/plain": [
       "array([[1, 2, 3],\n",
       "       [4, 5, 6]])"
      ]
     },
     "execution_count": 55,
     "metadata": {},
     "output_type": "execute_result"
    }
   ],
   "source": [
    "a1 = m1.A#转换成数组\n",
    "a1"
   ]
  },
  {
   "cell_type": "markdown",
   "metadata": {},
   "source": [
    "矩阵因式分解的目的呢，就是把矩阵B拆分成为两个矩阵相乘，比如矩阵F和矩阵W，这样B=W*F。矩阵的乘法当时寿老师教的很清楚，第一个矩阵（比如W）的列必须于第二个矩阵（比如F）的行数相等才能相乘，乘积矩阵（比如B）的每个元素的取值，是通过将矩阵W中相同行的值与矩阵F中相同列的值相乘，然后将乘积相加所得。（这里我不举例子了，随便Google就有了）。这里将B拆分为F和W的乘积，F代表特征矩阵，W代表权值矩阵，下面详细说说这两个东西。\n",
    "\n",
    "F特征矩阵：在该矩阵中，每一个特征对应一行，每个单词对应一列，矩阵中的数字代表了某个单词相对于某个特征的重要程度；\n",
    "\n",
    "W权值矩阵：在改矩阵中，每一行对应一本书，每一列对应一个特征，矩阵中的数字代表了将某个特征应用于某篇文章的程度；\n",
    "\n",
    "这样W*F就可以重构出B，一行对应一本书，一列对应一个单词。\n",
    "\n",
    "通过计算最佳的特征矩阵和权值矩阵，算法尝试尽可能大地来重新构造文章矩阵。这里我们先定义一种方法来衡量最终结果与理想结"
   ]
  },
  {
   "cell_type": "code",
   "execution_count": 84,
   "metadata": {
    "collapsed": true
   },
   "outputs": [],
   "source": [
    "from numpy import *\n",
    "def difcost(a,b):\n",
    "    dif = 0\n",
    "    #遍历矩阵的行列\n",
    "    for i in range(shape(a)[0]):\n",
    "        for j in range(shape(a)[1]):\n",
    "            #将差值的平方相加\n",
    "            dif += pow(a[i,j]-b[i,j],2)\n",
    "    return dif"
   ]
  },
  {
   "cell_type": "markdown",
   "metadata": {},
   "source": [
    "### 使用乘法更新法则搜索最优解"
   ]
  },
  {
   "cell_type": "markdown",
   "metadata": {},
   "source": [
    "函数difcost针对两个同样大小的矩阵遍历其中的每个值，并将两者的间差值的平方累加起来。\n",
    "\n",
    "下面我们需要一种方法能够逐渐地更新矩阵，以使成本函数的计算值逐步降低。《集体智慧编程学习之优化系统》里的退火法和遗传算法都能满足要求。这里我来学习一种更为的方法，乘法更新矩阵法则。法则的具体原理先不学习，先直接拿来用。有兴趣的看这篇论文《Algorithms for Non-negative Matrix Factorization》\n",
    "\n",
    "这个法则产生四个新的更新矩阵：\n",
    "\n",
    "hn：转置后的权重矩阵与数据矩阵相乘而来；\n",
    "\n",
    "hd：转置后的权重矩阵与原权重矩阵相乘，再与特征矩阵相乘而来；\n",
    "\n",
    "wn：数据矩阵与转置后的特征矩阵相乘而来；\n",
    "\n",
    "wd：权重矩阵与特征矩阵相乘，再与转置后的特征矩阵相乘而来；\n",
    "\n",
    "更新特征矩阵和权重矩阵，我们将特征矩阵中的每个值与hn中的对应值相乘，并除以hd中的对应值；再将权重矩阵中的每个值与wn中的对应值相乘，并除以wd中的对应值下面看用python的算法实现："
   ]
  },
  {
   "cell_type": "code",
   "execution_count": 85,
   "metadata": {
    "collapsed": true
   },
   "outputs": [],
   "source": [
    "def factorize(v,pc=10,iter=50):\n",
    "    ic = shape(v)[0]\n",
    "    fc = shape(v)[1]\n",
    "    \n",
    "    #以随机值初始化权重矩阵和特征矩阵\n",
    "    #前一矩阵的列数要与后一矩阵相等，积的列数与前一矩阵行数相等，行数与后一矩阵列数相等\n",
    "    w = matrix([[random.random() for j in range(pc)] for i in range(ic)])\n",
    "    h = matrix([[random.random() for i in range(fc)] for i in range(pc)])\n",
    "    \n",
    "    #最多执行iter次操作\n",
    "    for i in range(iter):\n",
    "        #计算出跟数据矩阵一样大小的矩阵\n",
    "        wh = w*h\n",
    "        \n",
    "        #计算差值的平方和\n",
    "        cost = difcost(v,wh)\n",
    "        \n",
    "        if i%10==0: print(cost)\n",
    "            \n",
    "        #如果矩阵已分解彻底，则立即停止\n",
    "        if cost==0:break\n",
    "            \n",
    "        #更新特征矩阵\n",
    "        #hn是转置之后的权重矩阵与数据矩阵相乘得到\n",
    "        hn = (transpose(w)*v)\n",
    "        #hd由转置之后的权重矩阵与原权重矩阵相乘，再与特征矩阵相乘得到\n",
    "        hd = (transpose(w)*w*h)\n",
    "        \n",
    "        h=matrix(array(h)*array(hn)/array(hd))\n",
    "        \n",
    "        #更新权重矩阵\n",
    "        #wn由数据矩阵与转置后的特征矩阵相乘得到\n",
    "        wn = (v*transpose(h))\n",
    "        #wd由权重矩阵与特征矩阵相乘，再与转置后特征矩阵相乘得到\n",
    "        wd = (w*h*transpose(h))\n",
    "        \n",
    "        w = matrix(array(w)*array(wn)/array(wd))\n",
    "        \n",
    "    return w,h\n",
    "        "
   ]
  },
  {
   "cell_type": "markdown",
   "metadata": {},
   "source": [
    "参数pc指定我们希望找到的特征数，iter是最多执行次数。\n",
    "\n",
    "来看看我机器执行的测试："
   ]
  },
  {
   "cell_type": "code",
   "execution_count": 86,
   "metadata": {},
   "outputs": [
    {
     "name": "stdout",
     "output_type": "stream",
     "text": [
      "7523.22264461\n",
      "0.570198977371\n",
      "0.0258549174037\n",
      "0.00122829373867\n",
      "5.89157475872e-05\n",
      "2.8317985959e-06\n",
      "1.36172839396e-07\n",
      "6.54880159456e-09\n",
      "3.14950750374e-10\n",
      "1.51469621097e-11\n"
     ]
    }
   ],
   "source": [
    "w,h=factorize(m1*m2,pc=3,iter=100)\n"
   ]
  },
  {
   "cell_type": "code",
   "execution_count": 87,
   "metadata": {},
   "outputs": [
    {
     "data": {
      "text/plain": [
       "matrix([[ 21.99999939,  28.00000048],\n",
       "        [ 49.00000027,  63.99999979]])"
      ]
     },
     "execution_count": 87,
     "metadata": {},
     "output_type": "execute_result"
    }
   ],
   "source": [
    "w*h"
   ]
  },
  {
   "cell_type": "markdown",
   "metadata": {},
   "source": [
    "测试数据用的例子：每一行都是一本书，每一列都代表一个词，数组中的数字代表这个词在这本书中出现的次数或者TF-IDF值："
   ]
  },
  {
   "cell_type": "code",
   "execution_count": 98,
   "metadata": {},
   "outputs": [
    {
     "name": "stdout",
     "output_type": "stream",
     "text": [
      "1993.22555289\n",
      "41.4919137555\n",
      "21.7412734572\n",
      "14.164815717\n",
      "7.9169743513\n"
     ]
    }
   ],
   "source": [
    "books = [      \n",
    "  [2, 3, 3, 12, 13, 12],      \n",
    "  [3, 3, 1, 13, 12, 11],   \n",
    "  [1, 10, 3, 5, 11, 13],      \n",
    "  [13, 12, 11, 1, 3, 3],      \n",
    "  [12, 13, 12, 3, 2, 2],      \n",
    "  [5, 11, 13, 3, 1, 10]    \n",
    "]    \n",
    "\n",
    "v=matrix(books)\n",
    "\n",
    "w,f=factorize(v,pc=6)"
   ]
  },
  {
   "cell_type": "code",
   "execution_count": 99,
   "metadata": {},
   "outputs": [
    {
     "data": {
      "text/plain": [
       "matrix([[  1.24585521e-01,   1.48729284e+00,   4.04960882e-02,\n",
       "           1.70385597e-01,   2.31012462e-01,   1.85752661e-01],\n",
       "        [  7.64551837e-02,   1.48075816e+00,   3.17867242e-03,\n",
       "           3.35106992e-03,   2.33748951e-01,   3.52256488e-01],\n",
       "        [  2.13662676e+00,   6.86159509e-01,   8.69306616e-02,\n",
       "           2.11246575e-01,   1.33442067e-02,   1.22689810e-03],\n",
       "        [  3.82264121e-01,   3.11470081e-03,   1.51652956e+00,\n",
       "           2.83230474e-01,   3.65328094e-01,   8.19199765e-01],\n",
       "        [  1.40799516e-01,   1.58967327e-03,   1.36843270e+00,\n",
       "           3.81414366e-01,   1.28555766e+00,   3.27296870e-01],\n",
       "        [  5.78398824e-01,   4.00724177e-02,   1.43524926e-01,\n",
       "           1.88238841e+00,   1.50394226e-01,   3.68691695e-01]])"
      ]
     },
     "execution_count": 99,
     "metadata": {},
     "output_type": "execute_result"
    }
   ],
   "source": [
    "w"
   ]
  },
  {
   "cell_type": "code",
   "execution_count": 100,
   "metadata": {},
   "outputs": [
    {
     "data": {
      "text/plain": [
       "matrix([[  1.94933307e-01,   3.88442298e+00,   6.25577686e-01,\n",
       "           7.21465882e-04,   2.28720153e+00,   3.37105106e+00],\n",
       "        [  9.49494312e-03,   8.01863536e-01,   5.34185238e-02,\n",
       "           7.83898047e+00,   8.21750467e+00,   7.19324489e+00],\n",
       "        [  4.32131453e+00,   4.97781946e+00,   3.91521132e+00,\n",
       "           2.38181319e-04,   9.80561229e-01,   3.11244043e-05],\n",
       "        [  8.33564258e-01,   3.70936527e+00,   5.74944971e+00,\n",
       "           9.64640355e-01,   5.46903799e-05,   3.94897603e+00],\n",
       "        [  2.94213935e+00,   2.90953848e+00,   2.76344671e+00,\n",
       "           1.70721860e+00,   2.91026294e-01,   1.25053850e-02],\n",
       "        [  6.11148753e+00,   1.18477322e+00,   2.53927053e+00,\n",
       "           9.15675242e-01,   3.28171497e-01,   6.57233824e-01]])"
      ]
     },
     "execution_count": 100,
     "metadata": {},
     "output_type": "execute_result"
    }
   ],
   "source": [
    "f"
   ]
  },
  {
   "cell_type": "code",
   "execution_count": 101,
   "metadata": {},
   "outputs": [
    {
     "data": {
      "text/plain": [
       "matrix([[  2.17032723,   3.40236782,   2.40562796,  12.38779774,\n",
       "          12.67469567,  11.91626749],\n",
       "        [  2.88602587,   2.61004907,   1.69906784,  12.33253591,\n",
       "          12.52975022,  11.15686181],\n",
       "        [  1.02151578,  10.10636329,   2.96817455,   5.60803508,\n",
       "          10.61495348,  12.97357488],\n",
       "        [ 12.94541289,  12.12049081,  10.89498989,   1.67208449,\n",
       "           2.76213382,   2.97252859],\n",
       "        [ 12.04138361,  12.90296775,  12.02245726,   2.87524223,\n",
       "           2.15849351,   2.22350302],\n",
       "        [  4.99817319,  10.85017951,  13.10041632,   2.72476388,\n",
       "           1.95781066,   9.91577127]])"
      ]
     },
     "execution_count": 101,
     "metadata": {},
     "output_type": "execute_result"
    }
   ],
   "source": [
    "w*f"
   ]
  },
  {
   "cell_type": "code",
   "execution_count": 107,
   "metadata": {
    "collapsed": true
   },
   "outputs": [],
   "source": [
    "from numpy import *\n",
    "def showfeatures(w,h,wordvec,out=\"testfeatures.txt\"):\n",
    "    outfile = open(out,'w')\n",
    "    pc,wc = shape(h)\n",
    "   \n",
    "    #遍历所有特征\n",
    "    for i in range(pc):\n",
    "        slist = []\n",
    "        #构造一个包含单词及其权重数据的列表\n",
    "        for j in range(wc):\n",
    "            slist.append((h[i,j],wordvec[j]))\n",
    "        #将单词列表倒序排列\n",
    "        slist.sort()\n",
    "        slist.reverse()\n",
    "        \n",
    "        #打印开始的六个元素\n",
    "        n = [s[1] for s in slist[0:6]]\n",
    "        outfile.write(str(n)+'\\n')\n",
    "        \n",
    "    "
   ]
  },
  {
   "cell_type": "code",
   "execution_count": 108,
   "metadata": {},
   "outputs": [],
   "source": [
    "aa = showfeatures(w,f,books)"
   ]
  },
  {
   "cell_type": "markdown",
   "metadata": {},
   "source": [
    "构建一个函数将重要特征提取出来"
   ]
  },
  {
   "cell_type": "code",
   "execution_count": 109,
   "metadata": {
    "collapsed": true
   },
   "outputs": [],
   "source": [
    "from numpy import *\n",
    "def showfeatures(w,h,titles,wordvec,out=\"features.txt\"):\n",
    "    outfile = open(out,'w')\n",
    "    pc,wc = shape(h)\n",
    "    toppatterns = [[] for i in range(len(titles))]\n",
    "    patternnames=[]\n",
    "    \n",
    "    #遍历所有特征\n",
    "    for i in range(pc):\n",
    "        \n",
    "        #构造一个包含单词及其权重数据的列表\n",
    "        slist = []\n",
    "        for j in range(wc):\n",
    "            slist.append((h[i,j],wordvec[j]))\n",
    "        #将单词列表倒序排列\n",
    "        slist.sort()\n",
    "        slist.reverse()\n",
    "        \n",
    "        #打印开始的六个元素\n",
    "        n = [s[1] for s in slist[0:6]]\n",
    "        outfile.write(str(n)+'\\n')\n",
    "        patternnames.append(n)\n",
    "        \n",
    "        #构造一个针对该特征的文章列表\n",
    "        flist =[]\n",
    "        for j in range(len(titles)):\n",
    "            #加入文章及其权重数据\n",
    "            flist.append((w[j,i],titles[j]))\n",
    "            toppatterns[j].append((w[j,i],i,titles[j]))\n",
    "            \n",
    "        #将该列表倒序排列\n",
    "        flist.sort()\n",
    "        fli.reverse()\n",
    "        \n",
    "        #显示前三篇文章\n",
    "        for f in flist[0:3]:\n",
    "            outfile.write(str(f)+'\\n')\n",
    "            outfile.write('\\n')\n",
    "            \n",
    "    outfile.write('\\n')\n",
    "    #返回模式名称\n",
    "    return toppatterns,patternnames\n",
    "    "
   ]
  },
  {
   "cell_type": "code",
   "execution_count": null,
   "metadata": {
    "collapsed": true
   },
   "outputs": [],
   "source": [
    "topp,pn = showfeatures(weights,feat,artt,wordvec)"
   ]
  },
  {
   "cell_type": "code",
   "execution_count": null,
   "metadata": {
    "collapsed": true
   },
   "outputs": [],
   "source": [
    "import urllib2 #爬虫所需\n",
    "from numpy import *\n",
    "######这段代码的作用是，根据一组股票代码将一堆csv文件下载到本地，并放入一个字典中。\n",
    "####它还记载了这些股票中拥有交易记录的最小交易日天数，以此作为观测矩阵的行数\n",
    "# tickers=['YHOO','AVP','BIIB','BP','CL','CVX',\n",
    "#          'DNA','EXPE','GOOG','PG','XOM','AMGN']#将要提取特征的股票代码存入一个列表中\n",
    "\n",
    "tickers=['YHOO','AVP','BIIB']\n",
    "\n",
    "shortest=300 #建立一个变量shortest用于记录最小交易日天数，赋初值300\n",
    "prices={} #建立空字典prices\n",
    "dates=None #如果一个变量的值是None，它说明这个变量没有值。\n",
    "\n",
    "for t in tickers: #遍历tickers列表中的每一个股票代码\n",
    "  # 打开URL\n",
    "  rows=urllib2.urlopen('http://ichart.finance.yahoo.com/table.csv?'+\\\n",
    "                       's=%s&d=11&e=26&f=2006&g=d&a=3&b=12&c=1996'%t +\\\n",
    "                       '&ignore=.csv').readlines() #readlines() 自动将文件内容分析成一个行的列表\n",
    "  #此时rows可以得到一个列表，列表的每一项对应打开的csv文件的每一个行\n",
    "  \n",
    "  #从每一个行中提取成交量\n",
    "  prices[t]=[float(r.split(',')[5]) for r in rows[1:] if r.strip()!=''] #在price字典中把股票代码加入key，等号后面的意思是，遍历rows文件中的第二项到最后一项（因为第一项是列名，不需要遍历），如果遍历出来的东西（即r）不为空值的话，以逗号为分隔符将r进行分隔，并取第六项（即成交量），同时将成交转换为浮点数的形式\n",
    "  if len(prices[t])<shortest: shortest=len(prices[t]) #len(prices[t])实际上就是字典prices的value的项数，实际意义为交易日天数，这里设置了一个条件循环，如果算出来的交易日天数小于先前的shortest，就把这个交易日赋值给shortest,这样循环下去，shortest就为最小交易日天数\n",
    "  \n",
    "  if not dates: #相当于if not (dates is None)\n",
    "    dates=[r.split(',')[0] for r in rows[1:] if r.strip()!=''] #将dates提取出来，做法类似于上方prices[t]\n",
    "\n",
    "####准备矩阵\n",
    "l1=[[prices[tickers[i]][j] \n",
    "     for i in range(len(tickers))] \n",
    "    for j in range(shortest)] #l1为一个list，记录每个股票每天的成交量（最小天数内），l1=[[成交量，成交量，成交量],[成交量，成交量，成交量],...]\n",
    "####运行NMF\n",
    "w,h=nnmf.factorize(matrix(l1),pc=5)\n",
    "\n",
    "print h\n",
    "print w\n",
    "\n",
    "# Loop over all the features\n",
    "for i in range(shape(h)[0]):\n",
    "  print \"Feature %d\" %i\n",
    "  \n",
    "  # Get the top stocks for this feature\n",
    "  ol=[(h[i,j],tickers[j]) for j in range(shape(h)[1])]\n",
    "  ol.sort()\n",
    "  ol.reverse()\n",
    "  for j in range(12):\n",
    "    print ol[j]\n",
    "  print\n",
    "  \n",
    "  # Show the top dates for this feature\n",
    "  porder=[(w[d,i],d) for d in range(300)]\n",
    "  porder.sort()\n",
    "  porder.reverse()\n",
    "  print [(p[0],dates[p[1]]) for p in porder[0:3]]\n",
    "  print"
   ]
  },
  {
   "cell_type": "code",
   "execution_count": 114,
   "metadata": {},
   "outputs": [
    {
     "ename": "URLError",
     "evalue": "<urlopen error [WinError 10060] 由于连接方在一段时间后没有正确答复或连接的主机没有反应，连接尝试失败。>",
     "output_type": "error",
     "traceback": [
      "\u001b[1;31m---------------------------------------------------------------------------\u001b[0m",
      "\u001b[1;31mTimeoutError\u001b[0m                              Traceback (most recent call last)",
      "\u001b[1;32mD:\\anaconda\\envs\\lib\\urllib\\request.py\u001b[0m in \u001b[0;36mdo_open\u001b[1;34m(self, http_class, req, **http_conn_args)\u001b[0m\n\u001b[0;32m   1317\u001b[0m                 h.request(req.get_method(), req.selector, req.data, headers,\n\u001b[1;32m-> 1318\u001b[1;33m                           encode_chunked=req.has_header('Transfer-encoding'))\n\u001b[0m\u001b[0;32m   1319\u001b[0m             \u001b[1;32mexcept\u001b[0m \u001b[0mOSError\u001b[0m \u001b[1;32mas\u001b[0m \u001b[0merr\u001b[0m\u001b[1;33m:\u001b[0m \u001b[1;31m# timeout error\u001b[0m\u001b[1;33m\u001b[0m\u001b[0m\n",
      "\u001b[1;32mD:\\anaconda\\envs\\lib\\http\\client.py\u001b[0m in \u001b[0;36mrequest\u001b[1;34m(self, method, url, body, headers, encode_chunked)\u001b[0m\n\u001b[0;32m   1238\u001b[0m         \u001b[1;34m\"\"\"Send a complete request to the server.\"\"\"\u001b[0m\u001b[1;33m\u001b[0m\u001b[0m\n\u001b[1;32m-> 1239\u001b[1;33m         \u001b[0mself\u001b[0m\u001b[1;33m.\u001b[0m\u001b[0m_send_request\u001b[0m\u001b[1;33m(\u001b[0m\u001b[0mmethod\u001b[0m\u001b[1;33m,\u001b[0m \u001b[0murl\u001b[0m\u001b[1;33m,\u001b[0m \u001b[0mbody\u001b[0m\u001b[1;33m,\u001b[0m \u001b[0mheaders\u001b[0m\u001b[1;33m,\u001b[0m \u001b[0mencode_chunked\u001b[0m\u001b[1;33m)\u001b[0m\u001b[1;33m\u001b[0m\u001b[0m\n\u001b[0m\u001b[0;32m   1240\u001b[0m \u001b[1;33m\u001b[0m\u001b[0m\n",
      "\u001b[1;32mD:\\anaconda\\envs\\lib\\http\\client.py\u001b[0m in \u001b[0;36m_send_request\u001b[1;34m(self, method, url, body, headers, encode_chunked)\u001b[0m\n\u001b[0;32m   1284\u001b[0m             \u001b[0mbody\u001b[0m \u001b[1;33m=\u001b[0m \u001b[0m_encode\u001b[0m\u001b[1;33m(\u001b[0m\u001b[0mbody\u001b[0m\u001b[1;33m,\u001b[0m \u001b[1;34m'body'\u001b[0m\u001b[1;33m)\u001b[0m\u001b[1;33m\u001b[0m\u001b[0m\n\u001b[1;32m-> 1285\u001b[1;33m         \u001b[0mself\u001b[0m\u001b[1;33m.\u001b[0m\u001b[0mendheaders\u001b[0m\u001b[1;33m(\u001b[0m\u001b[0mbody\u001b[0m\u001b[1;33m,\u001b[0m \u001b[0mencode_chunked\u001b[0m\u001b[1;33m=\u001b[0m\u001b[0mencode_chunked\u001b[0m\u001b[1;33m)\u001b[0m\u001b[1;33m\u001b[0m\u001b[0m\n\u001b[0m\u001b[0;32m   1286\u001b[0m \u001b[1;33m\u001b[0m\u001b[0m\n",
      "\u001b[1;32mD:\\anaconda\\envs\\lib\\http\\client.py\u001b[0m in \u001b[0;36mendheaders\u001b[1;34m(self, message_body, encode_chunked)\u001b[0m\n\u001b[0;32m   1233\u001b[0m             \u001b[1;32mraise\u001b[0m \u001b[0mCannotSendHeader\u001b[0m\u001b[1;33m(\u001b[0m\u001b[1;33m)\u001b[0m\u001b[1;33m\u001b[0m\u001b[0m\n\u001b[1;32m-> 1234\u001b[1;33m         \u001b[0mself\u001b[0m\u001b[1;33m.\u001b[0m\u001b[0m_send_output\u001b[0m\u001b[1;33m(\u001b[0m\u001b[0mmessage_body\u001b[0m\u001b[1;33m,\u001b[0m \u001b[0mencode_chunked\u001b[0m\u001b[1;33m=\u001b[0m\u001b[0mencode_chunked\u001b[0m\u001b[1;33m)\u001b[0m\u001b[1;33m\u001b[0m\u001b[0m\n\u001b[0m\u001b[0;32m   1235\u001b[0m \u001b[1;33m\u001b[0m\u001b[0m\n",
      "\u001b[1;32mD:\\anaconda\\envs\\lib\\http\\client.py\u001b[0m in \u001b[0;36m_send_output\u001b[1;34m(self, message_body, encode_chunked)\u001b[0m\n\u001b[0;32m   1025\u001b[0m         \u001b[1;32mdel\u001b[0m \u001b[0mself\u001b[0m\u001b[1;33m.\u001b[0m\u001b[0m_buffer\u001b[0m\u001b[1;33m[\u001b[0m\u001b[1;33m:\u001b[0m\u001b[1;33m]\u001b[0m\u001b[1;33m\u001b[0m\u001b[0m\n\u001b[1;32m-> 1026\u001b[1;33m         \u001b[0mself\u001b[0m\u001b[1;33m.\u001b[0m\u001b[0msend\u001b[0m\u001b[1;33m(\u001b[0m\u001b[0mmsg\u001b[0m\u001b[1;33m)\u001b[0m\u001b[1;33m\u001b[0m\u001b[0m\n\u001b[0m\u001b[0;32m   1027\u001b[0m \u001b[1;33m\u001b[0m\u001b[0m\n",
      "\u001b[1;32mD:\\anaconda\\envs\\lib\\http\\client.py\u001b[0m in \u001b[0;36msend\u001b[1;34m(self, data)\u001b[0m\n\u001b[0;32m    963\u001b[0m             \u001b[1;32mif\u001b[0m \u001b[0mself\u001b[0m\u001b[1;33m.\u001b[0m\u001b[0mauto_open\u001b[0m\u001b[1;33m:\u001b[0m\u001b[1;33m\u001b[0m\u001b[0m\n\u001b[1;32m--> 964\u001b[1;33m                 \u001b[0mself\u001b[0m\u001b[1;33m.\u001b[0m\u001b[0mconnect\u001b[0m\u001b[1;33m(\u001b[0m\u001b[1;33m)\u001b[0m\u001b[1;33m\u001b[0m\u001b[0m\n\u001b[0m\u001b[0;32m    965\u001b[0m             \u001b[1;32melse\u001b[0m\u001b[1;33m:\u001b[0m\u001b[1;33m\u001b[0m\u001b[0m\n",
      "\u001b[1;32mD:\\anaconda\\envs\\lib\\http\\client.py\u001b[0m in \u001b[0;36mconnect\u001b[1;34m(self)\u001b[0m\n\u001b[0;32m    935\u001b[0m         self.sock = self._create_connection(\n\u001b[1;32m--> 936\u001b[1;33m             (self.host,self.port), self.timeout, self.source_address)\n\u001b[0m\u001b[0;32m    937\u001b[0m         \u001b[0mself\u001b[0m\u001b[1;33m.\u001b[0m\u001b[0msock\u001b[0m\u001b[1;33m.\u001b[0m\u001b[0msetsockopt\u001b[0m\u001b[1;33m(\u001b[0m\u001b[0msocket\u001b[0m\u001b[1;33m.\u001b[0m\u001b[0mIPPROTO_TCP\u001b[0m\u001b[1;33m,\u001b[0m \u001b[0msocket\u001b[0m\u001b[1;33m.\u001b[0m\u001b[0mTCP_NODELAY\u001b[0m\u001b[1;33m,\u001b[0m \u001b[1;36m1\u001b[0m\u001b[1;33m)\u001b[0m\u001b[1;33m\u001b[0m\u001b[0m\n",
      "\u001b[1;32mD:\\anaconda\\envs\\lib\\socket.py\u001b[0m in \u001b[0;36mcreate_connection\u001b[1;34m(address, timeout, source_address)\u001b[0m\n\u001b[0;32m    721\u001b[0m     \u001b[1;32mif\u001b[0m \u001b[0merr\u001b[0m \u001b[1;32mis\u001b[0m \u001b[1;32mnot\u001b[0m \u001b[1;32mNone\u001b[0m\u001b[1;33m:\u001b[0m\u001b[1;33m\u001b[0m\u001b[0m\n\u001b[1;32m--> 722\u001b[1;33m         \u001b[1;32mraise\u001b[0m \u001b[0merr\u001b[0m\u001b[1;33m\u001b[0m\u001b[0m\n\u001b[0m\u001b[0;32m    723\u001b[0m     \u001b[1;32melse\u001b[0m\u001b[1;33m:\u001b[0m\u001b[1;33m\u001b[0m\u001b[0m\n",
      "\u001b[1;32mD:\\anaconda\\envs\\lib\\socket.py\u001b[0m in \u001b[0;36mcreate_connection\u001b[1;34m(address, timeout, source_address)\u001b[0m\n\u001b[0;32m    712\u001b[0m                 \u001b[0msock\u001b[0m\u001b[1;33m.\u001b[0m\u001b[0mbind\u001b[0m\u001b[1;33m(\u001b[0m\u001b[0msource_address\u001b[0m\u001b[1;33m)\u001b[0m\u001b[1;33m\u001b[0m\u001b[0m\n\u001b[1;32m--> 713\u001b[1;33m             \u001b[0msock\u001b[0m\u001b[1;33m.\u001b[0m\u001b[0mconnect\u001b[0m\u001b[1;33m(\u001b[0m\u001b[0msa\u001b[0m\u001b[1;33m)\u001b[0m\u001b[1;33m\u001b[0m\u001b[0m\n\u001b[0m\u001b[0;32m    714\u001b[0m             \u001b[1;32mreturn\u001b[0m \u001b[0msock\u001b[0m\u001b[1;33m\u001b[0m\u001b[0m\n",
      "\u001b[1;31mTimeoutError\u001b[0m: [WinError 10060] 由于连接方在一段时间后没有正确答复或连接的主机没有反应，连接尝试失败。",
      "\nDuring handling of the above exception, another exception occurred:\n",
      "\u001b[1;31mURLError\u001b[0m                                  Traceback (most recent call last)",
      "\u001b[1;32m<ipython-input-114-4f3b25469dd5>\u001b[0m in \u001b[0;36m<module>\u001b[1;34m()\u001b[0m\n\u001b[0;32m     14\u001b[0m \u001b[1;32mfor\u001b[0m \u001b[0mt\u001b[0m \u001b[1;32min\u001b[0m \u001b[0mtickers\u001b[0m\u001b[1;33m:\u001b[0m \u001b[1;31m#遍历tickers列表中的每一个股票代码\u001b[0m\u001b[1;33m\u001b[0m\u001b[0m\n\u001b[0;32m     15\u001b[0m   \u001b[1;31m# 打开URL\u001b[0m\u001b[1;33m\u001b[0m\u001b[1;33m\u001b[0m\u001b[0m\n\u001b[1;32m---> 16\u001b[1;33m     \u001b[0mrows\u001b[0m\u001b[1;33m=\u001b[0m\u001b[0murlopen\u001b[0m\u001b[1;33m(\u001b[0m\u001b[1;34m'http://ichart.finance.yahoo.com/table.csv?'\u001b[0m\u001b[1;33m+\u001b[0m                       \u001b[1;34m's=%s&d=11&e=26&f=2006&g=d&a=3&b=12&c=1996'\u001b[0m\u001b[1;33m%\u001b[0m\u001b[0mt\u001b[0m \u001b[1;33m+\u001b[0m                       \u001b[1;34m'&ignore=.csv'\u001b[0m\u001b[1;33m)\u001b[0m\u001b[1;33m.\u001b[0m\u001b[0mreadlines\u001b[0m\u001b[1;33m(\u001b[0m\u001b[1;33m)\u001b[0m \u001b[1;31m#readlines() 自动将文件内容分析成一个行的列表\u001b[0m\u001b[1;33m\u001b[0m\u001b[0m\n\u001b[0m\u001b[0;32m     17\u001b[0m     \u001b[1;31m#此时rows可以得到一个列表，列表的每一项对应打开的csv文件的每一个行\u001b[0m\u001b[1;33m\u001b[0m\u001b[1;33m\u001b[0m\u001b[0m\n\u001b[0;32m     18\u001b[0m \u001b[1;33m\u001b[0m\u001b[0m\n",
      "\u001b[1;32mD:\\anaconda\\envs\\lib\\urllib\\request.py\u001b[0m in \u001b[0;36murlopen\u001b[1;34m(url, data, timeout, cafile, capath, cadefault, context)\u001b[0m\n\u001b[0;32m    221\u001b[0m     \u001b[1;32melse\u001b[0m\u001b[1;33m:\u001b[0m\u001b[1;33m\u001b[0m\u001b[0m\n\u001b[0;32m    222\u001b[0m         \u001b[0mopener\u001b[0m \u001b[1;33m=\u001b[0m \u001b[0m_opener\u001b[0m\u001b[1;33m\u001b[0m\u001b[0m\n\u001b[1;32m--> 223\u001b[1;33m     \u001b[1;32mreturn\u001b[0m \u001b[0mopener\u001b[0m\u001b[1;33m.\u001b[0m\u001b[0mopen\u001b[0m\u001b[1;33m(\u001b[0m\u001b[0murl\u001b[0m\u001b[1;33m,\u001b[0m \u001b[0mdata\u001b[0m\u001b[1;33m,\u001b[0m \u001b[0mtimeout\u001b[0m\u001b[1;33m)\u001b[0m\u001b[1;33m\u001b[0m\u001b[0m\n\u001b[0m\u001b[0;32m    224\u001b[0m \u001b[1;33m\u001b[0m\u001b[0m\n\u001b[0;32m    225\u001b[0m \u001b[1;32mdef\u001b[0m \u001b[0minstall_opener\u001b[0m\u001b[1;33m(\u001b[0m\u001b[0mopener\u001b[0m\u001b[1;33m)\u001b[0m\u001b[1;33m:\u001b[0m\u001b[1;33m\u001b[0m\u001b[0m\n",
      "\u001b[1;32mD:\\anaconda\\envs\\lib\\urllib\\request.py\u001b[0m in \u001b[0;36mopen\u001b[1;34m(self, fullurl, data, timeout)\u001b[0m\n\u001b[0;32m    524\u001b[0m             \u001b[0mreq\u001b[0m \u001b[1;33m=\u001b[0m \u001b[0mmeth\u001b[0m\u001b[1;33m(\u001b[0m\u001b[0mreq\u001b[0m\u001b[1;33m)\u001b[0m\u001b[1;33m\u001b[0m\u001b[0m\n\u001b[0;32m    525\u001b[0m \u001b[1;33m\u001b[0m\u001b[0m\n\u001b[1;32m--> 526\u001b[1;33m         \u001b[0mresponse\u001b[0m \u001b[1;33m=\u001b[0m \u001b[0mself\u001b[0m\u001b[1;33m.\u001b[0m\u001b[0m_open\u001b[0m\u001b[1;33m(\u001b[0m\u001b[0mreq\u001b[0m\u001b[1;33m,\u001b[0m \u001b[0mdata\u001b[0m\u001b[1;33m)\u001b[0m\u001b[1;33m\u001b[0m\u001b[0m\n\u001b[0m\u001b[0;32m    527\u001b[0m \u001b[1;33m\u001b[0m\u001b[0m\n\u001b[0;32m    528\u001b[0m         \u001b[1;31m# post-process response\u001b[0m\u001b[1;33m\u001b[0m\u001b[1;33m\u001b[0m\u001b[0m\n",
      "\u001b[1;32mD:\\anaconda\\envs\\lib\\urllib\\request.py\u001b[0m in \u001b[0;36m_open\u001b[1;34m(self, req, data)\u001b[0m\n\u001b[0;32m    542\u001b[0m         \u001b[0mprotocol\u001b[0m \u001b[1;33m=\u001b[0m \u001b[0mreq\u001b[0m\u001b[1;33m.\u001b[0m\u001b[0mtype\u001b[0m\u001b[1;33m\u001b[0m\u001b[0m\n\u001b[0;32m    543\u001b[0m         result = self._call_chain(self.handle_open, protocol, protocol +\n\u001b[1;32m--> 544\u001b[1;33m                                   '_open', req)\n\u001b[0m\u001b[0;32m    545\u001b[0m         \u001b[1;32mif\u001b[0m \u001b[0mresult\u001b[0m\u001b[1;33m:\u001b[0m\u001b[1;33m\u001b[0m\u001b[0m\n\u001b[0;32m    546\u001b[0m             \u001b[1;32mreturn\u001b[0m \u001b[0mresult\u001b[0m\u001b[1;33m\u001b[0m\u001b[0m\n",
      "\u001b[1;32mD:\\anaconda\\envs\\lib\\urllib\\request.py\u001b[0m in \u001b[0;36m_call_chain\u001b[1;34m(self, chain, kind, meth_name, *args)\u001b[0m\n\u001b[0;32m    502\u001b[0m         \u001b[1;32mfor\u001b[0m \u001b[0mhandler\u001b[0m \u001b[1;32min\u001b[0m \u001b[0mhandlers\u001b[0m\u001b[1;33m:\u001b[0m\u001b[1;33m\u001b[0m\u001b[0m\n\u001b[0;32m    503\u001b[0m             \u001b[0mfunc\u001b[0m \u001b[1;33m=\u001b[0m \u001b[0mgetattr\u001b[0m\u001b[1;33m(\u001b[0m\u001b[0mhandler\u001b[0m\u001b[1;33m,\u001b[0m \u001b[0mmeth_name\u001b[0m\u001b[1;33m)\u001b[0m\u001b[1;33m\u001b[0m\u001b[0m\n\u001b[1;32m--> 504\u001b[1;33m             \u001b[0mresult\u001b[0m \u001b[1;33m=\u001b[0m \u001b[0mfunc\u001b[0m\u001b[1;33m(\u001b[0m\u001b[1;33m*\u001b[0m\u001b[0margs\u001b[0m\u001b[1;33m)\u001b[0m\u001b[1;33m\u001b[0m\u001b[0m\n\u001b[0m\u001b[0;32m    505\u001b[0m             \u001b[1;32mif\u001b[0m \u001b[0mresult\u001b[0m \u001b[1;32mis\u001b[0m \u001b[1;32mnot\u001b[0m \u001b[1;32mNone\u001b[0m\u001b[1;33m:\u001b[0m\u001b[1;33m\u001b[0m\u001b[0m\n\u001b[0;32m    506\u001b[0m                 \u001b[1;32mreturn\u001b[0m \u001b[0mresult\u001b[0m\u001b[1;33m\u001b[0m\u001b[0m\n",
      "\u001b[1;32mD:\\anaconda\\envs\\lib\\urllib\\request.py\u001b[0m in \u001b[0;36mhttp_open\u001b[1;34m(self, req)\u001b[0m\n\u001b[0;32m   1344\u001b[0m \u001b[1;33m\u001b[0m\u001b[0m\n\u001b[0;32m   1345\u001b[0m     \u001b[1;32mdef\u001b[0m \u001b[0mhttp_open\u001b[0m\u001b[1;33m(\u001b[0m\u001b[0mself\u001b[0m\u001b[1;33m,\u001b[0m \u001b[0mreq\u001b[0m\u001b[1;33m)\u001b[0m\u001b[1;33m:\u001b[0m\u001b[1;33m\u001b[0m\u001b[0m\n\u001b[1;32m-> 1346\u001b[1;33m         \u001b[1;32mreturn\u001b[0m \u001b[0mself\u001b[0m\u001b[1;33m.\u001b[0m\u001b[0mdo_open\u001b[0m\u001b[1;33m(\u001b[0m\u001b[0mhttp\u001b[0m\u001b[1;33m.\u001b[0m\u001b[0mclient\u001b[0m\u001b[1;33m.\u001b[0m\u001b[0mHTTPConnection\u001b[0m\u001b[1;33m,\u001b[0m \u001b[0mreq\u001b[0m\u001b[1;33m)\u001b[0m\u001b[1;33m\u001b[0m\u001b[0m\n\u001b[0m\u001b[0;32m   1347\u001b[0m \u001b[1;33m\u001b[0m\u001b[0m\n\u001b[0;32m   1348\u001b[0m     \u001b[0mhttp_request\u001b[0m \u001b[1;33m=\u001b[0m \u001b[0mAbstractHTTPHandler\u001b[0m\u001b[1;33m.\u001b[0m\u001b[0mdo_request_\u001b[0m\u001b[1;33m\u001b[0m\u001b[0m\n",
      "\u001b[1;32mD:\\anaconda\\envs\\lib\\urllib\\request.py\u001b[0m in \u001b[0;36mdo_open\u001b[1;34m(self, http_class, req, **http_conn_args)\u001b[0m\n\u001b[0;32m   1318\u001b[0m                           encode_chunked=req.has_header('Transfer-encoding'))\n\u001b[0;32m   1319\u001b[0m             \u001b[1;32mexcept\u001b[0m \u001b[0mOSError\u001b[0m \u001b[1;32mas\u001b[0m \u001b[0merr\u001b[0m\u001b[1;33m:\u001b[0m \u001b[1;31m# timeout error\u001b[0m\u001b[1;33m\u001b[0m\u001b[0m\n\u001b[1;32m-> 1320\u001b[1;33m                 \u001b[1;32mraise\u001b[0m \u001b[0mURLError\u001b[0m\u001b[1;33m(\u001b[0m\u001b[0merr\u001b[0m\u001b[1;33m)\u001b[0m\u001b[1;33m\u001b[0m\u001b[0m\n\u001b[0m\u001b[0;32m   1321\u001b[0m             \u001b[0mr\u001b[0m \u001b[1;33m=\u001b[0m \u001b[0mh\u001b[0m\u001b[1;33m.\u001b[0m\u001b[0mgetresponse\u001b[0m\u001b[1;33m(\u001b[0m\u001b[1;33m)\u001b[0m\u001b[1;33m\u001b[0m\u001b[0m\n\u001b[0;32m   1322\u001b[0m         \u001b[1;32mexcept\u001b[0m\u001b[1;33m:\u001b[0m\u001b[1;33m\u001b[0m\u001b[0m\n",
      "\u001b[1;31mURLError\u001b[0m: <urlopen error [WinError 10060] 由于连接方在一段时间后没有正确答复或连接的主机没有反应，连接尝试失败。>"
     ]
    }
   ],
   "source": [
    "from urllib.request import urlopen #爬虫所需\n",
    "from numpy import *\n",
    "######这段代码的作用是，根据一组股票代码将一堆csv文件下载到本地，并放入一个字典中。\n",
    "####它还记载了这些股票中拥有交易记录的最小交易日天数，以此作为观测矩阵的行数\n",
    "# tickers=['YHOO','AVP','BIIB','BP','CL','CVX',\n",
    "#          'DNA','EXPE','GOOG','PG','XOM','AMGN']#将要提取特征的股票代码存入一个列表中\n",
    "\n",
    "tickers=['YHOO','AVP','BIIB']\n",
    "\n",
    "shortest=300 #建立一个变量shortest用于记录最小交易日天数，赋初值300\n",
    "prices={} #建立空字典prices\n",
    "dates=None #如果一个变量的值是None，它说明这个变量没有值。\n",
    "\n",
    "for t in tickers: #遍历tickers列表中的每一个股票代码\n",
    "  # 打开URL\n",
    "    rows=urlopen('http://ichart.finance.yahoo.com/table.csv?'+\\\n",
    "                       's=%s&d=11&e=26&f=2006&g=d&a=3&b=12&c=1996'%t +\\\n",
    "                       '&ignore=.csv').readlines() #readlines() 自动将文件内容分析成一个行的列表\n",
    "    #此时rows可以得到一个列表，列表的每一项对应打开的csv文件的每一个行\n",
    "\n",
    "    #从每一个行中提取成交量\n",
    "    prices[t]=[float(r.split(',')[5]) for r in rows[1:] if r.strip()!=''] #在price字典中把股票代码加入key，等号后面的意思是，遍历rows文件中的第二项到最后一项（因为第一项是列名，不需要遍历），如果遍历出来的东西（即r）不为空值的话，以逗号为分隔符将r进行分隔，并取第六项（即成交量），同时将成交转换为浮点数的形式\n",
    "    if len(prices[t])<shortest: shortest=len(prices[t]) #len(prices[t])实际上就是字典prices的value的项数，实际意义为交易日天数，这里设置了一个条件循环，如果算出来的交易日天数小于先前的shortest，就把这个交易日赋值给shortest,这样循环下去，shortest就为最小交易日天数\n",
    "\n",
    "    if not dates: #相当于if not (dates is None)\n",
    "        dates=[r.split(',')[0] for r in rows[1:] if r.strip()!=''] #将dates提取出来，做法类似于上方prices[t]\n",
    "\n",
    "    ####准备矩阵\n",
    "    l1=[[prices[tickers[i]][j] \n",
    "     for i in range(len(tickers))] \n",
    "    for j in range(shortest)] #l1为一个list，记录每个股票每天的成交量（最小天数内），l1=[[成交量，成交量，成交量],[成交量，成交量，成交量],...]"
   ]
  },
  {
   "cell_type": "code",
   "execution_count": null,
   "metadata": {
    "collapsed": true
   },
   "outputs": [],
   "source": []
  }
 ],
 "metadata": {
  "kernelspec": {
   "display_name": "Python 3",
   "language": "python",
   "name": "python3"
  },
  "language_info": {
   "codemirror_mode": {
    "name": "ipython",
    "version": 3
   },
   "file_extension": ".py",
   "mimetype": "text/x-python",
   "name": "python",
   "nbconvert_exporter": "python",
   "pygments_lexer": "ipython3",
   "version": "3.6.1"
  }
 },
 "nbformat": 4,
 "nbformat_minor": 2
}
