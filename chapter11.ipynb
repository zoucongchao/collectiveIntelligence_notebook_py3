{
 "cells": [
  {
   "cell_type": "markdown",
   "metadata": {},
   "source": [
    "首先构造树状程序，树状程序相当于下面这个函数："
   ]
  },
  {
   "cell_type": "code",
   "execution_count": 1,
   "metadata": {
    "collapsed": true
   },
   "outputs": [],
   "source": [
    "def func(x,y):\n",
    "    if x>3:\n",
    "        return y+5\n",
    "    else:\n",
    "        return y-2"
   ]
  },
  {
   "cell_type": "markdown",
   "metadata": {},
   "source": [
    "构建四个类"
   ]
  },
  {
   "cell_type": "code",
   "execution_count": 120,
   "metadata": {
    "collapsed": true
   },
   "outputs": [],
   "source": [
    "from random import random,randint,choice\n",
    "from copy import deepcopy\n",
    "from math import log\n",
    "\n",
    "#一个封装类，成员包括函数名称，函数本身和该函数接受的参数个数\n",
    "class fwrapper(object):\n",
    "    def __init__(self,function,childcount,name):\n",
    "        self.function = function\n",
    "        self.childcount = childcount\n",
    "        self.name = name\n",
    "\n",
    "#对应于函数型节点，以fwrapper类对其进行初始化,当evaluate被调用时，对各子节点进行求值运算，\n",
    "#然后将函数本身应用于求得结果\n",
    "class node(object):\n",
    "    def __init__(self,fw,children):\n",
    "        self.function = fw.function\n",
    "        self.name = fw.name\n",
    "        self.children = children\n",
    "        \n",
    "    def evaluate(self,inp):\n",
    "        #先对对各子节点进行求值运算\n",
    "        results = [n.evaluate(inp) for n in self.children]\n",
    "        #将函数本身应用于求得结果\n",
    "        return self.function(results)\n",
    "    \n",
    "    def display(self,indent=0):\n",
    "        print((' '*indent)+self.name)\n",
    "        for c in self.children:\n",
    "            c.display(indent+1)\n",
    "    \n",
    "    \n",
    "#此类对应的节点返回的是由idx指定的参数\n",
    "class paramnode(object):\n",
    "    def __init__(self,idx):\n",
    "        self.idx = idx\n",
    "        \n",
    "    def evaluate(self,inp):\n",
    "        return inp[self.idx]\n",
    "    \n",
    "    def display(self,indent=0):\n",
    "        print('%sp%d'%(' '*indent,self.idx))\n",
    "    \n",
    "#返回常量值的节点，仅返回被初始化时所传入的值\n",
    "class constnode(object):\n",
    "    def __init__(self,v):\n",
    "        self.v = v\n",
    "    \n",
    "    def evaluate(self,inp):\n",
    "        return self.v\n",
    "    \n",
    "    def display(self,indent=0):\n",
    "        print('%s%d'%(' '*indent,self.v))\n",
    "    \n",
    "\n",
    "#针对节点的操作函数列表 \n",
    "addw = fwrapper(lambda m: m[0] + m[1],2,'add')\n",
    "\n",
    "subw = fwrapper(lambda m: m[0] - m[1],2,'subtract')\n",
    "\n",
    "mulw = fwrapper(lambda m: m[0] * m[1],2,'multiply')\n",
    "\n",
    "def iffunc(m):\n",
    "    if m[0]>0: return m[1]\n",
    "    else: return m[2]\n",
    "ifw = fwrapper(iffunc,3,'if')\n",
    "\n",
    "def isgreater(m):\n",
    "    if m[0]>m[1]:return 1\n",
    "    else:return 0\n",
    "gtw = fwrapper(isgreater,2,'isgreater')\n",
    "\n",
    "flist = [addw,mulw,ifw,gtw,subw]\n",
    "\n",
    "def exampletree():\n",
    "    \n",
    "    return node(ifw,[node(gtw,[paramnode(0),constnode(3)]),\n",
    "                      node(addw,[paramnode(1),constnode(5)]),\n",
    "                      node(subw,[paramnode(1),constnode(2)])\n",
    "                     ]\n",
    "                 )\n",
    "\n",
    "def makerandomtree(pc,maxdepth=4,fpr=0.5,ppr=0.6):\n",
    "    if random()<fpr and maxdepth>0:\n",
    "        f = choice(flist)\n",
    "        children = [makerandomtree(pc,maxdepth-1,fpr,ppr)\n",
    "                   for i in range(f.childcount)]\n",
    "        return node(f,children)\n",
    "    elif random()<ppr:\n",
    "        return paramnode(randint(0,pc-1))\n",
    "    else:\n",
    "        return constnode(randint(0,10))\n",
    "    \n",
    "def hiddenfunction(x,y):\n",
    "    return x**2 + 2*y + 3*x +5\n",
    "\n",
    "def buildhiddenset():\n",
    "    rows = []\n",
    "    for i in range(200):\n",
    "        x = randint(0,40)\n",
    "        y = randint(0,40)\n",
    "        rows.append([x,y,hiddenfunction(x,y)])\n",
    "    return rows\n",
    "\n",
    "def scorefunction(tree,s):\n",
    "    dif = 0\n",
    "    for data in s:\n",
    "        v = tree.evaluate([data[0],data[1]])\n",
    "        #将求得的结果与实际结果的差值求和，累加值越小，题解的表现越好\n",
    "        dif += abs(v-data[2])\n",
    "    return dif\n",
    "\n",
    "def mutate(t,pc,probchange=0.1):\n",
    "    #如果随机概率小于某个值，对节点进行变异\n",
    "    if random()<probchange:\n",
    "        return makerandomtree(pc)\n",
    "    #否则，再次对子节点进行测试\n",
    "    else:\n",
    "        result = deepcopy(t)\n",
    "        if isinstance(t,node):\n",
    "            result.children = [mutate(c,pc,probchange) for c in t.children]\n",
    "        return result\n",
    " #交叉   \n",
    "def crossover(t1,t2,probswap=0.7,top=1):\n",
    "    if random()<probswap and not top:\n",
    "        return deepcopy(t2)\n",
    "    else:\n",
    "        result = deepcopy(t1)\n",
    "        if isinstance(t1,node) and isinstance(t2,node):\n",
    "            result.children = [crossover(c,choice(t2.children),probswap,0)\n",
    "                              for c in t1.children]\n",
    "        return result\n",
    "\n",
    "def evolve(pc,popsize,rankfunction,maxgen=500,\n",
    "          mutationrate=0.1,breedingrate=0.4,pexp=0.7,pnew=0.05):\n",
    "    \n",
    "    #返回一个随机数，通常是一个较小的数\n",
    "    #pexp取值越小，我们得到的随机数越小，该值越大，筛选过程越严格\n",
    "    def selectindex():\n",
    "        return int(log(random())/log(pexp))\n",
    "    \n",
    "    #创建一个随机的初始种群\n",
    "    population = [makerandomtree(pc) for i in range(popsize)]\n",
    "    for i in range(maxgen):\n",
    "        \n",
    "        #用一个函数将这一组程序从优到劣的顺序排列\n",
    "        scores = rankfunction(population)\n",
    "        print(scores[0][0])\n",
    "        #差距为零，终止\n",
    "        if scores[0][0]==0:break\n",
    "            \n",
    "        #总能得到两个最优的程序\n",
    "        newpop = [scores[0][1],scores[1][1]]\n",
    "        \n",
    "        #构造下一代\n",
    "        #popsize初始种群的大小\n",
    "        while len(newpop)<popsize:\n",
    "            if random()>pnew:\n",
    "                newpop.append(mutate(\n",
    "                    crossover(scores[selectindex()][1],\n",
    "                             scores[selectindex()][1],\n",
    "                            #breedingrate发生交叉的概率\n",
    "                             probswap=breedingrate),\n",
    "                            #mutationrate发生变异的概率\n",
    "                            pc,probchange=mutationrate))\n",
    "                \n",
    "            else:\n",
    "                #加入一个随机节点，以增加种群的多样性\n",
    "                newpop.append(makerandomtree(pc))\n",
    "                \n",
    "        population=newpop\n",
    "    scores[0][1].display()\n",
    "    return scores[0][1]\n",
    "\n",
    "def getrankfunction(dataset):\n",
    "    def rankfunction(population):\n",
    "        scores = [(scorefunction(t,dataset),t) for t in population]\n",
    "        scores.sort()\n",
    "        return scores\n",
    "    return rankfunction\n"
   ]
  },
  {
   "cell_type": "code",
   "execution_count": 121,
   "metadata": {},
   "outputs": [
    {
     "ename": "TypeError",
     "evalue": "'<' not supported between instances of 'node' and 'paramnode'",
     "output_type": "error",
     "traceback": [
      "\u001b[1;31m---------------------------------------------------------------------------\u001b[0m",
      "\u001b[1;31mTypeError\u001b[0m                                 Traceback (most recent call last)",
      "\u001b[1;32m<ipython-input-121-9811434c0180>\u001b[0m in \u001b[0;36m<module>\u001b[1;34m()\u001b[0m\n\u001b[0;32m      1\u001b[0m \u001b[0mrf\u001b[0m \u001b[1;33m=\u001b[0m \u001b[0mgetrankfunction\u001b[0m\u001b[1;33m(\u001b[0m\u001b[0mbuildhiddenset\u001b[0m\u001b[1;33m(\u001b[0m\u001b[1;33m)\u001b[0m\u001b[1;33m)\u001b[0m\u001b[1;33m\u001b[0m\u001b[0m\n\u001b[1;32m----> 2\u001b[1;33m \u001b[0mevolve\u001b[0m\u001b[1;33m(\u001b[0m\u001b[1;36m2\u001b[0m\u001b[1;33m,\u001b[0m\u001b[1;36m500\u001b[0m\u001b[1;33m,\u001b[0m\u001b[0mrf\u001b[0m\u001b[1;33m,\u001b[0m\u001b[0mmutationrate\u001b[0m\u001b[1;33m=\u001b[0m\u001b[1;36m0.2\u001b[0m\u001b[1;33m,\u001b[0m\u001b[0mbreedingrate\u001b[0m\u001b[1;33m=\u001b[0m\u001b[1;36m0.1\u001b[0m\u001b[1;33m,\u001b[0m\u001b[0mpexp\u001b[0m\u001b[1;33m=\u001b[0m\u001b[1;36m0.7\u001b[0m\u001b[1;33m,\u001b[0m\u001b[0mpnew\u001b[0m\u001b[1;33m=\u001b[0m\u001b[1;36m0.1\u001b[0m\u001b[1;33m)\u001b[0m\u001b[1;33m\u001b[0m\u001b[0m\n\u001b[0m",
      "\u001b[1;32m<ipython-input-120-b0cadc35b3eb>\u001b[0m in \u001b[0;36mevolve\u001b[1;34m(pc, popsize, rankfunction, maxgen, mutationrate, breedingrate, pexp, pnew)\u001b[0m\n\u001b[0;32m    144\u001b[0m \u001b[1;33m\u001b[0m\u001b[0m\n\u001b[0;32m    145\u001b[0m         \u001b[1;31m#用一个函数将这一组程序从优到劣的顺序排列\u001b[0m\u001b[1;33m\u001b[0m\u001b[1;33m\u001b[0m\u001b[0m\n\u001b[1;32m--> 146\u001b[1;33m         \u001b[0mscores\u001b[0m \u001b[1;33m=\u001b[0m \u001b[0mrankfunction\u001b[0m\u001b[1;33m(\u001b[0m\u001b[0mpopulation\u001b[0m\u001b[1;33m)\u001b[0m\u001b[1;33m\u001b[0m\u001b[0m\n\u001b[0m\u001b[0;32m    147\u001b[0m         \u001b[0mprint\u001b[0m\u001b[1;33m(\u001b[0m\u001b[0mscores\u001b[0m\u001b[1;33m[\u001b[0m\u001b[1;36m0\u001b[0m\u001b[1;33m]\u001b[0m\u001b[1;33m[\u001b[0m\u001b[1;36m0\u001b[0m\u001b[1;33m]\u001b[0m\u001b[1;33m)\u001b[0m\u001b[1;33m\u001b[0m\u001b[0m\n\u001b[0;32m    148\u001b[0m         \u001b[1;31m#差距为零，终止\u001b[0m\u001b[1;33m\u001b[0m\u001b[1;33m\u001b[0m\u001b[0m\n",
      "\u001b[1;32m<ipython-input-120-b0cadc35b3eb>\u001b[0m in \u001b[0;36mrankfunction\u001b[1;34m(population)\u001b[0m\n\u001b[0;32m    175\u001b[0m     \u001b[1;32mdef\u001b[0m \u001b[0mrankfunction\u001b[0m\u001b[1;33m(\u001b[0m\u001b[0mpopulation\u001b[0m\u001b[1;33m)\u001b[0m\u001b[1;33m:\u001b[0m\u001b[1;33m\u001b[0m\u001b[0m\n\u001b[0;32m    176\u001b[0m         \u001b[0mscores\u001b[0m \u001b[1;33m=\u001b[0m \u001b[1;33m[\u001b[0m\u001b[1;33m(\u001b[0m\u001b[0mscorefunction\u001b[0m\u001b[1;33m(\u001b[0m\u001b[0mt\u001b[0m\u001b[1;33m,\u001b[0m\u001b[0mdataset\u001b[0m\u001b[1;33m)\u001b[0m\u001b[1;33m,\u001b[0m\u001b[0mt\u001b[0m\u001b[1;33m)\u001b[0m \u001b[1;32mfor\u001b[0m \u001b[0mt\u001b[0m \u001b[1;32min\u001b[0m \u001b[0mpopulation\u001b[0m\u001b[1;33m]\u001b[0m\u001b[1;33m\u001b[0m\u001b[0m\n\u001b[1;32m--> 177\u001b[1;33m         \u001b[0mscores\u001b[0m\u001b[1;33m.\u001b[0m\u001b[0msort\u001b[0m\u001b[1;33m(\u001b[0m\u001b[1;33m)\u001b[0m\u001b[1;33m\u001b[0m\u001b[0m\n\u001b[0m\u001b[0;32m    178\u001b[0m         \u001b[1;32mreturn\u001b[0m \u001b[0mscores\u001b[0m\u001b[1;33m\u001b[0m\u001b[0m\n\u001b[0;32m    179\u001b[0m     \u001b[1;32mreturn\u001b[0m \u001b[0mrankfunction\u001b[0m\u001b[1;33m\u001b[0m\u001b[0m\n",
      "\u001b[1;31mTypeError\u001b[0m: '<' not supported between instances of 'node' and 'paramnode'"
     ]
    }
   ],
   "source": [
    "rf = getrankfunction(buildhiddenset())\n",
    "evolve(2,500,rf,mutationrate=0.2,breedingrate=0.1,pexp=0.7,pnew=0.1)"
   ]
  },
  {
   "cell_type": "code",
   "execution_count": 40,
   "metadata": {
    "collapsed": true
   },
   "outputs": [],
   "source": [
    "exampletree = exampletree()"
   ]
  },
  {
   "cell_type": "code",
   "execution_count": 41,
   "metadata": {},
   "outputs": [
    {
     "data": {
      "text/plain": [
       "__main__.node"
      ]
     },
     "execution_count": 41,
     "metadata": {},
     "output_type": "execute_result"
    }
   ],
   "source": [
    "type(exampletree)"
   ]
  },
  {
   "cell_type": "code",
   "execution_count": 42,
   "metadata": {},
   "outputs": [
    {
     "data": {
      "text/plain": [
       "1"
      ]
     },
     "execution_count": 42,
     "metadata": {},
     "output_type": "execute_result"
    }
   ],
   "source": [
    "exampletree.evaluate([2,3])"
   ]
  },
  {
   "cell_type": "code",
   "execution_count": 43,
   "metadata": {},
   "outputs": [
    {
     "data": {
      "text/plain": [
       "8"
      ]
     },
     "execution_count": 43,
     "metadata": {},
     "output_type": "execute_result"
    }
   ],
   "source": [
    "exampletree.evaluate([5,3])"
   ]
  },
  {
   "cell_type": "markdown",
   "metadata": {},
   "source": [
    "在node、paramnode、constnode中分别设计一个display函数展现程序树"
   ]
  },
  {
   "cell_type": "code",
   "execution_count": 37,
   "metadata": {},
   "outputs": [
    {
     "name": "stdout",
     "output_type": "stream",
     "text": [
      "if\n",
      " isgreater\n",
      "  p0\n",
      "  3\n",
      " add\n",
      "  p1\n",
      "  5\n",
      " subtract\n",
      "  p1\n",
      "  2\n"
     ]
    }
   ],
   "source": [
    "exampletree.display()"
   ]
  },
  {
   "cell_type": "code",
   "execution_count": null,
   "metadata": {
    "collapsed": true
   },
   "outputs": [],
   "source": [
    "#在node中用来显示出整棵树的字符串形式\n",
    "def display(self,indent=0):\n",
    "    print((' '*indent)+self.name)\n",
    "    for c in self.children:\n",
    "        c.display(indent+1)"
   ]
  },
  {
   "cell_type": "code",
   "execution_count": null,
   "metadata": {
    "collapsed": true
   },
   "outputs": [],
   "source": [
    "#打印出该节点返回参数的对应索引即可\n",
    "def display(self,indent=0):\n",
    "    print('%sp%d'%(' '*indent,self.idx))"
   ]
  },
  {
   "cell_type": "code",
   "execution_count": null,
   "metadata": {
    "collapsed": true
   },
   "outputs": [],
   "source": [
    "def display(self,indent=0):\n",
    "    print('%s%d'%(' '*indent,self.v))"
   ]
  },
  {
   "cell_type": "markdown",
   "metadata": {},
   "source": [
    "## 构造初始种群"
   ]
  },
  {
   "cell_type": "markdown",
   "metadata": {},
   "source": [
    "初始种群由一组随机程序构成的"
   ]
  },
  {
   "cell_type": "code",
   "execution_count": 56,
   "metadata": {
    "collapsed": true
   },
   "outputs": [],
   "source": [
    "def makerandomtree(pc,maxdepth=4,fpr=0.5,ppr=0.6):\n",
    "    if random()<fpr and maxdepth>0:\n",
    "        f = choice(flist)\n",
    "        children = [makerandomtree(pc,maxdepth-1,fpr,ppr)\n",
    "                   for i in range(f.childcount)]\n",
    "        return node(f,children)\n",
    "    elif random()<ppr:\n",
    "        return paramnode(randint(0,pc-1))\n",
    "    else:\n",
    "        return constnode(randint(0,10))"
   ]
  },
  {
   "cell_type": "code",
   "execution_count": 57,
   "metadata": {},
   "outputs": [
    {
     "data": {
      "text/plain": [
       "3"
      ]
     },
     "execution_count": 57,
     "metadata": {},
     "output_type": "execute_result"
    }
   ],
   "source": [
    "random1 = makerandomtree(2)\n",
    "random1.evaluate([7,1])"
   ]
  },
  {
   "cell_type": "code",
   "execution_count": 58,
   "metadata": {},
   "outputs": [
    {
     "data": {
      "text/plain": [
       "3"
      ]
     },
     "execution_count": 58,
     "metadata": {},
     "output_type": "execute_result"
    }
   ],
   "source": [
    "random1.evaluate([2,4])"
   ]
  },
  {
   "cell_type": "code",
   "execution_count": 59,
   "metadata": {},
   "outputs": [
    {
     "data": {
      "text/plain": [
       "30"
      ]
     },
     "execution_count": 59,
     "metadata": {},
     "output_type": "execute_result"
    }
   ],
   "source": [
    "random2 = makerandomtree(2)\n",
    "random2.evaluate([5,3])"
   ]
  },
  {
   "cell_type": "code",
   "execution_count": 60,
   "metadata": {},
   "outputs": [
    {
     "data": {
      "text/plain": [
       "30"
      ]
     },
     "execution_count": 60,
     "metadata": {},
     "output_type": "execute_result"
    }
   ],
   "source": [
    "random2.evaluate([5,20])"
   ]
  },
  {
   "cell_type": "code",
   "execution_count": 61,
   "metadata": {},
   "outputs": [
    {
     "name": "stdout",
     "output_type": "stream",
     "text": [
      "3\n"
     ]
    }
   ],
   "source": [
    "random1.display()"
   ]
  },
  {
   "cell_type": "code",
   "execution_count": 62,
   "metadata": {},
   "outputs": [
    {
     "name": "stdout",
     "output_type": "stream",
     "text": [
      "multiply\n",
      " multiply\n",
      "  p0\n",
      "  isgreater\n",
      "   p1\n",
      "   subtract\n",
      "    5\n",
      "    p1\n",
      " 6\n"
     ]
    }
   ],
   "source": [
    "random2.display()"
   ]
  },
  {
   "cell_type": "markdown",
   "metadata": {},
   "source": [
    "## 测试题解  \n",
    "一个简单的数学测试"
   ]
  },
  {
   "cell_type": "markdown",
   "metadata": {},
   "source": [
    "首先构造一个简单的数学函数"
   ]
  },
  {
   "cell_type": "code",
   "execution_count": 63,
   "metadata": {
    "collapsed": true
   },
   "outputs": [],
   "source": [
    "def hiddenfunction(x,y):\n",
    "    return x**2 + 2*y + 3*x +5"
   ]
  },
  {
   "cell_type": "markdown",
   "metadata": {},
   "source": [
    "然后利用上述函数构造一个数据集"
   ]
  },
  {
   "cell_type": "code",
   "execution_count": 64,
   "metadata": {
    "collapsed": true
   },
   "outputs": [],
   "source": [
    "def buildhiddenset():\n",
    "    rows = []\n",
    "    for i in range(200):\n",
    "        x = randint(0,40)\n",
    "        y = randint(0,40)\n",
    "        rows.append([x,y,hiddenfunction(x,y)])\n",
    "    return rows"
   ]
  },
  {
   "cell_type": "code",
   "execution_count": 65,
   "metadata": {
    "collapsed": true
   },
   "outputs": [],
   "source": [
    "hiddenset = buildhiddenset()"
   ]
  },
  {
   "cell_type": "markdown",
   "metadata": {},
   "source": [
    "构造一个简单的测试方法衡量题解的优劣"
   ]
  },
  {
   "cell_type": "code",
   "execution_count": 66,
   "metadata": {
    "collapsed": true
   },
   "outputs": [],
   "source": [
    "def scorefunction(tree,s):\n",
    "    dif = 0\n",
    "    for data in s:\n",
    "        v = tree.evaluate([data[0],data[1]])\n",
    "        #将求得的结果与实际结果的差值求和，累加值越小，题解的表现越好\n",
    "        dif += abs(v-data[2])\n",
    "    return dif"
   ]
  },
  {
   "cell_type": "code",
   "execution_count": 68,
   "metadata": {},
   "outputs": [
    {
     "data": {
      "text/plain": [
       "109388"
      ]
     },
     "execution_count": 68,
     "metadata": {},
     "output_type": "execute_result"
    }
   ],
   "source": [
    "scorefunction(random2,hiddenset)"
   ]
  },
  {
   "cell_type": "code",
   "execution_count": 69,
   "metadata": {},
   "outputs": [
    {
     "data": {
      "text/plain": [
       "131804"
      ]
     },
     "execution_count": 69,
     "metadata": {},
     "output_type": "execute_result"
    }
   ],
   "source": [
    "scorefunction(random1,hiddenset)"
   ]
  },
  {
   "cell_type": "markdown",
   "metadata": {},
   "source": [
    "由于这小部分程序完全随机产生，因此其中存在正确解的概率是非常小的，要等到正确解，下面对程序进行变异和交叉，然后优胜劣汰"
   ]
  },
  {
   "cell_type": "markdown",
   "metadata": {},
   "source": [
    "## 变异"
   ]
  },
  {
   "cell_type": "code",
   "execution_count": null,
   "metadata": {
    "collapsed": true
   },
   "outputs": [],
   "source": [
    "def mutate(t,pc,probchange=0.1):\n",
    "    #如果随机概率小于某个值，对节点进行变异\n",
    "    if random()<probchange:\n",
    "        return makerandomtree(pc)\n",
    "    #否则，再次对子节点进行测试\n",
    "    else:\n",
    "        result = deepcopy(t)\n",
    "        if isinstance(t,node):\n",
    "            result.children = [mutate(c,pc,probchange) for c in t.children]\n",
    "        return result"
   ]
  },
  {
   "cell_type": "code",
   "execution_count": 71,
   "metadata": {},
   "outputs": [
    {
     "name": "stdout",
     "output_type": "stream",
     "text": [
      "multiply\n",
      " multiply\n",
      "  p0\n",
      "  isgreater\n",
      "   p1\n",
      "   subtract\n",
      "    5\n",
      "    p1\n",
      " 6\n"
     ]
    }
   ],
   "source": [
    "random2.display()"
   ]
  },
  {
   "cell_type": "markdown",
   "metadata": {},
   "source": [
    "尝试执行mutate函数，看看函数如何对数进行修改"
   ]
  },
  {
   "cell_type": "code",
   "execution_count": 102,
   "metadata": {},
   "outputs": [
    {
     "name": "stdout",
     "output_type": "stream",
     "text": [
      "multiply\n",
      " 1\n",
      " if\n",
      "  if\n",
      "   10\n",
      "   add\n",
      "    p0\n",
      "    p0\n",
      "   isgreater\n",
      "    0\n",
      "    p1\n",
      "  isgreater\n",
      "   p1\n",
      "   p0\n",
      "  10\n"
     ]
    }
   ],
   "source": [
    "muttree = mutate(random2,2)\n",
    "muttree.display()"
   ]
  },
  {
   "cell_type": "markdown",
   "metadata": {},
   "source": [
    "接下来看变好还是变差。变异是随机的，并非一定随着变好的方向进行，只希望一部分变异对最终结果有帮助"
   ]
  },
  {
   "cell_type": "code",
   "execution_count": 103,
   "metadata": {},
   "outputs": [
    {
     "data": {
      "text/plain": [
       "109388"
      ]
     },
     "execution_count": 103,
     "metadata": {},
     "output_type": "execute_result"
    }
   ],
   "source": [
    "scorefunction(random2,hiddenset)"
   ]
  },
  {
   "cell_type": "code",
   "execution_count": 105,
   "metadata": {},
   "outputs": [
    {
     "data": {
      "text/plain": [
       "132284"
      ]
     },
     "execution_count": 105,
     "metadata": {},
     "output_type": "execute_result"
    }
   ],
   "source": [
    "scorefunction(muttree,hiddenset)"
   ]
  },
  {
   "cell_type": "markdown",
   "metadata": {},
   "source": [
    "## 交叉"
   ]
  },
  {
   "cell_type": "code",
   "execution_count": 106,
   "metadata": {
    "collapsed": true
   },
   "outputs": [],
   "source": [
    "def crossover(t1,t2,probswap=0.7,top=1):\n",
    "    if random()<probswap and not top:\n",
    "        return deepcopy(t2)\n",
    "    else:\n",
    "        result = deepcopy(t1)\n",
    "        if isinstance(t1,node) and isinstance(t2,node):\n",
    "            result.children = [crossover(c,choice(t2.children),probswap,0)\n",
    "                              for c in t1.children]\n",
    "        return result"
   ]
  },
  {
   "cell_type": "code",
   "execution_count": 107,
   "metadata": {},
   "outputs": [
    {
     "name": "stdout",
     "output_type": "stream",
     "text": [
      "if\n",
      " isgreater\n",
      "  multiply\n",
      "   7\n",
      "   if\n",
      "    p1\n",
      "    9\n",
      "    9\n",
      "  p1\n",
      " multiply\n",
      "  p0\n",
      "  4\n",
      " p0\n"
     ]
    }
   ],
   "source": [
    "random1 = makerandomtree(2)\n",
    "random1.display()"
   ]
  },
  {
   "cell_type": "code",
   "execution_count": 108,
   "metadata": {},
   "outputs": [
    {
     "name": "stdout",
     "output_type": "stream",
     "text": [
      "4\n"
     ]
    }
   ],
   "source": [
    "random2 = makerandomtree(2)\n",
    "random2.display()"
   ]
  },
  {
   "cell_type": "code",
   "execution_count": 109,
   "metadata": {},
   "outputs": [
    {
     "name": "stdout",
     "output_type": "stream",
     "text": [
      "if\n",
      " isgreater\n",
      "  multiply\n",
      "   7\n",
      "   if\n",
      "    p1\n",
      "    9\n",
      "    9\n",
      "  p1\n",
      " multiply\n",
      "  p0\n",
      "  4\n",
      " p0\n"
     ]
    }
   ],
   "source": [
    "cross = crossover(random1,random2)\n",
    "cross.display()"
   ]
  },
  {
   "cell_type": "markdown",
   "metadata": {},
   "source": [
    "## 构筑环境"
   ]
  },
  {
   "cell_type": "markdown",
   "metadata": {},
   "source": [
    "接下来开始构筑供程序进化的竞争环境，首先生成一组随机程序并择优复制和修改，然后一直重复到条件满足为止"
   ]
  },
  {
   "cell_type": "code",
   "execution_count": 116,
   "metadata": {
    "collapsed": true
   },
   "outputs": [],
   "source": [
    "def evolve(pc,popsize,rankfunction,maxgen=500,\n",
    "          mutationrate=0.1,breedingrate=0.4,pexp=0.7,pnew=0.05):\n",
    "    \n",
    "    #返回一个随机数，通常是一个较小的数\n",
    "    #pexp取值越小，我们得到的随机数越小，该值越大，筛选过程越严格\n",
    "    def selectindex():\n",
    "        return int(log(random())/log(pexp))\n",
    "    \n",
    "    #创建一个随机的初始种群\n",
    "    population = [makerandomtree(pc) for i in range(popsize)]\n",
    "    for i in range(maxgen):\n",
    "        \n",
    "        #用一个函数将这一组程序从优到劣的顺序排列\n",
    "        scores = rankfunction(population)\n",
    "        print(scores[0][0])\n",
    "        #差距为零，终止\n",
    "        if scores[0][0]==0:break\n",
    "            \n",
    "        #总能得到两个最优的程序\n",
    "        newpop = [scores[0][1],scores[1][1]]\n",
    "        \n",
    "        #构造下一代\n",
    "        #popsize初始种群的大小\n",
    "        while len(newpop)<popsize:\n",
    "            if random()>pnew:\n",
    "                newpop.append(mutate(\n",
    "                    crossover(scores[selectindex()][1],\n",
    "                             scores[selectindex()][1],\n",
    "                            #breedingrate发生交叉的概率\n",
    "                             probswap=breedingrate),\n",
    "                            #mutationrate发生变异的概率\n",
    "                            pc,probchange=mutationrate))\n",
    "                \n",
    "            else:\n",
    "                #加入一个随机节点，以增加种群的多样性\n",
    "                newpop.append(makerandomtree(pc))\n",
    "                \n",
    "        population=newpop\n",
    "    scores[0][1].display()\n",
    "    return scores[0][1]"
   ]
  },
  {
   "cell_type": "code",
   "execution_count": 117,
   "metadata": {
    "collapsed": true
   },
   "outputs": [],
   "source": [
    "def getrankfunction(dataset):\n",
    "    def rankfunction(population):\n",
    "        scores = [(scorefunction(t,dataset),t) for t in population]\n",
    "        scores.sort()\n",
    "        return scores\n",
    "    return rankfunction"
   ]
  },
  {
   "cell_type": "code",
   "execution_count": 118,
   "metadata": {},
   "outputs": [
    {
     "ename": "TypeError",
     "evalue": "'<' not supported between instances of 'paramnode' and 'paramnode'",
     "output_type": "error",
     "traceback": [
      "\u001b[1;31m---------------------------------------------------------------------------\u001b[0m",
      "\u001b[1;31mTypeError\u001b[0m                                 Traceback (most recent call last)",
      "\u001b[1;32m<ipython-input-118-9811434c0180>\u001b[0m in \u001b[0;36m<module>\u001b[1;34m()\u001b[0m\n\u001b[0;32m      1\u001b[0m \u001b[0mrf\u001b[0m \u001b[1;33m=\u001b[0m \u001b[0mgetrankfunction\u001b[0m\u001b[1;33m(\u001b[0m\u001b[0mbuildhiddenset\u001b[0m\u001b[1;33m(\u001b[0m\u001b[1;33m)\u001b[0m\u001b[1;33m)\u001b[0m\u001b[1;33m\u001b[0m\u001b[0m\n\u001b[1;32m----> 2\u001b[1;33m \u001b[0mevolve\u001b[0m\u001b[1;33m(\u001b[0m\u001b[1;36m2\u001b[0m\u001b[1;33m,\u001b[0m\u001b[1;36m500\u001b[0m\u001b[1;33m,\u001b[0m\u001b[0mrf\u001b[0m\u001b[1;33m,\u001b[0m\u001b[0mmutationrate\u001b[0m\u001b[1;33m=\u001b[0m\u001b[1;36m0.2\u001b[0m\u001b[1;33m,\u001b[0m\u001b[0mbreedingrate\u001b[0m\u001b[1;33m=\u001b[0m\u001b[1;36m0.1\u001b[0m\u001b[1;33m,\u001b[0m\u001b[0mpexp\u001b[0m\u001b[1;33m=\u001b[0m\u001b[1;36m0.7\u001b[0m\u001b[1;33m,\u001b[0m\u001b[0mpnew\u001b[0m\u001b[1;33m=\u001b[0m\u001b[1;36m0.1\u001b[0m\u001b[1;33m)\u001b[0m\u001b[1;33m\u001b[0m\u001b[0m\n\u001b[0m",
      "\u001b[1;32m<ipython-input-116-5ea918f0ce63>\u001b[0m in \u001b[0;36mevolve\u001b[1;34m(pc, popsize, rankfunction, maxgen, mutationrate, breedingrate, pexp, pnew)\u001b[0m\n\u001b[0;32m     12\u001b[0m \u001b[1;33m\u001b[0m\u001b[0m\n\u001b[0;32m     13\u001b[0m         \u001b[1;31m#用一个函数将这一组程序从优到劣的顺序排列\u001b[0m\u001b[1;33m\u001b[0m\u001b[1;33m\u001b[0m\u001b[0m\n\u001b[1;32m---> 14\u001b[1;33m         \u001b[0mscores\u001b[0m \u001b[1;33m=\u001b[0m \u001b[0mrankfunction\u001b[0m\u001b[1;33m(\u001b[0m\u001b[0mpopulation\u001b[0m\u001b[1;33m)\u001b[0m\u001b[1;33m\u001b[0m\u001b[0m\n\u001b[0m\u001b[0;32m     15\u001b[0m         \u001b[0mprint\u001b[0m\u001b[1;33m(\u001b[0m\u001b[0mscores\u001b[0m\u001b[1;33m[\u001b[0m\u001b[1;36m0\u001b[0m\u001b[1;33m]\u001b[0m\u001b[1;33m[\u001b[0m\u001b[1;36m0\u001b[0m\u001b[1;33m]\u001b[0m\u001b[1;33m)\u001b[0m\u001b[1;33m\u001b[0m\u001b[0m\n\u001b[0;32m     16\u001b[0m         \u001b[1;31m#差距为零，终止\u001b[0m\u001b[1;33m\u001b[0m\u001b[1;33m\u001b[0m\u001b[0m\n",
      "\u001b[1;32m<ipython-input-117-a733802f0478>\u001b[0m in \u001b[0;36mrankfunction\u001b[1;34m(population)\u001b[0m\n\u001b[0;32m      2\u001b[0m     \u001b[1;32mdef\u001b[0m \u001b[0mrankfunction\u001b[0m\u001b[1;33m(\u001b[0m\u001b[0mpopulation\u001b[0m\u001b[1;33m)\u001b[0m\u001b[1;33m:\u001b[0m\u001b[1;33m\u001b[0m\u001b[0m\n\u001b[0;32m      3\u001b[0m         \u001b[0mscores\u001b[0m \u001b[1;33m=\u001b[0m \u001b[1;33m[\u001b[0m\u001b[1;33m(\u001b[0m\u001b[0mscorefunction\u001b[0m\u001b[1;33m(\u001b[0m\u001b[0mt\u001b[0m\u001b[1;33m,\u001b[0m\u001b[0mdataset\u001b[0m\u001b[1;33m)\u001b[0m\u001b[1;33m,\u001b[0m\u001b[0mt\u001b[0m\u001b[1;33m)\u001b[0m \u001b[1;32mfor\u001b[0m \u001b[0mt\u001b[0m \u001b[1;32min\u001b[0m \u001b[0mpopulation\u001b[0m\u001b[1;33m]\u001b[0m\u001b[1;33m\u001b[0m\u001b[0m\n\u001b[1;32m----> 4\u001b[1;33m         \u001b[0mscores\u001b[0m\u001b[1;33m.\u001b[0m\u001b[0msort\u001b[0m\u001b[1;33m(\u001b[0m\u001b[1;33m)\u001b[0m\u001b[1;33m\u001b[0m\u001b[0m\n\u001b[0m\u001b[0;32m      5\u001b[0m         \u001b[1;32mreturn\u001b[0m \u001b[0mscores\u001b[0m\u001b[1;33m\u001b[0m\u001b[0m\n\u001b[0;32m      6\u001b[0m     \u001b[1;32mreturn\u001b[0m \u001b[0mrankfunction\u001b[0m\u001b[1;33m\u001b[0m\u001b[0m\n",
      "\u001b[1;31mTypeError\u001b[0m: '<' not supported between instances of 'paramnode' and 'paramnode'"
     ]
    }
   ],
   "source": [
    "rf = getrankfunction(buildhiddenset())\n",
    "evolve(2,500,rf,mutationrate=0.2,breedingrate=0.1,pexp=0.7,pnew=0.1)"
   ]
  },
  {
   "cell_type": "code",
   "execution_count": null,
   "metadata": {
    "collapsed": true
   },
   "outputs": [],
   "source": []
  }
 ],
 "metadata": {
  "kernelspec": {
   "display_name": "Python 3",
   "language": "python",
   "name": "python3"
  },
  "language_info": {
   "codemirror_mode": {
    "name": "ipython",
    "version": 3
   },
   "file_extension": ".py",
   "mimetype": "text/x-python",
   "name": "python",
   "nbconvert_exporter": "python",
   "pygments_lexer": "ipython3",
   "version": "3.6.1"
  }
 },
 "nbformat": 4,
 "nbformat_minor": 2
}
