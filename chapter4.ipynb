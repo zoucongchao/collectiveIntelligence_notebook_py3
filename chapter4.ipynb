{
 "cells": [
  {
   "cell_type": "markdown",
   "metadata": {},
   "source": [
    "爬虫程序  \n",
    "建立搜索数据库之前，首先建立一个爬虫程序"
   ]
  },
  {
   "cell_type": "code",
   "execution_count": 3,
   "metadata": {},
   "outputs": [
    {
     "name": "stdout",
     "output_type": "stream",
     "text": [
      "<html>\n",
      "<head>\n",
      "<title>A Useful Page</title>\n",
      "</head>\n",
      "<body>\n",
      "<h1>An Interesting Title</h1>\n",
      "<div>\n",
      "Lorem ipsum dolor sit amet, consectetur adipisicing elit, sed do eiusmod tempor incididunt ut labore et dolore magna aliqua. Ut enim ad minim veniam, quis nostrud exercitation ullamco laboris nisi ut aliquip ex ea commodo consequat. Duis aute irure dolor in reprehenderit in voluptate velit esse cillum dolore eu fugiat nulla pariatur. Excepteur sint occaecat cupidatat non proident, sunt in culpa qui officia deserunt mollit anim id est laborum.\n",
      "</div>\n",
      "</body>\n",
      "</html>\n",
      "\n"
     ]
    }
   ],
   "source": [
    "from urllib.request import urlopen\n",
    "from bs4 import BeautifulSoup\n",
    "html = urlopen('http://www.pythonscraping.com/pages/page1.html')\n",
    "page = html.read()\n",
    "bs = BeautifulSoup(page,\"lxml\")\n",
    "print(bs)"
   ]
  },
  {
   "cell_type": "code",
   "execution_count": 26,
   "metadata": {},
   "outputs": [
    {
     "name": "stdout",
     "output_type": "stream",
     "text": [
      "None\n"
     ]
    }
   ],
   "source": [
    "print(bs.string)#抓取字符串"
   ]
  },
  {
   "cell_type": "code",
   "execution_count": 41,
   "metadata": {},
   "outputs": [
    {
     "name": "stdout",
     "output_type": "stream",
     "text": [
      "[]\n"
     ]
    }
   ],
   "source": [
    "print(bs.find_all('a'))"
   ]
  },
  {
   "cell_type": "code",
   "execution_count": 40,
   "metadata": {},
   "outputs": [
    {
     "name": "stdout",
     "output_type": "stream",
     "text": [
      "['1', '2']\n",
      "['3']\n"
     ]
    }
   ],
   "source": [
    "links = bs('sit')\n",
    "links.append(['1','2'])\n",
    "links.append(['3'])\n",
    "for link in links:\n",
    "    print(link)"
   ]
  },
  {
   "cell_type": "code",
   "execution_count": 27,
   "metadata": {},
   "outputs": [
    {
     "name": "stdout",
     "output_type": "stream",
     "text": [
      "[<html>\n",
      "<head>\n",
      "<title>A Useful Page</title>\n",
      "</head>\n",
      "<body>\n",
      "<h1>An Interesting Title</h1>\n",
      "<div>\n",
      "Lorem ipsum dolor sit amet, consectetur adipisicing elit, sed do eiusmod tempor incididunt ut labore et dolore magna aliqua. Ut enim ad minim veniam, quis nostrud exercitation ullamco laboris nisi ut aliquip ex ea commodo consequat. Duis aute irure dolor in reprehenderit in voluptate velit esse cillum dolore eu fugiat nulla pariatur. Excepteur sint occaecat cupidatat non proident, sunt in culpa qui officia deserunt mollit anim id est laborum.\n",
      "</div>\n",
      "</body>\n",
      "</html>, '\\n']\n"
     ]
    }
   ],
   "source": [
    "print(bs.contents)#将内容按子节点列表输出"
   ]
  },
  {
   "cell_type": "code",
   "execution_count": 30,
   "metadata": {
    "collapsed": true
   },
   "outputs": [],
   "source": [
    "def gettextonly(soup):\n",
    "        v=soup.string#抓取字符串内容按子节点列表输出\n",
    "        if v==None:\n",
    "            c=soup.contents#抓取内容按子节点列表输出\n",
    "            resulttext = ''\n",
    "            for t in c:\n",
    "                #进行递归\n",
    "                subtext = gettextonly(t)\n",
    "                resulttext += subtext + '\\n'\n",
    "            return resulttext\n",
    "        else:\n",
    "            return v.strip()"
   ]
  },
  {
   "cell_type": "code",
   "execution_count": 31,
   "metadata": {},
   "outputs": [
    {
     "data": {
      "text/plain": [
       "'\\n\\nA Useful Page\\n\\n\\n\\n\\nAn Interesting Title\\n\\nLorem ipsum dolor sit amet, consectetur adipisicing elit, sed do eiusmod tempor incididunt ut labore et dolore magna aliqua. Ut enim ad minim veniam, quis nostrud exercitation ullamco laboris nisi ut aliquip ex ea commodo consequat. Duis aute irure dolor in reprehenderit in voluptate velit esse cillum dolore eu fugiat nulla pariatur. Excepteur sint occaecat cupidatat non proident, sunt in culpa qui officia deserunt mollit anim id est laborum.\\n\\n\\n\\n\\n\\n'"
      ]
     },
     "execution_count": 31,
     "metadata": {},
     "output_type": "execute_result"
    }
   ],
   "source": [
    "sub = gettextonly(bs)\n",
    "sub"
   ]
  },
  {
   "cell_type": "code",
   "execution_count": 25,
   "metadata": {},
   "outputs": [
    {
     "name": "stdout",
     "output_type": "stream",
     "text": [
      "<h1>An Interesting Title</h1>\n",
      "b'<html>\\n<head>\\n<title>A Useful Page</title>\\n</head>'\n"
     ]
    }
   ],
   "source": [
    "print(bs.h1)\n",
    "print(page[0:50])"
   ]
  },
  {
   "cell_type": "code",
   "execution_count": 15,
   "metadata": {},
   "outputs": [
    {
     "name": "stdout",
     "output_type": "stream",
     "text": [
      "An Interesting Title\n"
     ]
    }
   ],
   "source": [
    "import re \n",
    "url = str(bs.h1)\n",
    "p = r'(?<=<h1>).+?(?=</h1>)'\n",
    "partten = re.compile(p)\n",
    "match = re.search(partten,url)\n",
    "print(match.group(0))"
   ]
  },
  {
   "cell_type": "code",
   "execution_count": 2,
   "metadata": {
    "collapsed": true
   },
   "outputs": [],
   "source": [
    "from urllib.request import urlopen\n",
    "from bs4 import BeautifulSoup\n",
    "html = urlopen(\"http://en.wikipedia.org/wiki/Kevin_Bacon\")\n",
    "bsobj = BeautifulSoup(html,\"lxml\")"
   ]
  },
  {
   "cell_type": "code",
   "execution_count": 6,
   "metadata": {},
   "outputs": [
    {
     "name": "stdout",
     "output_type": "stream",
     "text": [
      "[<a id=\"top\"></a>, <a href=\"/wiki/Wikipedia:Protection_policy#semi\" title=\"This article is semi-protected to promote compliance with the policy on biographies of living people\"><img alt=\"Page semi-protected\" data-file-height=\"128\" data-file-width=\"128\" height=\"20\" src=\"//upload.wikimedia.org/wikipedia/commons/thumb/f/fc/Padlock-silver.svg/20px-Padlock-silver.svg.png\" srcset=\"//upload.wikimedia.org/wikipedia/commons/thumb/f/fc/Padlock-silver.svg/30px-Padlock-silver.svg.png 1.5x, //upload.wikimedia.org/wikipedia/commons/thumb/f/fc/Padlock-silver.svg/40px-Padlock-silver.svg.png 2x\" width=\"20\"/></a>, <a href=\"#mw-head\">navigation</a>, <a href=\"#p-search\">search</a>, <a class=\"mw-disambig\" href=\"/wiki/Kevin_Bacon_(disambiguation)\" title=\"Kevin Bacon (disambiguation)\">Kevin Bacon (disambiguation)</a>, <a class=\"image\" href=\"/wiki/File:Kevin_Bacon_SDCC_2014.jpg\"><img alt=\"Kevin Bacon SDCC 2014.jpg\" data-file-height=\"2649\" data-file-width=\"1907\" height=\"306\" src=\"//upload.wikimedia.org/wikipedia/commons/thumb/d/d7/Kevin_Bacon_SDCC_2014.jpg/220px-Kevin_Bacon_SDCC_2014.jpg\" srcset=\"//upload.wikimedia.org/wikipedia/commons/thumb/d/d7/Kevin_Bacon_SDCC_2014.jpg/330px-Kevin_Bacon_SDCC_2014.jpg 1.5x, //upload.wikimedia.org/wikipedia/commons/thumb/d/d7/Kevin_Bacon_SDCC_2014.jpg/440px-Kevin_Bacon_SDCC_2014.jpg 2x\" width=\"220\"/></a>, <a href=\"/wiki/San_Diego_Comic-Con\" title=\"San Diego Comic-Con\">San Diego Comic-Con</a>, <a href=\"/wiki/Philadelphia\" title=\"Philadelphia\">Philadelphia</a>, <a href=\"/wiki/Pennsylvania\" title=\"Pennsylvania\">Pennsylvania</a>, <a href=\"/wiki/Kyra_Sedgwick\" title=\"Kyra Sedgwick\">Kyra Sedgwick</a>, <a href=\"/wiki/Sosie_Bacon\" title=\"Sosie Bacon\">Sosie Bacon</a>, <a href=\"/wiki/Edmund_Bacon_(architect)\" title=\"Edmund Bacon (architect)\">Edmund Bacon</a>, <a href=\"/wiki/Michael_Bacon_(musician)\" title=\"Michael Bacon (musician)\">Michael Bacon</a>, <a class=\"external text\" href=\"http://baconbros.com/\" rel=\"nofollow\">baconbros<wbr/>.com</a>, <a href=\"#cite_note-1\">[1]</a>, <a href=\"#cite_note-actor-2\">[2]</a>, <a href=\"/wiki/Footloose_(1984_film)\" title=\"Footloose (1984 film)\">Footloose</a>, <a href=\"/wiki/JFK_(film)\" title=\"JFK (film)\">JFK</a>, <a href=\"/wiki/A_Few_Good_Men\" title=\"A Few Good Men\">A Few Good Men</a>, <a href=\"/wiki/Apollo_13_(film)\" title=\"Apollo 13 (film)\">Apollo 13</a>, <a href=\"/wiki/Mystic_River_(film)\" title=\"Mystic River (film)\">Mystic River</a>, <a href=\"/wiki/Sleepers\" title=\"Sleepers\">Sleepers</a>, <a href=\"/wiki/The_Woodsman_(2004_film)\" title=\"The Woodsman (2004 film)\">The Woodsman</a>, <a href=\"/wiki/Fox_Broadcasting_Company\" title=\"Fox Broadcasting Company\">Fox</a>, <a href=\"/wiki/The_Following\" title=\"The Following\">The Following</a>, <a href=\"/wiki/HBO\" title=\"HBO\">HBO</a>, <a href=\"/wiki/Taking_Chance\" title=\"Taking Chance\">Taking Chance</a>, <a href=\"/wiki/Golden_Globe_Award\" title=\"Golden Globe Award\">Golden Globe Award</a>, <a href=\"/wiki/Screen_Actors_Guild_Award\" title=\"Screen Actors Guild Award\">Screen Actors Guild Award</a>, <a href=\"/wiki/Primetime_Emmy_Award\" title=\"Primetime Emmy Award\">Primetime Emmy Award</a>, <a href=\"/wiki/The_Guardian\" title=\"The Guardian\">The Guardian</a>, <a class=\"mw-redirect\" href=\"/wiki/Academy_Award\" title=\"Academy Award\">Academy Award</a>, <a href=\"#cite_note-3\">[3]</a>, <a href=\"/wiki/Hollywood_Walk_of_Fame\" title=\"Hollywood Walk of Fame\">Hollywood Walk of Fame</a>, <a href=\"#cite_note-4\">[4]</a>, <a class=\"mw-redirect\" href=\"/wiki/Social_networks\" title=\"Social networks\">social networks</a>, <a href=\"/wiki/Six_Degrees_of_Kevin_Bacon\" title=\"Six Degrees of Kevin Bacon\">Six Degrees of Kevin Bacon</a>, <a href=\"/wiki/SixDegrees.org\" title=\"SixDegrees.org\">SixDegrees.org</a>, <a href=\"#cite_note-walk-5\">[5]</a>, <a href=\"#Early_life_and_education\"><span class=\"tocnumber\">1</span> <span class=\"toctext\">Early life and education</span></a>, <a href=\"#Acting_career\"><span class=\"tocnumber\">2</span> <span class=\"toctext\">Acting career</span></a>, <a href=\"#Early_work\"><span class=\"tocnumber\">2.1</span> <span class=\"toctext\">Early work</span></a>, <a href=\"#1980s\"><span class=\"tocnumber\">2.2</span> <span class=\"toctext\">1980s</span></a>, <a href=\"#1990s\"><span class=\"tocnumber\">2.3</span> <span class=\"toctext\">1990s</span></a>, <a href=\"#2000s\"><span class=\"tocnumber\">2.4</span> <span class=\"toctext\">2000s</span></a>, <a href=\"#2010s\"><span class=\"tocnumber\">2.5</span> <span class=\"toctext\">2010s</span></a>, <a href=\"#Advertising_work\"><span class=\"tocnumber\">2.6</span> <span class=\"toctext\">Advertising work</span></a>, <a href=\"#Personal_life\"><span class=\"tocnumber\">3</span> <span class=\"toctext\">Personal life</span></a>, <a href=\"#Six_Degrees_of_Kevin_Bacon\"><span class=\"tocnumber\">4</span> <span class=\"toctext\">Six Degrees of Kevin Bacon</span></a>, <a href=\"#Music\"><span class=\"tocnumber\">5</span> <span class=\"toctext\">Music</span></a>, <a href=\"#Awards_and_nominations\"><span class=\"tocnumber\">6</span> <span class=\"toctext\">Awards and nominations</span></a>, <a href=\"#Filmography\"><span class=\"tocnumber\">7</span> <span class=\"toctext\">Filmography</span></a>, <a href=\"#See_also\"><span class=\"tocnumber\">8</span> <span class=\"toctext\">See also</span></a>, <a href=\"#References\"><span class=\"tocnumber\">9</span> <span class=\"toctext\">References</span></a>, <a href=\"#External_links\"><span class=\"tocnumber\">10</span> <span class=\"toctext\">External links</span></a>, <a href=\"/wiki/Philadelphia\" title=\"Philadelphia\">Philadelphia</a>, <a href=\"#cite_note-actor-2\">[2]</a>, <a href=\"#cite_note-actor-2\">[2]</a>, <a href=\"/wiki/Edmund_Bacon_(architect)\" title=\"Edmund Bacon (architect)\">Edmund Norwood Bacon</a>, <a href=\"#cite_note-bacon-6\">[6]</a>, <a href=\"/wiki/Pennsylvania_Governor%27s_School_for_the_Arts\" title=\"Pennsylvania Governor's School for the Arts\">Pennsylvania Governor's School for the Arts</a>, <a href=\"/wiki/Bucknell_University\" title=\"Bucknell University\">Bucknell University</a>, <a href=\"#cite_note-7\">[7]</a>, <a href=\"/wiki/Glory_Van_Scott\" title=\"Glory Van Scott\">Glory Van Scott</a>, <a href=\"#cite_note-walk-5\">[5]</a>, <a href=\"#cite_note-bacon-6\">[6]</a>, <a class=\"mw-redirect\" href=\"/wiki/Circle_in_the_Square\" title=\"Circle in the Square\">Circle in the Square Theater School</a>, <a class=\"mw-redirect\" href=\"/wiki/Nancy_Mills\" title=\"Nancy Mills\">Nancy Mills</a>, <a href=\"/wiki/Cosmopolitan_(magazine)\" title=\"Cosmopolitan (magazine)\">Cosmopolitan</a>, <a href=\"#cite_note-cosmo91-8\">[8]</a>, <a href=\"/wiki/Fraternities_and_sororities\" title=\"Fraternities and sororities\">fraternity</a>, <a href=\"/wiki/Animal_House\" title=\"Animal House\">National Lampoon's Animal House</a>, <a href=\"#cite_note-bacon-6\">[6]</a>, <a href=\"/wiki/Search_for_Tomorrow\" title=\"Search for Tomorrow\">Search for Tomorrow</a>, <a href=\"/wiki/Guiding_Light\" title=\"Guiding Light\">Guiding Light</a>, <a href=\"/wiki/Friday_the_13th_(1980_film)\" title=\"Friday the 13th (1980 film)\"><i>Friday the 13th</i></a>, <a href=\"#cite_note-9\">[9]</a>, <a href=\"/wiki/Phoenix_Theater\" title=\"Phoenix Theater\">Phoenix Theater</a>, <a href=\"/wiki/Flux\" title=\"Flux\">Flux</a>, <a href=\"/wiki/Second_Stage_Theatre\" title=\"Second Stage Theatre\">Second Stage Theatre</a>, <a href=\"#cite_note-bio-10\">[10]</a>, <a href=\"/wiki/Obie_Award\" title=\"Obie Award\">Obie Award</a>, <a href=\"/wiki/Forty_Deuce\" title=\"Forty Deuce\">Forty Deuce</a>, <a href=\"#cite_note-kevin-11\">[11]</a>, <a class=\"mw-redirect\" href=\"/wiki/Slab_Boys\" title=\"Slab Boys\">Slab Boys</a>, <a href=\"/wiki/Sean_Penn\" title=\"Sean Penn\">Sean Penn</a>, <a href=\"/wiki/Val_Kilmer\" title=\"Val Kilmer\">Val Kilmer</a>, <a href=\"/wiki/Barry_Levinson\" title=\"Barry Levinson\">Barry Levinson</a>, <a href=\"/wiki/Diner_(film)\" title=\"Diner (film)\">Diner</a>, <a href=\"/wiki/Steve_Guttenberg\" title=\"Steve Guttenberg\">Steve Guttenberg</a>, <a href=\"/wiki/Daniel_Stern_(actor)\" title=\"Daniel Stern (actor)\">Daniel Stern</a>, <a href=\"/wiki/Mickey_Rourke\" title=\"Mickey Rourke\">Mickey Rourke</a>, <a href=\"/wiki/Tim_Daly\" title=\"Tim Daly\">Tim Daly</a>, <a href=\"/wiki/Ellen_Barkin\" title=\"Ellen Barkin\">Ellen Barkin</a>, <a href=\"#cite_note-12\">[12]</a>, <a href=\"/wiki/Footloose_(1984_film)\" title=\"Footloose (1984 film)\">Footloose</a>, <a href=\"#cite_note-bio-10\">[10]</a>, <a href=\"/wiki/James_Dean\" title=\"James Dean\">James Dean</a>, <a href=\"/wiki/Rebel_Without_a_Cause\" title=\"Rebel Without a Cause\">Rebel Without a Cause</a>, <a href=\"/wiki/Mickey_Rooney\" title=\"Mickey Rooney\">Mickey Rooney</a>, <a href=\"/wiki/Judy_Garland\" title=\"Judy Garland\">Judy Garland</a>, <a href=\"#cite_note-time84-13\">[13]</a>, <a href=\"#cite_note-bacon-6\">[6]</a>, <a href=\"#cite_note-14\">[14]</a>, <a href=\"#cite_note-15\">[15]</a>, <a class=\"mw-redirect\" href=\"/wiki/People_(American_magazine)\" title=\"People (American magazine)\">People</a>, <a href=\"/wiki/Typecasting_(acting)\" title=\"Typecasting (acting)\">typecasting</a>, <a href=\"/wiki/John_Hughes_(filmmaker)\" title=\"John Hughes (filmmaker)\">John Hughes</a>, <a href=\"/wiki/She%27s_Having_a_Baby\" title=\"She's Having a Baby\">She's Having a Baby</a>, <a href=\"#cite_note-bio-10\">[10]</a>, <a href=\"/wiki/The_Big_Picture_(1989_film)\" title=\"The Big Picture (1989 film)\">The Big Picture</a>, <a href=\"#cite_note-16\">[16]</a>, <a href=\"/wiki/Tremors_(film)\" title=\"Tremors (film)\">Tremors</a>, <a href=\"#cite_note-17\">[17]</a>, <a href=\"/wiki/Joel_Schumacher\" title=\"Joel Schumacher\">Joel Schumacher</a>, <a href=\"/wiki/Flatliners\" title=\"Flatliners\">Flatliners</a>, <a href=\"#cite_note-bio-10\">[10]</a>, <a href=\"/wiki/Elizabeth_Perkins\" title=\"Elizabeth Perkins\">Elizabeth Perkins</a>, <a href=\"/wiki/He_Said,_She_Said\" title=\"He Said, She Said\">He Said, She Said</a>, <a href=\"#cite_note-bio-10\">[10]</a>, <a href=\"/wiki/The_New_York_Times\" title=\"The New York Times\">The New York Times</a>, <a href=\"#cite_note-nyt94-18\">[18]</a>, <a href=\"/wiki/Oliver_Stone\" title=\"Oliver Stone\">Oliver Stone</a>, <a href=\"/wiki/JFK_(film)\" title=\"JFK (film)\">JFK</a>, <a href=\"#cite_note-19\">[19]</a>, <a class=\"mw-redirect\" href=\"/wiki/A_Few_Good_Men_(film)\" title=\"A Few Good Men (film)\">A Few Good Men</a>, <a href=\"#cite_note-20\">[20]</a>, <a href=\"/wiki/Michael_Greif\" title=\"Michael Greif\">Michael Greif</a>, <a href=\"#cite_note-bio-10\">[10]</a>, <a href=\"/wiki/Golden_Globe_Award\" title=\"Golden Globe Award\">Golden Globe</a>, <a href=\"/wiki/The_River_Wild\" title=\"The River Wild\">The River Wild</a>, <a href=\"#cite_note-bio-10\">[10]</a>, <a href=\"/wiki/Meryl_Streep\" title=\"Meryl Streep\">Meryl Streep</a>, <a href=\"/wiki/Murder_in_the_First_(film)\" title=\"Murder in the First (film)\">Murder in the First</a>, <a href=\"#cite_note-bio-10\">[10]</a>, <a href=\"/wiki/Blockbuster_(entertainment)\" title=\"Blockbuster (entertainment)\">blockbuster</a>, <a href=\"/wiki/Apollo_13_(film)\" title=\"Apollo 13 (film)\">Apollo 13</a>, <a href=\"#cite_note-21\">[21]</a>, <a class=\"mw-redirect\" href=\"/wiki/Sleepers_(film)\" title=\"Sleepers (film)\">Sleepers</a>, <a href=\"#cite_note-22\">[22]</a>, <a href=\"/wiki/Picture_Perfect_(1997_film)\" title=\"Picture Perfect (1997 film)\">Picture Perfect</a>, <a href=\"#cite_note-bio-10\">[10]</a>, <a href=\"/wiki/Losing_Chase\" title=\"Losing Chase\">Losing Chase</a>, <a href=\"#cite_note-austin-23\">[23]</a>, <a href=\"/wiki/Digging_to_China\" title=\"Digging to China\">Digging to China</a>, <a href=\"#cite_note-bio-10\">[10]</a>, <a href=\"/wiki/Payola\" title=\"Payola\">payola</a>, <a class=\"mw-redirect\" href=\"/wiki/Telling_Lies_in_America_(film)\" title=\"Telling Lies in America (film)\">Telling Lies in America</a>, <a href=\"#cite_note-bio-10\">[10]</a>, <a href=\"/wiki/Wild_Things_(film)\" title=\"Wild Things (film)\">Wild Things</a>, <a href=\"/wiki/Stir_of_Echoes\" title=\"Stir of Echoes\">Stir of Echoes</a>, <a href=\"/wiki/David_Koepp\" title=\"David Koepp\">David Koepp</a>, <a href=\"#cite_note-24\">[24]</a>, <a class=\"image\" href=\"/wiki/File:KevinBaconTakingChanceFeb09.jpg\"><img alt=\"\" class=\"thumbimage\" data-file-height=\"2194\" data-file-width=\"2333\" height=\"207\" src=\"//upload.wikimedia.org/wikipedia/commons/thumb/2/21/KevinBaconTakingChanceFeb09.jpg/220px-KevinBaconTakingChanceFeb09.jpg\" srcset=\"//upload.wikimedia.org/wikipedia/commons/thumb/2/21/KevinBaconTakingChanceFeb09.jpg/330px-KevinBaconTakingChanceFeb09.jpg 1.5x, //upload.wikimedia.org/wikipedia/commons/thumb/2/21/KevinBaconTakingChanceFeb09.jpg/440px-KevinBaconTakingChanceFeb09.jpg 2x\" width=\"220\"/></a>, <a class=\"internal\" href=\"/wiki/File:KevinBaconTakingChanceFeb09.jpg\" title=\"Enlarge\"></a>, <a href=\"/wiki/Taking_Chance\" title=\"Taking Chance\">Taking Chance</a>, <a href=\"/wiki/Paul_Verhoeven\" title=\"Paul Verhoeven\">Paul Verhoeven</a>, <a href=\"/wiki/Hollow_Man\" title=\"Hollow Man\">Hollow Man</a>, <a href=\"#cite_note-25\">[25]</a>, <a href=\"/wiki/Colin_Firth\" title=\"Colin Firth\">Colin Firth</a>, <a href=\"/wiki/Rachel_Blanchard\" title=\"Rachel Blanchard\">Rachel Blanchard</a>, <a href=\"/wiki/M%C3%A9nage_%C3%A0_trois\" title=\"Ménage à trois\">ménage à trois</a>, <a href=\"/wiki/Where_the_Truth_Lies\" title=\"Where the Truth Lies\">Where the Truth Lies</a>, <a href=\"#cite_note-26\">[26]</a>, <a href=\"/wiki/Atom_Egoyan\" title=\"Atom Egoyan\">Atom Egoyan</a>, <a class=\"mw-redirect\" href=\"/wiki/MPAA\" title=\"MPAA\">MPAA</a>, <a class=\"mw-redirect\" href=\"/wiki/MPAA_film_rating_system\" title=\"MPAA film rating system\">NC-17</a>, <a href=\"#cite_note-27\">[27]</a>, <a class=\"mw-redirect\" href=\"/wiki/Pedophile\" title=\"Pedophile\">pedophile</a>, <a href=\"/wiki/The_Woodsman_(2004_film)\" title=\"The Woodsman (2004 film)\">The Woodsman</a>, <a href=\"#cite_note-28\">[28]</a>, <a href=\"/wiki/HBO_Films\" title=\"HBO Films\">HBO Films</a>, <a href=\"/wiki/Taking_Chance\" title=\"Taking Chance\">Taking Chance</a>, <a href=\"/wiki/Michael_Strobl\" title=\"Michael Strobl\">Michael Strobl</a>, <a class=\"mw-redirect\" href=\"/wiki/Desert_Storm\" title=\"Desert Storm\">Desert Storm</a>, <a href=\"#cite_note-29\">[29]</a>, <a href=\"/wiki/Screen_Actors_Guild_Award_for_Outstanding_Performance_by_a_Male_Actor_in_a_Miniseries_or_Television_Movie\" title=\"Screen Actors Guild Award for Outstanding Performance by a Male Actor in a Miniseries or Television Movie\">Screen Actors Guild Award for Outstanding Performance by a Male Actor in a Miniseries or Television Movie</a>, <a href=\"/wiki/Matthew_Vaughn\" title=\"Matthew Vaughn\">Matthew Vaughn</a>, <a href=\"/wiki/X-Men:_First_Class\" title=\"X-Men: First Class\">X-Men: First Class</a>, <a href=\"#cite_note-30\">[30]</a>, <a href=\"/wiki/Sebastian_Shaw_(comics)\" title=\"Sebastian Shaw (comics)\">Sebastian Shaw</a>, <a href=\"#cite_note-31\">[31]</a>, <a href=\"/wiki/Dustin_Lance_Black\" title=\"Dustin Lance Black\">Dustin Lance Black</a>, <a href=\"/wiki/8_(play)\" title=\"8 (play)\">8</a>, <a class=\"mw-redirect\" href=\"/wiki/Perry_v._Brown\" title=\"Perry v. Brown\">federal trial</a>, <a class=\"mw-redirect\" href=\"/wiki/Proposition_8\" title=\"Proposition 8\">Prop 8 ban</a>, <a href=\"/wiki/Charles_J._Cooper\" title=\"Charles J. Cooper\">Charles J. Cooper</a>, <a href=\"#cite_note-8_the_play-32\">[32]</a>, <a class=\"mw-redirect\" href=\"/wiki/Wilshire_Ebell_Theatre\" title=\"Wilshire Ebell Theatre\">Wilshire Ebell Theatre</a>, <a href=\"/wiki/American_Foundation_for_Equal_Rights\" title=\"American Foundation for Equal Rights\">American Foundation for Equal Rights</a>, <a href=\"#cite_note-8_play_video-33\">[33]</a>, <a href=\"#cite_note-34\">[34]</a>, <a href=\"/wiki/The_Following\" title=\"The Following\">The Following</a>, <a href=\"#cite_note-35\">[35]</a>, <a href=\"/wiki/Saturn_Award_for_Best_Actor_on_Television\" title=\"Saturn Award for Best Actor on Television\">Saturn Award for Best Actor on Television</a>, <a href=\"#cite_note-36\">[36]</a>, <a class=\"mw-redirect\" href=\"/wiki/Huffington_Post\" title=\"Huffington Post\">Huffington Post</a>, <a href=\"/wiki/Wikipedia:Citation_needed\" title=\"Wikipedia:Citation needed\"><span title=\"This claim needs references to reliable sources. (January 2016)\">citation needed</span></a>, <a href=\"/wiki/Tremors_(film)\" title=\"Tremors (film)\"><i>Tremors</i> franchise</a>, <a href=\"/wiki/Wikipedia:Citation_needed\" title=\"Wikipedia:Citation needed\"><span title=\"This claim needs references to reliable sources. (January 2016)\">citation needed</span></a>, <a class=\"mw-redirect\" href=\"/wiki/Tremors_5:_Bloodline\" title=\"Tremors 5: Bloodline\">Tremors 5: Bloodline</a>, <a class=\"mw-redirect\" href=\"/wiki/EE_(telecommunications_company)\" title=\"EE (telecommunications company)\">EE mobile network</a>, <a href=\"/wiki/United_Kingdom\" title=\"United Kingdom\">United Kingdom</a>, <a href=\"#cite_note-37\">[37]</a>, <a href=\"#cite_note-38\">[38]</a>, <a href=\"/wiki/Egg_as_food\" title=\"Egg as food\">egg</a>, <a href=\"#cite_note-39\">[39]</a>, <a href=\"/wiki/Kyra_Sedgwick\" title=\"Kyra Sedgwick\">Kyra Sedgwick</a>, <a href=\"/wiki/PBS\" title=\"PBS\">PBS</a>, <a href=\"/wiki/Lanford_Wilson\" title=\"Lanford Wilson\">Lanford Wilson</a>, <a href=\"/wiki/Lemon_Sky\" title=\"Lemon Sky\">Lemon Sky</a>, <a href=\"#cite_note-cosmo91-8\">[8]</a>, <a href=\"/wiki/Pyrates\" title=\"Pyrates\">Pyrates</a>, <a href=\"/wiki/Murder_in_the_First_(film)\" title=\"Murder in the First (film)\">Murder in the First</a>, <a href=\"/wiki/The_Woodsman_(2004_film)\" title=\"The Woodsman (2004 film)\">The Woodsman</a>, <a href=\"/wiki/Loverboy_(2005_film)\" title=\"Loverboy (2005 film)\">Loverboy</a>, <a href=\"/wiki/Sosie_Bacon\" title=\"Sosie Bacon\">Sosie Ruth</a>, <a href=\"/wiki/Upper_West_Side\" title=\"Upper West Side\">Upper West Side</a>, <a href=\"/wiki/Manhattan\" title=\"Manhattan\">Manhattan</a>, <a href=\"#cite_note-40\">[40]</a>, <a href=\"/wiki/Tracy_Pollan\" title=\"Tracy Pollan\">Tracy Pollan</a>, <a href=\"#cite_note-41\">[41]</a>, <a href=\"#cite_note-42\">[42]</a>, <a href=\"#cite_note-43\">[43]</a>, <a href=\"/wiki/The_Times\" title=\"The Times\">The Times</a>, <a href=\"#cite_note-44\">[44]</a>, <a href=\"#cite_note-45\">[45]</a>, <a href=\"/wiki/Will.i.am\" title=\"Will.i.am\">will.i.am</a>, <a href=\"/wiki/It%27s_a_New_Day_(Will.i.am_song)\" title=\"It's a New Day (Will.i.am song)\">\"It's a New Day\"</a>, <a href=\"/wiki/Barack_Obama\" title=\"Barack Obama\">Barack Obama</a>, <a href=\"/wiki/Ponzi_scheme\" title=\"Ponzi scheme\">Ponzi scheme</a>, <a href=\"/wiki/Bernard_Madoff\" title=\"Bernard Madoff\">Bernard Madoff</a>, <a href=\"#cite_note-financialpost-46\">[46]</a>, <a href=\"#cite_note-47\">[47]</a>, <a href=\"/wiki/Finding_Your_Roots\" title=\"Finding Your Roots\">Finding Your Roots</a>, <a class=\"mw-redirect\" href=\"/wiki/Henry_Louis_Gates\" title=\"Henry Louis Gates\">Henry Louis Gates</a>, <a href=\"#cite_note-48\">[48]</a>, <a href=\"#cite_note-49\">[49]</a>, <a href=\"#cite_note-50\">[50]</a>, <a href=\"/wiki/Six_Degrees_of_Kevin_Bacon\" title=\"Six Degrees of Kevin Bacon\">Six Degrees of Kevin Bacon</a>, <a href=\"/wiki/Trivia\" title=\"Trivia\">trivia</a>, <a class=\"mw-redirect\" href=\"/wiki/Big_screen\" title=\"Big screen\">screen</a>, <a href=\"/wiki/Six_degrees_of_separation\" title=\"Six degrees of separation\">six degrees of separation</a>, <a href=\"/wiki/Internet_meme\" title=\"Internet meme\">meme</a>, <a href=\"/wiki/SixDegrees.org\" title=\"SixDegrees.org\">SixDegrees.org</a>, <a href=\"#cite_note-51\">[51]</a>, <a class=\"mw-redirect\" href=\"/wiki/Bacon_number\" title=\"Bacon number\">Bacon number</a>, <a class=\"mw-redirect\" href=\"/wiki/Internet_Movie_Database\" title=\"Internet Movie Database\">Internet Movie Database</a>, <a href=\"#cite_note-52\">[52]</a>, <a href=\"/wiki/Paul_Erd%C5%91s\" title=\"Paul Erdős\">Paul Erdős</a>, <a href=\"/wiki/Erd%C5%91s_number\" title=\"Erdős number\">Erdős number</a>, <a href=\"/wiki/Paul_Erd%C5%91s\" title=\"Paul Erdős\">Paul Erdős</a>, <a class=\"mw-redirect\" href=\"/wiki/Bacon_number\" title=\"Bacon number\">Bacon number</a>, <a href=\"/wiki/Erd%C5%91s_number\" title=\"Erdős number\">Erdős number</a>, <a href=\"/wiki/Erd%C5%91s%E2%80%93Bacon_number\" title=\"Erdős–Bacon number\">Erdős–Bacon number</a>, <a href=\"#cite_note-53\">[53]</a>, <a href=\"/wiki/The_Bacon_Brothers\" title=\"The Bacon Brothers\">The Bacon Brothers</a>, <a href=\"/wiki/Michael_Bacon_(musician)\" title=\"Michael Bacon (musician)\">Michael</a>, <a class=\"mw-redirect\" href=\"/wiki/Music_album\" title=\"Music album\">albums</a>, <a href=\"#cite_note-54\">[54]</a>, <a class=\"image\" href=\"/wiki/File:Question_book-new.svg\"><img alt=\"\" data-file-height=\"399\" data-file-width=\"512\" height=\"39\" src=\"//upload.wikimedia.org/wikipedia/en/thumb/9/99/Question_book-new.svg/50px-Question_book-new.svg.png\" srcset=\"//upload.wikimedia.org/wikipedia/en/thumb/9/99/Question_book-new.svg/75px-Question_book-new.svg.png 1.5x, //upload.wikimedia.org/wikipedia/en/thumb/9/99/Question_book-new.svg/100px-Question_book-new.svg.png 2x\" width=\"50\"/></a>, <a href=\"/wiki/Wikipedia:Citing_sources\" title=\"Wikipedia:Citing sources\">cite</a>, <a href=\"/wiki/Wikipedia:Verifiability\" title=\"Wikipedia:Verifiability\">sources</a>, <a class=\"external text\" href=\"//en.wikipedia.org/w/index.php?title=Kevin_Bacon&amp;action=edit\">improve this section</a>, <a href=\"/wiki/Help:Introduction_to_referencing_with_Wiki_Markup/1\" title=\"Help:Introduction to referencing with Wiki Markup/1\">adding citations to reliable sources</a>, <a href=\"/wiki/Wikipedia:Verifiability#Burden_of_evidence\" title=\"Wikipedia:Verifiability\">removed</a>, <a href=\"/wiki/Help:Maintenance_template_removal\" title=\"Help:Maintenance template removal\">Learn how and when to remove this template message</a>, <a class=\"mw-redirect\" href=\"/wiki/Golden_Globe_Awards\" title=\"Golden Globe Awards\">Golden Globe Awards</a>, <a href=\"/wiki/Golden_Globe_Award_for_Best_Supporting_Actor_%E2%80%93_Motion_Picture\" title=\"Golden Globe Award for Best Supporting Actor – Motion Picture\">Best Supporting Actor – Motion Picture</a>, <a href=\"/wiki/The_River_Wild\" title=\"The River Wild\">The River Wild</a>, <a class=\"mw-redirect\" href=\"/wiki/Broadcast_Film_Critics_Association_Awards\" title=\"Broadcast Film Critics Association Awards\">Broadcast Film Critics Association Awards</a>, <a class=\"mw-redirect\" href=\"/wiki/Broadcast_Film_Critics_Association_Award_for_Best_Actor\" title=\"Broadcast Film Critics Association Award for Best Actor\">Best Actor</a>, <a href=\"/wiki/Murder_in_the_First_(film)\" title=\"Murder in the First (film)\">Murder in the First</a>, <a class=\"mw-redirect\" href=\"/wiki/Screen_Actors_Guild_Awards\" title=\"Screen Actors Guild Awards\">Screen Actors Guild Awards</a>, <a href=\"/wiki/Screen_Actors_Guild_Award_for_Outstanding_Performance_by_a_Cast_in_a_Motion_Picture\" title=\"Screen Actors Guild Award for Outstanding Performance by a Cast in a Motion Picture\">Outstanding Performance by a Cast in a Motion Picture</a>, <a href=\"/wiki/Apollo_13_(film)\" title=\"Apollo 13 (film)\">Apollo 13</a>, <a class=\"mw-redirect\" href=\"/wiki/Screen_Actors_Guild_Awards\" title=\"Screen Actors Guild Awards\">Screen Actors Guild Awards</a>, <a href=\"/wiki/Screen_Actors_Guild_Award_for_Outstanding_Performance_by_a_Male_Actor_in_a_Supporting_Role\" title=\"Screen Actors Guild Award for Outstanding Performance by a Male Actor in a Supporting Role\">Outstanding Performance by a Male Actor in a Supporting Role</a>, <a href=\"/wiki/Murder_in_the_First_(film)\" title=\"Murder in the First (film)\">Murder in the First</a>, <a class=\"mw-redirect\" href=\"/wiki/MTV_Movie_Awards\" title=\"MTV Movie Awards\">MTV Movie Awards</a>, <a href=\"/wiki/MTV_Movie_Award_for_Best_Villain\" title=\"MTV Movie Award for Best Villain\">Best Villain</a>, <a href=\"/wiki/Hollow_Man\" title=\"Hollow Man\">Hollow Man</a>, <a class=\"mw-redirect\" href=\"/wiki/Boston_Society_of_Film_Critics_Awards\" title=\"Boston Society of Film Critics Awards\">Boston Society of Film Critics Awards</a>, <a href=\"/wiki/Boston_Society_of_Film_Critics_Award_for_Best_Cast\" title=\"Boston Society of Film Critics Award for Best Cast\">Best Cast</a>, <a href=\"/wiki/Mystic_River_(film)\" title=\"Mystic River (film)\">Mystic River</a>, <a class=\"mw-redirect\" href=\"/wiki/Screen_Actors_Guild_Awards\" title=\"Screen Actors Guild Awards\">Screen Actors Guild Awards</a>, <a href=\"/wiki/Screen_Actors_Guild_Award_for_Outstanding_Performance_by_a_Cast_in_a_Motion_Picture\" title=\"Screen Actors Guild Award for Outstanding Performance by a Cast in a Motion Picture\">Outstanding Performance by a Cast in a Motion Picture</a>, <a href=\"/wiki/Mystic_River_(film)\" title=\"Mystic River (film)\">Mystic River</a>, <a href=\"/wiki/Satellite_Awards\" title=\"Satellite Awards\">Satellite Awards</a>, <a class=\"mw-redirect\" href=\"/wiki/Satellite_Award_for_Best_Actor_%E2%80%93_Motion_Picture_Drama\" title=\"Satellite Award for Best Actor – Motion Picture Drama\">Best Actor – Motion Picture Drama</a>, <a href=\"/wiki/The_Woodsman_(2004_film)\" title=\"The Woodsman (2004 film)\">The Woodsman</a>, <a href=\"/wiki/Teen_Choice_Awards\" title=\"Teen Choice Awards\">Teen Choice Awards</a>, <a href=\"/wiki/Teen_Choice_Awards\" title=\"Teen Choice Awards\">Choice Movie Sleazebag</a>, <a href=\"/wiki/Beauty_Shop\" title=\"Beauty Shop\">Beauty Shop</a>, <a class=\"mw-redirect\" href=\"/wiki/Primetime_Emmy_Awards\" title=\"Primetime Emmy Awards\">Primetime Emmy Awards</a>, <a class=\"mw-redirect\" href=\"/wiki/Primetime_Emmy_Award_for_Outstanding_Lead_Actor_in_a_Miniseries_or_a_Movie\" title=\"Primetime Emmy Award for Outstanding Lead Actor in a Miniseries or a Movie\">Outstanding Lead Actor in a Miniseries or a Movie</a>, <a href=\"/wiki/Taking_Chance\" title=\"Taking Chance\">Taking Chance</a>, <a href=\"/wiki/Satellite_Awards\" title=\"Satellite Awards\">Satellite Awards</a>, <a href=\"/wiki/Satellite_Award_for_Best_Actor_%E2%80%93_Miniseries_or_Television_Film\" title=\"Satellite Award for Best Actor – Miniseries or Television Film\">Best Actor – Miniseries or Television Film</a>, <a href=\"/wiki/Taking_Chance\" title=\"Taking Chance\">Taking Chance</a>, <a class=\"mw-redirect\" href=\"/wiki/Screen_Actors_Guild_Awards\" title=\"Screen Actors Guild Awards\">Screen Actors Guild Awards</a>, <a href=\"/wiki/Screen_Actors_Guild_Award_for_Outstanding_Performance_by_a_Cast_in_a_Motion_Picture\" title=\"Screen Actors Guild Award for Outstanding Performance by a Cast in a Motion Picture\">Outstanding Performance by a Cast in a Motion Picture</a>, <a href=\"/wiki/Frost/Nixon_(film)\" title=\"Frost/Nixon (film)\">Frost/Nixon</a>, <a class=\"mw-redirect\" href=\"/wiki/Golden_Globe_Awards\" title=\"Golden Globe Awards\">Golden Globe Awards</a>, <a href=\"/wiki/Golden_Globe_Award_for_Best_Actor_%E2%80%93_Miniseries_or_Television_Film\" title=\"Golden Globe Award for Best Actor – Miniseries or Television Film\">Best Actor – Miniseries or Television Film</a>, <a href=\"/wiki/Taking_Chance\" title=\"Taking Chance\">Taking Chance</a>, <a class=\"mw-redirect\" href=\"/wiki/Screen_Actors_Guild_Awards\" title=\"Screen Actors Guild Awards\">Screen Actors Guild Awards</a>, <a href=\"/wiki/Screen_Actors_Guild_Award_for_Outstanding_Performance_by_a_Male_Actor_in_a_Miniseries_or_Television_Movie\" title=\"Screen Actors Guild Award for Outstanding Performance by a Male Actor in a Miniseries or Television Movie\">Outstanding Performance by a Male Actor in a Miniseries or Television Movie</a>, <a href=\"/wiki/Taking_Chance\" title=\"Taking Chance\">Taking Chance</a>, <a href=\"/wiki/Teen_Choice_Awards\" title=\"Teen Choice Awards\">Teen Choice Awards</a>, <a href=\"/wiki/Teen_Choice_Awards\" title=\"Teen Choice Awards\">Choice Movie Villain</a>, <a href=\"/wiki/X-Men:_First_Class\" title=\"X-Men: First Class\">X-Men: First Class</a>, <a class=\"mw-redirect\" href=\"/wiki/Saturn_Awards\" title=\"Saturn Awards\">Saturn Awards</a>, <a href=\"/wiki/Saturn_Award_for_Best_Actor_on_Television\" title=\"Saturn Award for Best Actor on Television\">Best Actor on Television</a>, <a href=\"/wiki/The_Following\" title=\"The Following\">The Following</a>, <a href=\"/wiki/People%27s_Choice_Awards\" title=\"People's Choice Awards\">People's Choice Awards</a>, <a href=\"/wiki/People%27s_Choice_Awards\" title=\"People's Choice Awards\">Favorite Dramatic TV Actor</a>, <a href=\"/wiki/The_Following\" title=\"The Following\">The Following</a>, <a class=\"mw-redirect\" href=\"/wiki/Saturn_Awards\" title=\"Saturn Awards\">Saturn Awards</a>, <a href=\"/wiki/Saturn_Award_for_Best_Actor_on_Television\" title=\"Saturn Award for Best Actor on Television\">Best Actor on Television</a>, <a href=\"/wiki/The_Following\" title=\"The Following\">The Following</a>, <a href=\"/wiki/Kevin_Bacon_filmography\" title=\"Kevin Bacon filmography\">Kevin Bacon filmography</a>, <a href=\"/wiki/List_of_actors_with_Hollywood_Walk_of_Fame_motion_picture_stars\" title=\"List of actors with Hollywood Walk of Fame motion picture stars\">List of actors with Hollywood Walk of Fame motion picture stars</a>, <a href=\"#cite_ref-1\">^</a>, <a class=\"external text\" href=\"https://web.archive.org/web/20090113222205/http://www.newenglandancestors.org/research/services/articles_gbr78.asp\" rel=\"nofollow\">\"Ten Further Hollywood Figures (or Groups Thereof)\"</a>, <a class=\"external text\" href=\"http://www.newenglandancestors.org/research/services/articles_gbr78.asp\" rel=\"nofollow\">the original</a>, <a href=\"#cite_ref-actor_2-0\"><sup><i><b>a</b></i></sup></a>, <a href=\"#cite_ref-actor_2-1\"><sup><i><b>b</b></i></sup></a>, <a href=\"#cite_ref-actor_2-2\"><sup><i><b>c</b></i></sup></a>, <a class=\"external text\" href=\"http://www.biography.com/people/kevin-bacon-9542173\" rel=\"nofollow\">\"Kevin Bacon\"</a>, <a href=\"#cite_ref-3\">^</a>, <a class=\"external text\" href=\"https://www.theguardian.com/film/filmblog/2009/feb/19/best-actors-never-nominated-for-oscars\" rel=\"nofollow\">\"Oscars: the best actors never to have been nominated\"</a>, <a href=\"#cite_ref-4\">^</a>, <a class=\"external text\" href=\"http://www.walkoffame.com/kevin-bacon\" rel=\"nofollow\">\"Hollywood Walk of Fame - Kevin Bacon\"</a>, <a href=\"#cite_ref-walk_5-0\"><sup><i><b>a</b></i></sup></a>, <a href=\"#cite_ref-walk_5-1\"><sup><i><b>b</b></i></sup></a>, <a class=\"external text\" href=\"https://web.archive.org/web/20141016202657/http://www.thebiographychannel.co.uk/biographies/kevin-bacon.html\" rel=\"nofollow\">\"Kevin Bacon biography\"</a>, <a class=\"external text\" href=\"http://www.thebiographychannel.co.uk/biographies/kevin-bacon.html\" rel=\"nofollow\">the original</a>, <a href=\"#cite_ref-bacon_6-0\"><sup><i><b>a</b></i></sup></a>, <a href=\"#cite_ref-bacon_6-1\"><sup><i><b>b</b></i></sup></a>, <a href=\"#cite_ref-bacon_6-2\"><sup><i><b>c</b></i></sup></a>, <a href=\"#cite_ref-bacon_6-3\"><sup><i><b>d</b></i></sup></a>, <a class=\"external text\" href=\"http://www.biography.com/news/kevin-bacon-biography-facts\" rel=\"nofollow\">\"Kevin Bacon: 6 Things You Didn't Know\"</a>, <a href=\"#cite_ref-7\">^</a>, <a class=\"external text\" href=\"https://movies.yahoo.com/person/kevin-bacon/biography.html\" rel=\"nofollow\">\"ABOUT KEVIN BACON\"</a>, <a href=\"#cite_ref-cosmo91_8-0\"><sup><i><b>a</b></i></sup></a>, <a href=\"#cite_ref-cosmo91_8-1\"><sup><i><b>b</b></i></sup></a>, <a href=\"#cite_ref-9\">^</a>, <a class=\"external text\" href=\"http://www.nydailynews.com/entertainment/happy-halloween-superstars-start-horror-flick-gallery-1.98345\" rel=\"nofollow\">\"Happy Halloween: Stars who got their start in horror flicks\"</a>, <a href=\"#cite_ref-bio_10-0\"><sup><i><b>a</b></i></sup></a>, <a href=\"#cite_ref-bio_10-1\"><sup><i><b>b</b></i></sup></a>, <a href=\"#cite_ref-bio_10-2\"><sup><i><b>c</b></i></sup></a>, <a href=\"#cite_ref-bio_10-3\"><sup><i><b>d</b></i></sup></a>, <a href=\"#cite_ref-bio_10-4\"><sup><i><b>e</b></i></sup></a>, <a href=\"#cite_ref-bio_10-5\"><sup><i><b>f</b></i></sup></a>, <a href=\"#cite_ref-bio_10-6\"><sup><i><b>g</b></i></sup></a>, <a href=\"#cite_ref-bio_10-7\"><sup><i><b>h</b></i></sup></a>, <a href=\"#cite_ref-bio_10-8\"><sup><i><b>i</b></i></sup></a>, <a href=\"#cite_ref-bio_10-9\"><sup><i><b>j</b></i></sup></a>, <a href=\"#cite_ref-bio_10-10\"><sup><i><b>k</b></i></sup></a>, <a class=\"external text\" href=\"https://www.pbs.org/wnet/finding-your-roots/profiles/kevin-bacon%C2%A0/\" rel=\"nofollow\">\"Kevin Bacon\"</a>, <a href=\"#cite_ref-kevin_11-0\">^</a>, <a class=\"external text\" href=\"http://www.tvguide.com/celebrities/kevin-bacon/bio/160550\" rel=\"nofollow\">\"Kevin Bacon biography\"</a>, <a href=\"#cite_ref-12\">^</a>, <a class=\"external text\" href=\"http://news.moviefone.com/2012/03/02/diner-30th-anniversary/\" rel=\"nofollow\">\"Diner' 30th Anniversary: 25 Things You Didn't Know About The Guys-and-Fries Classic\"</a>, <a href=\"#cite_ref-time84_13-0\">^</a>, <a class=\"external text\" href=\"http://www.time.com/time/magazine/article/0,9171,950019,00.html\" rel=\"nofollow\">\"Revel Without a Cause\"</a>, <a href=\"#cite_ref-14\">^</a>, <a class=\"external text\" href=\"http://www.huffingtonpost.com/2014/08/25/kevin-bacon-footloose_n_5710413.html\" rel=\"nofollow\">\"Kevin Bacon Got Bullied By High Schoolers While Prepping For 'Footloose<span style=\"padding-right:0.2em;\">'</span>\"</a>, <a href=\"#cite_ref-15\">^</a>, <a class=\"external text\" href=\"https://web.archive.org/web/20090109152125/http://www.thebiographychannel.co.uk/biography_story/522%3A492/1/Kevin_Bacon.htm\" rel=\"nofollow\">\"Kevin Bacon\"</a>, <a class=\"external text\" href=\"http://www.thebiographychannel.co.uk/biography_story/522:492/1/Kevin_Bacon.htm\" rel=\"nofollow\">the original</a>, <a href=\"#cite_ref-16\">^</a>, <a class=\"external text\" href=\"https://www.nytimes.com/1994/09/25/movies/a-second-wind-is-blowing-for-kevin-bacon.html\" rel=\"nofollow\">\"A Second Wind Is Blowing For Kevin Bacon\"</a>, <a href=\"#cite_ref-17\">^</a>, <a class=\"external text\" href=\"https://www.nytimes.com/movie/review?res=9C0CE2DE1631F93AA25752C0A966958260\" rel=\"nofollow\">\"Tremors Review\"</a>, <a href=\"#cite_ref-nyt94_18-0\">^</a>, <a class=\"external text\" href=\"https://query.nytimes.com/gst/fullpage.html?res=9C07E6D91F3BF936A1575AC0A962958260&amp;sec=&amp;spon=&amp;pagewanted=all\" rel=\"nofollow\">\"A Second Wind Is Blowing For Kevin Bacon\"</a>, <a href=\"#cite_ref-19\">^</a>, <a class=\"external text\" href=\"http://www.jfk-online.com/jfkbacon.html\" rel=\"nofollow\">\"Kevin Bacon\"</a>, <a href=\"#cite_ref-20\">^</a>, <a class=\"external text\" href=\"http://www.tcm.com/this-month/article/143158%7C0/A-Few-Good-Men.html\" rel=\"nofollow\">\"A few good men\"</a>, <a href=\"#cite_ref-21\">^</a>, <a class=\"external text\" href=\"http://collider.com/kevin-bacon-commercials-footloose/\" rel=\"nofollow\">\"Kevin Bacon Reprises His Roles from FOOTLOOSE, A FEW GOOD MEN, APOLLO 13, and More in UK Commercials\"</a>, <a href=\"#cite_ref-22\">^</a>, <a class=\"external text\" href=\"http://www.rogerebert.com/reviews/sleepers-1996\" rel=\"nofollow\">\"Sleepers\"</a>, <a href=\"#cite_ref-austin_23-0\">^</a>, <a class=\"external text\" href=\"http://www.austinchronicle.com/calendar/film/1997-02-07/283342/\" rel=\"nofollow\">\"Losing Chase\"</a>, <a href=\"/wiki/The_Austin_Chronicle\" title=\"The Austin Chronicle\">The Austin Chronicle</a>, <a href=\"#cite_ref-24\">^</a>, <a class=\"external text\" href=\"http://www.criminalelement.com/blogs/2013/09/under-the-raderhorror-movies-you-may-have-missed-stir-of-echoes\" rel=\"nofollow\">\"Under the Radar—Horror Movies You May Have Missed: Stir of Echoes\"</a>, <a href=\"#cite_ref-25\">^</a>, <a class=\"external text\" href=\"http://www.rogerebert.com/reviews/hollow-man-2000\" rel=\"nofollow\">\"The hollow man\"</a>, <a href=\"#cite_ref-26\">^</a>, <a class=\"external text\" href=\"http://movies.about.com/od/wherethetruthlies/a/truthkb101305.htm\" rel=\"nofollow\">\"Kevin Bacon Talks About \"Where the Truth Lies<span style=\"padding-right:0.2em;\">\"</span>\"</a>, <a href=\"#cite_ref-27\">^</a>, <a class=\"external text\" href=\"http://jam.canoe.ca/Movies/2005/09/14/1216527.html\" rel=\"nofollow\">\"Kevin Bacon irked over movie rating\"</a>, <a href=\"#cite_ref-28\">^</a>, <a class=\"external text\" href=\"http://www.latimes.com/entertainment/la-et-kevin-bacon-photo6-photo.html\" rel=\"nofollow\">\"The Woodsman' (2004)\"</a>, <a href=\"#cite_ref-29\">^</a>, <a class=\"external text\" href=\"http://www.nydailynews.com/entertainment/tv-movies/kevin-bacon-chance-body-fallen-marine-home-article-1.392226\" rel=\"nofollow\">\"Kevin Bacon 'Taking Chance' body of fallen Marine home\"</a>, <a href=\"#cite_ref-30\">^</a>, <a class=\"external text\" href=\"https://web.archive.org/web/20100722010545/http://heatvision.hollywoodreporter.com/2010/07/winters-bone-star-cast-as-mystique-in-xmen-first-class.html\" rel=\"nofollow\">\"<span style=\"padding-left:0.2em;\">'</span>Winter's Bone' star cast in 'X-Men: First Class' (exclusive)\"</a>, <a class=\"external text\" href=\"http://heatvision.hollywoodreporter.com/2010/07/winters-bone-star-cast-as-mystique-in-xmen-first-class.html\" rel=\"nofollow\">the original</a>, <a href=\"#cite_ref-31\">^</a>, <a class=\"external text\" href=\"https://web.archive.org/web/20100720060214/http://www.forcesofgeek.com/2010/07/kevin-bacon-playing-sebastian-shaw-in-x.html\" rel=\"nofollow\">\"KEVIN BACON Playing SEBASTIAN SHAW in X-MEN: FIRST CLASS\"</a>, <a class=\"external text\" href=\"http://www.forcesofgeek.com/2010/07/kevin-bacon-playing-sebastian-shaw-in-x.html\" rel=\"nofollow\">the original</a>, <a href=\"#cite_ref-8_the_play_32-0\">^</a>, <a class=\"external text\" href=\"http://www.accesshollywood.com/jesse-tyler-ferguson/glee-stars-touched-by-brad-pitt-and-george-clooneys-support-of-8_article_61543\" rel=\"nofollow\">\"<span style=\"padding-left:0.2em;\">'</span>Glee' Stars 'Touched' By Pitt &amp; Clooney's Support Of '8<span style=\"padding-right:0.2em;\">'</span>\"</a>, <a class=\"mw-redirect\" href=\"/wiki/Access_Hollywood\" title=\"Access Hollywood\">Access Hollywood</a>, <a href=\"#cite_ref-8_play_video_33-0\">^</a>, <a class=\"external text\" href=\"https://www.youtube.com/watch?v=qlUG8F9uVgM\" rel=\"nofollow\">\"<span style=\"padding-left:0.2em;\">\"</span>8\": A Play about the Fight for Marriage Equality\"</a>, <a href=\"#cite_ref-34\">^</a>, <a class=\"external text\" href=\"http://www.pinknews.co.uk/2012/03/01/youtube-to-broadcast-proposition-8-play-live/\" rel=\"nofollow\">\"YouTube to broadcast Proposition 8 play live\"</a>, <a href=\"#cite_ref-35\">^</a>, <a class=\"external text\" href=\"http://www.fox.com/the-following/\" rel=\"nofollow\">\"The Following\"</a>, <a href=\"#cite_ref-36\">^</a>, <a class=\"external text\" href=\"https://news.yahoo.com/blogs/trending-now/kevin-bacon-gives-millennials-a-history-lesson-about-the--80s-162525915.html\" rel=\"nofollow\">\"Kevin Bacon Gives Millennials a History Lesson About the '80s\"</a>, <a href=\"#cite_ref-37\">^</a>, <a class=\"external text\" href=\"http://www.campaignlive.co.uk/news/1294856/\" rel=\"nofollow\">\"Kevin Bacon rides UK's biggest rollercoaster in EE spot\"</a>, <a href=\"#cite_ref-38\">^</a>, <a class=\"external text\" href=\"http://parade.condenast.com/269380/ashleighschmitz/kevin-bacon-reprises-his-most-iconic-film-roles-in-british-commercial/\" rel=\"nofollow\">\"Kevin Bacon Reprises His Most Iconic Film Roles in British Commercial\"</a>, <a href=\"#cite_ref-39\">^</a>, <a class=\"external text\" href=\"http://money.cnn.com/2015/03/13/media/kevin-bacon-eggs/index.html?iid=HP_LN\" rel=\"nofollow\">\"New egg ad comes with a side of Kevin Bacon\"</a>, <a href=\"#cite_ref-40\">^</a>, <a class=\"external text\" href=\"http://www.nydailynews.com/entertainment/tv-movies/kevin-bacon-loyalty-nyc-philly-origins-peace-bustling-city-article-1.147197\" rel=\"nofollow\">\"Kevin Bacon has loyalty to NYC despite Philly origins, says he's 'most at peace' in bustling city\"</a>, <a href=\"#cite_ref-41\">^</a>, <a class=\"external text\" href=\"http://www.people.com/people/archive/article/0,,20093025,00.html\" rel=\"nofollow\">\"America's Sweethearts\"</a>, <a href=\"#cite_ref-42\">^</a>, <a class=\"external text\" href=\"http://www.au.org/media/church-and-state/archives/2008/05/two-thumbs-up.html\" rel=\"nofollow\">\"Media &amp; Press | Americans United\"</a>, <a href=\"#cite_ref-43\">^</a>, <a class=\"external text\" href=\"https://www.washingtonpost.com/wp-dyn/content/article/2008/03/25/AR2008032503852.html\" rel=\"nofollow\">\"Amy Argetsinger and Roxanne Roberts\"</a>, <a href=\"#cite_ref-44\">^</a>, <a href=\"#cite_ref-45\">^</a>, <a class=\"external text\" href=\"http://www.foxnews.com/story/0,2933,343589,00.html\" rel=\"nofollow\">\"The Bacon Brothers Go 'On the Record<span style=\"padding-right:0.2em;\">'</span>\"</a>, <a href=\"#cite_ref-financialpost_46-0\">^</a>, <a class=\"external text\" href=\"https://web.archive.org/web/20140314085857/http://economiccrisis.us/2009/06/may-god-spare-mercy-victim-tells-madoff/\" rel=\"nofollow\">\"<span style=\"padding-left:0.2em;\">'</span>May God spare you no mercy', victim tells Madoff\"</a>, <a class=\"external text\" href=\"http://economiccrisis.us/2009/06/may-god-spare-mercy-victim-tells-madoff/\" rel=\"nofollow\">the original</a>, <a href=\"#cite_ref-47\">^</a>, <a href=\"#cite_ref-48\">^</a>, <a class=\"external text\" href=\"http://www.huffingtonpost.com/megan-smolenyak-smolenyak/6-degrees-of-separation-k_b_900707.html\" rel=\"nofollow\">\"6 Degrees of Separation: Kyra Sedgwick and Kevin Bacon Are Cousins\"</a>, <a href=\"#cite_ref-49\">^</a>, <a class=\"external text\" href=\"https://web.archive.org/web/20130405182304/http://www.drawtheline.org/watch-stuff/\" rel=\"nofollow\">\"Watch Stuff – Bill of Reproductive Rights\"</a>, <a class=\"external text\" href=\"http://www.drawtheline.org/watch-stuff\" rel=\"nofollow\">the original</a>, <a href=\"#cite_ref-50\">^</a>, <a class=\"external text\" href=\"http://www.drawtheline.org/sign-now/\" rel=\"nofollow\">\"Bill of Reproductive Rights\"</a>, <a href=\"#cite_ref-51\">^</a>, <a class=\"external text\" href=\"http://www.sixdegrees.org/\" rel=\"nofollow\">\"Six Degrees\"</a>, <a href=\"#cite_ref-52\">^</a>, <a class=\"external text\" href=\"http://www.webmonkey.com/2012/09/easter-egg-google-connects-the-dots-for-bacon-number-search/\" rel=\"nofollow\">\"Easter Egg: Google Connects the Dots for 'Bacon Number' Search\"</a>, <a href=\"#cite_ref-53\">^</a>, <a class=\"external text\" href=\"http://www.telegraph.co.uk/science/science-news/4768389/And-the-winner-tonight-is.html\" rel=\"nofollow\">\"And the winner tonight is\"</a>, <a href=\"#cite_ref-54\">^</a>, <a class=\"external text\" href=\"http://baconbros.com/\" rel=\"nofollow\">\"The Bacon Brothers\"</a>, <a class=\"extiw\" href=\"https://commons.wikimedia.org/wiki/Category:Kevin_Bacon\" title=\"commons:Category:Kevin Bacon\">Kevin Bacon</a>, <a class=\"external text\" href=\"http://www.imdb.com/name/nm0000102/\" rel=\"nofollow\">Kevin Bacon</a>, <a href=\"/wiki/IMDb\" title=\"IMDb\">IMDb</a>, <a class=\"external text\" href=\"https://www.ibdb.com/Person/View/90569\" rel=\"nofollow\">Kevin Bacon</a>, <a href=\"/wiki/Internet_Broadway_Database\" title=\"Internet Broadway Database\">Internet Broadway Database</a>, <a href=\"https://www.wikidata.org/wiki/Q3454165#P1220\" title=\"Edit this at Wikidata\"><img alt=\"Edit this at Wikidata\" data-file-height=\"600\" data-file-width=\"600\" height=\"10\" src=\"//upload.wikimedia.org/wikipedia/commons/thumb/7/73/Blue_pencil.svg/10px-Blue_pencil.svg.png\" srcset=\"//upload.wikimedia.org/wikipedia/commons/thumb/7/73/Blue_pencil.svg/15px-Blue_pencil.svg.png 1.5x, //upload.wikimedia.org/wikipedia/commons/thumb/7/73/Blue_pencil.svg/20px-Blue_pencil.svg.png 2x\" style=\"vertical-align: text-top\" width=\"10\"/></a>, <a class=\"external text\" href=\"http://www.lortel.org/Archives/CreditableEntity/5597\" rel=\"nofollow\">Kevin Bacon</a>, <a href=\"/wiki/Lortel_Archives\" title=\"Lortel Archives\">Internet Off-Broadway Database</a>, <a class=\"external text\" href=\"https://www.allmovie.com/artist/p3164\" rel=\"nofollow\">Kevin Bacon</a>, <a href=\"/wiki/AllMovie\" title=\"AllMovie\">AllMovie</a>, <a class=\"external text\" href=\"http://oracleofbacon.org\" rel=\"nofollow\">Oracle of Bacon</a>, <a href=\"/wiki/Template:Critics%27_Choice_Movie_Award_for_Best_Actor\" title=\"Template:Critics' Choice Movie Award for Best Actor\"><abbr style=\";;background:none transparent;border:none;-moz-box-shadow:none;-webkit-box-shadow:none;box-shadow:none;\" title=\"View this template\">v</abbr></a>, <a href=\"/wiki/Template_talk:Critics%27_Choice_Movie_Award_for_Best_Actor\" title=\"Template talk:Critics' Choice Movie Award for Best Actor\"><abbr style=\";;background:none transparent;border:none;-moz-box-shadow:none;-webkit-box-shadow:none;box-shadow:none;\" title=\"Discuss this template\">t</abbr></a>, <a class=\"external text\" href=\"//en.wikipedia.org/w/index.php?title=Template:Critics%27_Choice_Movie_Award_for_Best_Actor&amp;action=edit\"><abbr style=\";;background:none transparent;border:none;-moz-box-shadow:none;-webkit-box-shadow:none;box-shadow:none;\" title=\"Edit this template\">e</abbr></a>, <a href=\"/wiki/Critics%27_Choice_Movie_Award_for_Best_Actor\" title=\"Critics' Choice Movie Award for Best Actor\">Critics' Choice Movie Award for Best Actor</a>, <a class=\"mw-selflink selflink\">Kevin Bacon</a>, <a href=\"/wiki/Geoffrey_Rush\" title=\"Geoffrey Rush\">Geoffrey Rush</a>, <a href=\"/wiki/Jack_Nicholson\" title=\"Jack Nicholson\">Jack Nicholson</a>, <a href=\"/wiki/Ian_McKellen\" title=\"Ian McKellen\">Ian McKellen</a>, <a href=\"/wiki/Russell_Crowe\" title=\"Russell Crowe\">Russell Crowe</a>, <a href=\"/wiki/Russell_Crowe\" title=\"Russell Crowe\">Russell Crowe</a>, <a href=\"/wiki/Russell_Crowe\" title=\"Russell Crowe\">Russell Crowe</a>, <a href=\"/wiki/Daniel_Day-Lewis\" title=\"Daniel Day-Lewis\">Daniel Day-Lewis</a>, <a href=\"/wiki/Jack_Nicholson\" title=\"Jack Nicholson\">Jack Nicholson</a>, <a href=\"/wiki/Sean_Penn\" title=\"Sean Penn\">Sean Penn</a>, <a href=\"/wiki/Jamie_Foxx\" title=\"Jamie Foxx\">Jamie Foxx</a>, <a href=\"/wiki/Philip_Seymour_Hoffman\" title=\"Philip Seymour Hoffman\">Philip Seymour Hoffman</a>, <a href=\"/wiki/Forest_Whitaker\" title=\"Forest Whitaker\">Forest Whitaker</a>, <a href=\"/wiki/Daniel_Day-Lewis\" title=\"Daniel Day-Lewis\">Daniel Day-Lewis</a>, <a href=\"/wiki/Sean_Penn\" title=\"Sean Penn\">Sean Penn</a>, <a href=\"/wiki/Jeff_Bridges\" title=\"Jeff Bridges\">Jeff Bridges</a>, <a href=\"/wiki/Colin_Firth\" title=\"Colin Firth\">Colin Firth</a>, <a href=\"/wiki/George_Clooney\" title=\"George Clooney\">George Clooney</a>, <a href=\"/wiki/Daniel_Day-Lewis\" title=\"Daniel Day-Lewis\">Daniel Day-Lewis</a>, <a href=\"/wiki/Matthew_McConaughey\" title=\"Matthew McConaughey\">Matthew McConaughey</a>, <a href=\"/wiki/Michael_Keaton\" title=\"Michael Keaton\">Michael Keaton</a>, <a href=\"/wiki/Leonardo_DiCaprio\" title=\"Leonardo DiCaprio\">Leonardo DiCaprio</a>, <a href=\"/wiki/Casey_Affleck\" title=\"Casey Affleck\">Casey Affleck</a>, <a href=\"/wiki/Template:GoldenGlobeBestActorTVMiniseriesFilm\" title=\"Template:GoldenGlobeBestActorTVMiniseriesFilm\"><abbr style=\";background: #CFB53B;background:none transparent;border:none;-moz-box-shadow:none;-webkit-box-shadow:none;box-shadow:none;\" title=\"View this template\">v</abbr></a>, <a href=\"/wiki/Template_talk:GoldenGlobeBestActorTVMiniseriesFilm\" title=\"Template talk:GoldenGlobeBestActorTVMiniseriesFilm\"><abbr style=\";background: #CFB53B;background:none transparent;border:none;-moz-box-shadow:none;-webkit-box-shadow:none;box-shadow:none;\" title=\"Discuss this template\">t</abbr></a>, <a class=\"external text\" href=\"//en.wikipedia.org/w/index.php?title=Template:GoldenGlobeBestActorTVMiniseriesFilm&amp;action=edit\"><abbr style=\";background: #CFB53B;background:none transparent;border:none;-moz-box-shadow:none;-webkit-box-shadow:none;box-shadow:none;\" title=\"Edit this template\">e</abbr></a>, <a href=\"/wiki/Golden_Globe_Award_for_Best_Actor_%E2%80%93_Miniseries_or_Television_Film\" title=\"Golden Globe Award for Best Actor – Miniseries or Television Film\">Golden Globe Award for Best Actor – Miniseries or Television Film</a>, <a href=\"/wiki/Mickey_Rooney\" title=\"Mickey Rooney\">Mickey Rooney</a>, <a href=\"/wiki/Anthony_Andrews\" title=\"Anthony Andrews\">Anthony Andrews</a>, <a href=\"/wiki/Richard_Chamberlain\" title=\"Richard Chamberlain\">Richard Chamberlain</a>, <a href=\"/wiki/Ted_Danson\" title=\"Ted Danson\">Ted Danson</a>, <a href=\"/wiki/Dustin_Hoffman\" title=\"Dustin Hoffman\">Dustin Hoffman</a>, <a href=\"/wiki/James_Woods\" title=\"James Woods\">James Woods</a>, <a href=\"/wiki/Randy_Quaid\" title=\"Randy Quaid\">Randy Quaid</a>, <a href=\"/wiki/Michael_Caine\" title=\"Michael Caine\">Michael Caine</a>, <a href=\"/wiki/Stacy_Keach\" title=\"Stacy Keach\">Stacy Keach</a>, <a href=\"/wiki/Robert_Duvall\" title=\"Robert Duvall\">Robert Duvall</a>, <a href=\"/wiki/James_Garner\" title=\"James Garner\">James Garner</a>, <a href=\"/wiki/Beau_Bridges\" title=\"Beau Bridges\">Beau Bridges</a>, <a href=\"/wiki/Robert_Duvall\" title=\"Robert Duvall\">Robert Duvall</a>, <a href=\"/wiki/James_Garner\" title=\"James Garner\">James Garner</a>, <a href=\"/wiki/Ra%C3%BAl_Juli%C3%A1\" title=\"Raúl Juliá\">Raúl Juliá</a>, <a href=\"/wiki/Gary_Sinise\" title=\"Gary Sinise\">Gary Sinise</a>, <a href=\"/wiki/Alan_Rickman\" title=\"Alan Rickman\">Alan Rickman</a>, <a href=\"/wiki/Ving_Rhames\" title=\"Ving Rhames\">Ving Rhames</a>, <a href=\"/wiki/Stanley_Tucci\" title=\"Stanley Tucci\">Stanley Tucci</a>, <a href=\"/wiki/Jack_Lemmon\" title=\"Jack Lemmon\">Jack Lemmon</a>, <a href=\"/wiki/Brian_Dennehy\" title=\"Brian Dennehy\">Brian Dennehy</a>, <a href=\"/wiki/James_Franco\" title=\"James Franco\">James Franco</a>, <a href=\"/wiki/Albert_Finney\" title=\"Albert Finney\">Albert Finney</a>, <a href=\"/wiki/Al_Pacino\" title=\"Al Pacino\">Al Pacino</a>, <a href=\"/wiki/Geoffrey_Rush\" title=\"Geoffrey Rush\">Geoffrey Rush</a>, <a href=\"/wiki/Jonathan_Rhys_Meyers\" title=\"Jonathan Rhys Meyers\">Jonathan Rhys Meyers</a>, <a href=\"/wiki/Bill_Nighy\" title=\"Bill Nighy\">Bill Nighy</a>, <a href=\"/wiki/Jim_Broadbent\" title=\"Jim Broadbent\">Jim Broadbent</a>, <a href=\"/wiki/Paul_Giamatti\" title=\"Paul Giamatti\">Paul Giamatti</a>, <a class=\"mw-selflink selflink\">Kevin Bacon</a>, <a href=\"/wiki/Al_Pacino\" title=\"Al Pacino\">Al Pacino</a>, <a href=\"/wiki/Idris_Elba\" title=\"Idris Elba\">Idris Elba</a>, <a href=\"/wiki/Kevin_Costner\" title=\"Kevin Costner\">Kevin Costner</a>, <a href=\"/wiki/Michael_Douglas\" title=\"Michael Douglas\">Michael Douglas</a>, <a href=\"/wiki/Billy_Bob_Thornton\" title=\"Billy Bob Thornton\">Billy Bob Thornton</a>, <a href=\"/wiki/Oscar_Isaac\" title=\"Oscar Isaac\">Oscar Isaac</a>, <a href=\"/wiki/Tom_Hiddleston\" title=\"Tom Hiddleston\">Tom Hiddleston</a>, <a href=\"/wiki/Template:Saturn_Award_for_Best_Actor_on_Television\" title=\"Template:Saturn Award for Best Actor on Television\"><abbr style=\";;background:none transparent;border:none;-moz-box-shadow:none;-webkit-box-shadow:none;box-shadow:none;\" title=\"View this template\">v</abbr></a>, <a href=\"/wiki/Template_talk:Saturn_Award_for_Best_Actor_on_Television\" title=\"Template talk:Saturn Award for Best Actor on Television\"><abbr style=\";;background:none transparent;border:none;-moz-box-shadow:none;-webkit-box-shadow:none;box-shadow:none;\" title=\"Discuss this template\">t</abbr></a>, <a class=\"external text\" href=\"//en.wikipedia.org/w/index.php?title=Template:Saturn_Award_for_Best_Actor_on_Television&amp;action=edit\"><abbr style=\";;background:none transparent;border:none;-moz-box-shadow:none;-webkit-box-shadow:none;box-shadow:none;\" title=\"Edit this template\">e</abbr></a>, <a href=\"/wiki/Saturn_Award_for_Best_Actor_on_Television\" title=\"Saturn Award for Best Actor on Television\">Saturn Award for Best Actor on Television</a>, <a href=\"/wiki/Kyle_Chandler\" title=\"Kyle Chandler\">Kyle Chandler</a>, <a href=\"/wiki/Steven_Weber_(actor)\" title=\"Steven Weber (actor)\">Steven Weber</a>, <a href=\"/wiki/Richard_Dean_Anderson\" title=\"Richard Dean Anderson\">Richard Dean Anderson</a>, <a href=\"/wiki/David_Boreanaz\" title=\"David Boreanaz\">David Boreanaz</a>, <a href=\"/wiki/Robert_Patrick\" title=\"Robert Patrick\">Robert Patrick</a>, <a href=\"/wiki/Ben_Browder\" title=\"Ben Browder\">Ben Browder</a>, <a href=\"/wiki/David_Boreanaz\" title=\"David Boreanaz\">David Boreanaz</a>, <a href=\"/wiki/David_Boreanaz\" title=\"David Boreanaz\">David Boreanaz</a>, <a href=\"/wiki/Ben_Browder\" title=\"Ben Browder\">Ben Browder</a>, <a href=\"/wiki/Matthew_Fox\" title=\"Matthew Fox\">Matthew Fox</a>, <a href=\"/wiki/Michael_C._Hall\" title=\"Michael C. Hall\">Michael C. Hall</a>, <a href=\"/wiki/Matthew_Fox\" title=\"Matthew Fox\">Matthew Fox</a>, <a href=\"/wiki/Edward_James_Olmos\" title=\"Edward James Olmos\">Edward James Olmos</a>, <a href=\"/wiki/Josh_Holloway\" title=\"Josh Holloway\">Josh Holloway</a>, <a href=\"/wiki/Stephen_Moyer\" title=\"Stephen Moyer\">Stephen Moyer</a>, <a href=\"/wiki/Bryan_Cranston\" title=\"Bryan Cranston\">Bryan Cranston</a>, <a class=\"mw-selflink selflink\">Kevin Bacon</a>, <a href=\"/wiki/Bryan_Cranston\" title=\"Bryan Cranston\">Bryan Cranston</a>, <a href=\"/wiki/Mads_Mikkelsen\" title=\"Mads Mikkelsen\">Mads Mikkelsen</a>, <a href=\"/wiki/Hugh_Dancy\" title=\"Hugh Dancy\">Hugh Dancy</a>, <a href=\"/wiki/Andrew_Lincoln\" title=\"Andrew Lincoln\">Andrew Lincoln</a>, <a href=\"/wiki/Bruce_Campbell\" title=\"Bruce Campbell\">Bruce Campbell</a>, <a href=\"/wiki/Andrew_Lincoln\" title=\"Andrew Lincoln\">Andrew Lincoln</a>, <a href=\"/wiki/Template:ScreenActorsGuildAward_MaleTVMiniseriesMovie\" title=\"Template:ScreenActorsGuildAward MaleTVMiniseriesMovie\"><abbr style=\"background: #ABCDEF;;background:none transparent;border:none;-moz-box-shadow:none;-webkit-box-shadow:none;box-shadow:none;\" title=\"View this template\">v</abbr></a>, <a href=\"/wiki/Template_talk:ScreenActorsGuildAward_MaleTVMiniseriesMovie\" title=\"Template talk:ScreenActorsGuildAward MaleTVMiniseriesMovie\"><abbr style=\"background: #ABCDEF;;background:none transparent;border:none;-moz-box-shadow:none;-webkit-box-shadow:none;box-shadow:none;\" title=\"Discuss this template\">t</abbr></a>, <a class=\"external text\" href=\"//en.wikipedia.org/w/index.php?title=Template:ScreenActorsGuildAward_MaleTVMiniseriesMovie&amp;action=edit\"><abbr style=\"background: #ABCDEF;;background:none transparent;border:none;-moz-box-shadow:none;-webkit-box-shadow:none;box-shadow:none;\" title=\"Edit this template\">e</abbr></a>, <a href=\"/wiki/Screen_Actors_Guild_Award_for_Outstanding_Performance_by_a_Male_Actor_in_a_Miniseries_or_Television_Movie\" title=\"Screen Actors Guild Award for Outstanding Performance by a Male Actor in a Miniseries or Television Movie\">Screen Actors Guild Award for Outstanding Performance by a Male Actor in a Miniseries or Television Movie</a>, <a href=\"/wiki/Ra%C3%BAl_Juli%C3%A1\" title=\"Raúl Juliá\">Raúl Juliá</a>, <a href=\"/wiki/Gary_Sinise\" title=\"Gary Sinise\">Gary Sinise</a>, <a href=\"/wiki/Alan_Rickman\" title=\"Alan Rickman\">Alan Rickman</a>, <a href=\"/wiki/Gary_Sinise\" title=\"Gary Sinise\">Gary Sinise</a>, <a href=\"/wiki/Christopher_Reeve\" title=\"Christopher Reeve\">Christopher Reeve</a>, <a href=\"/wiki/Jack_Lemmon\" title=\"Jack Lemmon\">Jack Lemmon</a>, <a href=\"/wiki/Brian_Dennehy\" title=\"Brian Dennehy\">Brian Dennehy</a>, <a href=\"/wiki/Ben_Kingsley\" title=\"Ben Kingsley\">Ben Kingsley</a>, <a href=\"/wiki/William_H._Macy\" title=\"William H. Macy\">William H. Macy</a>, <a href=\"/wiki/Al_Pacino\" title=\"Al Pacino\">Al Pacino</a>, <a href=\"/wiki/Geoffrey_Rush\" title=\"Geoffrey Rush\">Geoffrey Rush</a>, <a href=\"/wiki/Paul_Newman\" title=\"Paul Newman\">Paul Newman</a>, <a href=\"/wiki/Jeremy_Irons\" title=\"Jeremy Irons\">Jeremy Irons</a>, <a href=\"/wiki/Kevin_Kline\" title=\"Kevin Kline\">Kevin Kline</a>, <a href=\"/wiki/Paul_Giamatti\" title=\"Paul Giamatti\">Paul Giamatti</a>, <a class=\"mw-selflink selflink\">Kevin Bacon</a>, <a href=\"/wiki/Al_Pacino\" title=\"Al Pacino\">Al Pacino</a>, <a href=\"/wiki/Paul_Giamatti\" title=\"Paul Giamatti\">Paul Giamatti</a>, <a href=\"/wiki/Kevin_Costner\" title=\"Kevin Costner\">Kevin Costner</a>, <a href=\"/wiki/Michael_Douglas\" title=\"Michael Douglas\">Michael Douglas</a>, <a href=\"/wiki/Mark_Ruffalo\" title=\"Mark Ruffalo\">Mark Ruffalo</a>, <a href=\"/wiki/Idris_Elba\" title=\"Idris Elba\">Idris Elba</a>, <a href=\"/wiki/Bryan_Cranston\" title=\"Bryan Cranston\">Bryan Cranston</a>, <a href=\"/wiki/Template:ScreenActorsGuildAward_CastMotionPicture_1995%E2%80%932000\" title=\"Template:ScreenActorsGuildAward CastMotionPicture 1995–2000\"><abbr style=\"background: #ABCDEF;;background:none transparent;border:none;-moz-box-shadow:none;-webkit-box-shadow:none;box-shadow:none;\" title=\"View this template\">v</abbr></a>, <a href=\"/wiki/Template_talk:ScreenActorsGuildAward_CastMotionPicture_1995%E2%80%932000\" title=\"Template talk:ScreenActorsGuildAward CastMotionPicture 1995–2000\"><abbr style=\"background: #ABCDEF;;background:none transparent;border:none;-moz-box-shadow:none;-webkit-box-shadow:none;box-shadow:none;\" title=\"Discuss this template\">t</abbr></a>, <a class=\"external text\" href=\"//en.wikipedia.org/w/index.php?title=Template:ScreenActorsGuildAward_CastMotionPicture_1995%E2%80%932000&amp;action=edit\"><abbr style=\"background: #ABCDEF;;background:none transparent;border:none;-moz-box-shadow:none;-webkit-box-shadow:none;box-shadow:none;\" title=\"Edit this template\">e</abbr></a>, <a href=\"/wiki/Screen_Actors_Guild_Award_for_Outstanding_Performance_by_a_Cast_in_a_Motion_Picture\" title=\"Screen Actors Guild Award for Outstanding Performance by a Cast in a Motion Picture\">Screen Actors Guild Award for Outstanding Performance by a Cast in a Motion Picture</a>, <a href=\"/wiki/Apollo_13_(film)\" title=\"Apollo 13 (film)\">Apollo 13</a>, <a class=\"mw-selflink selflink\">Kevin Bacon</a>, <a href=\"/wiki/Tom_Hanks\" title=\"Tom Hanks\">Tom Hanks</a>, <a href=\"/wiki/Ed_Harris\" title=\"Ed Harris\">Ed Harris</a>, <a href=\"/wiki/Bill_Paxton\" title=\"Bill Paxton\">Bill Paxton</a>, <a href=\"/wiki/Kathleen_Quinlan\" title=\"Kathleen Quinlan\">Kathleen Quinlan</a>, <a href=\"/wiki/Gary_Sinise\" title=\"Gary Sinise\">Gary Sinise</a>, <a href=\"/wiki/The_Birdcage\" title=\"The Birdcage\">The Birdcage</a>, <a href=\"/wiki/Hank_Azaria\" title=\"Hank Azaria\">Hank Azaria</a>, <a href=\"/wiki/Christine_Baranski\" title=\"Christine Baranski\">Christine Baranski</a>, <a href=\"/wiki/Dan_Futterman\" title=\"Dan Futterman\">Dan Futterman</a>, <a href=\"/wiki/Gene_Hackman\" title=\"Gene Hackman\">Gene Hackman</a>, <a href=\"/wiki/Nathan_Lane\" title=\"Nathan Lane\">Nathan Lane</a>, <a href=\"/wiki/Dianne_Wiest\" title=\"Dianne Wiest\">Dianne Wiest</a>, <a href=\"/wiki/Robin_Williams\" title=\"Robin Williams\">Robin Williams</a>, <a href=\"/wiki/The_Full_Monty\" title=\"The Full Monty\">The Full Monty</a>, <a href=\"/wiki/Mark_Addy\" title=\"Mark Addy\">Mark Addy</a>, <a href=\"/wiki/Paul_Barber_(actor)\" title=\"Paul Barber (actor)\">Paul Barber</a>, <a href=\"/wiki/Robert_Carlyle\" title=\"Robert Carlyle\">Robert Carlyle</a>, <a class=\"new\" href=\"/w/index.php?title=Deirdre_Costello_(actress)&amp;action=edit&amp;redlink=1\" title=\"Deirdre Costello (actress) (page does not exist)\">Deirdre Costello</a>, <a href=\"/wiki/Steve_Huison\" title=\"Steve Huison\">Steve Huison</a>, <a href=\"/wiki/Bruce_Jones_(actor)\" title=\"Bruce Jones (actor)\">Bruce Jones</a>, <a href=\"/wiki/Lesley_Sharp\" title=\"Lesley Sharp\">Lesley Sharp</a>, <a href=\"/wiki/William_Snape\" title=\"William Snape\">William Snape</a>, <a href=\"/wiki/Hugo_Speer\" title=\"Hugo Speer\">Hugo Speer</a>, <a href=\"/wiki/Tom_Wilkinson\" title=\"Tom Wilkinson\">Tom Wilkinson</a>, <a href=\"/wiki/Emily_Woof\" title=\"Emily Woof\">Emily Woof</a>, <a href=\"/wiki/Shakespeare_in_Love\" title=\"Shakespeare in Love\">Shakespeare in Love</a>, <a href=\"/wiki/Ben_Affleck\" title=\"Ben Affleck\">Ben Affleck</a>, <a href=\"/wiki/Simon_Callow\" title=\"Simon Callow\">Simon Callow</a>, <a href=\"/wiki/Jim_Carter_(actor)\" title=\"Jim Carter (actor)\">Jim Carter</a>, <a href=\"/wiki/Martin_Clunes\" title=\"Martin Clunes\">Martin Clunes</a>, <a href=\"/wiki/Judi_Dench\" title=\"Judi Dench\">Judi Dench</a>, <a href=\"/wiki/Joseph_Fiennes\" title=\"Joseph Fiennes\">Joseph Fiennes</a>, <a href=\"/wiki/Colin_Firth\" title=\"Colin Firth\">Colin Firth</a>, <a href=\"/wiki/Gwyneth_Paltrow\" title=\"Gwyneth Paltrow\">Gwyneth Paltrow</a>, <a href=\"/wiki/Geoffrey_Rush\" title=\"Geoffrey Rush\">Geoffrey Rush</a>, <a href=\"/wiki/Antony_Sher\" title=\"Antony Sher\">Antony Sher</a>, <a href=\"/wiki/Imelda_Staunton\" title=\"Imelda Staunton\">Imelda Staunton</a>, <a href=\"/wiki/American_Beauty_(1999_film)\" title=\"American Beauty (1999 film)\">American Beauty</a>, <a href=\"/wiki/Annette_Bening\" title=\"Annette Bening\">Annette Bening</a>, <a href=\"/wiki/Wes_Bentley\" title=\"Wes Bentley\">Wes Bentley</a>, <a href=\"/wiki/Thora_Birch\" title=\"Thora Birch\">Thora Birch</a>, <a href=\"/wiki/Chris_Cooper\" title=\"Chris Cooper\">Chris Cooper</a>, <a href=\"/wiki/Peter_Gallagher\" title=\"Peter Gallagher\">Peter Gallagher</a>, <a href=\"/wiki/Allison_Janney\" title=\"Allison Janney\">Allison Janney</a>, <a href=\"/wiki/Kevin_Spacey\" title=\"Kevin Spacey\">Kevin Spacey</a>, <a href=\"/wiki/Mena_Suvari\" title=\"Mena Suvari\">Mena Suvari</a>, <a href=\"/wiki/Traffic_(2000_film)\" title=\"Traffic (2000 film)\">Traffic</a>, <a href=\"/wiki/Steven_Bauer\" title=\"Steven Bauer\">Steven Bauer</a>, <a href=\"/wiki/Benjamin_Bratt\" title=\"Benjamin Bratt\">Benjamin Bratt</a>, <a href=\"/wiki/James_Brolin\" title=\"James Brolin\">James Brolin</a>, <a href=\"/wiki/Don_Cheadle\" title=\"Don Cheadle\">Don Cheadle</a>, <a href=\"/wiki/Erika_Christensen\" title=\"Erika Christensen\">Erika Christensen</a>, <a href=\"/wiki/Clifton_Collins_Jr.\" title=\"Clifton Collins Jr.\">Clifton Collins Jr.</a>, <a href=\"/wiki/Benicio_del_Toro\" title=\"Benicio del Toro\">Benicio del Toro</a>, <a href=\"/wiki/Michael_Douglas\" title=\"Michael Douglas\">Michael Douglas</a>, <a href=\"/wiki/Miguel_Ferrer\" title=\"Miguel Ferrer\">Miguel Ferrer</a>, <a href=\"/wiki/Albert_Finney\" title=\"Albert Finney\">Albert Finney</a>, <a href=\"/wiki/Topher_Grace\" title=\"Topher Grace\">Topher Grace</a>, <a href=\"/wiki/Luis_Guzm%C3%A1n\" title=\"Luis Guzmán\">Luis Guzmán</a>, <a href=\"/wiki/Amy_Irving\" title=\"Amy Irving\">Amy Irving</a>, <a href=\"/wiki/Tomas_Milian\" title=\"Tomas Milian\">Tomas Milian</a>, <a href=\"/wiki/D._W._Moffett\" title=\"D. W. Moffett\">D. W. Moffett</a>, <a href=\"/wiki/Dennis_Quaid\" title=\"Dennis Quaid\">Dennis Quaid</a>, <a href=\"/wiki/Peter_Riegert\" title=\"Peter Riegert\">Peter Riegert</a>, <a href=\"/wiki/Jacob_Vargas\" title=\"Jacob Vargas\">Jacob Vargas</a>, <a href=\"/wiki/Catherine_Zeta-Jones\" title=\"Catherine Zeta-Jones\">Catherine Zeta-Jones</a>, <a href=\"/wiki/Screen_Actors_Guild_Award_for_Outstanding_Performance_by_a_Cast_in_a_Motion_Picture\" title=\"Screen Actors Guild Award for Outstanding Performance by a Cast in a Motion Picture\">Complete list</a>, <a href=\"/wiki/Template:ScreenActorsGuildAward_CastMotionPicture_1995%E2%80%932000\" title=\"Template:ScreenActorsGuildAward CastMotionPicture 1995–2000\">(1995–2000)</a>, <a href=\"/wiki/Template:ScreenActorsGuildAward_CastMotionPicture_2001%E2%80%932010\" title=\"Template:ScreenActorsGuildAward CastMotionPicture 2001–2010\">(2001–2010)</a>, <a href=\"/wiki/Template:ScreenActorsGuildAward_CastMotionPicture_2011%E2%80%932020\" title=\"Template:ScreenActorsGuildAward CastMotionPicture 2011–2020\">(2011–2020)</a>, <a href=\"/wiki/Help:Authority_control\" title=\"Help:Authority control\">Authority control</a>, <a class=\"external text\" href=\"https://www.worldcat.org/identities/containsVIAFID/39570812\" rel=\"nofollow\">WorldCat Identities</a>, <a href=\"/wiki/Virtual_International_Authority_File\" title=\"Virtual International Authority File\">VIAF</a>, <a class=\"external text\" href=\"https://viaf.org/viaf/39570812\" rel=\"nofollow\">39570812</a>, <a href=\"/wiki/Library_of_Congress_Control_Number\" title=\"Library of Congress Control Number\">LCCN</a>, <a class=\"external text\" href=\"http://id.loc.gov/authorities/names/n88034930\" rel=\"nofollow\">n88034930</a>, <a href=\"/wiki/International_Standard_Name_Identifier\" title=\"International Standard Name Identifier\">ISNI</a>, <a class=\"external text\" href=\"http://isni.org/isni/0000000121291300\" rel=\"nofollow\">0000 0001 2129 1300</a>, <a href=\"/wiki/Integrated_Authority_File\" title=\"Integrated Authority File\">GND</a>, <a class=\"external text\" href=\"https://d-nb.info/gnd/124109659\" rel=\"nofollow\">124109659</a>, <a href=\"/wiki/Syst%C3%A8me_universitaire_de_documentation\" title=\"Système universitaire de documentation\">SUDOC</a>, <a class=\"external text\" href=\"https://www.idref.fr/084292652\" rel=\"nofollow\">084292652</a>, <a href=\"/wiki/Biblioth%C3%A8que_nationale_de_France\" title=\"Bibliothèque nationale de France\">BNF</a>, <a class=\"external text\" href=\"http://catalogue.bnf.fr/ark:/12148/cb139817766\" rel=\"nofollow\">cb139817766</a>, <a class=\"external text\" href=\"http://data.bnf.fr/ark:/12148/cb139817766\" rel=\"nofollow\">(data)</a>, <a href=\"/wiki/MusicBrainz\" title=\"MusicBrainz\">MusicBrainz</a>, <a class=\"external text\" href=\"https://musicbrainz.org/artist/cc0dbdfc-9b2c-4e31-8448-808412388406\" rel=\"nofollow\">cc0dbdfc-9b2c-4e31-8448-808412388406</a>, <a href=\"/wiki/Institute_for_Advanced_Technology_in_the_Humanities\" title=\"Institute for Advanced Technology in the Humanities\">IATH</a>, <a class=\"external text\" href=\"http://socialarchive.iath.virginia.edu/ark:/99166/w6w67gw2\" rel=\"nofollow\">w6w67gw2</a>, <a dir=\"ltr\" href=\"https://en.wikipedia.org/w/index.php?title=Kevin_Bacon&amp;oldid=815610981\">https://en.wikipedia.org/w/index.php?title=Kevin_Bacon&amp;oldid=815610981</a>, <a href=\"/wiki/Help:Category\" title=\"Help:Category\">Categories</a>, <a href=\"/wiki/Category:1958_births\" title=\"Category:1958 births\">1958 births</a>, <a href=\"/wiki/Category:20th-century_American_male_actors\" title=\"Category:20th-century American male actors\">20th-century American male actors</a>, <a href=\"/wiki/Category:21st-century_American_male_actors\" title=\"Category:21st-century American male actors\">21st-century American male actors</a>, <a href=\"/wiki/Category:American_atheists\" title=\"Category:American atheists\">American atheists</a>, <a href=\"/wiki/Category:American_male_film_actors\" title=\"Category:American male film actors\">American male film actors</a>, <a href=\"/wiki/Category:American_male_soap_opera_actors\" title=\"Category:American male soap opera actors\">American male soap opera actors</a>, <a href=\"/wiki/Category:American_male_television_actors\" title=\"Category:American male television actors\">American male television actors</a>, <a href=\"/wiki/Category:American_male_voice_actors\" title=\"Category:American male voice actors\">American male voice actors</a>, <a href=\"/wiki/Category:The_Bacon_Brothers_members\" title=\"Category:The Bacon Brothers members\">The Bacon Brothers members</a>, <a href=\"/wiki/Category:Best_Miniseries_or_Television_Movie_Actor_Golden_Globe_winners\" title=\"Category:Best Miniseries or Television Movie Actor Golden Globe winners\">Best Miniseries or Television Movie Actor Golden Globe winners</a>, <a href=\"/wiki/Category:Circle_in_the_Square_Theatre_School_alumni\" title=\"Category:Circle in the Square Theatre School alumni\">Circle in the Square Theatre School alumni</a>, <a href=\"/wiki/Category:Living_people\" title=\"Category:Living people\">Living people</a>, <a href=\"/wiki/Category:Male_actors_from_Philadelphia\" title=\"Category:Male actors from Philadelphia\">Male actors from Philadelphia</a>, <a href=\"/wiki/Category:Obie_Award_recipients\" title=\"Category:Obie Award recipients\">Obie Award recipients</a>, <a href=\"/wiki/Category:Outstanding_Performance_by_a_Cast_in_a_Motion_Picture_Screen_Actors_Guild_Award_winners\" title=\"Category:Outstanding Performance by a Cast in a Motion Picture Screen Actors Guild Award winners\">Outstanding Performance by a Cast in a Motion Picture Screen Actors Guild Award winners</a>, <a href=\"/wiki/Category:Sedgwick_family\" title=\"Category:Sedgwick family\">Sedgwick family</a>, <a href=\"/wiki/Category:Wikipedia_indefinitely_semi-protected_biographies_of_living_people\" title=\"Category:Wikipedia indefinitely semi-protected biographies of living people\">Wikipedia indefinitely semi-protected biographies of living people</a>, <a href=\"/wiki/Category:Use_mdy_dates_from_October_2016\" title=\"Category:Use mdy dates from October 2016\">Use mdy dates from October 2016</a>, <a href=\"/wiki/Category:Articles_with_hCards\" title=\"Category:Articles with hCards\">Articles with hCards</a>, <a href=\"/wiki/Category:All_articles_with_unsourced_statements\" title=\"Category:All articles with unsourced statements\">All articles with unsourced statements</a>, <a href=\"/wiki/Category:Articles_with_unsourced_statements_from_January_2016\" title=\"Category:Articles with unsourced statements from January 2016\">Articles with unsourced statements from January 2016</a>, <a href=\"/wiki/Category:Articles_needing_additional_references_from_October_2017\" title=\"Category:Articles needing additional references from October 2017\">Articles needing additional references from October 2017</a>, <a href=\"/wiki/Category:All_articles_needing_additional_references\" title=\"Category:All articles needing additional references\">All articles needing additional references</a>, <a href=\"/wiki/Category:Articles_with_IBDb_links\" title=\"Category:Articles with IBDb links\">Articles with IBDb links</a>, <a href=\"/wiki/Category:Wikipedia_articles_with_VIAF_identifiers\" title=\"Category:Wikipedia articles with VIAF identifiers\">Wikipedia articles with VIAF identifiers</a>, <a href=\"/wiki/Category:Wikipedia_articles_with_LCCN_identifiers\" title=\"Category:Wikipedia articles with LCCN identifiers\">Wikipedia articles with LCCN identifiers</a>, <a href=\"/wiki/Category:Wikipedia_articles_with_ISNI_identifiers\" title=\"Category:Wikipedia articles with ISNI identifiers\">Wikipedia articles with ISNI identifiers</a>, <a href=\"/wiki/Category:Wikipedia_articles_with_GND_identifiers\" title=\"Category:Wikipedia articles with GND identifiers\">Wikipedia articles with GND identifiers</a>, <a href=\"/wiki/Category:Wikipedia_articles_with_BNF_identifiers\" title=\"Category:Wikipedia articles with BNF identifiers\">Wikipedia articles with BNF identifiers</a>, <a href=\"/wiki/Category:Wikipedia_articles_with_MusicBrainz_identifiers\" title=\"Category:Wikipedia articles with MusicBrainz identifiers\">Wikipedia articles with MusicBrainz identifiers</a>, <a href=\"/wiki/Category:Wikipedia_articles_with_SNAC-ID_identifiers\" title=\"Category:Wikipedia articles with SNAC-ID identifiers\">Wikipedia articles with SNAC-ID identifiers</a>, <a accesskey=\"n\" href=\"/wiki/Special:MyTalk\" title=\"Discussion about edits from this IP address [n]\">Talk</a>, <a accesskey=\"y\" href=\"/wiki/Special:MyContributions\" title=\"A list of edits made from this IP address [y]\">Contributions</a>, <a href=\"/w/index.php?title=Special:CreateAccount&amp;returnto=Kevin+Bacon\" title=\"You are encouraged to create an account and log in; however, it is not mandatory\">Create account</a>, <a accesskey=\"o\" href=\"/w/index.php?title=Special:UserLogin&amp;returnto=Kevin+Bacon\" title=\"You're encouraged to log in; however, it's not mandatory. [o]\">Log in</a>, <a accesskey=\"c\" href=\"/wiki/Kevin_Bacon\" title=\"View the content page [c]\">Article</a>, <a accesskey=\"t\" href=\"/wiki/Talk:Kevin_Bacon\" rel=\"discussion\" title=\"Discussion about the content page [t]\">Talk</a>, <a href=\"/wiki/Kevin_Bacon\">Read</a>, <a accesskey=\"e\" href=\"/w/index.php?title=Kevin_Bacon&amp;action=edit\" title=\"This page is protected.\n",
      "You can view its source [e]\">View source</a>, <a accesskey=\"h\" href=\"/w/index.php?title=Kevin_Bacon&amp;action=history\" title=\"Past revisions of this page [h]\">View history</a>, <a class=\"mw-wiki-logo\" href=\"/wiki/Main_Page\" title=\"Visit the main page\"></a>, <a accesskey=\"z\" href=\"/wiki/Main_Page\" title=\"Visit the main page [z]\">Main page</a>, <a href=\"/wiki/Portal:Contents\" title=\"Guides to browsing Wikipedia\">Contents</a>, <a href=\"/wiki/Portal:Featured_content\" title=\"Featured content – the best of Wikipedia\">Featured content</a>, <a href=\"/wiki/Portal:Current_events\" title=\"Find background information on current events\">Current events</a>, <a accesskey=\"x\" href=\"/wiki/Special:Random\" title=\"Load a random article [x]\">Random article</a>, <a href=\"https://donate.wikimedia.org/wiki/Special:FundraiserRedirector?utm_source=donate&amp;utm_medium=sidebar&amp;utm_campaign=C13_en.wikipedia.org&amp;uselang=en\" title=\"Support us\">Donate to Wikipedia</a>, <a href=\"//shop.wikimedia.org\" title=\"Visit the Wikipedia store\">Wikipedia store</a>, <a href=\"/wiki/Help:Contents\" title=\"Guidance on how to use and edit Wikipedia\">Help</a>, <a href=\"/wiki/Wikipedia:About\" title=\"Find out about Wikipedia\">About Wikipedia</a>, <a href=\"/wiki/Wikipedia:Community_portal\" title=\"About the project, what you can do, where to find things\">Community portal</a>, <a accesskey=\"r\" href=\"/wiki/Special:RecentChanges\" title=\"A list of recent changes in the wiki [r]\">Recent changes</a>, <a href=\"//en.wikipedia.org/wiki/Wikipedia:Contact_us\" title=\"How to contact Wikipedia\">Contact page</a>, <a accesskey=\"j\" href=\"/wiki/Special:WhatLinksHere/Kevin_Bacon\" title=\"List of all English Wikipedia pages containing links to this page [j]\">What links here</a>, <a accesskey=\"k\" href=\"/wiki/Special:RecentChangesLinked/Kevin_Bacon\" rel=\"nofollow\" title=\"Recent changes in pages linked from this page [k]\">Related changes</a>, <a accesskey=\"u\" href=\"/wiki/Wikipedia:File_Upload_Wizard\" title=\"Upload files [u]\">Upload file</a>, <a accesskey=\"q\" href=\"/wiki/Special:SpecialPages\" title=\"A list of all special pages [q]\">Special pages</a>, <a href=\"/w/index.php?title=Kevin_Bacon&amp;oldid=815610981\" title=\"Permanent link to this revision of the page\">Permanent link</a>, <a href=\"/w/index.php?title=Kevin_Bacon&amp;action=info\" title=\"More information about this page\">Page information</a>, <a accesskey=\"g\" href=\"https://www.wikidata.org/wiki/Special:EntityPage/Q3454165\" title=\"Link to connected data repository item [g]\">Wikidata item</a>, <a href=\"/w/index.php?title=Special:CiteThisPage&amp;page=Kevin_Bacon&amp;id=815610981\" title=\"Information on how to cite this page\">Cite this page</a>, <a href=\"/w/index.php?title=Special:Book&amp;bookcmd=book_creator&amp;referer=Kevin+Bacon\">Create a book</a>, <a href=\"/w/index.php?title=Special:ElectronPdf&amp;page=Kevin+Bacon&amp;action=show-download-screen\">Download as PDF</a>, <a accesskey=\"p\" href=\"/w/index.php?title=Kevin_Bacon&amp;printable=yes\" title=\"Printable version of this page [p]\">Printable version</a>, <a href=\"https://commons.wikimedia.org/wiki/Category:Kevin_Bacon\" hreflang=\"en\">Wikimedia Commons</a>, <a class=\"interlanguage-link-target\" href=\"https://af.wikipedia.org/wiki/Kevin_Bacon\" hreflang=\"af\" lang=\"af\" title=\"Kevin Bacon – Afrikaans\">Afrikaans</a>, <a class=\"interlanguage-link-target\" href=\"https://ar.wikipedia.org/wiki/%D9%83%D9%8A%D9%81%D9%8A%D9%86_%D8%A8%D9%8A%D9%83%D9%86\" hreflang=\"ar\" lang=\"ar\" title=\"كيفين بيكن – Arabic\">العربية</a>, <a class=\"interlanguage-link-target\" href=\"https://an.wikipedia.org/wiki/Kevin_Bacon\" hreflang=\"an\" lang=\"an\" title=\"Kevin Bacon – Aragonese\">Aragonés</a>, <a class=\"interlanguage-link-target\" href=\"https://ast.wikipedia.org/wiki/Kevin_Bacon\" hreflang=\"ast\" lang=\"ast\" title=\"Kevin Bacon – Asturian\">Asturianu</a>, <a class=\"interlanguage-link-target\" href=\"https://zh-min-nan.wikipedia.org/wiki/Kevin_Bacon\" hreflang=\"zh-min-nan\" lang=\"zh-min-nan\" title=\"Kevin Bacon – Chinese (Min Nan)\">Bân-lâm-gú</a>, <a class=\"interlanguage-link-target\" href=\"https://bi.wikipedia.org/wiki/Kevin_Bacon\" hreflang=\"bi\" lang=\"bi\" title=\"Kevin Bacon – Bislama\">Bislama</a>, <a class=\"interlanguage-link-target\" href=\"https://bg.wikipedia.org/wiki/%D0%9A%D0%B5%D0%B2%D0%B8%D0%BD_%D0%91%D0%B5%D0%B9%D0%BA%D1%8A%D0%BD\" hreflang=\"bg\" lang=\"bg\" title=\"Кевин Бейкън – Bulgarian\">Български</a>, <a class=\"interlanguage-link-target\" href=\"https://bs.wikipedia.org/wiki/Kevin_Bacon\" hreflang=\"bs\" lang=\"bs\" title=\"Kevin Bacon – Bosnian\">Bosanski</a>, <a class=\"interlanguage-link-target\" href=\"https://ca.wikipedia.org/wiki/Kevin_Bacon\" hreflang=\"ca\" lang=\"ca\" title=\"Kevin Bacon – Catalan\">Català</a>, <a class=\"interlanguage-link-target\" href=\"https://cs.wikipedia.org/wiki/Kevin_Bacon\" hreflang=\"cs\" lang=\"cs\" title=\"Kevin Bacon – Czech\">Čeština</a>, <a class=\"interlanguage-link-target\" href=\"https://da.wikipedia.org/wiki/Kevin_Bacon\" hreflang=\"da\" lang=\"da\" title=\"Kevin Bacon – Danish\">Dansk</a>, <a class=\"interlanguage-link-target\" href=\"https://de.wikipedia.org/wiki/Kevin_Bacon\" hreflang=\"de\" lang=\"de\" title=\"Kevin Bacon – German\">Deutsch</a>, <a class=\"interlanguage-link-target\" href=\"https://el.wikipedia.org/wiki/%CE%9A%CE%AD%CE%B2%CE%B9%CE%BD_%CE%9C%CF%80%CE%AD%CE%B9%CE%BA%CE%BF%CE%BD\" hreflang=\"el\" lang=\"el\" title=\"Κέβιν Μπέικον – Greek\">Ελληνικά</a>, <a class=\"interlanguage-link-target\" href=\"https://eml.wikipedia.org/wiki/Kevin_Bacon\" hreflang=\"eml\" lang=\"eml\" title=\"Kevin Bacon – Emiliano-Romagnolo\">Emiliàn e rumagnòl</a>, <a class=\"interlanguage-link-target\" href=\"https://es.wikipedia.org/wiki/Kevin_Bacon\" hreflang=\"es\" lang=\"es\" title=\"Kevin Bacon – Spanish\">Español</a>, <a class=\"interlanguage-link-target\" href=\"https://eu.wikipedia.org/wiki/Kevin_Bacon\" hreflang=\"eu\" lang=\"eu\" title=\"Kevin Bacon – Basque\">Euskara</a>, <a class=\"interlanguage-link-target\" href=\"https://fa.wikipedia.org/wiki/%DA%A9%D9%88%DB%8C%D9%86_%D8%A8%DB%8C%DA%A9%D9%86\" hreflang=\"fa\" lang=\"fa\" title=\"کوین بیکن – Persian\">فارسی</a>, <a class=\"interlanguage-link-target\" href=\"https://fr.wikipedia.org/wiki/Kevin_Bacon\" hreflang=\"fr\" lang=\"fr\" title=\"Kevin Bacon – French\">Français</a>, <a class=\"interlanguage-link-target\" href=\"https://gl.wikipedia.org/wiki/Kevin_Bacon\" hreflang=\"gl\" lang=\"gl\" title=\"Kevin Bacon – Galician\">Galego</a>, <a class=\"interlanguage-link-target\" href=\"https://ko.wikipedia.org/wiki/%EC%BC%80%EB%B9%88_%EB%B2%A0%EC%9D%B4%EC%BB%A8\" hreflang=\"ko\" lang=\"ko\" title=\"케빈 베이컨 – Korean\">한국어</a>, <a class=\"interlanguage-link-target\" href=\"https://hy.wikipedia.org/wiki/%D5%94%D6%87%D5%AB%D5%B6_%D4%B2%D5%A5%D5%B5%D6%84%D5%B8%D5%B6\" hreflang=\"hy\" lang=\"hy\" title=\"Քևին Բեյքոն – Armenian\">Հայերեն</a>, <a class=\"interlanguage-link-target\" href=\"https://hr.wikipedia.org/wiki/Kevin_Bacon\" hreflang=\"hr\" lang=\"hr\" title=\"Kevin Bacon – Croatian\">Hrvatski</a>, <a class=\"interlanguage-link-target\" href=\"https://io.wikipedia.org/wiki/Kevin_Bacon\" hreflang=\"io\" lang=\"io\" title=\"Kevin Bacon – Ido\">Ido</a>, <a class=\"interlanguage-link-target\" href=\"https://id.wikipedia.org/wiki/Kevin_Bacon\" hreflang=\"id\" lang=\"id\" title=\"Kevin Bacon – Indonesian\">Bahasa Indonesia</a>, <a class=\"interlanguage-link-target\" href=\"https://it.wikipedia.org/wiki/Kevin_Bacon\" hreflang=\"it\" lang=\"it\" title=\"Kevin Bacon – Italian\">Italiano</a>, <a class=\"interlanguage-link-target\" href=\"https://he.wikipedia.org/wiki/%D7%A7%D7%95%D7%95%D7%99%D7%9F_%D7%91%D7%99%D7%99%D7%A7%D7%95%D7%9F\" hreflang=\"he\" lang=\"he\" title=\"קווין בייקון – Hebrew\">עברית</a>, <a class=\"interlanguage-link-target\" href=\"https://ka.wikipedia.org/wiki/%E1%83%99%E1%83%94%E1%83%95%E1%83%98%E1%83%9C_%E1%83%91%E1%83%94%E1%83%98%E1%83%99%E1%83%9D%E1%83%9C%E1%83%98\" hreflang=\"ka\" lang=\"ka\" title=\"კევინ ბეიკონი – Georgian\">ქართული</a>, <a class=\"interlanguage-link-target\" href=\"https://kk.wikipedia.org/wiki/%D0%9A%D0%B5%D0%B2%D0%B8%D0%BD_%D0%91%D1%8D%D0%B9%D0%BA%D0%BE%D0%BD\" hreflang=\"kk\" lang=\"kk\" title=\"Кевин Бэйкон – Kazakh\">Қазақша</a>, <a class=\"interlanguage-link-target\" href=\"https://lv.wikipedia.org/wiki/Kevins_B%C4%93kons\" hreflang=\"lv\" lang=\"lv\" title=\"Kevins Bēkons – Latvian\">Latviešu</a>, <a class=\"interlanguage-link-target\" href=\"https://hu.wikipedia.org/wiki/Kevin_Bacon\" hreflang=\"hu\" lang=\"hu\" title=\"Kevin Bacon – Hungarian\">Magyar</a>, <a class=\"interlanguage-link-target\" href=\"https://xmf.wikipedia.org/wiki/%E1%83%99%E1%83%94%E1%83%95%E1%83%98%E1%83%9C_%E1%83%91%E1%83%94%E1%83%98%E1%83%99%E1%83%9D%E1%83%9C%E1%83%98\" hreflang=\"xmf\" lang=\"xmf\" title=\"კევინ ბეიკონი – Mingrelian\">მარგალური</a>, <a class=\"interlanguage-link-target\" href=\"https://mn.wikipedia.org/wiki/%D0%9A%D0%B5%D0%B2%D0%B8%D0%BD_%D0%91%D1%8D%D0%B9%D0%BA%D0%BE%D0%BD\" hreflang=\"mn\" lang=\"mn\" title=\"Кевин Бэйкон – Mongolian\">Монгол</a>, <a class=\"interlanguage-link-target\" href=\"https://nl.wikipedia.org/wiki/Kevin_Bacon\" hreflang=\"nl\" lang=\"nl\" title=\"Kevin Bacon – Dutch\">Nederlands</a>, <a class=\"interlanguage-link-target\" href=\"https://ja.wikipedia.org/wiki/%E3%82%B1%E3%83%B4%E3%82%A3%E3%83%B3%E3%83%BB%E3%83%99%E3%83%BC%E3%82%B3%E3%83%B3\" hreflang=\"ja\" lang=\"ja\" title=\"ケヴィン・ベーコン – Japanese\">日本語</a>, <a class=\"interlanguage-link-target\" href=\"https://no.wikipedia.org/wiki/Kevin_Bacon\" hreflang=\"no\" lang=\"no\" title=\"Kevin Bacon – Norwegian\">Norsk</a>, <a class=\"interlanguage-link-target\" href=\"https://oc.wikipedia.org/wiki/Kevin_Bacon\" hreflang=\"oc\" lang=\"oc\" title=\"Kevin Bacon – Occitan\">Occitan</a>, <a class=\"interlanguage-link-target\" href=\"https://pl.wikipedia.org/wiki/Kevin_Bacon\" hreflang=\"pl\" lang=\"pl\" title=\"Kevin Bacon – Polish\">Polski</a>, <a class=\"interlanguage-link-target\" href=\"https://pt.wikipedia.org/wiki/Kevin_Bacon\" hreflang=\"pt\" lang=\"pt\" title=\"Kevin Bacon – Portuguese\">Português</a>, <a class=\"interlanguage-link-target\" href=\"https://ro.wikipedia.org/wiki/Kevin_Bacon\" hreflang=\"ro\" lang=\"ro\" title=\"Kevin Bacon – Romanian\">Română</a>, <a class=\"interlanguage-link-target\" href=\"https://ru.wikipedia.org/wiki/%D0%91%D0%B5%D0%B9%D0%BA%D0%BE%D0%BD,_%D0%9A%D0%B5%D0%B2%D0%B8%D0%BD\" hreflang=\"ru\" lang=\"ru\" title=\"Бейкон, Кевин – Russian\">Русский</a>, <a class=\"interlanguage-link-target\" href=\"https://sco.wikipedia.org/wiki/Kevin_Bacon\" hreflang=\"sco\" lang=\"sco\" title=\"Kevin Bacon – Scots\">Scots</a>, <a class=\"interlanguage-link-target\" href=\"https://simple.wikipedia.org/wiki/Kevin_Bacon\" hreflang=\"simple\" lang=\"simple\" title=\"Kevin Bacon – Simple English\">Simple English</a>, <a class=\"interlanguage-link-target\" href=\"https://sk.wikipedia.org/wiki/Kevin_Bacon\" hreflang=\"sk\" lang=\"sk\" title=\"Kevin Bacon – Slovak\">Slovenčina</a>, <a class=\"interlanguage-link-target\" href=\"https://ckb.wikipedia.org/wiki/%DA%A9%DB%8E%DA%A4%D9%86_%D8%A8%DB%95%DB%8C%DA%A9%D9%86\" hreflang=\"ckb\" lang=\"ckb\" title=\"کێڤن بەیکن – Central Kurdish\">کوردی</a>, <a class=\"interlanguage-link-target\" href=\"https://sr.wikipedia.org/wiki/%D0%9A%D0%B5%D0%B2%D0%B8%D0%BD_%D0%91%D0%B5%D1%98%D0%BA%D0%BE%D0%BD\" hreflang=\"sr\" lang=\"sr\" title=\"Кевин Бејкон – Serbian\">Српски / srpski</a>, <a class=\"interlanguage-link-target\" href=\"https://sh.wikipedia.org/wiki/Kevin_Bacon\" hreflang=\"sh\" lang=\"sh\" title=\"Kevin Bacon – Serbo-Croatian\">Srpskohrvatski / српскохрватски</a>, <a class=\"interlanguage-link-target\" href=\"https://fi.wikipedia.org/wiki/Kevin_Bacon\" hreflang=\"fi\" lang=\"fi\" title=\"Kevin Bacon – Finnish\">Suomi</a>, <a class=\"interlanguage-link-target\" href=\"https://sv.wikipedia.org/wiki/Kevin_Bacon\" hreflang=\"sv\" lang=\"sv\" title=\"Kevin Bacon – Swedish\">Svenska</a>, <a class=\"interlanguage-link-target\" href=\"https://th.wikipedia.org/wiki/%E0%B9%80%E0%B8%84%E0%B8%A7%E0%B8%B4%E0%B8%99_%E0%B9%80%E0%B8%9A%E0%B8%84%E0%B8%AD%E0%B8%99\" hreflang=\"th\" lang=\"th\" title=\"เควิน เบคอน – Thai\">ไทย</a>, <a class=\"interlanguage-link-target\" href=\"https://tr.wikipedia.org/wiki/Kevin_Bacon\" hreflang=\"tr\" lang=\"tr\" title=\"Kevin Bacon – Turkish\">Türkçe</a>, <a class=\"interlanguage-link-target\" href=\"https://uk.wikipedia.org/wiki/%D0%9A%D0%B5%D0%B2%D1%96%D0%BD_%D0%91%D0%B5%D0%B9%D0%BA%D0%BE%D0%BD\" hreflang=\"uk\" lang=\"uk\" title=\"Кевін Бейкон – Ukrainian\">Українська</a>, <a class=\"interlanguage-link-target\" href=\"https://vi.wikipedia.org/wiki/Kevin_Bacon\" hreflang=\"vi\" lang=\"vi\" title=\"Kevin Bacon – Vietnamese\">Tiếng Việt</a>, <a class=\"interlanguage-link-target\" href=\"https://zh.wikipedia.org/wiki/%E5%87%AF%E6%96%87%C2%B7%E8%B4%9D%E8%82%AF\" hreflang=\"zh\" lang=\"zh\" title=\"凯文·贝肯 – Chinese\">中文</a>, <a class=\"wbc-editpage\" href=\"https://www.wikidata.org/wiki/Special:EntityPage/Q3454165#sitelinks-wikipedia\" title=\"Edit interlanguage links\">Edit links</a>, <a href=\"//en.wikipedia.org/wiki/Wikipedia:Text_of_Creative_Commons_Attribution-ShareAlike_3.0_Unported_License\" rel=\"license\">Creative Commons Attribution-ShareAlike License</a>, <a href=\"//creativecommons.org/licenses/by-sa/3.0/\" rel=\"license\" style=\"display:none;\"></a>, <a href=\"//wikimediafoundation.org/wiki/Terms_of_Use\">Terms of Use</a>, <a href=\"//wikimediafoundation.org/wiki/Privacy_policy\">Privacy Policy</a>, <a href=\"//www.wikimediafoundation.org/\">Wikimedia Foundation, Inc.</a>, <a class=\"extiw\" href=\"https://wikimediafoundation.org/wiki/Privacy_policy\" title=\"wmf:Privacy policy\">Privacy policy</a>, <a href=\"/wiki/Wikipedia:About\" title=\"Wikipedia:About\">About Wikipedia</a>, <a href=\"/wiki/Wikipedia:General_disclaimer\" title=\"Wikipedia:General disclaimer\">Disclaimers</a>, <a href=\"//en.wikipedia.org/wiki/Wikipedia:Contact_us\">Contact Wikipedia</a>, <a href=\"https://www.mediawiki.org/wiki/Special:MyLanguage/How_to_contribute\">Developers</a>, <a href=\"https://wikimediafoundation.org/wiki/Cookie_statement\">Cookie statement</a>, <a class=\"noprint stopMobileRedirectToggle\" href=\"//en.m.wikipedia.org/w/index.php?title=Kevin_Bacon&amp;mobileaction=toggle_view_mobile\">Mobile view</a>, <a href=\"https://wikimediafoundation.org/\"><img alt=\"Wikimedia Foundation\" height=\"31\" src=\"/static/images/wikimedia-button.png\" srcset=\"/static/images/wikimedia-button-1.5x.png 1.5x, /static/images/wikimedia-button-2x.png 2x\" width=\"88\"/></a>, <a href=\"//www.mediawiki.org/\"><img alt=\"Powered by MediaWiki\" height=\"31\" src=\"/static/images/poweredby_mediawiki_88x31.png\" srcset=\"/static/images/poweredby_mediawiki_132x47.png 1.5x, /static/images/poweredby_mediawiki_176x62.png 2x\" width=\"88\"/></a>]\n"
     ]
    }
   ],
   "source": [
    "print(bsobj('a'))"
   ]
  },
  {
   "cell_type": "code",
   "execution_count": 11,
   "metadata": {},
   "outputs": [
    {
     "data": {
      "text/plain": [
       "'/wiki/Wikipedia:Protection_policy#semi'"
      ]
     },
     "execution_count": 11,
     "metadata": {},
     "output_type": "execute_result"
    }
   ],
   "source": [
    "atag = bsobj.find_all('a')\n",
    "atag[1].attrs['href']"
   ]
  },
  {
   "cell_type": "code",
   "execution_count": 14,
   "metadata": {},
   "outputs": [
    {
     "data": {
      "text/plain": [
       "'http://en.wikipedia.org/wiki/Wikipedia:Protection_policy#semi'"
      ]
     },
     "execution_count": 14,
     "metadata": {},
     "output_type": "execute_result"
    }
   ],
   "source": [
    "page = \"http://en.wikipedia.org/wiki/Kevin_Bacon\"\n",
    "from urllib.parse import urljoin\n",
    "url = urljoin(page,atag[1].attrs['href'])\n",
    "url"
   ]
  },
  {
   "cell_type": "code",
   "execution_count": 19,
   "metadata": {},
   "outputs": [
    {
     "name": "stdout",
     "output_type": "stream",
     "text": [
      "-1\n",
      "7\n"
     ]
    }
   ],
   "source": [
    "gg = url.find(\"'\")\n",
    "bb = url.find(\"e\")\n",
    "print(gg)\n",
    "print(bb)"
   ]
  },
  {
   "cell_type": "code",
   "execution_count": 21,
   "metadata": {},
   "outputs": [
    {
     "data": {
      "text/plain": [
       "'http://en.wikipedia.org/wiki/Wikipedia:Protection_policy'"
      ]
     },
     "execution_count": 21,
     "metadata": {},
     "output_type": "execute_result"
    }
   ],
   "source": [
    "url = url.split(\"#\")[0]\n",
    "url"
   ]
  },
  {
   "cell_type": "markdown",
   "metadata": {},
   "source": [
    "先建立一个crawler类"
   ]
  },
  {
   "cell_type": "code",
   "execution_count": 22,
   "metadata": {
    "collapsed": true
   },
   "outputs": [],
   "source": [
    "from urllib.request import urlopen\n",
    "from bs4 import BeautifulSoup\n",
    "from urllib.parse import urljoin\n",
    "import sqlite3\n",
    "#需要被忽略的单词\n",
    "ignorewords={'the':1,'of':1,'to':1,'and':1,'a':1,'in':1,'is':1,'it':1}\n",
    "\n",
    "class crawlerpro(object):\n",
    "    #初始化类并传入数据库名称\n",
    "    def __init__(self,dbname):\n",
    "        self.con = sqlite3.connect(dbname)\n",
    "        \n",
    "    def __del__(self):\n",
    "        self.con.close()\n",
    "        \n",
    "    def dbcommit(self):\n",
    "        self.con.commit()\n",
    "    \n",
    "    #创建数据库\n",
    "    def createindextables(self):\n",
    "        self.con.execute('create table urllit(url)')\n",
    "        self.con.execute('create table wordlist(word)')\n",
    "        self.con.execute('create table wordlocation(urlid,wordid,location)')\n",
    "        self.con.execute('create table link(fromid integer,toid integer)')\n",
    "        self.con.execute('create table linkwords(wordid,linkid)')\n",
    "        self.con.execute('create index wordidx on wordlist(word)')\n",
    "        self.con.execute('create index urlidx on urllist(url)')\n",
    "        self.con.execute('create index wordurlidx on wordlocation(wordid)')\n",
    "        self.con.execute('create index urltoidx on link(toid)')\n",
    "        self.con.execute('create index urlfromidx on link(fromid)')\n",
    "        self.dbcommit()\n",
    "            \n",
    "    #检查索引是否已经存在\n",
    "    def isindexed(self,url):\n",
    "        u = self.con.execute \\\n",
    "            (\"select rowid from urllist where url = '%s'\" %url).fetchone()\n",
    "        if u != None:\n",
    "            \n",
    "            #检查它是否被检索过了\n",
    "            v = self.con.execute(\n",
    "                \"select * from wordlocation where urlid=%d\" %u[0]).fetchone()\n",
    "            if v != None: return True\n",
    "        return False\n",
    "    \n",
    "    #获取网页的内容\n",
    "    def gettextonly(self,soup):\n",
    "        v=soup.string#抓取字符串内容按子节点列表输出\n",
    "        if v==None:\n",
    "            c=soup.contents#抓取内容按子节点列表输出\n",
    "            resulttext = ''\n",
    "            for t in c:\n",
    "                #进行递归\n",
    "                subtext = self.gettextonly(t)\n",
    "                resulttext += subtext + '\\n'\n",
    "            return resulttext\n",
    "        else:\n",
    "            return v.strip()\n",
    "        \n",
    "    #获取每个单词\n",
    "    def separatewords(self,text):\n",
    "        \n",
    "        #将任何非字母或者非数字的字符作为分隔符\n",
    "        #'\\\\W*' 大写表示任意的非字母和非数字，小写则表示任意的字母和数字\n",
    "        splitter = re.compile('\\\\W*')\n",
    "        #s.lower（）转化为小写字母\n",
    "        return [s.lower() for s in splitter.split(text) if s!='']\n",
    "    \n",
    "    #获取url的id\n",
    "    def getentryid(self,table,field,value,createnew=True):\n",
    "        cur = self.con.execute(\n",
    "            \"select rowid from %s where %s='%s'\" %(table,field,value))\n",
    "        res = cur.fetchone()\n",
    "        if res==None:\n",
    "            cur = self.con.execute(\n",
    "                \"insert into %s (%s) values ('%s') \" %(table,field,value))\n",
    "            return cur.lastrowid\n",
    "        else:\n",
    "            return res[0]\n",
    "                \n",
    "    #为每个网页建立索引\n",
    "    def addtoindex(self,url,soup):\n",
    "        \n",
    "        #检查索引是否已经存在\n",
    "        if self.isindexed(url): return\n",
    "        \n",
    "        print('indexing'+url)\n",
    "        \n",
    "        #按节点获取内容\n",
    "        text = self.gettextonly(soup)\n",
    "        \n",
    "        #划分获取每个单词\n",
    "        words = self.separatewords(text)\n",
    "        \n",
    "        #得到URL的id\n",
    "        urlid = self.getentryid('urllist','url',url)\n",
    "        \n",
    "        #将每个单词与该url关联\n",
    "        for i in range(len(words)):\n",
    "            word = words[i]\n",
    "            if word in ignorewords: continue\n",
    "            worid = self.getentryid('wordlist','word',word)\n",
    "            self.con.execute(\"insert into wordlocation(urlid,wordid,location) \\\n",
    "                values (%d,%d,%d)\" %(urlid,wordid,i))\n",
    "            \n",
    "    #添加一个关联两个网页的连接\n",
    "    def addlinkref(self,urlFrom,urlTo,linkText):\n",
    "        words = self.separatewords(linkText)\n",
    "        fromid = self.getentryid('urllist','url',urlFrom)\n",
    "        toid = self.getentryid('urllist','url',urlTo)\n",
    "        if fromid == toid:return\n",
    "        cur = self.con.execute(\"insert into link(fromid,toid) values(%d,%d)\" %(fromid,toid))\n",
    "        linkid = cur.lastrowid\n",
    "        for word in words:\n",
    "            if word in ignorewords:continue\n",
    "            wordid = self.getentryid('wordlist','word',word)\n",
    "            self.con.execute(\"insert into linkwords(linkid,wordid) values(%d,%d)\" %(linkid,wordid))\n",
    "    \n",
    "    #从一小组网页开始进行广度优先搜索，直至某一给定深度\n",
    "    #期间为网页建立索引\n",
    "    def crawl(self,pages,depth=2):\n",
    "        for i in range(depth):\n",
    "            newpages = set()\n",
    "            for page in pages:\n",
    "                try:\n",
    "                    c=urlopen(page)\n",
    "                except:\n",
    "                    print(\"could not open %s\" %page)\n",
    "                    continue\n",
    "                soup = BeautifulSoup(c.read())\n",
    "                self.addtoindex(page,soup)\n",
    "                \n",
    "                links = soup('a')#获取网页内的其他链接\n",
    "                for link in links:\n",
    "                    if ('href' in dict(link.attrs)):\n",
    "                        #新的链接\n",
    "                        url = urljoin(page,link['href'])\n",
    "                        #判断链接末尾是否有 “’”\n",
    "                        if url.find(\"'\") != -1: continue\n",
    "                        # 取“#”之前的部分，去掉位置部分\n",
    "                        url = url.split('#')[0]\n",
    "                        \n",
    "                        if url[0:4]=='http' and not self.isindexed(url):\n",
    "                            newpages.add(url)\n",
    "                        linkText = self.gettextonly(link)\n",
    "                        self.addlinkref(page,url,linkText)\n",
    "                        \n",
    "                self.dbcommit()\n",
    "            pages = newpages\n",
    "        "
   ]
  },
  {
   "cell_type": "code",
   "execution_count": null,
   "metadata": {
    "collapsed": true
   },
   "outputs": [],
   "source": [
    "pagelist = [\"http://en.wikipedia.org/wiki/Kevin_Bacon\"]\n",
    "craeler = crawlerpro('')\n",
    "craeler.crawl(pagelist)"
   ]
  },
  {
   "cell_type": "code",
   "execution_count": 1,
   "metadata": {
    "collapsed": true
   },
   "outputs": [],
   "source": [
    "import sqlite3\n",
    "class crawler(object):\n",
    "    def __init__(self,dbname):\n",
    "        self.con=sqlite3.connect(dbname)\n",
    "    def __del__(self):\n",
    "        self.con.close()\n",
    "    def dbcommit(self):\n",
    "        self.con.commit()\n",
    "    def calculatepagerank(self,iterations =20):\n",
    "        # 清除当前的PageRank表\n",
    "        self.con.execute('drop table if exists pagerank')\n",
    "        self.con.execute('create table pagerank(urlid primary key,score)')\n",
    "\n",
    "        #初始化每个url,令其pagerank值为1\n",
    "        #init = self.con.execute('select rowid from urllist')\n",
    "        self.con.execute('insert into pagerank select rowid,1.0 from urllist')\n",
    "        self.dbcommit()\n",
    "\n",
    "        for i in range(iterations):\n",
    "            print(\"Iteration %d\" %(i))\n",
    "            for (urlid,) in self.con.execute('select rowid from urllist'):\n",
    "                pr = 0.15\n",
    "\n",
    "                #循环遍历指向当前网页的其他所有page\n",
    "                for (linker,) in self.con.execute(\n",
    "                \"select distinct fromid from link where toid=%d\" % urlid):\n",
    "\n",
    "                    #得到链接源对应网页的pagerank值\n",
    "                    linkingpr = self.con.execute(\n",
    "                    \"select score from pagerank where urlid=%d\" %linker).fetchone()[0]\n",
    "\n",
    "                    #求该链接源的指向链接总数\n",
    "                    linkingcount = self.con.execute(\n",
    "                    \"select count(*) from link where fromid= %d\" %linker).fetchone()[0]\n",
    "                    pr += 0.85*(linkingpr/linkingcount)\n",
    "\n",
    "                #记录这次循环的pr值\n",
    "                self.con.execute(\n",
    "                \"update pagerank set score=%f where urlid=%d\" %(pr,urlid))\n",
    "            self.dbcommit()"
   ]
  },
  {
   "cell_type": "code",
   "execution_count": null,
   "metadata": {
    "collapsed": true
   },
   "outputs": [],
   "source": []
  },
  {
   "cell_type": "code",
   "execution_count": 104,
   "metadata": {},
   "outputs": [
    {
     "name": "stdout",
     "output_type": "stream",
     "text": [
      "Iteration 0\n",
      "Iteration 1\n",
      "Iteration 2\n",
      "Iteration 3\n",
      "Iteration 4\n",
      "Iteration 5\n",
      "Iteration 6\n",
      "Iteration 7\n",
      "Iteration 8\n",
      "Iteration 9\n",
      "Iteration 10\n",
      "Iteration 11\n",
      "Iteration 12\n",
      "Iteration 13\n",
      "Iteration 14\n",
      "Iteration 15\n",
      "Iteration 16\n",
      "Iteration 17\n",
      "Iteration 18\n",
      "Iteration 19\n"
     ]
    }
   ],
   "source": [
    "defff= crawler('searchindex.db')\n",
    "defff.calculatepagerank()"
   ]
  },
  {
   "cell_type": "markdown",
   "metadata": {},
   "source": [
    "查询和索引  \n",
    "\n",
    "当我们需要搜索某些单词对应的网站时候，比如输入‘world global’则会先将搜索短语分割为单词，再在数据库中查找所有包含这两个单词的url，将结果返回给用户。这就是最最原始的搜索引擎。下面我们来提升一下这个引擎的效果。"
   ]
  },
  {
   "cell_type": "code",
   "execution_count": 2,
   "metadata": {
    "collapsed": true
   },
   "outputs": [],
   "source": [
    "import sqlite3\n",
    "searcher = sqlite3.connect('searchindex.db')\n",
    "searchdb = searcher.cursor()"
   ]
  },
  {
   "cell_type": "code",
   "execution_count": 3,
   "metadata": {},
   "outputs": [
    {
     "data": {
      "text/plain": [
       "[(1,), (3850,), (7042,), (7788,), (8201,)]"
      ]
     },
     "execution_count": 3,
     "metadata": {},
     "output_type": "execute_result"
    }
   ],
   "source": [
    "values = searchdb.execute(\"select rowid from wordlocation where wordid=1 limit 5\").fetchall()\n",
    "values"
   ]
  },
  {
   "cell_type": "code",
   "execution_count": 4,
   "metadata": {},
   "outputs": [
    {
     "data": {
      "text/plain": [
       "[('http://kiwitobes.com/wiki/Categorical_list_of_programming_languages.html',),\n",
       " ('http://kiwitobes.com/wiki/Programming_language.html',),\n",
       " ('http://kiwitobes.com/wiki/Alphabetical_list_of_programming_languages.html',),\n",
       " ('http://kiwitobes.com/wiki/Timeline_of_programming_languages.html',),\n",
       " ('http://kiwitobes.com/wiki/Generational_list_of_programming_languages.html',)]"
      ]
     },
     "execution_count": 4,
     "metadata": {},
     "output_type": "execute_result"
    }
   ],
   "source": [
    "values = searchdb.execute(\"select * from urllist limit 5\").fetchall()\n",
    "values"
   ]
  },
  {
   "cell_type": "code",
   "execution_count": 6,
   "metadata": {},
   "outputs": [
    {
     "data": {
      "text/plain": [
       "[('doctype',), ('html',), ('public',), ('w3c',), ('dtd',)]"
      ]
     },
     "execution_count": 6,
     "metadata": {},
     "output_type": "execute_result"
    }
   ],
   "source": [
    "values = searchdb.execute(\"select * from wordlist limit 5\").fetchall()\n",
    "values"
   ]
  },
  {
   "cell_type": "code",
   "execution_count": 7,
   "metadata": {},
   "outputs": [
    {
     "data": {
      "text/plain": [
       "[(1, 1, 0), (1, 2, 1), (1, 3, 2), (1, 4, 3), (1, 5, 4)]"
      ]
     },
     "execution_count": 7,
     "metadata": {},
     "output_type": "execute_result"
    }
   ],
   "source": [
    "values = searchdb.execute(\"select * from wordlocation limit 5\").fetchall()\n",
    "values"
   ]
  },
  {
   "cell_type": "code",
   "execution_count": 8,
   "metadata": {},
   "outputs": [
    {
     "data": {
      "text/plain": [
       "[(1, 2), (1, 3), (1, 4), (1, 5), (1, 6)]"
      ]
     },
     "execution_count": 8,
     "metadata": {},
     "output_type": "execute_result"
    }
   ],
   "source": [
    "values = searchdb.execute(\"select * from link limit 5\").fetchall()\n",
    "values"
   ]
  },
  {
   "cell_type": "code",
   "execution_count": 25,
   "metadata": {},
   "outputs": [
    {
     "data": {
      "text/plain": [
       "[(19, 1), (20, 1), (112, 2), (113, 3), (114, 4)]"
      ]
     },
     "execution_count": 25,
     "metadata": {},
     "output_type": "execute_result"
    }
   ],
   "source": [
    "values = searchdb.execute(\"select * from linkwords limit 5\").fetchall()\n",
    "values"
   ]
  },
  {
   "cell_type": "code",
   "execution_count": 26,
   "metadata": {},
   "outputs": [
    {
     "data": {
      "text/plain": [
       "[(1, 9, 20),\n",
       " (1, 9, 159),\n",
       " (1, 9, 240),\n",
       " (1, 9, 273),\n",
       " (1, 146, 20),\n",
       " (1, 146, 159),\n",
       " (1, 146, 240),\n",
       " (1, 146, 273),\n",
       " (1, 175, 20),\n",
       " (1, 175, 159),\n",
       " (1, 175, 240),\n",
       " (1, 175, 273),\n",
       " (1, 178, 20),\n",
       " (1, 178, 159),\n",
       " (1, 178, 240),\n",
       " (1, 178, 273),\n",
       " (1, 4077, 20),\n",
       " (1, 4077, 159),\n",
       " (1, 4077, 240),\n",
       " (1, 4077, 273),\n",
       " (123, 9, 399),\n",
       " (123, 9, 2000),\n",
       " (123, 143, 399),\n",
       " (123, 143, 2000),\n",
       " (123, 169, 399),\n",
       " (123, 169, 2000),\n",
       " (123, 172, 399),\n",
       " (123, 172, 2000),\n",
       " (123, 2334, 399),\n",
       " (123, 2334, 2000),\n",
       " (340, 9, 396),\n",
       " (340, 9, 1997),\n",
       " (340, 143, 396),\n",
       " (340, 143, 1997),\n",
       " (340, 169, 396),\n",
       " (340, 169, 1997),\n",
       " (340, 172, 396),\n",
       " (340, 172, 1997),\n",
       " (340, 2331, 396),\n",
       " (340, 2331, 1997),\n",
       " (5, 9, 302),\n",
       " (5, 146, 302),\n",
       " (5, 175, 302),\n",
       " (5, 178, 302),\n",
       " (5, 644, 302),\n",
       " (4, 9, 273),\n",
       " (4, 145, 273),\n",
       " (4, 173, 273),\n",
       " (4, 176, 273),\n",
       " (4, 2055, 273),\n",
       " (3, 9, 287),\n",
       " (3, 9, 1201),\n",
       " (3, 146, 287),\n",
       " (3, 146, 1201),\n",
       " (3, 175, 287),\n",
       " (3, 175, 1201),\n",
       " (3, 178, 287),\n",
       " (3, 178, 1201),\n",
       " (3, 1266, 287),\n",
       " (3, 1266, 1201),\n",
       " (189, 9, 5554),\n",
       " (189, 142, 5554),\n",
       " (189, 167, 5554),\n",
       " (189, 170, 5554),\n",
       " (189, 5435, 5554),\n",
       " (189, 5593, 5554),\n",
       " (2, 9, 3739),\n",
       " (2, 9, 4152),\n",
       " (2, 143, 3739),\n",
       " (2, 143, 4152),\n",
       " (2, 169, 3739),\n",
       " (2, 169, 4152),\n",
       " (2, 172, 3739),\n",
       " (2, 172, 4152),\n",
       " (2, 4797, 3739),\n",
       " (2, 4797, 4152),\n",
       " (288, 9, 633),\n",
       " (288, 145, 633),\n",
       " (288, 174, 633),\n",
       " (288, 177, 633),\n",
       " (288, 677, 633)]"
      ]
     },
     "execution_count": 26,
     "metadata": {},
     "output_type": "execute_result"
    }
   ],
   "source": [
    "values = searchdb.execute(\"select w0.urlid,w0.location,w1.location \\\n",
    "                            from wordlocation w0,wordlocation w1 \\\n",
    "                            where w0.urlid = w1.urlid \\\n",
    "                            and w0.wordid = 10 \\\n",
    "                            and w1.wordid = 17\").fetchall()\n",
    "values"
   ]
  },
  {
   "cell_type": "markdown",
   "metadata": {},
   "source": [
    "现在有了文档，接下来准备搜索引擎的搜索部分了"
   ]
  },
  {
   "cell_type": "markdown",
   "metadata": {},
   "source": [
    "函数为列表中的每个单词建立一个指向wordlocation表的引用，因此，一个涉及两个单词（对应ID为10和17）的查询如下所示："
   ]
  },
  {
   "cell_type": "code",
   "execution_count": null,
   "metadata": {
    "collapsed": true
   },
   "outputs": [],
   "source": []
  },
  {
   "cell_type": "code",
   "execution_count": 116,
   "metadata": {
    "collapsed": true
   },
   "outputs": [],
   "source": [
    "class searcher:\n",
    "    def __init__(self,dbname):\n",
    "        self.con = sqlite3.connect(dbname)\n",
    "        \n",
    "    def __del__(self):\n",
    "        self.con.close()\n",
    "        \n",
    "    def getmatchrows(self,q):\n",
    "        #构造查询字符串\n",
    "        fieldlist = 'w0.urlid'\n",
    "        tablelist = ''\n",
    "        clauselist = ''\n",
    "        wordids = []\n",
    "        \n",
    "        #根据空格拆分单词\n",
    "        words = q.split(' ')\n",
    "        tablenumber = 0\n",
    "        \n",
    "        for word in words:\n",
    "            #获取单词的ID\n",
    "            wordrow = self.con.execute(\n",
    "                \"select rowid from wordlist where word='%s'\" %word).fetchone()\n",
    "            if wordrow != None:\n",
    "                wordid = wordrow[0]\n",
    "                wordids.append(wordid)\n",
    "                if tablenumber>0:\n",
    "                    tablelist += ','\n",
    "                    clauselist += ' and '\n",
    "                    clauselist += 'w%d.urlid = w%d.urlid and ' %(tablenumber-1,tablenumber)\n",
    "                fieldlist += ',w%d.location' % tablenumber\n",
    "                tablelist += 'wordlocation w%d' %tablenumber\n",
    "                clauselist += 'w%d.wordid=%d' %(tablenumber,wordid)\n",
    "                tablenumber += 1\n",
    "        #根据各个组分，建立查询\n",
    "        fullquery = 'select %s from %s where %s' %(fieldlist,tablelist,clauselist)\n",
    "        cur = self.con.execute(fullquery)\n",
    "        rows = [row for row in cur]\n",
    "        \n",
    "        return rows,wordids\n",
    "    \n",
    "    def getscoredlist(self,rows,wordids):\n",
    "        totalscores = dict([(row[0],0) for row in rows])\n",
    "\n",
    "        #评价函数\n",
    "        weights = [#1单词频度使用\n",
    "                 (1.0,self.frequencyscore(rows)),\n",
    "                    #2文档位置使用\n",
    "                    (1.0,self.locationscore(rows)),\n",
    "                     (1.0,self.pagerankscore(rows)),\n",
    "                    (1.0,self.inboundlinkscore(rows))]\n",
    "        \n",
    "        for (weight,scores) in weights:\n",
    "            for url in totalscores:\n",
    "                totalscores[url] += weight*scores[url]\n",
    "        return totalscores\n",
    "\n",
    "    def geturlname(self,id):\n",
    "        return self.con.execute(\n",
    "        \"select url from urllist where rowid = %d\" % id).fetchone()[0]\n",
    "\n",
    "    def query(self,q):\n",
    "        rows,wordids = self.getmatchrows(q)\n",
    "        scores = self.getscoredlist(rows,wordids)\n",
    "        rankedscores = sorted([(score,url) for (url,score) in scores.items()],reverse=1)\n",
    "        for (score,urlid) in rankedscores[0:10]:\n",
    "            print ('%f\\t%s' %(score,self.geturlname(urlid)))\n",
    "            \n",
    "    def frequencyscore(self,rows):\n",
    "        counts = dict([(row[0],0) for row in rows])\n",
    "        for row in rows:counts[row[0]] += 1\n",
    "        return self.normalizescores(counts)\n",
    "    \n",
    "    def normalizescores(self,scores,smallIsBetter=0):\n",
    "        vsmall = 0.00001#避免被零整除\n",
    "        if smallIsBetter:\n",
    "            minscore = min(scores.values())\n",
    "            return dict([(u,float(minscore)/max(vsmall,L)) for (u,L) \\\n",
    "                        in scores.items()])\n",
    "        else:\n",
    "            maxscore = max(scores.values())\n",
    "            if maxscore == 0: maxscore = vsmall\n",
    "            return dict([(u,float(c)/maxscore) for (u,c) in scores.items()])\n",
    "        \n",
    "    def locationscore(self,rows):\n",
    "        locations = dict([(row[0],1000000) for row in rows])\n",
    "        for row in rows:\n",
    "            loc = sum(row[1:])\n",
    "            if loc < locations[row[0]]: locations[row[0]]=loc\n",
    "        return self.normalizescores(locations,smallIsBetter=1)\n",
    "    \n",
    "    def pagerankscore(self,rows):\n",
    "        pageranks = dict([(row[0],self.con.execute('select score from pagerank where \\\n",
    "        urlid=%d' %row[0]).fetchone()[0]) for row in rows])\n",
    "        maxrank = max(pageranks.values())\n",
    "        normalizedscores = dict([(u,float(L)/maxrank) for (u,L) in pageranks.items()])\n",
    "        return normalizedscores\n",
    "    \n",
    "    def inboundlinkscore(self,rows):\n",
    "        uniqueurls = set([row[0] for row in rows])\n",
    "        inboundcount = dict([(u,self.con.execute('select count(*) from link \\\n",
    "        where toid = %d' %u).fetchone()[0]) for u in uniqueurls])\n",
    "        return self.normalizescores(inboundcount)"
   ]
  },
  {
   "cell_type": "code",
   "execution_count": 32,
   "metadata": {
    "collapsed": true
   },
   "outputs": [],
   "source": [
    "values = searchdb.execute(\"select w0.urlid,w0.location,w1.location \\\n",
    "                            from wordlocation w0,wordlocation w1 \\\n",
    "                            where w0.urlid = w1.urlid \\\n",
    "                            and w0.wordid = 10 \\\n",
    "                            and w1.wordid = 17\").fetchall()"
   ]
  },
  {
   "cell_type": "code",
   "execution_count": 33,
   "metadata": {},
   "outputs": [
    {
     "data": {
      "text/plain": [
       "([(1, 327, 23),\n",
       "  (1, 327, 162),\n",
       "  (1, 327, 243),\n",
       "  (1, 327, 261),\n",
       "  (1, 327, 269),\n",
       "  (1, 327, 436),\n",
       "  (1, 327, 953),\n",
       "  (1, 327, 1123),\n",
       "  (1, 327, 1159),\n",
       "  (1, 327, 1172),\n",
       "  (1, 327, 1230),\n",
       "  (1, 327, 1240),\n",
       "  (1, 327, 1258),\n",
       "  (1, 327, 1304),\n",
       "  (1, 327, 1346),\n",
       "  (1, 327, 1351),\n",
       "  (1, 327, 1407),\n",
       "  (1, 327, 1410),\n",
       "  (1, 327, 1603),\n",
       "  (1, 327, 1668),\n",
       "  (1, 327, 1681),\n",
       "  (1, 327, 1687),\n",
       "  (1, 327, 1690),\n",
       "  (1, 327, 1715),\n",
       "  (1, 327, 1745),\n",
       "  (1, 327, 1778),\n",
       "  (1, 327, 1857),\n",
       "  (1, 327, 1897),\n",
       "  (1, 327, 1927),\n",
       "  (1, 327, 1949),\n",
       "  (1, 327, 2042),\n",
       "  (1, 327, 2109),\n",
       "  (1, 327, 2119),\n",
       "  (1, 327, 2151),\n",
       "  (1, 327, 2386),\n",
       "  (1, 327, 2453),\n",
       "  (1, 327, 2464),\n",
       "  (1, 327, 2656),\n",
       "  (1, 327, 2761),\n",
       "  (1, 327, 2766),\n",
       "  (1, 327, 2800),\n",
       "  (1, 327, 2855),\n",
       "  (1, 327, 2995),\n",
       "  (1, 327, 3096),\n",
       "  (1, 327, 3172),\n",
       "  (1, 327, 3440),\n",
       "  (1, 327, 3450),\n",
       "  (1, 327, 3465),\n",
       "  (1, 327, 3770),\n",
       "  (1, 327, 3801),\n",
       "  (1, 327, 3804),\n",
       "  (1, 327, 3809),\n",
       "  (1, 327, 3885),\n",
       "  (1, 327, 3888),\n",
       "  (1, 327, 4041),\n",
       "  (1, 327, 4089),\n",
       "  (1, 1591, 23),\n",
       "  (1, 1591, 162),\n",
       "  (1, 1591, 243),\n",
       "  (1, 1591, 261),\n",
       "  (1, 1591, 269),\n",
       "  (1, 1591, 436),\n",
       "  (1, 1591, 953),\n",
       "  (1, 1591, 1123),\n",
       "  (1, 1591, 1159),\n",
       "  (1, 1591, 1172),\n",
       "  (1, 1591, 1230),\n",
       "  (1, 1591, 1240),\n",
       "  (1, 1591, 1258),\n",
       "  (1, 1591, 1304),\n",
       "  (1, 1591, 1346),\n",
       "  (1, 1591, 1351),\n",
       "  (1, 1591, 1407),\n",
       "  (1, 1591, 1410),\n",
       "  (1, 1591, 1603),\n",
       "  (1, 1591, 1668),\n",
       "  (1, 1591, 1681),\n",
       "  (1, 1591, 1687),\n",
       "  (1, 1591, 1690),\n",
       "  (1, 1591, 1715),\n",
       "  (1, 1591, 1745),\n",
       "  (1, 1591, 1778),\n",
       "  (1, 1591, 1857),\n",
       "  (1, 1591, 1897),\n",
       "  (1, 1591, 1927),\n",
       "  (1, 1591, 1949),\n",
       "  (1, 1591, 2042),\n",
       "  (1, 1591, 2109),\n",
       "  (1, 1591, 2119),\n",
       "  (1, 1591, 2151),\n",
       "  (1, 1591, 2386),\n",
       "  (1, 1591, 2453),\n",
       "  (1, 1591, 2464),\n",
       "  (1, 1591, 2656),\n",
       "  (1, 1591, 2761),\n",
       "  (1, 1591, 2766),\n",
       "  (1, 1591, 2800),\n",
       "  (1, 1591, 2855),\n",
       "  (1, 1591, 2995),\n",
       "  (1, 1591, 3096),\n",
       "  (1, 1591, 3172),\n",
       "  (1, 1591, 3440),\n",
       "  (1, 1591, 3450),\n",
       "  (1, 1591, 3465),\n",
       "  (1, 1591, 3770),\n",
       "  (1, 1591, 3801),\n",
       "  (1, 1591, 3804),\n",
       "  (1, 1591, 3809),\n",
       "  (1, 1591, 3885),\n",
       "  (1, 1591, 3888),\n",
       "  (1, 1591, 4041),\n",
       "  (1, 1591, 4089),\n",
       "  (1, 1711, 23),\n",
       "  (1, 1711, 162),\n",
       "  (1, 1711, 243),\n",
       "  (1, 1711, 261),\n",
       "  (1, 1711, 269),\n",
       "  (1, 1711, 436),\n",
       "  (1, 1711, 953),\n",
       "  (1, 1711, 1123),\n",
       "  (1, 1711, 1159),\n",
       "  (1, 1711, 1172),\n",
       "  (1, 1711, 1230),\n",
       "  (1, 1711, 1240),\n",
       "  (1, 1711, 1258),\n",
       "  (1, 1711, 1304),\n",
       "  (1, 1711, 1346),\n",
       "  (1, 1711, 1351),\n",
       "  (1, 1711, 1407),\n",
       "  (1, 1711, 1410),\n",
       "  (1, 1711, 1603),\n",
       "  (1, 1711, 1668),\n",
       "  (1, 1711, 1681),\n",
       "  (1, 1711, 1687),\n",
       "  (1, 1711, 1690),\n",
       "  (1, 1711, 1715),\n",
       "  (1, 1711, 1745),\n",
       "  (1, 1711, 1778),\n",
       "  (1, 1711, 1857),\n",
       "  (1, 1711, 1897),\n",
       "  (1, 1711, 1927),\n",
       "  (1, 1711, 1949),\n",
       "  (1, 1711, 2042),\n",
       "  (1, 1711, 2109),\n",
       "  (1, 1711, 2119),\n",
       "  (1, 1711, 2151),\n",
       "  (1, 1711, 2386),\n",
       "  (1, 1711, 2453),\n",
       "  (1, 1711, 2464),\n",
       "  (1, 1711, 2656),\n",
       "  (1, 1711, 2761),\n",
       "  (1, 1711, 2766),\n",
       "  (1, 1711, 2800),\n",
       "  (1, 1711, 2855),\n",
       "  (1, 1711, 2995),\n",
       "  (1, 1711, 3096),\n",
       "  (1, 1711, 3172),\n",
       "  (1, 1711, 3440),\n",
       "  (1, 1711, 3450),\n",
       "  (1, 1711, 3465),\n",
       "  (1, 1711, 3770),\n",
       "  (1, 1711, 3801),\n",
       "  (1, 1711, 3804),\n",
       "  (1, 1711, 3809),\n",
       "  (1, 1711, 3885),\n",
       "  (1, 1711, 3888),\n",
       "  (1, 1711, 4041),\n",
       "  (1, 1711, 4089),\n",
       "  (1, 1722, 23),\n",
       "  (1, 1722, 162),\n",
       "  (1, 1722, 243),\n",
       "  (1, 1722, 261),\n",
       "  (1, 1722, 269),\n",
       "  (1, 1722, 436),\n",
       "  (1, 1722, 953),\n",
       "  (1, 1722, 1123),\n",
       "  (1, 1722, 1159),\n",
       "  (1, 1722, 1172),\n",
       "  (1, 1722, 1230),\n",
       "  (1, 1722, 1240),\n",
       "  (1, 1722, 1258),\n",
       "  (1, 1722, 1304),\n",
       "  (1, 1722, 1346),\n",
       "  (1, 1722, 1351),\n",
       "  (1, 1722, 1407),\n",
       "  (1, 1722, 1410),\n",
       "  (1, 1722, 1603),\n",
       "  (1, 1722, 1668),\n",
       "  (1, 1722, 1681),\n",
       "  (1, 1722, 1687),\n",
       "  (1, 1722, 1690),\n",
       "  (1, 1722, 1715),\n",
       "  (1, 1722, 1745),\n",
       "  (1, 1722, 1778),\n",
       "  (1, 1722, 1857),\n",
       "  (1, 1722, 1897),\n",
       "  (1, 1722, 1927),\n",
       "  (1, 1722, 1949),\n",
       "  (1, 1722, 2042),\n",
       "  (1, 1722, 2109),\n",
       "  (1, 1722, 2119),\n",
       "  (1, 1722, 2151),\n",
       "  (1, 1722, 2386),\n",
       "  (1, 1722, 2453),\n",
       "  (1, 1722, 2464),\n",
       "  (1, 1722, 2656),\n",
       "  (1, 1722, 2761),\n",
       "  (1, 1722, 2766),\n",
       "  (1, 1722, 2800),\n",
       "  (1, 1722, 2855),\n",
       "  (1, 1722, 2995),\n",
       "  (1, 1722, 3096),\n",
       "  (1, 1722, 3172),\n",
       "  (1, 1722, 3440),\n",
       "  (1, 1722, 3450),\n",
       "  (1, 1722, 3465),\n",
       "  (1, 1722, 3770),\n",
       "  (1, 1722, 3801),\n",
       "  (1, 1722, 3804),\n",
       "  (1, 1722, 3809),\n",
       "  (1, 1722, 3885),\n",
       "  (1, 1722, 3888),\n",
       "  (1, 1722, 4041),\n",
       "  (1, 1722, 4089),\n",
       "  (1, 1849, 23),\n",
       "  (1, 1849, 162),\n",
       "  (1, 1849, 243),\n",
       "  (1, 1849, 261),\n",
       "  (1, 1849, 269),\n",
       "  (1, 1849, 436),\n",
       "  (1, 1849, 953),\n",
       "  (1, 1849, 1123),\n",
       "  (1, 1849, 1159),\n",
       "  (1, 1849, 1172),\n",
       "  (1, 1849, 1230),\n",
       "  (1, 1849, 1240),\n",
       "  (1, 1849, 1258),\n",
       "  (1, 1849, 1304),\n",
       "  (1, 1849, 1346),\n",
       "  (1, 1849, 1351),\n",
       "  (1, 1849, 1407),\n",
       "  (1, 1849, 1410),\n",
       "  (1, 1849, 1603),\n",
       "  (1, 1849, 1668),\n",
       "  (1, 1849, 1681),\n",
       "  (1, 1849, 1687),\n",
       "  (1, 1849, 1690),\n",
       "  (1, 1849, 1715),\n",
       "  (1, 1849, 1745),\n",
       "  (1, 1849, 1778),\n",
       "  (1, 1849, 1857),\n",
       "  (1, 1849, 1897),\n",
       "  (1, 1849, 1927),\n",
       "  (1, 1849, 1949),\n",
       "  (1, 1849, 2042),\n",
       "  (1, 1849, 2109),\n",
       "  (1, 1849, 2119),\n",
       "  (1, 1849, 2151),\n",
       "  (1, 1849, 2386),\n",
       "  (1, 1849, 2453),\n",
       "  (1, 1849, 2464),\n",
       "  (1, 1849, 2656),\n",
       "  (1, 1849, 2761),\n",
       "  (1, 1849, 2766),\n",
       "  (1, 1849, 2800),\n",
       "  (1, 1849, 2855),\n",
       "  (1, 1849, 2995),\n",
       "  (1, 1849, 3096),\n",
       "  (1, 1849, 3172),\n",
       "  (1, 1849, 3440),\n",
       "  (1, 1849, 3450),\n",
       "  (1, 1849, 3465),\n",
       "  (1, 1849, 3770),\n",
       "  (1, 1849, 3801),\n",
       "  (1, 1849, 3804),\n",
       "  (1, 1849, 3809),\n",
       "  (1, 1849, 3885),\n",
       "  (1, 1849, 3888),\n",
       "  (1, 1849, 4041),\n",
       "  (1, 1849, 4089),\n",
       "  (1, 1854, 23),\n",
       "  (1, 1854, 162),\n",
       "  (1, 1854, 243),\n",
       "  (1, 1854, 261),\n",
       "  (1, 1854, 269),\n",
       "  (1, 1854, 436),\n",
       "  (1, 1854, 953),\n",
       "  (1, 1854, 1123),\n",
       "  (1, 1854, 1159),\n",
       "  (1, 1854, 1172),\n",
       "  (1, 1854, 1230),\n",
       "  (1, 1854, 1240),\n",
       "  (1, 1854, 1258),\n",
       "  (1, 1854, 1304),\n",
       "  (1, 1854, 1346),\n",
       "  (1, 1854, 1351),\n",
       "  (1, 1854, 1407),\n",
       "  (1, 1854, 1410),\n",
       "  (1, 1854, 1603),\n",
       "  (1, 1854, 1668),\n",
       "  (1, 1854, 1681),\n",
       "  (1, 1854, 1687),\n",
       "  (1, 1854, 1690),\n",
       "  (1, 1854, 1715),\n",
       "  (1, 1854, 1745),\n",
       "  (1, 1854, 1778),\n",
       "  (1, 1854, 1857),\n",
       "  (1, 1854, 1897),\n",
       "  (1, 1854, 1927),\n",
       "  (1, 1854, 1949),\n",
       "  (1, 1854, 2042),\n",
       "  (1, 1854, 2109),\n",
       "  (1, 1854, 2119),\n",
       "  (1, 1854, 2151),\n",
       "  (1, 1854, 2386),\n",
       "  (1, 1854, 2453),\n",
       "  (1, 1854, 2464),\n",
       "  (1, 1854, 2656),\n",
       "  (1, 1854, 2761),\n",
       "  (1, 1854, 2766),\n",
       "  (1, 1854, 2800),\n",
       "  (1, 1854, 2855),\n",
       "  (1, 1854, 2995),\n",
       "  (1, 1854, 3096),\n",
       "  (1, 1854, 3172),\n",
       "  (1, 1854, 3440),\n",
       "  (1, 1854, 3450),\n",
       "  (1, 1854, 3465),\n",
       "  (1, 1854, 3770),\n",
       "  (1, 1854, 3801),\n",
       "  (1, 1854, 3804),\n",
       "  (1, 1854, 3809),\n",
       "  (1, 1854, 3885),\n",
       "  (1, 1854, 3888),\n",
       "  (1, 1854, 4041),\n",
       "  (1, 1854, 4089),\n",
       "  (1, 1856, 23),\n",
       "  (1, 1856, 162),\n",
       "  (1, 1856, 243),\n",
       "  (1, 1856, 261),\n",
       "  (1, 1856, 269),\n",
       "  (1, 1856, 436),\n",
       "  (1, 1856, 953),\n",
       "  (1, 1856, 1123),\n",
       "  (1, 1856, 1159),\n",
       "  (1, 1856, 1172),\n",
       "  (1, 1856, 1230),\n",
       "  (1, 1856, 1240),\n",
       "  (1, 1856, 1258),\n",
       "  (1, 1856, 1304),\n",
       "  (1, 1856, 1346),\n",
       "  (1, 1856, 1351),\n",
       "  (1, 1856, 1407),\n",
       "  (1, 1856, 1410),\n",
       "  (1, 1856, 1603),\n",
       "  (1, 1856, 1668),\n",
       "  (1, 1856, 1681),\n",
       "  (1, 1856, 1687),\n",
       "  (1, 1856, 1690),\n",
       "  (1, 1856, 1715),\n",
       "  (1, 1856, 1745),\n",
       "  (1, 1856, 1778),\n",
       "  (1, 1856, 1857),\n",
       "  (1, 1856, 1897),\n",
       "  (1, 1856, 1927),\n",
       "  (1, 1856, 1949),\n",
       "  (1, 1856, 2042),\n",
       "  (1, 1856, 2109),\n",
       "  (1, 1856, 2119),\n",
       "  (1, 1856, 2151),\n",
       "  (1, 1856, 2386),\n",
       "  (1, 1856, 2453),\n",
       "  (1, 1856, 2464),\n",
       "  (1, 1856, 2656),\n",
       "  (1, 1856, 2761),\n",
       "  (1, 1856, 2766),\n",
       "  (1, 1856, 2800),\n",
       "  (1, 1856, 2855),\n",
       "  (1, 1856, 2995),\n",
       "  (1, 1856, 3096),\n",
       "  (1, 1856, 3172),\n",
       "  (1, 1856, 3440),\n",
       "  (1, 1856, 3450),\n",
       "  (1, 1856, 3465),\n",
       "  (1, 1856, 3770),\n",
       "  (1, 1856, 3801),\n",
       "  (1, 1856, 3804),\n",
       "  (1, 1856, 3809),\n",
       "  (1, 1856, 3885),\n",
       "  (1, 1856, 3888),\n",
       "  (1, 1856, 4041),\n",
       "  (1, 1856, 4089),\n",
       "  (1, 1869, 23),\n",
       "  (1, 1869, 162),\n",
       "  (1, 1869, 243),\n",
       "  (1, 1869, 261),\n",
       "  (1, 1869, 269),\n",
       "  (1, 1869, 436),\n",
       "  (1, 1869, 953),\n",
       "  (1, 1869, 1123),\n",
       "  (1, 1869, 1159),\n",
       "  (1, 1869, 1172),\n",
       "  (1, 1869, 1230),\n",
       "  (1, 1869, 1240),\n",
       "  (1, 1869, 1258),\n",
       "  (1, 1869, 1304),\n",
       "  (1, 1869, 1346),\n",
       "  (1, 1869, 1351),\n",
       "  (1, 1869, 1407),\n",
       "  (1, 1869, 1410),\n",
       "  (1, 1869, 1603),\n",
       "  (1, 1869, 1668),\n",
       "  (1, 1869, 1681),\n",
       "  (1, 1869, 1687),\n",
       "  (1, 1869, 1690),\n",
       "  (1, 1869, 1715),\n",
       "  (1, 1869, 1745),\n",
       "  (1, 1869, 1778),\n",
       "  (1, 1869, 1857),\n",
       "  (1, 1869, 1897),\n",
       "  (1, 1869, 1927),\n",
       "  (1, 1869, 1949),\n",
       "  (1, 1869, 2042),\n",
       "  (1, 1869, 2109),\n",
       "  (1, 1869, 2119),\n",
       "  (1, 1869, 2151),\n",
       "  (1, 1869, 2386),\n",
       "  (1, 1869, 2453),\n",
       "  (1, 1869, 2464),\n",
       "  (1, 1869, 2656),\n",
       "  (1, 1869, 2761),\n",
       "  (1, 1869, 2766),\n",
       "  (1, 1869, 2800),\n",
       "  (1, 1869, 2855),\n",
       "  (1, 1869, 2995),\n",
       "  (1, 1869, 3096),\n",
       "  (1, 1869, 3172),\n",
       "  (1, 1869, 3440),\n",
       "  (1, 1869, 3450),\n",
       "  (1, 1869, 3465),\n",
       "  (1, 1869, 3770),\n",
       "  (1, 1869, 3801),\n",
       "  (1, 1869, 3804),\n",
       "  (1, 1869, 3809),\n",
       "  (1, 1869, 3885),\n",
       "  (1, 1869, 3888),\n",
       "  (1, 1869, 4041),\n",
       "  (1, 1869, 4089),\n",
       "  (1, 1888, 23),\n",
       "  (1, 1888, 162),\n",
       "  (1, 1888, 243),\n",
       "  (1, 1888, 261),\n",
       "  (1, 1888, 269),\n",
       "  (1, 1888, 436),\n",
       "  (1, 1888, 953),\n",
       "  (1, 1888, 1123),\n",
       "  (1, 1888, 1159),\n",
       "  (1, 1888, 1172),\n",
       "  (1, 1888, 1230),\n",
       "  (1, 1888, 1240),\n",
       "  (1, 1888, 1258),\n",
       "  (1, 1888, 1304),\n",
       "  (1, 1888, 1346),\n",
       "  (1, 1888, 1351),\n",
       "  (1, 1888, 1407),\n",
       "  (1, 1888, 1410),\n",
       "  (1, 1888, 1603),\n",
       "  (1, 1888, 1668),\n",
       "  (1, 1888, 1681),\n",
       "  (1, 1888, 1687),\n",
       "  (1, 1888, 1690),\n",
       "  (1, 1888, 1715),\n",
       "  (1, 1888, 1745),\n",
       "  (1, 1888, 1778),\n",
       "  (1, 1888, 1857),\n",
       "  (1, 1888, 1897),\n",
       "  (1, 1888, 1927),\n",
       "  (1, 1888, 1949),\n",
       "  (1, 1888, 2042),\n",
       "  (1, 1888, 2109),\n",
       "  (1, 1888, 2119),\n",
       "  (1, 1888, 2151),\n",
       "  (1, 1888, 2386),\n",
       "  (1, 1888, 2453),\n",
       "  (1, 1888, 2464),\n",
       "  (1, 1888, 2656),\n",
       "  (1, 1888, 2761),\n",
       "  (1, 1888, 2766),\n",
       "  (1, 1888, 2800),\n",
       "  (1, 1888, 2855),\n",
       "  (1, 1888, 2995),\n",
       "  (1, 1888, 3096),\n",
       "  (1, 1888, 3172),\n",
       "  (1, 1888, 3440),\n",
       "  (1, 1888, 3450),\n",
       "  (1, 1888, 3465),\n",
       "  (1, 1888, 3770),\n",
       "  (1, 1888, 3801),\n",
       "  (1, 1888, 3804),\n",
       "  (1, 1888, 3809),\n",
       "  (1, 1888, 3885),\n",
       "  (1, 1888, 3888),\n",
       "  (1, 1888, 4041),\n",
       "  (1, 1888, 4089),\n",
       "  (1, 1895, 23),\n",
       "  (1, 1895, 162),\n",
       "  (1, 1895, 243),\n",
       "  (1, 1895, 261),\n",
       "  (1, 1895, 269),\n",
       "  (1, 1895, 436),\n",
       "  (1, 1895, 953),\n",
       "  (1, 1895, 1123),\n",
       "  (1, 1895, 1159),\n",
       "  (1, 1895, 1172),\n",
       "  (1, 1895, 1230),\n",
       "  (1, 1895, 1240),\n",
       "  (1, 1895, 1258),\n",
       "  (1, 1895, 1304),\n",
       "  (1, 1895, 1346),\n",
       "  (1, 1895, 1351),\n",
       "  (1, 1895, 1407),\n",
       "  (1, 1895, 1410),\n",
       "  (1, 1895, 1603),\n",
       "  (1, 1895, 1668),\n",
       "  (1, 1895, 1681),\n",
       "  (1, 1895, 1687),\n",
       "  (1, 1895, 1690),\n",
       "  (1, 1895, 1715),\n",
       "  (1, 1895, 1745),\n",
       "  (1, 1895, 1778),\n",
       "  (1, 1895, 1857),\n",
       "  (1, 1895, 1897),\n",
       "  (1, 1895, 1927),\n",
       "  (1, 1895, 1949),\n",
       "  (1, 1895, 2042),\n",
       "  (1, 1895, 2109),\n",
       "  (1, 1895, 2119),\n",
       "  (1, 1895, 2151),\n",
       "  (1, 1895, 2386),\n",
       "  (1, 1895, 2453),\n",
       "  (1, 1895, 2464),\n",
       "  (1, 1895, 2656),\n",
       "  (1, 1895, 2761),\n",
       "  (1, 1895, 2766),\n",
       "  (1, 1895, 2800),\n",
       "  (1, 1895, 2855),\n",
       "  (1, 1895, 2995),\n",
       "  (1, 1895, 3096),\n",
       "  (1, 1895, 3172),\n",
       "  (1, 1895, 3440),\n",
       "  (1, 1895, 3450),\n",
       "  (1, 1895, 3465),\n",
       "  (1, 1895, 3770),\n",
       "  (1, 1895, 3801),\n",
       "  (1, 1895, 3804),\n",
       "  (1, 1895, 3809),\n",
       "  (1, 1895, 3885),\n",
       "  (1, 1895, 3888),\n",
       "  (1, 1895, 4041),\n",
       "  (1, 1895, 4089),\n",
       "  (1, 1905, 23),\n",
       "  (1, 1905, 162),\n",
       "  (1, 1905, 243),\n",
       "  (1, 1905, 261),\n",
       "  (1, 1905, 269),\n",
       "  (1, 1905, 436),\n",
       "  (1, 1905, 953),\n",
       "  (1, 1905, 1123),\n",
       "  (1, 1905, 1159),\n",
       "  (1, 1905, 1172),\n",
       "  (1, 1905, 1230),\n",
       "  (1, 1905, 1240),\n",
       "  (1, 1905, 1258),\n",
       "  (1, 1905, 1304),\n",
       "  (1, 1905, 1346),\n",
       "  (1, 1905, 1351),\n",
       "  (1, 1905, 1407),\n",
       "  (1, 1905, 1410),\n",
       "  (1, 1905, 1603),\n",
       "  (1, 1905, 1668),\n",
       "  (1, 1905, 1681),\n",
       "  (1, 1905, 1687),\n",
       "  (1, 1905, 1690),\n",
       "  (1, 1905, 1715),\n",
       "  (1, 1905, 1745),\n",
       "  (1, 1905, 1778),\n",
       "  (1, 1905, 1857),\n",
       "  (1, 1905, 1897),\n",
       "  (1, 1905, 1927),\n",
       "  (1, 1905, 1949),\n",
       "  (1, 1905, 2042),\n",
       "  (1, 1905, 2109),\n",
       "  (1, 1905, 2119),\n",
       "  (1, 1905, 2151),\n",
       "  (1, 1905, 2386),\n",
       "  (1, 1905, 2453),\n",
       "  (1, 1905, 2464),\n",
       "  (1, 1905, 2656),\n",
       "  (1, 1905, 2761),\n",
       "  (1, 1905, 2766),\n",
       "  (1, 1905, 2800),\n",
       "  (1, 1905, 2855),\n",
       "  (1, 1905, 2995),\n",
       "  (1, 1905, 3096),\n",
       "  (1, 1905, 3172),\n",
       "  (1, 1905, 3440),\n",
       "  (1, 1905, 3450),\n",
       "  (1, 1905, 3465),\n",
       "  (1, 1905, 3770),\n",
       "  (1, 1905, 3801),\n",
       "  (1, 1905, 3804),\n",
       "  (1, 1905, 3809),\n",
       "  (1, 1905, 3885),\n",
       "  (1, 1905, 3888),\n",
       "  (1, 1905, 4041),\n",
       "  (1, 1905, 4089),\n",
       "  (1, 2507, 23),\n",
       "  (1, 2507, 162),\n",
       "  (1, 2507, 243),\n",
       "  (1, 2507, 261),\n",
       "  (1, 2507, 269),\n",
       "  (1, 2507, 436),\n",
       "  (1, 2507, 953),\n",
       "  (1, 2507, 1123),\n",
       "  (1, 2507, 1159),\n",
       "  (1, 2507, 1172),\n",
       "  (1, 2507, 1230),\n",
       "  (1, 2507, 1240),\n",
       "  (1, 2507, 1258),\n",
       "  (1, 2507, 1304),\n",
       "  (1, 2507, 1346),\n",
       "  (1, 2507, 1351),\n",
       "  (1, 2507, 1407),\n",
       "  (1, 2507, 1410),\n",
       "  (1, 2507, 1603),\n",
       "  (1, 2507, 1668),\n",
       "  (1, 2507, 1681),\n",
       "  (1, 2507, 1687),\n",
       "  (1, 2507, 1690),\n",
       "  (1, 2507, 1715),\n",
       "  (1, 2507, 1745),\n",
       "  (1, 2507, 1778),\n",
       "  (1, 2507, 1857),\n",
       "  (1, 2507, 1897),\n",
       "  (1, 2507, 1927),\n",
       "  (1, 2507, 1949),\n",
       "  (1, 2507, 2042),\n",
       "  (1, 2507, 2109),\n",
       "  (1, 2507, 2119),\n",
       "  (1, 2507, 2151),\n",
       "  (1, 2507, 2386),\n",
       "  (1, 2507, 2453),\n",
       "  (1, 2507, 2464),\n",
       "  (1, 2507, 2656),\n",
       "  (1, 2507, 2761),\n",
       "  (1, 2507, 2766),\n",
       "  (1, 2507, 2800),\n",
       "  (1, 2507, 2855),\n",
       "  (1, 2507, 2995),\n",
       "  (1, 2507, 3096),\n",
       "  (1, 2507, 3172),\n",
       "  (1, 2507, 3440),\n",
       "  (1, 2507, 3450),\n",
       "  (1, 2507, 3465),\n",
       "  (1, 2507, 3770),\n",
       "  (1, 2507, 3801),\n",
       "  (1, 2507, 3804),\n",
       "  (1, 2507, 3809),\n",
       "  (1, 2507, 3885),\n",
       "  (1, 2507, 3888),\n",
       "  (1, 2507, 4041),\n",
       "  (1, 2507, 4089),\n",
       "  (1, 2510, 23),\n",
       "  (1, 2510, 162),\n",
       "  (1, 2510, 243),\n",
       "  (1, 2510, 261),\n",
       "  (1, 2510, 269),\n",
       "  (1, 2510, 436),\n",
       "  (1, 2510, 953),\n",
       "  (1, 2510, 1123),\n",
       "  (1, 2510, 1159),\n",
       "  (1, 2510, 1172),\n",
       "  (1, 2510, 1230),\n",
       "  (1, 2510, 1240),\n",
       "  (1, 2510, 1258),\n",
       "  (1, 2510, 1304),\n",
       "  (1, 2510, 1346),\n",
       "  (1, 2510, 1351),\n",
       "  (1, 2510, 1407),\n",
       "  (1, 2510, 1410),\n",
       "  (1, 2510, 1603),\n",
       "  (1, 2510, 1668),\n",
       "  (1, 2510, 1681),\n",
       "  (1, 2510, 1687),\n",
       "  (1, 2510, 1690),\n",
       "  (1, 2510, 1715),\n",
       "  (1, 2510, 1745),\n",
       "  (1, 2510, 1778),\n",
       "  (1, 2510, 1857),\n",
       "  (1, 2510, 1897),\n",
       "  (1, 2510, 1927),\n",
       "  (1, 2510, 1949),\n",
       "  (1, 2510, 2042),\n",
       "  (1, 2510, 2109),\n",
       "  (1, 2510, 2119),\n",
       "  (1, 2510, 2151),\n",
       "  (1, 2510, 2386),\n",
       "  (1, 2510, 2453),\n",
       "  (1, 2510, 2464),\n",
       "  (1, 2510, 2656),\n",
       "  (1, 2510, 2761),\n",
       "  (1, 2510, 2766),\n",
       "  (1, 2510, 2800),\n",
       "  (1, 2510, 2855),\n",
       "  (1, 2510, 2995),\n",
       "  (1, 2510, 3096),\n",
       "  (1, 2510, 3172),\n",
       "  (1, 2510, 3440),\n",
       "  (1, 2510, 3450),\n",
       "  (1, 2510, 3465),\n",
       "  (1, 2510, 3770),\n",
       "  (1, 2510, 3801),\n",
       "  (1, 2510, 3804),\n",
       "  (1, 2510, 3809),\n",
       "  (1, 2510, 3885),\n",
       "  (1, 2510, 3888),\n",
       "  (1, 2510, 4041),\n",
       "  (1, 2510, 4089),\n",
       "  (1, 2513, 23),\n",
       "  (1, 2513, 162),\n",
       "  (1, 2513, 243),\n",
       "  (1, 2513, 261),\n",
       "  (1, 2513, 269),\n",
       "  (1, 2513, 436),\n",
       "  (1, 2513, 953),\n",
       "  (1, 2513, 1123),\n",
       "  (1, 2513, 1159),\n",
       "  (1, 2513, 1172),\n",
       "  (1, 2513, 1230),\n",
       "  (1, 2513, 1240),\n",
       "  (1, 2513, 1258),\n",
       "  (1, 2513, 1304),\n",
       "  (1, 2513, 1346),\n",
       "  (1, 2513, 1351),\n",
       "  (1, 2513, 1407),\n",
       "  (1, 2513, 1410),\n",
       "  (1, 2513, 1603),\n",
       "  (1, 2513, 1668),\n",
       "  (1, 2513, 1681),\n",
       "  (1, 2513, 1687),\n",
       "  (1, 2513, 1690),\n",
       "  (1, 2513, 1715),\n",
       "  (1, 2513, 1745),\n",
       "  (1, 2513, 1778),\n",
       "  (1, 2513, 1857),\n",
       "  (1, 2513, 1897),\n",
       "  (1, 2513, 1927),\n",
       "  (1, 2513, 1949),\n",
       "  (1, 2513, 2042),\n",
       "  (1, 2513, 2109),\n",
       "  (1, 2513, 2119),\n",
       "  (1, 2513, 2151),\n",
       "  (1, 2513, 2386),\n",
       "  (1, 2513, 2453),\n",
       "  (1, 2513, 2464),\n",
       "  (1, 2513, 2656),\n",
       "  (1, 2513, 2761),\n",
       "  (1, 2513, 2766),\n",
       "  (1, 2513, 2800),\n",
       "  (1, 2513, 2855),\n",
       "  (1, 2513, 2995),\n",
       "  (1, 2513, 3096),\n",
       "  (1, 2513, 3172),\n",
       "  (1, 2513, 3440),\n",
       "  (1, 2513, 3450),\n",
       "  (1, 2513, 3465),\n",
       "  (1, 2513, 3770),\n",
       "  (1, 2513, 3801),\n",
       "  (1, 2513, 3804),\n",
       "  (1, 2513, 3809),\n",
       "  (1, 2513, 3885),\n",
       "  (1, 2513, 3888),\n",
       "  (1, 2513, 4041),\n",
       "  (1, 2513, 4089),\n",
       "  (1, 2538, 23),\n",
       "  (1, 2538, 162),\n",
       "  (1, 2538, 243),\n",
       "  (1, 2538, 261),\n",
       "  (1, 2538, 269),\n",
       "  (1, 2538, 436),\n",
       "  (1, 2538, 953),\n",
       "  (1, 2538, 1123),\n",
       "  (1, 2538, 1159),\n",
       "  (1, 2538, 1172),\n",
       "  (1, 2538, 1230),\n",
       "  (1, 2538, 1240),\n",
       "  (1, 2538, 1258),\n",
       "  (1, 2538, 1304),\n",
       "  (1, 2538, 1346),\n",
       "  (1, 2538, 1351),\n",
       "  (1, 2538, 1407),\n",
       "  (1, 2538, 1410),\n",
       "  (1, 2538, 1603),\n",
       "  (1, 2538, 1668),\n",
       "  (1, 2538, 1681),\n",
       "  (1, 2538, 1687),\n",
       "  (1, 2538, 1690),\n",
       "  (1, 2538, 1715),\n",
       "  (1, 2538, 1745),\n",
       "  (1, 2538, 1778),\n",
       "  (1, 2538, 1857),\n",
       "  (1, 2538, 1897),\n",
       "  (1, 2538, 1927),\n",
       "  (1, 2538, 1949),\n",
       "  (1, 2538, 2042),\n",
       "  (1, 2538, 2109),\n",
       "  (1, 2538, 2119),\n",
       "  (1, 2538, 2151),\n",
       "  (1, 2538, 2386),\n",
       "  (1, 2538, 2453),\n",
       "  (1, 2538, 2464),\n",
       "  (1, 2538, 2656),\n",
       "  (1, 2538, 2761),\n",
       "  (1, 2538, 2766),\n",
       "  (1, 2538, 2800),\n",
       "  (1, 2538, 2855),\n",
       "  (1, 2538, 2995),\n",
       "  (1, 2538, 3096),\n",
       "  (1, 2538, 3172),\n",
       "  (1, 2538, 3440),\n",
       "  (1, 2538, 3450),\n",
       "  (1, 2538, 3465),\n",
       "  (1, 2538, 3770),\n",
       "  (1, 2538, 3801),\n",
       "  (1, 2538, 3804),\n",
       "  (1, 2538, 3809),\n",
       "  (1, 2538, 3885),\n",
       "  (1, 2538, 3888),\n",
       "  (1, 2538, 4041),\n",
       "  (1, 2538, 4089),\n",
       "  (1, 2564, 23),\n",
       "  (1, 2564, 162),\n",
       "  (1, 2564, 243),\n",
       "  (1, 2564, 261),\n",
       "  (1, 2564, 269),\n",
       "  (1, 2564, 436),\n",
       "  (1, 2564, 953),\n",
       "  (1, 2564, 1123),\n",
       "  (1, 2564, 1159),\n",
       "  (1, 2564, 1172),\n",
       "  (1, 2564, 1230),\n",
       "  (1, 2564, 1240),\n",
       "  (1, 2564, 1258),\n",
       "  (1, 2564, 1304),\n",
       "  (1, 2564, 1346),\n",
       "  (1, 2564, 1351),\n",
       "  (1, 2564, 1407),\n",
       "  (1, 2564, 1410),\n",
       "  (1, 2564, 1603),\n",
       "  (1, 2564, 1668),\n",
       "  (1, 2564, 1681),\n",
       "  (1, 2564, 1687),\n",
       "  (1, 2564, 1690),\n",
       "  (1, 2564, 1715),\n",
       "  (1, 2564, 1745),\n",
       "  (1, 2564, 1778),\n",
       "  (1, 2564, 1857),\n",
       "  (1, 2564, 1897),\n",
       "  (1, 2564, 1927),\n",
       "  (1, 2564, 1949),\n",
       "  (1, 2564, 2042),\n",
       "  (1, 2564, 2109),\n",
       "  (1, 2564, 2119),\n",
       "  (1, 2564, 2151),\n",
       "  (1, 2564, 2386),\n",
       "  (1, 2564, 2453),\n",
       "  (1, 2564, 2464),\n",
       "  (1, 2564, 2656),\n",
       "  (1, 2564, 2761),\n",
       "  (1, 2564, 2766),\n",
       "  (1, 2564, 2800),\n",
       "  (1, 2564, 2855),\n",
       "  (1, 2564, 2995),\n",
       "  (1, 2564, 3096),\n",
       "  (1, 2564, 3172),\n",
       "  (1, 2564, 3440),\n",
       "  (1, 2564, 3450),\n",
       "  (1, 2564, 3465),\n",
       "  (1, 2564, 3770),\n",
       "  (1, 2564, 3801),\n",
       "  (1, 2564, 3804),\n",
       "  (1, 2564, 3809),\n",
       "  (1, 2564, 3885),\n",
       "  (1, 2564, 3888),\n",
       "  (1, 2564, 4041),\n",
       "  (1, 2564, 4089),\n",
       "  (1, 2574, 23),\n",
       "  (1, 2574, 162),\n",
       "  (1, 2574, 243),\n",
       "  (1, 2574, 261),\n",
       "  (1, 2574, 269),\n",
       "  (1, 2574, 436),\n",
       "  (1, 2574, 953),\n",
       "  (1, 2574, 1123),\n",
       "  (1, 2574, 1159),\n",
       "  (1, 2574, 1172),\n",
       "  (1, 2574, 1230),\n",
       "  (1, 2574, 1240),\n",
       "  (1, 2574, 1258),\n",
       "  (1, 2574, 1304),\n",
       "  (1, 2574, 1346),\n",
       "  (1, 2574, 1351),\n",
       "  (1, 2574, 1407),\n",
       "  (1, 2574, 1410),\n",
       "  (1, 2574, 1603),\n",
       "  (1, 2574, 1668),\n",
       "  (1, 2574, 1681),\n",
       "  (1, 2574, 1687),\n",
       "  (1, 2574, 1690),\n",
       "  (1, 2574, 1715),\n",
       "  (1, 2574, 1745),\n",
       "  (1, 2574, 1778),\n",
       "  (1, 2574, 1857),\n",
       "  (1, 2574, 1897),\n",
       "  (1, 2574, 1927),\n",
       "  (1, 2574, 1949),\n",
       "  (1, 2574, 2042),\n",
       "  (1, 2574, 2109),\n",
       "  (1, 2574, 2119),\n",
       "  (1, 2574, 2151),\n",
       "  (1, 2574, 2386),\n",
       "  (1, 2574, 2453),\n",
       "  (1, 2574, 2464),\n",
       "  (1, 2574, 2656),\n",
       "  (1, 2574, 2761),\n",
       "  (1, 2574, 2766),\n",
       "  (1, 2574, 2800),\n",
       "  (1, 2574, 2855),\n",
       "  (1, 2574, 2995),\n",
       "  (1, 2574, 3096),\n",
       "  (1, 2574, 3172),\n",
       "  (1, 2574, 3440),\n",
       "  (1, 2574, 3450),\n",
       "  (1, 2574, 3465),\n",
       "  (1, 2574, 3770),\n",
       "  (1, 2574, 3801),\n",
       "  (1, 2574, 3804),\n",
       "  (1, 2574, 3809),\n",
       "  (1, 2574, 3885),\n",
       "  (1, 2574, 3888),\n",
       "  (1, 2574, 4041),\n",
       "  (1, 2574, 4089),\n",
       "  (1, 2587, 23),\n",
       "  (1, 2587, 162),\n",
       "  (1, 2587, 243),\n",
       "  (1, 2587, 261),\n",
       "  (1, 2587, 269),\n",
       "  (1, 2587, 436),\n",
       "  (1, 2587, 953),\n",
       "  (1, 2587, 1123),\n",
       "  (1, 2587, 1159),\n",
       "  (1, 2587, 1172),\n",
       "  (1, 2587, 1230),\n",
       "  (1, 2587, 1240),\n",
       "  (1, 2587, 1258),\n",
       "  (1, 2587, 1304),\n",
       "  (1, 2587, 1346),\n",
       "  (1, 2587, 1351),\n",
       "  (1, 2587, 1407),\n",
       "  (1, 2587, 1410),\n",
       "  (1, 2587, 1603),\n",
       "  (1, 2587, 1668),\n",
       "  (1, 2587, 1681),\n",
       "  (1, 2587, 1687),\n",
       "  (1, 2587, 1690),\n",
       "  (1, 2587, 1715),\n",
       "  (1, 2587, 1745),\n",
       "  (1, 2587, 1778),\n",
       "  (1, 2587, 1857),\n",
       "  (1, 2587, 1897),\n",
       "  (1, 2587, 1927),\n",
       "  (1, 2587, 1949),\n",
       "  (1, 2587, 2042),\n",
       "  (1, 2587, 2109),\n",
       "  (1, 2587, 2119),\n",
       "  (1, 2587, 2151),\n",
       "  (1, 2587, 2386),\n",
       "  (1, 2587, 2453),\n",
       "  (1, 2587, 2464),\n",
       "  (1, 2587, 2656),\n",
       "  (1, 2587, 2761),\n",
       "  (1, 2587, 2766),\n",
       "  (1, 2587, 2800),\n",
       "  (1, 2587, 2855),\n",
       "  (1, 2587, 2995),\n",
       "  (1, 2587, 3096),\n",
       "  (1, 2587, 3172),\n",
       "  (1, 2587, 3440),\n",
       "  (1, 2587, 3450),\n",
       "  (1, 2587, 3465),\n",
       "  ...],\n",
       " [145, 19])"
      ]
     },
     "execution_count": 33,
     "metadata": {},
     "output_type": "execute_result"
    }
   ],
   "source": [
    "e = searcher('searchindex.db')\n",
    "e.getmatchrows('functional programming')"
   ]
  },
  {
   "cell_type": "markdown",
   "metadata": {},
   "source": [
    "基于内容的排名\n",
    "\n",
    "如何在返回的大量网页中，找出真正和查询匹配的页面。这需要我们找到一种能够针对给定查询条件为网页进行评价的方法，并且在返回结果中将评价最高的排列在前面。\n",
    "\n",
    "单词频度\n",
    "\n",
    "最简单的思想，搜索的单词在网页中出现频率较高，则也有可能是我们要的页面。遗憾的是现实往往没这么简单。  \n"
   ]
  },
  {
   "cell_type": "code",
   "execution_count": 51,
   "metadata": {
    "collapsed": true
   },
   "outputs": [],
   "source": [
    "def getscoredlist(self,rows,wordids):\n",
    "    totalscores = dict([(row[0],0) for row in rows])\n",
    "    \n",
    "    #评价函数\n",
    "    \n",
    "    #1单词频度使用\n",
    "    #weights = [(1.0,self.frequencyseore(rows))]\n",
    "    \n",
    "    #2文档位置使用\n",
    "    weights = [(1.0,self.locationscore(rows))]\n",
    "    \n",
    "    for (weight,scores) in weights:\n",
    "        for url in totalscores:\n",
    "            totalscores[url] += weight*scores[url]\n",
    "    return totalscores\n",
    "\n",
    "def geturlname(self,id):\n",
    "    return self.con.execute(\n",
    "    \"select url from urllist where rowid = %d\" % id).fetchone()[0]\n",
    "\n",
    "def query(self,q):\n",
    "    rows,wordids = self.getmatchrows(q)\n",
    "    scores = self.getscoredlist(rows,wordids)\n",
    "    rankedscores = sorted([(score,url) for (url,score) in scores.items()],reverse=1)\n",
    "    for (score,urlid) in rankedscores[0:10]:\n",
    "        print ('%f\\t%s' %(score,self.geturlname(urlid)))\n",
    "            "
   ]
  },
  {
   "cell_type": "code",
   "execution_count": null,
   "metadata": {
    "collapsed": true
   },
   "outputs": [],
   "source": [
    "在没有对结果评价的情况下输出的结果"
   ]
  },
  {
   "cell_type": "code",
   "execution_count": 37,
   "metadata": {},
   "outputs": [
    {
     "name": "stdout",
     "output_type": "stream",
     "text": [
      "0.000000\thttp://kiwitobes.com/wiki/XSLT.html\n",
      "0.000000\thttp://kiwitobes.com/wiki/XQuery.html\n",
      "0.000000\thttp://kiwitobes.com/wiki/Unified_Modeling_Language.html\n",
      "0.000000\thttp://kiwitobes.com/wiki/SNOBOL.html\n",
      "0.000000\thttp://kiwitobes.com/wiki/Procedural_programming.html\n",
      "0.000000\thttp://kiwitobes.com/wiki/Miranda_programming_language.html\n",
      "0.000000\thttp://kiwitobes.com/wiki/ISWIM.html\n",
      "0.000000\thttp://kiwitobes.com/wiki/Smalltalk_programming_language.html\n",
      "0.000000\thttp://kiwitobes.com/wiki/Self_programming_language.html\n",
      "0.000000\thttp://kiwitobes.com/wiki/MOO_programming_language.html\n"
     ]
    }
   ],
   "source": [
    "e =searcher('searchindex.db')\n",
    "e.query('functional programming')"
   ]
  },
  {
   "cell_type": "markdown",
   "metadata": {},
   "source": [
    "归一化函数  \n",
    "令评价方法具有相同的值域和变化方向"
   ]
  },
  {
   "cell_type": "code",
   "execution_count": 38,
   "metadata": {
    "collapsed": true
   },
   "outputs": [],
   "source": [
    "def normalizescores(self,scores,smallIsBetter=0):\n",
    "    vsmall = 0.00001#避免被零整除\n",
    "    if smallIsBetter:\n",
    "        minscore = min(scores.values())\n",
    "        return dict([(u,float(minscore)/max(vsmall,L)) for (u,L) \\\n",
    "                    in scores.items()])\n",
    "    else:\n",
    "        maxscore = max(scores.values())\n",
    "        if maxscore == 0: maxscore = vsmall\n",
    "        return dict([(u,float(c)/maxscore) for (u,c) in scores.items()])"
   ]
  },
  {
   "cell_type": "markdown",
   "metadata": {},
   "source": [
    "单词频度"
   ]
  },
  {
   "cell_type": "code",
   "execution_count": 45,
   "metadata": {
    "collapsed": true
   },
   "outputs": [],
   "source": [
    "def frequencyscore(self,rows):\n",
    "    counts = dict([(row[0],0) for row in rows])\n",
    "    for row in rows:counts[row[0]] += 1\n",
    "    return self.normalizescores(counts)"
   ]
  },
  {
   "cell_type": "code",
   "execution_count": 49,
   "metadata": {},
   "outputs": [
    {
     "name": "stdout",
     "output_type": "stream",
     "text": [
      "1.000000\thttp://kiwitobes.com/wiki/Functional_programming.html\n",
      "0.262476\thttp://kiwitobes.com/wiki/Categorical_list_of_programming_languages.html\n",
      "0.062310\thttp://kiwitobes.com/wiki/Programming_language.html\n",
      "0.043976\thttp://kiwitobes.com/wiki/Lisp_programming_language.html\n",
      "0.036394\thttp://kiwitobes.com/wiki/Programming_paradigm.html\n",
      "0.030880\thttp://kiwitobes.com/wiki/Multi-paradigm_programming_language.html\n",
      "0.027295\thttp://kiwitobes.com/wiki/Perl.html\n",
      "0.022057\thttp://kiwitobes.com/wiki/Declarative_programming.html\n",
      "0.020265\thttp://kiwitobes.com/wiki/Generic_programming.html\n",
      "0.019024\thttp://kiwitobes.com/wiki/Object-oriented_programming.html\n"
     ]
    }
   ],
   "source": [
    "e =searcher('searchindex.db')\n",
    "e.query('functional programming')"
   ]
  },
  {
   "cell_type": "markdown",
   "metadata": {},
   "source": [
    "上述返回结果将涉及“functional programming”的网页放在了前面"
   ]
  },
  {
   "cell_type": "markdown",
   "metadata": {},
   "source": [
    "文档位置  \n",
    "\n",
    "文档的主题有可能会出现在靠近文档的开始处，统计单词在文档中出现的位置信息，位置越往前的就越有可能是我们想要的结果。同样这也图样图森破。"
   ]
  },
  {
   "cell_type": "code",
   "execution_count": 50,
   "metadata": {
    "collapsed": true
   },
   "outputs": [],
   "source": [
    "def locationscore(self,rows):\n",
    "    locations = dict([(row[0],1000000) for row in rows])\n",
    "    for row in rows:\n",
    "        loc = sum(row[1:])\n",
    "        if loc < locations[row[0]]: locations[row[0]]=loc\n",
    "    return self.normalizescores(locations,smallIsBetter=1)\n",
    "        "
   ]
  },
  {
   "cell_type": "code",
   "execution_count": 52,
   "metadata": {},
   "outputs": [
    {
     "name": "stdout",
     "output_type": "stream",
     "text": [
      "1.000000\thttp://kiwitobes.com/wiki/Functional_programming.html\n",
      "0.262476\thttp://kiwitobes.com/wiki/Categorical_list_of_programming_languages.html\n",
      "0.062310\thttp://kiwitobes.com/wiki/Programming_language.html\n",
      "0.043976\thttp://kiwitobes.com/wiki/Lisp_programming_language.html\n",
      "0.036394\thttp://kiwitobes.com/wiki/Programming_paradigm.html\n",
      "0.030880\thttp://kiwitobes.com/wiki/Multi-paradigm_programming_language.html\n",
      "0.027295\thttp://kiwitobes.com/wiki/Perl.html\n",
      "0.022057\thttp://kiwitobes.com/wiki/Declarative_programming.html\n",
      "0.020265\thttp://kiwitobes.com/wiki/Generic_programming.html\n",
      "0.019024\thttp://kiwitobes.com/wiki/Object-oriented_programming.html\n"
     ]
    }
   ],
   "source": [
    "e =searcher('searchindex.db')\n",
    "e.query('functional programming')"
   ]
  },
  {
   "cell_type": "code",
   "execution_count": null,
   "metadata": {
    "collapsed": true
   },
   "outputs": [],
   "source": [
    "“functional programming”的网页依然放在了最前面"
   ]
  },
  {
   "cell_type": "markdown",
   "metadata": {},
   "source": [
    "单词距离\n",
    "\n",
    "如果查询条件中有多个单词，则他们在文档中出现的位置应该很靠近。注意这里不是靠近，而是靠前。同样然并卵的一条规则。"
   ]
  },
  {
   "cell_type": "code",
   "execution_count": null,
   "metadata": {
    "collapsed": true
   },
   "outputs": [],
   "source": []
  },
  {
   "cell_type": "markdown",
   "metadata": {},
   "source": [
    "以上规则，早期的搜索引擎的确就是这么干的。所以我们也需要用这几条规则来练练手，涉及有数据库，数据归一化以及程序设计的知识。书上的例子还是很不错的。只是我选择了cnn的网站作为实验对象，例子中的网站打不开。最重要的是体会到数据库还是很重要的，要好好学。 \n",
    "书中对单词距离判断那里过于简单了，直接在查询单词组中用相邻两个最近单词的距离来评价一个url，这很不科学，但作为例子而已，这点没必要太深究。"
   ]
  },
  {
   "cell_type": "markdown",
   "metadata": {},
   "source": [
    "利用外部回指链接  \n",
    "\n",
    "以上是基于网页内容的评价度。现在我们提高一点逼格。通过考察外界就该网页所提供的信息–尤其是哪个页面链向了改网页，以及他们对该网页的评价，来进一步改善搜索结果。\n",
    "  \n",
    "简单计数  \n",
    "\n",
    "处理外部回指链接最为简单的做法，就是在每个网页上统计链接的数目，并将该链接总数所为针对网页的度量。回到刚才数据库关系图：   "
   ]
  },
  {
   "attachments": {
    "%E5%9B%BE%E7%89%87.png": {
     "image/png": "[encoded data removed]"
    }
   },
   "cell_type": "markdown",
   "metadata": {},
   "source": [
    "![%E5%9B%BE%E7%89%87.png](attachment:%E5%9B%BE%E7%89%87.png)"
   ]
  },
  {
   "cell_type": "markdown",
   "metadata": {},
   "source": [
    "表link中保存了爬取到的资源中url的指向关系。比如url1的页面中有url2的链接，则(fromid:url1,toid:url2). \n",
    "通过这个关系，我们可以在表中查询所有toid=指定url的记录，并计数。这个计数值就是这个url对应网页的评价度，再计算所有的url，并归一化，排个序就行。"
   ]
  },
  {
   "cell_type": "code",
   "execution_count": 53,
   "metadata": {
    "collapsed": true
   },
   "outputs": [],
   "source": [
    "def inboundlinkscore(self,rows):\n",
    "    uniqueurls = set([row[0] for row in rows])\n",
    "    inboundcount = dict([(u,self.con.execute(\n",
    "        \"select count(*) from link where toid = %d\" %u).fetchone()[0]) \\\n",
    "                        for u in uniqueurls])\n",
    "    return self.normalizescores(inboundcount)"
   ]
  },
  {
   "cell_type": "markdown",
   "metadata": {},
   "source": [
    "PageRank算法\n",
    "\n",
    "PageRank是有Google创始人发明的，并以发明者之一的Larry Page命名。现在基于这种变体已被所有大型搜索引擎采用。该算法认为网页的重要性是依据指向该网页的所有其他网页的重要性，以及这些网页中包含的链接数求得的。没错这个算法就是来评价网页重要性的。这个算法和其它算法（比如计入内容的算法加权求和得到的评价结果能改进引擎的效果）。 "
   ]
  },
  {
   "attachments": {
    "%E5%9B%BE%E7%89%87.png": {
     "image/png": "[encoded data removed]"
    }
   },
   "cell_type": "markdown",
   "metadata": {},
   "source": [
    "![%E5%9B%BE%E7%89%87.png](attachment:%E5%9B%BE%E7%89%87.png)"
   ]
  },
  {
   "cell_type": "markdown",
   "metadata": {},
   "source": [
    "上图中，网页B，C和D均指向A，它们的PageRank值已经计算得出。B还指出另外三个网页，而C则指向其他四个网页，D只指向A。为了得到A的PageRank值，我们将指向A的每个网页的PageRank(pr)值除以这些网页中的链接总数，然后乘以阻尼因子0.85，再加上一个0.15的最小值。PR(A)的计算公式如下： "
   ]
  },
  {
   "cell_type": "markdown",
   "metadata": {},
   "source": [
    "pr(A) = 0.15 + 0.85*(pr(B)/links(B)+pr(c)/links(C) + pr(D)/links(D))  \n",
    "      =0.15 + 0.85*(0.5/4 + 0.7/5 + 0.2/1)"
   ]
  },
  {
   "cell_type": "markdown",
   "metadata": {},
   "source": [
    "我们发现，由于D指向A，而且能贡献出它的全部分值，所以相比B或者C，尽管D本身的PageRank值较低，但是是加上它对A的PageRank值贡献度更大。本例中所有指向A的网页都已有了PageRank值。只有知道了指向同一网页的所有其他网页的评价后，我们才算出该网页的评价值。同样，对于这些网页的所哟其他网页，如果不先计算它们的评价值，那么这些网页的pagerank也是无法计算的。如何对一组还没有pagerank值得网页进行pangrank计算呢？ \n",
    "解决方法是，为所有PageRank都设置一个任意的初始值，然后反复计算，迭代若干次。在每次迭代中，每个网页的PageRank值将会越来越接近真实值。迭代所需要次数要视网络数量而定，不过对于目前正在处理的这一小组网页，20次就足够了。 "
   ]
  },
  {
   "cell_type": "code",
   "execution_count": 54,
   "metadata": {
    "collapsed": true
   },
   "outputs": [],
   "source": [
    "def calculatepagerank(self,iterations =20):\n",
    "    # 清除当前的PageRank表\n",
    "    self.con.execute('drop table if exists pagerank')\n",
    "    self.con.execute('create table pagerank(urlid primary key,score)')\n",
    "    \n",
    "    #初始化每个url,令其pagerank值为1\n",
    "    self.con.execute('insert into pagerank select rowid,1.0 from urllist')\n",
    "    self.dbcommit()\n",
    "    \n",
    "    for i in range(iterations):\n",
    "        print(\"Iteration %d\" %(i))\n",
    "        for (urlid,) in self.con.execute('select rowid from urllist'):\n",
    "            pr = 0.15\n",
    "            \n",
    "            #循环遍历指向当前网页的其他所有page\n",
    "            for (linker,) in self.con.execute(\n",
    "            \"select distinct formid from link where toid=%d\" % urlid):\n",
    "                \n",
    "                #得到链接源对应网页的pagerank值\n",
    "                linkingpr = self.con.execute(\n",
    "                \"select score from pagerank where urlid=%d\" %linker).fetchone()[0]\n",
    "                \n",
    "                #求该链接源的指向链接总数\n",
    "                linkingcount = self.con.execute(\n",
    "                \"select count(*) from link where fromid= %d\" %linker).fetchone()[0]\n",
    "                pr += 0.85*(linkingpr/linkingcount)\n",
    "                \n",
    "            #记录这次循环的pr值\n",
    "            self.con.execute(\n",
    "            \"update pagerank set score=%f where urlid=%d\" %(pr,urlid))\n",
    "        self.dbcommit()\n",
    "                "
   ]
  },
  {
   "cell_type": "code",
   "execution_count": null,
   "metadata": {
    "collapsed": true
   },
   "outputs": [],
   "source": [
    "defff= crawler('searchindex.db')\n",
    "defff.calculatepagerank()"
   ]
  },
  {
   "cell_type": "code",
   "execution_count": 108,
   "metadata": {},
   "outputs": [
    {
     "data": {
      "text/plain": [
       "[(438, 2.528516),\n",
       " (2, 1.161464),\n",
       " (543, 1.064252),\n",
       " (104, 0.542686),\n",
       " (117, 0.496406)]"
      ]
     },
     "execution_count": 108,
     "metadata": {},
     "output_type": "execute_result"
    }
   ],
   "source": [
    "cur = defff.con.execute(\"select * from pagerank order by score desc limit 5\").fetchall()\n",
    "cur"
   ]
  },
  {
   "cell_type": "code",
   "execution_count": 109,
   "metadata": {},
   "outputs": [
    {
     "data": {
      "text/plain": [
       "'http://kiwitobes.com/wiki/Main_Page.html'"
      ]
     },
     "execution_count": 109,
     "metadata": {},
     "output_type": "execute_result"
    }
   ],
   "source": [
    "e.geturlname(438)"
   ]
  },
  {
   "cell_type": "markdown",
   "metadata": {},
   "source": [
    "这个网页最高一点都不奇怪，因为其他的每一个网页都指向这个网页。  \n",
    "接下来将评价值归一化。"
   ]
  },
  {
   "cell_type": "code",
   "execution_count": 110,
   "metadata": {
    "collapsed": true
   },
   "outputs": [],
   "source": [
    "def pagerankscore(self,rows):\n",
    "    pageranks = dict([(row[0],self.con.execute('select score from pagerank where \\\n",
    "    urlid=%d' %row[0]).fetchone()[0]) for row in rows])\n",
    "    maxrank = max(pageranks.values())\n",
    "    normalizedscores = dict([(u,float(L)/maxrank) for (u,L) in pageranks.items()])\n",
    "    return normalizedscores"
   ]
  },
  {
   "cell_type": "code",
   "execution_count": 114,
   "metadata": {},
   "outputs": [
    {
     "name": "stdout",
     "output_type": "stream",
     "text": [
      "2.318146\thttp://kiwitobes.com/wiki/Functional_programming.html\n",
      "1.074506\thttp://kiwitobes.com/wiki/Programming_language.html\n",
      "0.517633\thttp://kiwitobes.com/wiki/Categorical_list_of_programming_languages.html\n",
      "0.439568\thttp://kiwitobes.com/wiki/Programming_paradigm.html\n",
      "0.426817\thttp://kiwitobes.com/wiki/Lisp_programming_language.html\n",
      "0.400361\thttp://kiwitobes.com/wiki/Object-oriented_programming.html\n",
      "0.400066\thttp://kiwitobes.com/wiki/Haskell_programming_language.html\n",
      "0.368118\thttp://kiwitobes.com/wiki/Multi-paradigm_programming_language.html\n",
      "0.358329\thttp://kiwitobes.com/wiki/Scheme_programming_language.html\n",
      "0.336089\thttp://kiwitobes.com/wiki/Procedural_programming.html\n"
     ]
    }
   ],
   "source": [
    "e =searcher('searchindex.db')\n",
    "e.query('functional programming')"
   ]
  },
  {
   "cell_type": "markdown",
   "metadata": {},
   "source": [
    "利用链接文本\n",
    "\n",
    "另一种对搜索结果进行排名的方法，是根据指向某一网页的链接文本来决定网页的相关程度。大多数时候，相比于被链接的网页自身所提供的信息而言，我们从指向该网页的链接中得到信息会更有价值。因为针对其所指的链接，网页上都会提供一些解释其内容的简短描述，如下图 \n",
    "代码如下："
   ]
  },
  {
   "cell_type": "code",
   "execution_count": 115,
   "metadata": {
    "collapsed": true
   },
   "outputs": [],
   "source": [
    "def inboundlinkscore(self,rows):\n",
    "    uniqueurls = set([row[0] for row in rows])\n",
    "    inboundcount = dict([(u,self.con.execute('select count(*) from link \\\n",
    "    where toid = %d' %u).fetchone()[0]) for u in uniqueurls])\n",
    "    return self.normalizescores(inboundcount)"
   ]
  },
  {
   "cell_type": "code",
   "execution_count": 117,
   "metadata": {},
   "outputs": [
    {
     "name": "stdout",
     "output_type": "stream",
     "text": [
      "2.694336\thttp://kiwitobes.com/wiki/Functional_programming.html\n",
      "2.074506\thttp://kiwitobes.com/wiki/Programming_language.html\n",
      "0.919408\thttp://kiwitobes.com/wiki/Object-oriented_programming.html\n",
      "0.777664\thttp://kiwitobes.com/wiki/Programming_paradigm.html\n",
      "0.747065\thttp://kiwitobes.com/wiki/Unix.html\n",
      "0.722055\thttp://kiwitobes.com/wiki/Lisp_programming_language.html\n",
      "0.627972\thttp://kiwitobes.com/wiki/Python_programming_language.html\n",
      "0.585780\thttp://kiwitobes.com/wiki/Haskell_programming_language.html\n",
      "0.582841\thttp://kiwitobes.com/wiki/Perl.html\n",
      "0.575952\thttp://kiwitobes.com/wiki/Assembly_language.html\n"
     ]
    }
   ],
   "source": [
    "e =searcher('searchindex.db')\n",
    "e.query('functional programming')"
   ]
  },
  {
   "cell_type": "markdown",
   "metadata": {},
   "source": [
    " 现在我们计算出了网站的各种评价度，只要对它们加权求和就能得到不同的效果，其中一些应该就是我们想要的结果。\n",
    "从点击行为中学习\n",
    "\n",
    "在线应用的一个最大优势就在于，它们会持续受到以用户行为为表现形式的反馈信息。对于搜索引擎而言，每一位用户可以通过只点击某条结果，而不选择点击其它内容，向引擎及时提供有关他对搜索结果喜好程度的信息。 \n",
    "为了实现这一目的，我们将构建一个人工神经网络，向其提供：查询条件中的单词，返回给用户的搜索结果，以及用户的点击决策，然后再对其加以训练。一旦网络经过了许多不同的点击训练，我们就可以利用它来改进搜索结果的排序，以更好的反映用户在过去一段时间内的实际点击情况。 \n",
    "书中对于神经网络的科普以及数据库设计等基础，就不讲了，重点看这个神经网络是怎么设计，并能在线训练的。 \n",
    "这个神经网络结构如下 "
   ]
  },
  {
   "attachments": {
    "%E5%9B%BE%E7%89%87.png": {
     "image/png": "[encoded data removed]"
    }
   },
   "cell_type": "markdown",
   "metadata": {},
   "source": [
    "![%E5%9B%BE%E7%89%87.png](attachment:%E5%9B%BE%E7%89%87.png)"
   ]
  },
  {
   "cell_type": "markdown",
   "metadata": {},
   "source": [
    "                                                   神经网络对”World Bank”所做出的反应        "
   ]
  },
  {
   "cell_type": "markdown",
   "metadata": {},
   "source": [
    " 上图，给出了一个针对“world bank”的查询。途中的实线代表强链接，粗体文字表示节点已经变得非常活跃。当然，最终的结果还要取决于被不断迭代修正的链接强度（也就是链接权重）。为此，只有有人执行搜索，并从结果中选择链接，我们就对该网络进行训练。在上图的网络中，许多人对world bank字符串进行搜索，并点击了world bank的链接，加强了单词与URL的关联。   \n",
    "    \n",
    "神经网络设计   \n",
    "\n",
    "结构：    \n",
    "\n",
    "\n",
    "简单三成结构，input，hidden，output。而且本例中不是先预先创建一个隐藏层有几千个节点，全部链接均已就绪的巨大网络，我们只在需要时候创建新的隐藏节点会更加搞笑，更加简单。每传入一组以前从未见过的单词组合，该网络的构建函数就会在隐藏层中建立一个新的节点。随后函数会为单词与隐藏节点之间，以及查询节点与查询所返回的URL结果之间，建立其具有默认权重的链接。随着查询的增多，这个网络也会很大，输入层隐藏层以及输出层之间的链接将会变得非常复杂。"
   ]
  },
  {
   "cell_type": "code",
   "execution_count": 1,
   "metadata": {
    "collapsed": true
   },
   "outputs": [],
   "source": [
    "from math import tanh\n",
    "import sqlite3\n",
    "class searchnet(object):\n",
    "    def __init__(self,dbname):\n",
    "        self.con = sqlite3.connect(dbname)\n",
    "        \n",
    "    def __del__(self):\n",
    "        self.con.close()\n",
    "        \n",
    "    def droptables(self):\n",
    "        self.con.execute('drop table if exists hiddennode')\n",
    "        self.con.execute('drop table if exists wordhidden')\n",
    "        self.con.execute('drop table if exists hiddenurl')\n",
    "        \n",
    "    def maketables(self):\n",
    "        self.con.execute(\"create table hiddennode(create_key)\")\n",
    "        self.con.execute(\"create table wordhidden(fromid,toid,strength)\")\n",
    "        self.con.execute(\"create table hiddenurl(fromid,toid,strength)\")\n",
    "        self.con.commit()\n",
    "    \n",
    "    def getstrength(self,fromid,toid,layer):\n",
    "        if layer == 0: table=\"wordhidden\"\n",
    "        else:table = \"hiddenurl\"\n",
    "        res = self.con.execute(\"select strength from %s where fromid=%d and toid=%d\" %(table,fromid,toid)).fetchone()\n",
    "        #单词层的默认值是-0.2，链接层的默认值是0\n",
    "        if res==None:\n",
    "            if layer==0: return -0.2\n",
    "            if layer==1: return 0\n",
    "        return res[0]\n",
    "    \n",
    "    def setstrength(self,fromid,toid,layer,strength):\n",
    "        if layer==0: table = \"wordhidden\"\n",
    "        else: table = \"hiddenurl\"\n",
    "        res = self.con.execute(\"select rowid from %s where fromid=%d and toid = %d\" %(table,fromid,toid)).fetchone()\n",
    "        if res==None:\n",
    "            self.con.execute(\"insert into %s(fromid,toid,strength) values(%d,%d,%f)\" %(table,fromid,toid,strength))\n",
    "        else:\n",
    "            rowid = res[0]\n",
    "            self.con.execute(\"update %s set strength=%f where rowid=%d\" %(table,strength,rowid))\n",
    "\n",
    "    \n",
    "        \n",
    "    def generatehiddennode(self,wordids,urls):\n",
    "        if len(wordids) > 3: return None\n",
    "        #检查我们是否已经为这组单词建好了一个节点\n",
    "        createkey = '_'.join(sorted([str(wi) for wi in wordids]))\n",
    "        res = self.con.execute(\n",
    "        \"select rowid from hiddennode where create_key='%s'\" %createkey).fetchone()\n",
    "\n",
    "        #如果没有，则建立之\n",
    "        if res==None:\n",
    "            cur = self.con.execute(\n",
    "            \"insert into hiddennode (create_key) values('%s')\" % createkey)\n",
    "            hiddenid = cur.lastrowid\n",
    "            #设置默认权重\n",
    "            for wordid in wordids:\n",
    "                self.setstrength(wordid,hiddenid,0,1.0/len(wordids))\n",
    "            for urlid in urls:\n",
    "                self.setstrength(hiddenid,urlid,1,0.1)\n",
    "            self.con.commit()\n",
    "            \n",
    "    def getallhiddenids(self,wordids,urlids):\n",
    "        L1 = {}\n",
    "        for wordid in wordids:\n",
    "            cur = self.con.execute(\n",
    "            \"select toid from wordhidden where fromid=%d\" %wordid)\n",
    "            for row in cur:L1[row[0]] = 1\n",
    "        for urlid in urlids:\n",
    "            cur = self.con.execute(\n",
    "            \"select fromid from hiddenurl where toid=%d\" %urlid)\n",
    "            for row in cur:L1[row[0]] = 1\n",
    "        return L1.keys()\n",
    "    \n",
    "    def setupnetwork(self,wordids,urlids):\n",
    "        #值列表\n",
    "        self.wordids = wordids\n",
    "        self.hiddenids = self.getallhiddenids(wordids,urlids)\n",
    "        self.urlids = urlids\n",
    "\n",
    "        #节点输出\n",
    "        self.ai = [1.0]*len(self.wordids)\n",
    "        self.ah = [1.0]*len(self.hiddenids)\n",
    "        self.ao = [1.0]*len(self.urlids)\n",
    "\n",
    "        #建立权重矩阵\n",
    "        self.wi = [[self.getstrength(wordid,hiddenid,0) \\\n",
    "                   for hiddenid in self.hiddenids] \\\n",
    "                  for wordid in self.wordids]\n",
    "\n",
    "        self.wo = [[self.getstrength(hiddenid,urlid,1) \\\n",
    "                   for urlid in self.urlids] \\\n",
    "                  for hiddenid in self.hiddenids]\n",
    "        \n",
    "    def feedforward(self):\n",
    "        #查询单词是仅有的输入\n",
    "        for i in range(len(self.wordids)):\n",
    "            self.ai[i] = 1.0\n",
    "\n",
    "        #隐藏层节点的活跃程度\n",
    "        for j in range(len(self.hiddenids)):\n",
    "            sum = 0.0\n",
    "            for i in range(len(self.wordids)):\n",
    "                sum = sum + self.ai[i]*self.wi[i][j]\n",
    "            self.ah[j] = tanh(sum)\n",
    "\n",
    "        #输出层节点的活跃程度\n",
    "        for k in range(len(self.urlids)):\n",
    "            sum = 0.0\n",
    "            for j in range(len(self.hiddenids)):\n",
    "                sum = sum + self.ah[j]*self.wo[j][k]\n",
    "            self.ao[k] = tanh(sum)\n",
    "        return self.ao[:]\n",
    "\n",
    "\n",
    "            \n",
    "    def getresult(self,wordids,urlids):\n",
    "        self.setupnetwork(wordids,urlids)\n",
    "        return self.feedforward()\n",
    "    \n",
    "    #计算tanh函数斜率变化，输出为零时，只改变一点点，输入便会获得很大变化，输出为1则相反\n",
    "    \n",
    "\n",
    "    def backPropagate(self,targets,N=0.5):\n",
    "        #计算输出层误差\n",
    "        output_deltas = [0.0] * len(self.urlids)\n",
    "        for k in range(len(self.urlids)):\n",
    "            error = targets[k] - self.ao[k]\n",
    "            output_deltas[k] = dtanh(self.ao[k])*error\n",
    "\n",
    "        #计算隐藏层误差\n",
    "        hidden_deltas = [0.0] * len(self.hiddenids)\n",
    "        for j in range(len(self.hiddenids)):\n",
    "            error = 0.0\n",
    "            for k in range(len(self.urlids)):\n",
    "                error = error + output_deltas[k]*self.wo[j][k]\n",
    "            hidden_deltas[j] = dtanh(self.ah[j]) * error\n",
    "\n",
    "        #更新输出权重\n",
    "        for j in range(len(self.hiddenids)):\n",
    "            for k in range(len(self.urlids)):\n",
    "                change = output_deltas[k]*self.ah[j]\n",
    "                self.wo[j][k] = self.wo[j][k] + N*change\n",
    "\n",
    "        #更新输入weights\n",
    "        for i in range(len(self.wordids)):\n",
    "            for k in range(len(self.urlids)):\n",
    "                change = hidden_deltas[j] * self.ai[i]\n",
    "                self.wi[i][j] = self.wi[i][j] + N*change\n",
    "                \n",
    "    def trainquery(self,wordids,urlids,selectedurl):\n",
    "        #如有必要，生成一个隐藏节点\n",
    "        self.generatehiddennode(wordids,urlids)\n",
    "        self.setupnetwork(wordids,urlids)\n",
    "        self.feedforward()\n",
    "        targets = [0.0]*len(urlids)\n",
    "        targets[urlids.index(selectedurl)] = 1.0\n",
    "        self.backPropagate(targets)\n",
    "        self.updatedatabase()\n",
    "        \n",
    "    def updatedatabase(self):\n",
    "        self.wordids = list(self.wordids)\n",
    "        self.hiddenids= list(self.hiddenids)\n",
    "        self.wi = list(self.wi)\n",
    "        self.urlids= list(self.urlids)\n",
    "        self.wo = list(self.wo)\n",
    "        \n",
    "        #将值存入数据库中\n",
    "        for i in range(len(self.wordids)):\n",
    "            for j in range(len(self.hiddenids)):\n",
    "                self.setstrength(self.wordids[i],self.hiddenids[j],0,self.wi[i][j])\n",
    "        for j in range (len(self.hiddenids)):\n",
    "            for k in range(len(self.urlids)):\n",
    "                self.setstrength(self.hiddenids[j],self.urlids[k],1,self.wo[j][k])\n",
    "        self.con.commit()      "
   ]
  },
  {
   "cell_type": "markdown",
   "metadata": {},
   "source": [
    "为了访问数据库，我们需要创建两个方法。第一个名为getstrength,用来判断当前连接的强度。"
   ]
  },
  {
   "cell_type": "code",
   "execution_count": 2,
   "metadata": {
    "collapsed": true
   },
   "outputs": [],
   "source": [
    "def getstrength(self,fromid,toid,layer):\n",
    "    if layer == 0: table=\"wordhidden\"\n",
    "    else:table = \"hiddenurl\"\n",
    "    res = self.con.execute(\"select strength from %s where fromid=%d and toid=%d\" %(table,fromid,toid)).fetchone()\n",
    "    #单词层的默认值是-0.2，链接层的默认值是0\n",
    "    if res==None:\n",
    "        if layer==0: return -0.2\n",
    "        if layer==1: return 0\n",
    "    return res[0]"
   ]
  },
  {
   "cell_type": "markdown",
   "metadata": {},
   "source": [
    "此外，我们还需要一个setstrength方法，用以判断连接是否已存在和更新强度值。"
   ]
  },
  {
   "cell_type": "code",
   "execution_count": 3,
   "metadata": {
    "collapsed": true
   },
   "outputs": [],
   "source": [
    "def setstrength(self,fromid,toid,layer,strength):\n",
    "    if layer==0: table = \"wordhidden\"\n",
    "    else: table = \"hiddenurl\"\n",
    "    res = self.con.execute(\"select rowid from %s where fromid=%d and toid = %d\" %(table,fromid,toid)).fetchone()\n",
    "    if res==None:\n",
    "        self.con.execute(\"insert into %s(fromid,toid,strength) values(%d,%d,%f)\" %(table,fromid,toid,strength))\n",
    "    else:\n",
    "        rowid = res[0]\n",
    "        self.con.execute(\"update %s set strength=%f where rowid=%d\" %(table,strength,rowid))"
   ]
  },
  {
   "cell_type": "markdown",
   "metadata": {},
   "source": [
    "创建一个函数为单词与隐藏节点之间，以及查询节点与由查询所返回的URL结果之间，建立起具有默认权重的连接"
   ]
  },
  {
   "cell_type": "code",
   "execution_count": 4,
   "metadata": {
    "collapsed": true
   },
   "outputs": [],
   "source": [
    "def generatehiddennode(self,wordids,urls):\n",
    "    if len(wordids) > 3: return None\n",
    "    #检查我们是否已经为这组单词建好了一个节点\n",
    "    createkey = '_'.join(sorted([str(wi) for wi in wordids]))\n",
    "    res = self.con.execute(\n",
    "    \"select rowid from hiddennode where create_key='%s'\" %createkey).fetchone()\n",
    "    \n",
    "    #如果没有，则建立之\n",
    "    if res==None:\n",
    "        cur = self.con.execute(\n",
    "        \"insert into hiddennode (create_key) values('%s')\" % createkey)\n",
    "        hiddenid = cur.lastrowid\n",
    "        #设置默认权重\n",
    "        for wordid in wordids:\n",
    "            self.setstrength(wordid,hiddenid,0,1.0/len(wordids))\n",
    "        for urlid in urls:\n",
    "            self.setstrength(hiddenid,urlid,1,0.1)\n",
    "        self.con.commit()"
   ]
  },
  {
   "cell_type": "markdown",
   "metadata": {},
   "source": [
    "调用函数新建一个数据库，生成一个带有样例单词和URL ID的隐藏节点"
   ]
  },
  {
   "cell_type": "code",
   "execution_count": 2,
   "metadata": {
    "collapsed": true
   },
   "outputs": [],
   "source": [
    "mynet = searchnet(\"nn.db\")"
   ]
  },
  {
   "cell_type": "code",
   "execution_count": 3,
   "metadata": {
    "collapsed": true
   },
   "outputs": [],
   "source": [
    "mynet.maketables()"
   ]
  },
  {
   "cell_type": "code",
   "execution_count": 4,
   "metadata": {
    "collapsed": true
   },
   "outputs": [],
   "source": [
    "wWorld,wRiver,wBank = 101,102,103\n",
    "uWorldBank,uRiver,uEarth = 201,202,203"
   ]
  },
  {
   "cell_type": "code",
   "execution_count": 5,
   "metadata": {},
   "outputs": [
    {
     "name": "stdout",
     "output_type": "stream",
     "text": [
      "(101, 1, 0.5)\n",
      "(103, 1, 0.5)\n"
     ]
    }
   ],
   "source": [
    "mynet.generatehiddennode([wWorld,wBank],[uWorldBank,uRiver,uEarth])\n",
    "for c in mynet.con.execute(\"select * from wordhidden\"): print (c)"
   ]
  },
  {
   "cell_type": "code",
   "execution_count": 6,
   "metadata": {},
   "outputs": [
    {
     "name": "stdout",
     "output_type": "stream",
     "text": [
      "(1, 201, 0.1)\n",
      "(1, 202, 0.1)\n",
      "(1, 203, 0.1)\n"
     ]
    }
   ],
   "source": [
    "for c in mynet.con.execute(\"select * from hiddenurl\"): print (c)"
   ]
  },
  {
   "attachments": {
    "%E5%9B%BE%E7%89%87.png": {
     "image/png": "[encoded data removed]"
    }
   },
   "cell_type": "markdown",
   "metadata": {},
   "source": [
    "![%E5%9B%BE%E7%89%87.png](attachment:%E5%9B%BE%E7%89%87.png)"
   ]
  },
  {
   "cell_type": "markdown",
   "metadata": {},
   "source": [
    "激活函数：  \n",
    "\n",
    "我们选择tanh函数（反双曲正切变换函数）作为激活函数。它是一类S型函数（sigmod function），所以该类型的函数都会呈现S形状。神经网络几乎总是利用s型函数来计算神经元的输出。 "
   ]
  },
  {
   "attachments": {
    "%E5%9B%BE%E7%89%87.png": {
     "image/png": "[encoded data removed]"
    }
   },
   "cell_type": "markdown",
   "metadata": {},
   "source": [
    "![%E5%9B%BE%E7%89%87.png](attachment:%E5%9B%BE%E7%89%87.png)"
   ]
  },
  {
   "cell_type": "code",
   "execution_count": 7,
   "metadata": {
    "collapsed": true
   },
   "outputs": [],
   "source": [
    "def getallhiddenids(self,wordids,urlids):\n",
    "    L1 = {}\n",
    "    for wordid in wordids:\n",
    "        cur = self.con.execute(\n",
    "        \"select toid from wordhidden where fromid=%d\" %wordid)\n",
    "        for row in cur:L1[row[0]] = 1\n",
    "    for urlid in urlids:\n",
    "        cur = self.con.execute(\n",
    "        \"select fromid from hiddenurl where toid=%d\" %urlid)\n",
    "        for row in cur:L1[row[0]] = 1\n",
    "    return L1.keys()"
   ]
  },
  {
   "cell_type": "markdown",
   "metadata": {},
   "source": [
    "我们还需要一个方法，利用数据库中保存的信息，建立起包括所有当前权重值在内的相应网络。该函数为searcher类定义了多个实例变量。包括：单词列表、查询节点、及URL，\n",
    "每个节点的输出级别，以及每个节点间连接的权重值。权重值来自先前数据库"
   ]
  },
  {
   "cell_type": "code",
   "execution_count": 8,
   "metadata": {
    "collapsed": true
   },
   "outputs": [],
   "source": [
    "def setupnetwork(self,wordids,urlids):\n",
    "    #值列表\n",
    "    self.wordids = wordids\n",
    "    self.hiddenids = self.getallhiddenids(wordids,urlids)\n",
    "    self.urlids = urlids\n",
    "    \n",
    "    #节点输出\n",
    "    self.ai = [1.0]*len(self.wordids)\n",
    "    self.ah = [1.0]*len(self.hiddenids)\n",
    "    self.ao = [1.0]*len(self.urlids)\n",
    "    \n",
    "    #建立权重矩阵\n",
    "    self.wi = [[self.getstrength(wordid,hiddenid,0) \\\n",
    "               for hiddenid in self.hiddenids] \\\n",
    "              for wordid in self.wordids]\n",
    "    \n",
    "    self.wo = [[self.getstrength(hiddenid,urlid,1) \\\n",
    "               for urlid in self.urlids] \\\n",
    "              for hiddenid in self.hiddenids]"
   ]
  },
  {
   "cell_type": "markdown",
   "metadata": {},
   "source": [
    "最后来构造前馈算法。  \n",
    "前向传播其实就是根据这个网络拓扑图，直接计算出结果来而已。\n",
    "\n",
    "x'1=h′∗w′1 , X′2=h′∗w′2 , X′3=h′∗w′3"
   ]
  },
  {
   "cell_type": "code",
   "execution_count": 43,
   "metadata": {
    "collapsed": true
   },
   "outputs": [],
   "source": [
    "def feedforward(self):\n",
    "    #查询单词是仅有的输入\n",
    "    for i in range(len(self.wordids)):\n",
    "        self.ai[i] = 1.0\n",
    "        \n",
    "    #隐藏层节点的活跃程度\n",
    "    for j in range(len(self.hiddenids)):\n",
    "        sum = 0.0\n",
    "        for i in range(len(self.wordids)):\n",
    "            sum = sum + self.ai[i]*self.wi[i][j]\n",
    "        self.ah[j] = tanh(sum)\n",
    "        \n",
    "    #输出层节点的活跃程度\n",
    "    for k in range(len(self.urlids)):\n",
    "        sum = 0.0\n",
    "        for j in range(len(self.hiddenids)):\n",
    "            sum = sum + self.ah[j]*self.wo[j][k]\n",
    "        self.ao[k] = tanh(sum)\n",
    "    return self.ao[:]"
   ]
  },
  {
   "cell_type": "markdown",
   "metadata": {},
   "source": [
    "接下来，我们可以编写一个简短的函数，建立神经网络 。"
   ]
  },
  {
   "cell_type": "code",
   "execution_count": 11,
   "metadata": {
    "collapsed": true
   },
   "outputs": [],
   "source": [
    "def getresult(self,wordids,urlids):\n",
    "    self.setupnetwork(wordids,urlids)\n",
    "    return self.feedforward()"
   ]
  },
  {
   "cell_type": "code",
   "execution_count": 17,
   "metadata": {},
   "outputs": [
    {
     "data": {
      "text/plain": [
       "[0.046178848412416734, 0.046178848412416734, 0.046178848412416734]"
      ]
     },
     "execution_count": 17,
     "metadata": {},
     "output_type": "execute_result"
    }
   ],
   "source": [
    "mynet = searchnet(\"nn.db\")\n",
    "mynet.getresult([wWorld,wBank],[uWorldBank,uRiver,uEarth])"
   ]
  },
  {
   "cell_type": "markdown",
   "metadata": {},
   "source": [
    "因为未经过训练，所以所有的输出结果都一样"
   ]
  },
  {
   "cell_type": "markdown",
   "metadata": {},
   "source": [
    "## 反向传播进行训练"
   ]
  },
  {
   "cell_type": "markdown",
   "metadata": {},
   "source": [
    " 这里其实就是利用梯度下降发不断更新图6-2中的权值w的过程：\n",
    "\n",
    "\n",
    "求能使Y最小的参数w的值。本来可以用最小二乘法，也就是  \n",
    "\n",
    "∂Y/∂w=0=>w\n",
    "\n",
    "但是，当网络很大，有上千个参数，直接求解析解有时候不现实，所以我们用梯度下降法来求数值解。 \n",
    "第一步：输入搜索内容(x1,x2)，相关urls以及最后用户点击的url(target (y∗1,y∗2,y∗3))。 \n",
    "第二步：根据(x1,x2),w计算出输出(y1,y2,y3) \n",
    "第三步:求(y1,y2,y3)和target(y∗1,y∗2,y∗3))越不同，cost function：Y的值越大，为了缩小这个Y值，我们求δ=∂Y∂w, 这个δ就是梯度，当Y对某个w的梯度大于零，表示w增加的话，损失函数Y的值也会增加。所以当梯度大于零的时候，w的值应该减小，来使损失函数的值也变小。那么到底应该减少多少呢？这就是一个经验值了，这里减少0.5∗δ。 \n",
    "第四步：w=w−0.5∗δ \n",
    "第五步:如果没有收敛就返回第一步，否则结束。 \n",
    "*hidden-output层的权重更新：* \n",
    "\n",
    "tips:[tanh(x)]′=1−[tanh(x)]2\n",
    "\n",
    "*input-hidden层的权重更新：* \n",
    "\n",
    "这两层权重更新对应的代码如下："
   ]
  },
  {
   "cell_type": "code",
   "execution_count": 19,
   "metadata": {
    "collapsed": true
   },
   "outputs": [],
   "source": [
    "#计算tanh函数斜率变化，输出为零时，只改变一点点，输入便会获得很大变化，输出为1则相反\n",
    "def dtanh(y):\n",
    "    return 1.0-y*y\n",
    "\n",
    "def backPropagate(self,targets,N=0.5):\n",
    "    #计算输出层误差\n",
    "    output_deltas = [0.0] * len(self.urlids)\n",
    "    for k in range(len(self.urlids)):\n",
    "        error = targets[k] - self.ao[k]\n",
    "        output_deltas[k] = dtanh(self.ao[k])*error\n",
    "        \n",
    "    #计算隐藏层误差\n",
    "    hidden_deltas = [0.0] * len(self.hiddenids)\n",
    "    for j in range(len(self.hiddenids)):\n",
    "        error = 0.0\n",
    "        for k in range(len(self.urlids)):\n",
    "            error = error + output_deltas[k]*self.wo[j][k]\n",
    "        hidden_deltas[j] = dtanh(self.ah[j]) * error\n",
    "    \n",
    "    #更新输出权重\n",
    "    for j in range(len(self.hiddenids)):\n",
    "        for k in range(len(self.urlids)):\n",
    "            change = output_deltas[k]*self.ah[j]\n",
    "            self.wo[j][k] = self.wo[j][k] + N*change\n",
    "            \n",
    "    #更新输入weights\n",
    "    for i in range(len(self.wordids)):\n",
    "        for k in range(len(self.urlids)):\n",
    "            change = hiddden_deltas[j] * self.ai[i]\n",
    "            self.wi[i][j] = self.wi[i][j] + N*change"
   ]
  },
  {
   "cell_type": "markdown",
   "metadata": {},
   "source": [
    "接下来，编写一个简单函数，建立神经网络，运行前馈和反向传播算法"
   ]
  },
  {
   "cell_type": "code",
   "execution_count": 21,
   "metadata": {
    "collapsed": true
   },
   "outputs": [],
   "source": [
    "def trainquery(self,wordids,urlids,selectedurl):\n",
    "    #如有必要，生成一个隐藏节点\n",
    "    self.generatehiddennode(wordids,urlids)\n",
    "    self.setupnetwork(wordids,urlids)\n",
    "    self.feedforward()\n",
    "    targets = [0.0]*len(urlids)\n",
    "    targets[urlids.index(selectedurl)] = 1.0\n",
    "    self.backPropagate(targets)\n",
    "    self.updatedatabase()"
   ]
  },
  {
   "cell_type": "markdown",
   "metadata": {},
   "source": [
    "·为了保存结果，还需要一个方法更新数据库权重值，权重信息位于实例wi和wo中"
   ]
  },
  {
   "cell_type": "code",
   "execution_count": 23,
   "metadata": {
    "collapsed": true
   },
   "outputs": [],
   "source": [
    "def updatedatabase(self):\n",
    "    #将值存入数据库中\n",
    "    for i in range(len(self.wordids)):\n",
    "        for j in range(len(self.hiddenids)):\n",
    "            self.setstrength(self.wordids[i],self.hiddenids[j],0,self.wi[i][j])\n",
    "    for j in range (len(self.hiddenids)):\n",
    "        for k in range(len(self.urlids)):\n",
    "            self.setstrength(self.hiddenids[j],self.urlids[k],1,self.wo[j][k])\n",
    "    self.con.commit()"
   ]
  },
  {
   "cell_type": "code",
   "execution_count": 37,
   "metadata": {},
   "outputs": [
    {
     "ename": "TypeError",
     "evalue": "'dict_keys' object does not support indexing",
     "output_type": "error",
     "traceback": [
      "\u001b[1;31m---------------------------------------------------------------------------\u001b[0m",
      "\u001b[1;31mTypeError\u001b[0m                                 Traceback (most recent call last)",
      "\u001b[1;32m<ipython-input-37-bd910bec48bd>\u001b[0m in \u001b[0;36m<module>\u001b[1;34m()\u001b[0m\n\u001b[0;32m      1\u001b[0m \u001b[0mmynet\u001b[0m \u001b[1;33m=\u001b[0m \u001b[0msearchnet\u001b[0m\u001b[1;33m(\u001b[0m\u001b[1;34m\"nn.db\"\u001b[0m\u001b[1;33m)\u001b[0m\u001b[1;33m\u001b[0m\u001b[0m\n\u001b[1;32m----> 2\u001b[1;33m \u001b[0mmynet\u001b[0m\u001b[1;33m.\u001b[0m\u001b[0mtrainquery\u001b[0m\u001b[1;33m(\u001b[0m\u001b[1;33m[\u001b[0m\u001b[0mwWorld\u001b[0m\u001b[1;33m,\u001b[0m\u001b[0mwBank\u001b[0m\u001b[1;33m]\u001b[0m\u001b[1;33m,\u001b[0m\u001b[1;33m[\u001b[0m\u001b[0muWorldBank\u001b[0m\u001b[1;33m,\u001b[0m\u001b[0muRiver\u001b[0m\u001b[1;33m,\u001b[0m\u001b[0muEarth\u001b[0m\u001b[1;33m]\u001b[0m\u001b[1;33m,\u001b[0m\u001b[0muWorldBank\u001b[0m\u001b[1;33m)\u001b[0m\u001b[1;33m\u001b[0m\u001b[0m\n\u001b[0m",
      "\u001b[1;32m<ipython-input-36-7151cc672fab>\u001b[0m in \u001b[0;36mtrainquery\u001b[1;34m(self, wordids, urlids, selectedurl)\u001b[0m\n\u001b[0;32m    153\u001b[0m         \u001b[0mtargets\u001b[0m\u001b[1;33m[\u001b[0m\u001b[0murlids\u001b[0m\u001b[1;33m.\u001b[0m\u001b[0mindex\u001b[0m\u001b[1;33m(\u001b[0m\u001b[0mselectedurl\u001b[0m\u001b[1;33m)\u001b[0m\u001b[1;33m]\u001b[0m \u001b[1;33m=\u001b[0m \u001b[1;36m1.0\u001b[0m\u001b[1;33m\u001b[0m\u001b[0m\n\u001b[0;32m    154\u001b[0m         \u001b[0mself\u001b[0m\u001b[1;33m.\u001b[0m\u001b[0mbackPropagate\u001b[0m\u001b[1;33m(\u001b[0m\u001b[0mtargets\u001b[0m\u001b[1;33m)\u001b[0m\u001b[1;33m\u001b[0m\u001b[0m\n\u001b[1;32m--> 155\u001b[1;33m         \u001b[0mself\u001b[0m\u001b[1;33m.\u001b[0m\u001b[0mupdatedatabase\u001b[0m\u001b[1;33m(\u001b[0m\u001b[1;33m)\u001b[0m\u001b[1;33m\u001b[0m\u001b[0m\n\u001b[0m\u001b[0;32m    156\u001b[0m \u001b[1;33m\u001b[0m\u001b[0m\n\u001b[0;32m    157\u001b[0m     \u001b[1;32mdef\u001b[0m \u001b[0mupdatedatabase\u001b[0m\u001b[1;33m(\u001b[0m\u001b[0mself\u001b[0m\u001b[1;33m)\u001b[0m\u001b[1;33m:\u001b[0m\u001b[1;33m\u001b[0m\u001b[0m\n",
      "\u001b[1;32m<ipython-input-36-7151cc672fab>\u001b[0m in \u001b[0;36mupdatedatabase\u001b[1;34m(self)\u001b[0m\n\u001b[0;32m    159\u001b[0m         \u001b[1;32mfor\u001b[0m \u001b[0mi\u001b[0m \u001b[1;32min\u001b[0m \u001b[0mrange\u001b[0m\u001b[1;33m(\u001b[0m\u001b[0mlen\u001b[0m\u001b[1;33m(\u001b[0m\u001b[0mself\u001b[0m\u001b[1;33m.\u001b[0m\u001b[0mwordids\u001b[0m\u001b[1;33m)\u001b[0m\u001b[1;33m)\u001b[0m\u001b[1;33m:\u001b[0m\u001b[1;33m\u001b[0m\u001b[0m\n\u001b[0;32m    160\u001b[0m             \u001b[1;32mfor\u001b[0m \u001b[0mj\u001b[0m \u001b[1;32min\u001b[0m \u001b[0mrange\u001b[0m\u001b[1;33m(\u001b[0m\u001b[0mlen\u001b[0m\u001b[1;33m(\u001b[0m\u001b[0mself\u001b[0m\u001b[1;33m.\u001b[0m\u001b[0mhiddenids\u001b[0m\u001b[1;33m)\u001b[0m\u001b[1;33m)\u001b[0m\u001b[1;33m:\u001b[0m\u001b[1;33m\u001b[0m\u001b[0m\n\u001b[1;32m--> 161\u001b[1;33m                 \u001b[0mself\u001b[0m\u001b[1;33m.\u001b[0m\u001b[0msetstrength\u001b[0m\u001b[1;33m(\u001b[0m\u001b[0mself\u001b[0m\u001b[1;33m.\u001b[0m\u001b[0mwordids\u001b[0m\u001b[1;33m[\u001b[0m\u001b[0mi\u001b[0m\u001b[1;33m]\u001b[0m\u001b[1;33m,\u001b[0m\u001b[0mself\u001b[0m\u001b[1;33m.\u001b[0m\u001b[0mhiddenids\u001b[0m\u001b[1;33m[\u001b[0m\u001b[0mj\u001b[0m\u001b[1;33m]\u001b[0m\u001b[1;33m,\u001b[0m\u001b[1;36m0\u001b[0m\u001b[1;33m,\u001b[0m\u001b[0mself\u001b[0m\u001b[1;33m.\u001b[0m\u001b[0mwi\u001b[0m\u001b[1;33m[\u001b[0m\u001b[0mi\u001b[0m\u001b[1;33m]\u001b[0m\u001b[1;33m[\u001b[0m\u001b[0mj\u001b[0m\u001b[1;33m]\u001b[0m\u001b[1;33m)\u001b[0m\u001b[1;33m\u001b[0m\u001b[0m\n\u001b[0m\u001b[0;32m    162\u001b[0m         \u001b[1;32mfor\u001b[0m \u001b[0mj\u001b[0m \u001b[1;32min\u001b[0m \u001b[0mrange\u001b[0m \u001b[1;33m(\u001b[0m\u001b[0mlen\u001b[0m\u001b[1;33m(\u001b[0m\u001b[0mself\u001b[0m\u001b[1;33m.\u001b[0m\u001b[0mhiddenids\u001b[0m\u001b[1;33m)\u001b[0m\u001b[1;33m)\u001b[0m\u001b[1;33m:\u001b[0m\u001b[1;33m\u001b[0m\u001b[0m\n\u001b[0;32m    163\u001b[0m             \u001b[1;32mfor\u001b[0m \u001b[0mk\u001b[0m \u001b[1;32min\u001b[0m \u001b[0mrange\u001b[0m\u001b[1;33m(\u001b[0m\u001b[0mlen\u001b[0m\u001b[1;33m(\u001b[0m\u001b[0mself\u001b[0m\u001b[1;33m.\u001b[0m\u001b[0murlids\u001b[0m\u001b[1;33m)\u001b[0m\u001b[1;33m)\u001b[0m\u001b[1;33m:\u001b[0m\u001b[1;33m\u001b[0m\u001b[0m\n",
      "\u001b[1;31mTypeError\u001b[0m: 'dict_keys' object does not support indexing"
     ]
    }
   ],
   "source": [
    "mynet = searchnet(\"nn.db\")\n",
    "mynet.trainquery([wWorld,wBank],[uWorldBank,uRiver,uEarth],uWorldBank)"
   ]
  },
  {
   "cell_type": "markdown",
   "metadata": {},
   "source": [
    "9.TypeError: ‘dict_keys’ object does not support indexing\n",
    "\n",
    "这个问题是python版本的问题\n",
    "\n",
    "    \n",
    "\n",
    "#如果使用的是python2\n",
    "firstStr = myTree.keys()[0]\n",
    "#LZ使用的是python3\n",
    "firstSides = list(myTree.keys())\n",
    "firstStr = firstSides[0]\n",
    "\n",
    "    \n",
    "这是看决策树代码出现的问题，python3如果运行\n",
    "\n",
    "   \n",
    "\n",
    "firstStr = myTree.keys()[0]\n",
    "\n",
    "   \n",
    "\n",
    "就会报这个错误，解决办法就是先转换成list，再把需要的索引提取出来。"
   ]
  },
  {
   "cell_type": "code",
   "execution_count": 46,
   "metadata": {
    "collapsed": true
   },
   "outputs": [],
   "source": [
    "mynet = searchnet(\"nn.db\")\n",
    "mynet.trainquery([wWorld,wBank],[uWorldBank,uRiver,uEarth],uWorldBank)"
   ]
  },
  {
   "cell_type": "code",
   "execution_count": 47,
   "metadata": {},
   "outputs": [
    {
     "data": {
      "text/plain": [
       "[0.6427962713230368, 0.07128904780144368, 0.021737361538321107]"
      ]
     },
     "execution_count": 47,
     "metadata": {},
     "output_type": "execute_result"
    }
   ],
   "source": [
    "mynet.getresult([wWorld,wBank],[uWorldBank,uRiver,uEarth])"
   ]
  },
  {
   "cell_type": "markdown",
   "metadata": {},
   "source": [
    "接下来展示神经网络的威力，对以前未曾见过的输入请况进行推理"
   ]
  },
  {
   "cell_type": "code",
   "execution_count": 48,
   "metadata": {
    "collapsed": true
   },
   "outputs": [],
   "source": [
    "allurls=[uWorldBank,uRiver,uEarth]\n",
    "for i in range(30):\n",
    "    mynet.trainquery([wWorld,wBank],allurls,uWorldBank)\n",
    "    mynet.trainquery([wRiver,wBank],allurls,uRiver)\n",
    "    mynet.trainquery([wWorld],allurls,uEarth)"
   ]
  },
  {
   "cell_type": "code",
   "execution_count": 49,
   "metadata": {},
   "outputs": [
    {
     "name": "stdout",
     "output_type": "stream",
     "text": [
      "[0.6684652274011189, 0.13232366534133091, 0.145294501077158]\n",
      "[0.07434717450924458, 0.7703824683869828, -0.07112781662848906]\n",
      "[0.23847121496172818, 0.7307894853667976, 0.07562181551684054]\n"
     ]
    }
   ],
   "source": [
    "print (mynet.getresult([wWorld,wBank],allurls))\n",
    "print (mynet.getresult([wRiver,wBank],allurls))\n",
    "print(mynet.getresult([wBank],allurls))\n"
   ]
  },
  {
   "cell_type": "markdown",
   "metadata": {},
   "source": [
    "模型对world bank url 评价比 riverurl 的高"
   ]
  },
  {
   "cell_type": "markdown",
   "metadata": {},
   "source": [
    "与搜索引擎结合"
   ]
  },
  {
   "cell_type": "markdown",
   "metadata": {},
   "source": [
    "将下列代码加入searchengine中的query方法中"
   ]
  },
  {
   "cell_type": "code",
   "execution_count": 51,
   "metadata": {},
   "outputs": [
    {
     "ename": "SyntaxError",
     "evalue": "'return' outside function (<ipython-input-51-fa0e230bb07f>, line 1)",
     "output_type": "error",
     "traceback": [
      "\u001b[1;36m  File \u001b[1;32m\"<ipython-input-51-fa0e230bb07f>\"\u001b[1;36m, line \u001b[1;32m1\u001b[0m\n\u001b[1;33m    return wordids,[r[1] for r in rankedscores[1:10]]\u001b[0m\n\u001b[1;37m                                                     ^\u001b[0m\n\u001b[1;31mSyntaxError\u001b[0m\u001b[1;31m:\u001b[0m 'return' outside function\n"
     ]
    }
   ],
   "source": [
    "return wordids,[r[1] for r in rankedscores[1:10]]"
   ]
  },
  {
   "cell_type": "markdown",
   "metadata": {},
   "source": [
    "在searchengine中引入神经网络的类\n"
   ]
  },
  {
   "cell_type": "code",
   "execution_count": null,
   "metadata": {
    "collapsed": true
   },
   "outputs": [],
   "source": [
    "mynet = searchnet('nn.db')\n"
   ]
  },
  {
   "cell_type": "code",
   "execution_count": null,
   "metadata": {
    "collapsed": true
   },
   "outputs": [],
   "source": [
    "然后在searcher类中加入下列方法"
   ]
  },
  {
   "cell_type": "code",
   "execution_count": null,
   "metadata": {
    "collapsed": true
   },
   "outputs": [],
   "source": [
    "def nnscore(self,rows,wordids):\n",
    "    #获得一个由唯一的URL ID构成的有序列表、\n",
    "    urlids = [urlid for urlid in set([row[0] for row in rows])]\n",
    "    nnres = mynet.getresult(wordids,urlids)\n",
    "    scores = dict([(urlids[i],nnres[i]) for i in range(len(urlids))])\n",
    "    return self.normalizescores(scores)"
   ]
  }
 ],
 "metadata": {
  "kernelspec": {
   "display_name": "Python 3",
   "language": "python",
   "name": "python3"
  },
  "language_info": {
   "codemirror_mode": {
    "name": "ipython",
    "version": 3
   },
   "file_extension": ".py",
   "mimetype": "text/x-python",
   "name": "python",
   "nbconvert_exporter": "python",
   "pygments_lexer": "ipython3",
   "version": "3.6.1"
  }
 },
 "nbformat": 4,
 "nbformat_minor": 2
}
